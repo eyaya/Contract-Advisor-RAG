{
 "cells": [
  {
   "cell_type": "code",
   "execution_count": 1,
   "metadata": {},
   "outputs": [],
   "source": [
    "%reload_ext autoreload\n",
    "%autoreload 2"
   ]
  },
  {
   "cell_type": "code",
   "execution_count": 2,
   "metadata": {},
   "outputs": [
    {
     "name": "stderr",
     "output_type": "stream",
     "text": [
      "/home/eyaya/Desktop/Challenges/Week_11/Contract_Advisor_RAG/venv2/lib/python3.10/site-packages/tqdm/auto.py:21: TqdmWarning: IProgress not found. Please update jupyter and ipywidgets. See https://ipywidgets.readthedocs.io/en/stable/user_install.html\n",
      "  from .autonotebook import tqdm as notebook_tqdm\n"
     ]
    }
   ],
   "source": [
    "from langchain_community.document_loaders import DirectoryLoader\n",
    "from langchain.document_loaders import UnstructuredWordDocumentLoader, UnstructuredFileLoader\n",
    "from langchain.text_splitter import RecursiveCharacterTextSplitter,SentenceTransformersTokenTextSplitter,SpacyTextSplitter,NLTKTextSplitter\n",
    "from langchain.schema import Document\n",
    "from langchain_openai import OpenAIEmbeddings\n",
    "\n",
    "from langchain.vectorstores.chroma import Chroma\n",
    "import chromadb\n",
    "from chromadb.config import Settings\n",
    "from chromadb.utils.embedding_functions import SentenceTransformerEmbeddingFunction\n",
    "from langchain.prompts import ChatPromptTemplate\n",
    "from operator import itemgetter\n",
    "\n",
    "from langchain.chat_models import ChatOpenAI\n",
    "from langchain.schema.output_parser import StrOutputParser\n",
    "from langchain.schema.runnable import RunnableLambda, RunnablePassthrough\n",
    "from langchain.output_parsers import ResponseSchema\n",
    "from langchain.output_parsers import StructuredOutputParser\n",
    "from tqdm import tqdm\n",
    "import pandas as pd\n",
    "from datasets import Dataset\n",
    "import os\n",
    "import shutil\n",
    "from langchain_community.document_loaders import Docx2txtLoader\n",
    "import openai\n",
    "from openai import OpenAI\n",
    "from pypdf import PdfReader\n",
    "\n",
    "import os\n",
    "#from openai import OpenAI\n",
    "from dotenv import load_dotenv, find_dotenv\n"
   ]
  },
  {
   "cell_type": "code",
   "execution_count": 3,
   "metadata": {},
   "outputs": [],
   "source": [
    "\n",
    "import sys\n",
    "sys.path.append('../')\n",
    "from src.utils import word_wrap"
   ]
  },
  {
   "cell_type": "code",
   "execution_count": 4,
   "metadata": {},
   "outputs": [],
   "source": [
    "\n",
    "openai.api_key = os.environ['OPENAI_API_KEY']\n",
    "\n",
    "openai_client = OpenAI()"
   ]
  },
  {
   "cell_type": "code",
   "execution_count": 5,
   "metadata": {},
   "outputs": [],
   "source": [
    "\n",
    "import umap\n",
    "import numpy as np\n",
    "from tqdm import tqdm"
   ]
  },
  {
   "cell_type": "code",
   "execution_count": 10,
   "metadata": {},
   "outputs": [],
   "source": [
    "vectordb_path = '../data/chromadb/'\n",
    "data_path = '../../'"
   ]
  },
  {
   "cell_type": "code",
   "execution_count": 11,
   "metadata": {},
   "outputs": [],
   "source": [
    "reader = PdfReader(data_path+'Raptor.pdf')"
   ]
  },
  {
   "cell_type": "code",
   "execution_count": 12,
   "metadata": {},
   "outputs": [],
   "source": [
    "pdf_texts = [p.extract_text().strip() for p in reader.pages]\n",
    "pdf_texts = [text for text in pdf_texts if text]"
   ]
  },
  {
   "cell_type": "code",
   "execution_count": 13,
   "metadata": {},
   "outputs": [
    {
     "name": "stdout",
     "output_type": "stream",
     "text": [
      "[R&G Draft 12.__.2021] STOCK PURCHASE AGREEMENT BY AND AMONG [BUYER],\n",
      "[TARGET COMP ANY], THE SELLERS LISTED ON SCHEDULE I HERET O AND THE\n",
      "SELLERS’ REPRESENT ATIVE NAMED HEREIN Dated as of [●] [This document\n",
      "is intended solely to facilitate discussions among the parties\n",
      "identified herein.  Neither this document nor such discussions are\n",
      "intended to create, nor will either or both be  deemed to create, a\n",
      "legally binding or enforceable offer or agreement of any type or\n",
      "nature,  unless and until a definitive written agreement is executed\n",
      "and delivered by each of the parties  hereto. This document shall be\n",
      "kept confidential pursuant to the terms of the Confidentiality\n",
      "Agreement entered into by the parties and, if applicable, its\n",
      "affiliates with respect to the subject  matter hereof.] 112923184_5\n"
     ]
    }
   ],
   "source": [
    "print(word_wrap(pdf_texts[0]))"
   ]
  },
  {
   "cell_type": "code",
   "execution_count": 14,
   "metadata": {},
   "outputs": [],
   "source": [
    "character_splitter = RecursiveCharacterTextSplitter(\n",
    "        separators=[\"\\n\\n\",\"\\n\",\".\", \" \",\"\"],\n",
    "        chunk_size=600,\n",
    "        chunk_overlap=0,\n",
    "    )\n",
    "character_split_texts = character_splitter.split_text('\\n\\n'.join(pdf_texts))"
   ]
  },
  {
   "cell_type": "code",
   "execution_count": 15,
   "metadata": {},
   "outputs": [
    {
     "name": "stdout",
     "output_type": "stream",
     "text": [
      "Total chunk 410\n"
     ]
    }
   ],
   "source": [
    "print('Total chunk',len(character_split_texts))"
   ]
  },
  {
   "cell_type": "code",
   "execution_count": 16,
   "metadata": {},
   "outputs": [],
   "source": [
    "token_splitter = SentenceTransformersTokenTextSplitter(chunk_overlap=10, tokens_per_chunk=256)"
   ]
  },
  {
   "cell_type": "code",
   "execution_count": 17,
   "metadata": {},
   "outputs": [
    {
     "name": "stdout",
     "output_type": "stream",
     "text": [
      "stock purchase agreement this stock purchase agreement ( this “\n",
      "agreement ” ) is made and entered into as of [ ● ] by and among [\n",
      "parent ], a [ ● ] corporation ( “ parent ” ) ], [ buyer ], a delaware\n",
      "corporation and a wholly owned subsidiary of parent ( “ buyer ” ) 1, [\n",
      "target comp any ], a delaware corporation ( the “ company ” ), each of\n",
      "the holders of outstanding shares of capital stock of the company\n",
      "listed on schedule i hereto ( respectively, the “ shareholders ” or\n",
      "the “ sellers ” ) 2, and [ ● ], in [ his / her / its ] capacity as the\n",
      "sellers ’ representative. 3 recitals whereas, the shareholders own all\n",
      "of\n",
      "\n",
      "Total chunks: 410\n"
     ]
    }
   ],
   "source": [
    "token_split_texts = []\n",
    "for text in character_split_texts:\n",
    "    token_split_texts += token_splitter.split_text(text)\n",
    "\n",
    "print(word_wrap(token_split_texts[10]))\n",
    "print(f\"\\nTotal chunks: {len(token_split_texts)}\")"
   ]
  },
  {
   "cell_type": "code",
   "execution_count": 18,
   "metadata": {},
   "outputs": [
    {
     "data": {
      "text/plain": [
       "str"
      ]
     },
     "execution_count": 18,
     "metadata": {},
     "output_type": "execute_result"
    }
   ],
   "source": [
    "type(token_split_texts[0])"
   ]
  },
  {
   "cell_type": "code",
   "execution_count": 19,
   "metadata": {},
   "outputs": [],
   "source": [
    "embedding_function = SentenceTransformerEmbeddingFunction()\n",
    "vectorstore = Chroma(persist_directory='../data/chromadb/',embedding_function=embedding_function)"
   ]
  },
  {
   "cell_type": "code",
   "execution_count": 20,
   "metadata": {},
   "outputs": [],
   "source": [
    "retriever = vectorstore.as_retriever()\n"
   ]
  },
  {
   "cell_type": "code",
   "execution_count": 21,
   "metadata": {},
   "outputs": [
    {
     "data": {
      "text/plain": [
       "VectorStoreRetriever(tags=['Chroma', 'SentenceTransformerEmbeddingFunction'], vectorstore=<langchain_community.vectorstores.chroma.Chroma object at 0x7fb5696b5630>)"
      ]
     },
     "execution_count": 21,
     "metadata": {},
     "output_type": "execute_result"
    }
   ],
   "source": [
    "retriever"
   ]
  },
  {
   "cell_type": "code",
   "execution_count": 22,
   "metadata": {},
   "outputs": [],
   "source": [
    "client = chromadb.PersistentClient(path=\"../data/chromadb\")"
   ]
  },
  {
   "cell_type": "code",
   "execution_count": 23,
   "metadata": {},
   "outputs": [],
   "source": [
    "store=False\n",
    "try:\n",
    "    chroma_collection = client.get_collection(name=\"contract\", embedding_function=embedding_function)\n",
    "    store = True\n",
    "except Exception as e:\n",
    "    print(\"No collection\")\n",
    "if store == False:\n",
    "    print(\"creating collection\")\n",
    "    chroma_collection = client.create_collection(name='contract', embedding_function=embedding_function)"
   ]
  },
  {
   "cell_type": "code",
   "execution_count": 24,
   "metadata": {},
   "outputs": [
    {
     "name": "stderr",
     "output_type": "stream",
     "text": [
      "Insert of existing embedding ID: 0\n",
      "Insert of existing embedding ID: 1\n",
      "Insert of existing embedding ID: 2\n",
      "Insert of existing embedding ID: 3\n",
      "Insert of existing embedding ID: 4\n",
      "Insert of existing embedding ID: 5\n",
      "Insert of existing embedding ID: 6\n",
      "Insert of existing embedding ID: 7\n",
      "Insert of existing embedding ID: 8\n",
      "Insert of existing embedding ID: 9\n",
      "Insert of existing embedding ID: 10\n",
      "Insert of existing embedding ID: 11\n",
      "Insert of existing embedding ID: 12\n",
      "Insert of existing embedding ID: 13\n",
      "Insert of existing embedding ID: 14\n",
      "Insert of existing embedding ID: 15\n",
      "Insert of existing embedding ID: 16\n",
      "Insert of existing embedding ID: 17\n",
      "Insert of existing embedding ID: 18\n",
      "Insert of existing embedding ID: 19\n",
      "Insert of existing embedding ID: 20\n",
      "Insert of existing embedding ID: 21\n",
      "Insert of existing embedding ID: 22\n",
      "Insert of existing embedding ID: 23\n",
      "Insert of existing embedding ID: 24\n",
      "Insert of existing embedding ID: 25\n",
      "Insert of existing embedding ID: 26\n",
      "Insert of existing embedding ID: 27\n",
      "Insert of existing embedding ID: 28\n",
      "Insert of existing embedding ID: 29\n",
      "Insert of existing embedding ID: 30\n",
      "Insert of existing embedding ID: 31\n",
      "Insert of existing embedding ID: 32\n",
      "Insert of existing embedding ID: 33\n",
      "Insert of existing embedding ID: 34\n",
      "Insert of existing embedding ID: 35\n",
      "Insert of existing embedding ID: 36\n",
      "Insert of existing embedding ID: 37\n",
      "Insert of existing embedding ID: 38\n",
      "Insert of existing embedding ID: 39\n",
      "Insert of existing embedding ID: 40\n",
      "Insert of existing embedding ID: 41\n",
      "Insert of existing embedding ID: 42\n",
      "Insert of existing embedding ID: 43\n",
      "Insert of existing embedding ID: 44\n",
      "Insert of existing embedding ID: 45\n",
      "Insert of existing embedding ID: 46\n",
      "Insert of existing embedding ID: 47\n",
      "Insert of existing embedding ID: 48\n",
      "Insert of existing embedding ID: 49\n",
      "Insert of existing embedding ID: 50\n",
      "Insert of existing embedding ID: 51\n",
      "Insert of existing embedding ID: 52\n",
      "Insert of existing embedding ID: 53\n",
      "Insert of existing embedding ID: 54\n",
      "Insert of existing embedding ID: 55\n",
      "Insert of existing embedding ID: 56\n",
      "Insert of existing embedding ID: 57\n",
      "Insert of existing embedding ID: 58\n",
      "Insert of existing embedding ID: 59\n",
      "Insert of existing embedding ID: 60\n",
      "Insert of existing embedding ID: 61\n",
      "Insert of existing embedding ID: 62\n",
      "Insert of existing embedding ID: 63\n",
      "Insert of existing embedding ID: 64\n",
      "Insert of existing embedding ID: 65\n",
      "Insert of existing embedding ID: 66\n",
      "Insert of existing embedding ID: 67\n",
      "Insert of existing embedding ID: 68\n",
      "Insert of existing embedding ID: 69\n",
      "Insert of existing embedding ID: 70\n",
      "Insert of existing embedding ID: 71\n",
      "Insert of existing embedding ID: 72\n",
      "Insert of existing embedding ID: 73\n",
      "Insert of existing embedding ID: 74\n",
      "Insert of existing embedding ID: 75\n",
      "Insert of existing embedding ID: 76\n",
      "Insert of existing embedding ID: 77\n",
      "Insert of existing embedding ID: 78\n",
      "Insert of existing embedding ID: 79\n",
      "Insert of existing embedding ID: 80\n",
      "Insert of existing embedding ID: 81\n",
      "Insert of existing embedding ID: 82\n",
      "Insert of existing embedding ID: 83\n",
      "Insert of existing embedding ID: 84\n",
      "Insert of existing embedding ID: 85\n",
      "Insert of existing embedding ID: 86\n",
      "Insert of existing embedding ID: 87\n",
      "Insert of existing embedding ID: 88\n",
      "Insert of existing embedding ID: 89\n",
      "Insert of existing embedding ID: 90\n",
      "Insert of existing embedding ID: 91\n",
      "Insert of existing embedding ID: 92\n",
      "Insert of existing embedding ID: 93\n",
      "Insert of existing embedding ID: 94\n",
      "Insert of existing embedding ID: 95\n",
      "Insert of existing embedding ID: 96\n",
      "Insert of existing embedding ID: 97\n",
      "Insert of existing embedding ID: 98\n",
      "Insert of existing embedding ID: 99\n",
      "Insert of existing embedding ID: 100\n",
      "Insert of existing embedding ID: 101\n",
      "Insert of existing embedding ID: 102\n",
      "Insert of existing embedding ID: 103\n",
      "Insert of existing embedding ID: 104\n",
      "Insert of existing embedding ID: 105\n",
      "Insert of existing embedding ID: 106\n",
      "Insert of existing embedding ID: 107\n",
      "Insert of existing embedding ID: 108\n",
      "Insert of existing embedding ID: 109\n",
      "Insert of existing embedding ID: 110\n",
      "Insert of existing embedding ID: 111\n",
      "Insert of existing embedding ID: 112\n",
      "Insert of existing embedding ID: 113\n",
      "Insert of existing embedding ID: 114\n",
      "Insert of existing embedding ID: 115\n",
      "Insert of existing embedding ID: 116\n",
      "Insert of existing embedding ID: 117\n",
      "Insert of existing embedding ID: 118\n",
      "Insert of existing embedding ID: 119\n",
      "Insert of existing embedding ID: 120\n",
      "Insert of existing embedding ID: 121\n",
      "Insert of existing embedding ID: 122\n",
      "Insert of existing embedding ID: 123\n",
      "Insert of existing embedding ID: 124\n",
      "Insert of existing embedding ID: 125\n",
      "Insert of existing embedding ID: 126\n",
      "Insert of existing embedding ID: 127\n",
      "Insert of existing embedding ID: 128\n",
      "Insert of existing embedding ID: 129\n",
      "Insert of existing embedding ID: 130\n",
      "Insert of existing embedding ID: 131\n",
      "Insert of existing embedding ID: 132\n",
      "Insert of existing embedding ID: 133\n",
      "Insert of existing embedding ID: 134\n",
      "Insert of existing embedding ID: 135\n",
      "Insert of existing embedding ID: 136\n",
      "Insert of existing embedding ID: 137\n",
      "Insert of existing embedding ID: 138\n",
      "Insert of existing embedding ID: 139\n",
      "Insert of existing embedding ID: 140\n",
      "Insert of existing embedding ID: 141\n",
      "Insert of existing embedding ID: 142\n",
      "Insert of existing embedding ID: 143\n",
      "Insert of existing embedding ID: 144\n",
      "Insert of existing embedding ID: 145\n",
      "Insert of existing embedding ID: 146\n",
      "Insert of existing embedding ID: 147\n",
      "Insert of existing embedding ID: 148\n",
      "Insert of existing embedding ID: 149\n",
      "Insert of existing embedding ID: 150\n",
      "Insert of existing embedding ID: 151\n",
      "Insert of existing embedding ID: 152\n",
      "Insert of existing embedding ID: 153\n",
      "Insert of existing embedding ID: 154\n",
      "Insert of existing embedding ID: 155\n",
      "Insert of existing embedding ID: 156\n",
      "Insert of existing embedding ID: 157\n",
      "Insert of existing embedding ID: 158\n",
      "Insert of existing embedding ID: 159\n",
      "Insert of existing embedding ID: 160\n",
      "Insert of existing embedding ID: 161\n",
      "Insert of existing embedding ID: 162\n",
      "Insert of existing embedding ID: 163\n",
      "Insert of existing embedding ID: 164\n",
      "Insert of existing embedding ID: 165\n",
      "Insert of existing embedding ID: 166\n",
      "Insert of existing embedding ID: 167\n",
      "Insert of existing embedding ID: 168\n",
      "Insert of existing embedding ID: 169\n",
      "Insert of existing embedding ID: 170\n",
      "Insert of existing embedding ID: 171\n",
      "Insert of existing embedding ID: 172\n",
      "Insert of existing embedding ID: 173\n",
      "Insert of existing embedding ID: 174\n",
      "Insert of existing embedding ID: 175\n",
      "Insert of existing embedding ID: 176\n",
      "Insert of existing embedding ID: 177\n",
      "Insert of existing embedding ID: 178\n",
      "Insert of existing embedding ID: 179\n",
      "Insert of existing embedding ID: 180\n",
      "Insert of existing embedding ID: 181\n",
      "Insert of existing embedding ID: 182\n",
      "Insert of existing embedding ID: 183\n",
      "Insert of existing embedding ID: 184\n",
      "Insert of existing embedding ID: 185\n",
      "Insert of existing embedding ID: 186\n",
      "Insert of existing embedding ID: 187\n",
      "Insert of existing embedding ID: 188\n",
      "Insert of existing embedding ID: 189\n",
      "Insert of existing embedding ID: 190\n",
      "Insert of existing embedding ID: 191\n",
      "Insert of existing embedding ID: 192\n",
      "Insert of existing embedding ID: 193\n",
      "Insert of existing embedding ID: 194\n",
      "Insert of existing embedding ID: 195\n",
      "Insert of existing embedding ID: 196\n",
      "Insert of existing embedding ID: 197\n",
      "Insert of existing embedding ID: 198\n",
      "Insert of existing embedding ID: 199\n",
      "Insert of existing embedding ID: 200\n",
      "Insert of existing embedding ID: 201\n",
      "Insert of existing embedding ID: 202\n",
      "Insert of existing embedding ID: 203\n",
      "Insert of existing embedding ID: 204\n",
      "Insert of existing embedding ID: 205\n",
      "Insert of existing embedding ID: 206\n",
      "Insert of existing embedding ID: 207\n",
      "Insert of existing embedding ID: 208\n",
      "Insert of existing embedding ID: 209\n",
      "Insert of existing embedding ID: 210\n",
      "Insert of existing embedding ID: 211\n",
      "Insert of existing embedding ID: 212\n",
      "Insert of existing embedding ID: 213\n",
      "Insert of existing embedding ID: 214\n",
      "Insert of existing embedding ID: 215\n",
      "Insert of existing embedding ID: 216\n",
      "Insert of existing embedding ID: 217\n",
      "Insert of existing embedding ID: 218\n",
      "Insert of existing embedding ID: 219\n",
      "Insert of existing embedding ID: 220\n",
      "Insert of existing embedding ID: 221\n",
      "Insert of existing embedding ID: 222\n",
      "Insert of existing embedding ID: 223\n",
      "Insert of existing embedding ID: 224\n",
      "Insert of existing embedding ID: 225\n",
      "Insert of existing embedding ID: 226\n",
      "Insert of existing embedding ID: 227\n",
      "Insert of existing embedding ID: 228\n",
      "Insert of existing embedding ID: 229\n",
      "Insert of existing embedding ID: 230\n",
      "Insert of existing embedding ID: 231\n",
      "Insert of existing embedding ID: 232\n",
      "Insert of existing embedding ID: 233\n",
      "Insert of existing embedding ID: 234\n",
      "Insert of existing embedding ID: 235\n",
      "Insert of existing embedding ID: 236\n",
      "Insert of existing embedding ID: 237\n",
      "Insert of existing embedding ID: 238\n",
      "Insert of existing embedding ID: 239\n",
      "Insert of existing embedding ID: 240\n",
      "Insert of existing embedding ID: 241\n",
      "Insert of existing embedding ID: 242\n",
      "Insert of existing embedding ID: 243\n",
      "Insert of existing embedding ID: 244\n",
      "Insert of existing embedding ID: 245\n",
      "Insert of existing embedding ID: 246\n",
      "Insert of existing embedding ID: 247\n",
      "Insert of existing embedding ID: 248\n",
      "Insert of existing embedding ID: 249\n",
      "Insert of existing embedding ID: 250\n",
      "Insert of existing embedding ID: 251\n",
      "Insert of existing embedding ID: 252\n",
      "Insert of existing embedding ID: 253\n",
      "Insert of existing embedding ID: 254\n",
      "Insert of existing embedding ID: 255\n",
      "Insert of existing embedding ID: 256\n",
      "Insert of existing embedding ID: 257\n",
      "Insert of existing embedding ID: 258\n",
      "Insert of existing embedding ID: 259\n",
      "Insert of existing embedding ID: 260\n",
      "Insert of existing embedding ID: 261\n",
      "Insert of existing embedding ID: 262\n",
      "Insert of existing embedding ID: 263\n",
      "Insert of existing embedding ID: 264\n",
      "Insert of existing embedding ID: 265\n",
      "Insert of existing embedding ID: 266\n",
      "Insert of existing embedding ID: 267\n",
      "Insert of existing embedding ID: 268\n",
      "Insert of existing embedding ID: 269\n",
      "Insert of existing embedding ID: 270\n",
      "Insert of existing embedding ID: 271\n",
      "Insert of existing embedding ID: 272\n",
      "Insert of existing embedding ID: 273\n",
      "Insert of existing embedding ID: 274\n",
      "Insert of existing embedding ID: 275\n",
      "Insert of existing embedding ID: 276\n",
      "Insert of existing embedding ID: 277\n",
      "Insert of existing embedding ID: 278\n",
      "Insert of existing embedding ID: 279\n",
      "Insert of existing embedding ID: 280\n",
      "Insert of existing embedding ID: 281\n",
      "Insert of existing embedding ID: 282\n",
      "Insert of existing embedding ID: 283\n",
      "Insert of existing embedding ID: 284\n",
      "Insert of existing embedding ID: 285\n",
      "Insert of existing embedding ID: 286\n",
      "Insert of existing embedding ID: 287\n",
      "Insert of existing embedding ID: 288\n",
      "Insert of existing embedding ID: 289\n",
      "Insert of existing embedding ID: 290\n",
      "Insert of existing embedding ID: 291\n",
      "Insert of existing embedding ID: 292\n",
      "Insert of existing embedding ID: 293\n",
      "Insert of existing embedding ID: 294\n",
      "Insert of existing embedding ID: 295\n",
      "Insert of existing embedding ID: 296\n",
      "Insert of existing embedding ID: 297\n",
      "Insert of existing embedding ID: 298\n",
      "Insert of existing embedding ID: 299\n",
      "Insert of existing embedding ID: 300\n",
      "Insert of existing embedding ID: 301\n",
      "Insert of existing embedding ID: 302\n",
      "Insert of existing embedding ID: 303\n",
      "Insert of existing embedding ID: 304\n",
      "Insert of existing embedding ID: 305\n",
      "Insert of existing embedding ID: 306\n",
      "Insert of existing embedding ID: 307\n",
      "Insert of existing embedding ID: 308\n",
      "Insert of existing embedding ID: 309\n",
      "Insert of existing embedding ID: 310\n",
      "Insert of existing embedding ID: 311\n",
      "Insert of existing embedding ID: 312\n",
      "Insert of existing embedding ID: 313\n",
      "Insert of existing embedding ID: 314\n",
      "Insert of existing embedding ID: 315\n",
      "Insert of existing embedding ID: 316\n",
      "Insert of existing embedding ID: 317\n",
      "Insert of existing embedding ID: 318\n",
      "Insert of existing embedding ID: 319\n",
      "Insert of existing embedding ID: 320\n",
      "Insert of existing embedding ID: 321\n",
      "Insert of existing embedding ID: 322\n",
      "Insert of existing embedding ID: 323\n",
      "Insert of existing embedding ID: 324\n",
      "Insert of existing embedding ID: 325\n",
      "Insert of existing embedding ID: 326\n",
      "Insert of existing embedding ID: 327\n",
      "Insert of existing embedding ID: 328\n",
      "Insert of existing embedding ID: 329\n",
      "Insert of existing embedding ID: 330\n",
      "Insert of existing embedding ID: 331\n",
      "Insert of existing embedding ID: 332\n",
      "Insert of existing embedding ID: 333\n",
      "Insert of existing embedding ID: 334\n",
      "Insert of existing embedding ID: 335\n",
      "Insert of existing embedding ID: 336\n",
      "Insert of existing embedding ID: 337\n",
      "Insert of existing embedding ID: 338\n",
      "Insert of existing embedding ID: 339\n",
      "Insert of existing embedding ID: 340\n",
      "Insert of existing embedding ID: 341\n",
      "Insert of existing embedding ID: 342\n",
      "Insert of existing embedding ID: 343\n",
      "Insert of existing embedding ID: 344\n",
      "Insert of existing embedding ID: 345\n",
      "Insert of existing embedding ID: 346\n",
      "Insert of existing embedding ID: 347\n",
      "Insert of existing embedding ID: 348\n",
      "Insert of existing embedding ID: 349\n",
      "Insert of existing embedding ID: 350\n",
      "Insert of existing embedding ID: 351\n",
      "Insert of existing embedding ID: 352\n",
      "Insert of existing embedding ID: 353\n",
      "Insert of existing embedding ID: 354\n",
      "Insert of existing embedding ID: 355\n",
      "Insert of existing embedding ID: 356\n",
      "Insert of existing embedding ID: 357\n",
      "Insert of existing embedding ID: 358\n",
      "Insert of existing embedding ID: 359\n",
      "Insert of existing embedding ID: 360\n",
      "Insert of existing embedding ID: 361\n",
      "Insert of existing embedding ID: 362\n",
      "Insert of existing embedding ID: 363\n",
      "Insert of existing embedding ID: 364\n",
      "Insert of existing embedding ID: 365\n",
      "Insert of existing embedding ID: 366\n",
      "Insert of existing embedding ID: 367\n",
      "Insert of existing embedding ID: 368\n",
      "Insert of existing embedding ID: 369\n",
      "Insert of existing embedding ID: 370\n",
      "Insert of existing embedding ID: 371\n",
      "Insert of existing embedding ID: 372\n",
      "Insert of existing embedding ID: 373\n",
      "Insert of existing embedding ID: 374\n",
      "Insert of existing embedding ID: 375\n",
      "Insert of existing embedding ID: 376\n",
      "Insert of existing embedding ID: 377\n",
      "Insert of existing embedding ID: 378\n",
      "Insert of existing embedding ID: 379\n",
      "Insert of existing embedding ID: 380\n",
      "Insert of existing embedding ID: 381\n",
      "Insert of existing embedding ID: 382\n",
      "Insert of existing embedding ID: 383\n",
      "Insert of existing embedding ID: 384\n",
      "Insert of existing embedding ID: 385\n",
      "Insert of existing embedding ID: 386\n",
      "Insert of existing embedding ID: 387\n",
      "Insert of existing embedding ID: 388\n",
      "Insert of existing embedding ID: 389\n",
      "Insert of existing embedding ID: 390\n",
      "Insert of existing embedding ID: 391\n",
      "Insert of existing embedding ID: 392\n",
      "Insert of existing embedding ID: 393\n",
      "Insert of existing embedding ID: 394\n",
      "Insert of existing embedding ID: 395\n",
      "Insert of existing embedding ID: 396\n",
      "Insert of existing embedding ID: 397\n",
      "Insert of existing embedding ID: 398\n",
      "Insert of existing embedding ID: 399\n",
      "Insert of existing embedding ID: 400\n",
      "Insert of existing embedding ID: 401\n",
      "Insert of existing embedding ID: 402\n",
      "Insert of existing embedding ID: 403\n",
      "Insert of existing embedding ID: 404\n",
      "Insert of existing embedding ID: 405\n",
      "Insert of existing embedding ID: 406\n",
      "Insert of existing embedding ID: 407\n",
      "Insert of existing embedding ID: 408\n",
      "Insert of existing embedding ID: 409\n",
      "Add of existing embedding ID: 0\n",
      "Add of existing embedding ID: 1\n",
      "Add of existing embedding ID: 2\n",
      "Add of existing embedding ID: 3\n",
      "Add of existing embedding ID: 4\n",
      "Add of existing embedding ID: 5\n",
      "Add of existing embedding ID: 6\n",
      "Add of existing embedding ID: 7\n",
      "Add of existing embedding ID: 8\n",
      "Add of existing embedding ID: 9\n",
      "Add of existing embedding ID: 10\n",
      "Add of existing embedding ID: 11\n",
      "Add of existing embedding ID: 12\n",
      "Add of existing embedding ID: 13\n",
      "Add of existing embedding ID: 14\n",
      "Add of existing embedding ID: 15\n",
      "Add of existing embedding ID: 16\n",
      "Add of existing embedding ID: 17\n",
      "Add of existing embedding ID: 18\n",
      "Add of existing embedding ID: 19\n",
      "Add of existing embedding ID: 20\n",
      "Add of existing embedding ID: 21\n",
      "Add of existing embedding ID: 22\n",
      "Add of existing embedding ID: 23\n",
      "Add of existing embedding ID: 24\n",
      "Add of existing embedding ID: 25\n",
      "Add of existing embedding ID: 26\n",
      "Add of existing embedding ID: 27\n",
      "Add of existing embedding ID: 28\n",
      "Add of existing embedding ID: 29\n",
      "Add of existing embedding ID: 30\n",
      "Add of existing embedding ID: 31\n",
      "Add of existing embedding ID: 32\n",
      "Add of existing embedding ID: 33\n",
      "Add of existing embedding ID: 34\n",
      "Add of existing embedding ID: 35\n",
      "Add of existing embedding ID: 36\n",
      "Add of existing embedding ID: 37\n",
      "Add of existing embedding ID: 38\n",
      "Add of existing embedding ID: 39\n",
      "Add of existing embedding ID: 40\n",
      "Add of existing embedding ID: 41\n",
      "Add of existing embedding ID: 42\n",
      "Add of existing embedding ID: 43\n",
      "Add of existing embedding ID: 44\n",
      "Add of existing embedding ID: 45\n",
      "Add of existing embedding ID: 46\n",
      "Add of existing embedding ID: 47\n",
      "Add of existing embedding ID: 48\n",
      "Add of existing embedding ID: 49\n",
      "Add of existing embedding ID: 50\n",
      "Add of existing embedding ID: 51\n",
      "Add of existing embedding ID: 52\n",
      "Add of existing embedding ID: 53\n",
      "Add of existing embedding ID: 54\n",
      "Add of existing embedding ID: 55\n",
      "Add of existing embedding ID: 56\n",
      "Add of existing embedding ID: 57\n",
      "Add of existing embedding ID: 58\n",
      "Add of existing embedding ID: 59\n",
      "Add of existing embedding ID: 60\n",
      "Add of existing embedding ID: 61\n",
      "Add of existing embedding ID: 62\n",
      "Add of existing embedding ID: 63\n",
      "Add of existing embedding ID: 64\n",
      "Add of existing embedding ID: 65\n",
      "Add of existing embedding ID: 66\n",
      "Add of existing embedding ID: 67\n",
      "Add of existing embedding ID: 68\n",
      "Add of existing embedding ID: 69\n",
      "Add of existing embedding ID: 70\n",
      "Add of existing embedding ID: 71\n",
      "Add of existing embedding ID: 72\n",
      "Add of existing embedding ID: 73\n",
      "Add of existing embedding ID: 74\n",
      "Add of existing embedding ID: 75\n",
      "Add of existing embedding ID: 76\n",
      "Add of existing embedding ID: 77\n",
      "Add of existing embedding ID: 78\n",
      "Add of existing embedding ID: 79\n",
      "Add of existing embedding ID: 80\n",
      "Add of existing embedding ID: 81\n",
      "Add of existing embedding ID: 82\n",
      "Add of existing embedding ID: 83\n",
      "Add of existing embedding ID: 84\n",
      "Add of existing embedding ID: 85\n",
      "Add of existing embedding ID: 86\n",
      "Add of existing embedding ID: 87\n",
      "Add of existing embedding ID: 88\n",
      "Add of existing embedding ID: 89\n",
      "Add of existing embedding ID: 90\n",
      "Add of existing embedding ID: 91\n",
      "Add of existing embedding ID: 92\n",
      "Add of existing embedding ID: 93\n",
      "Add of existing embedding ID: 94\n",
      "Add of existing embedding ID: 95\n",
      "Add of existing embedding ID: 96\n",
      "Add of existing embedding ID: 97\n",
      "Add of existing embedding ID: 98\n",
      "Add of existing embedding ID: 99\n",
      "Add of existing embedding ID: 100\n",
      "Add of existing embedding ID: 101\n",
      "Add of existing embedding ID: 102\n",
      "Add of existing embedding ID: 103\n",
      "Add of existing embedding ID: 104\n",
      "Add of existing embedding ID: 105\n",
      "Add of existing embedding ID: 106\n",
      "Add of existing embedding ID: 107\n",
      "Add of existing embedding ID: 108\n",
      "Add of existing embedding ID: 109\n",
      "Add of existing embedding ID: 110\n",
      "Add of existing embedding ID: 111\n",
      "Add of existing embedding ID: 112\n",
      "Add of existing embedding ID: 113\n",
      "Add of existing embedding ID: 114\n",
      "Add of existing embedding ID: 115\n",
      "Add of existing embedding ID: 116\n",
      "Add of existing embedding ID: 117\n",
      "Add of existing embedding ID: 118\n",
      "Add of existing embedding ID: 119\n",
      "Add of existing embedding ID: 120\n",
      "Add of existing embedding ID: 121\n",
      "Add of existing embedding ID: 122\n",
      "Add of existing embedding ID: 123\n",
      "Add of existing embedding ID: 124\n",
      "Add of existing embedding ID: 125\n",
      "Add of existing embedding ID: 126\n",
      "Add of existing embedding ID: 127\n",
      "Add of existing embedding ID: 128\n",
      "Add of existing embedding ID: 129\n",
      "Add of existing embedding ID: 130\n",
      "Add of existing embedding ID: 131\n",
      "Add of existing embedding ID: 132\n",
      "Add of existing embedding ID: 133\n",
      "Add of existing embedding ID: 134\n",
      "Add of existing embedding ID: 135\n",
      "Add of existing embedding ID: 136\n",
      "Add of existing embedding ID: 137\n",
      "Add of existing embedding ID: 138\n",
      "Add of existing embedding ID: 139\n",
      "Add of existing embedding ID: 140\n",
      "Add of existing embedding ID: 141\n",
      "Add of existing embedding ID: 142\n",
      "Add of existing embedding ID: 143\n",
      "Add of existing embedding ID: 144\n",
      "Add of existing embedding ID: 145\n",
      "Add of existing embedding ID: 146\n",
      "Add of existing embedding ID: 147\n",
      "Add of existing embedding ID: 148\n",
      "Add of existing embedding ID: 149\n",
      "Add of existing embedding ID: 150\n",
      "Add of existing embedding ID: 151\n",
      "Add of existing embedding ID: 152\n",
      "Add of existing embedding ID: 153\n",
      "Add of existing embedding ID: 154\n",
      "Add of existing embedding ID: 155\n",
      "Add of existing embedding ID: 156\n",
      "Add of existing embedding ID: 157\n",
      "Add of existing embedding ID: 158\n",
      "Add of existing embedding ID: 159\n",
      "Add of existing embedding ID: 160\n",
      "Add of existing embedding ID: 161\n",
      "Add of existing embedding ID: 162\n",
      "Add of existing embedding ID: 163\n",
      "Add of existing embedding ID: 164\n",
      "Add of existing embedding ID: 165\n",
      "Add of existing embedding ID: 166\n",
      "Add of existing embedding ID: 167\n",
      "Add of existing embedding ID: 168\n",
      "Add of existing embedding ID: 169\n",
      "Add of existing embedding ID: 170\n",
      "Add of existing embedding ID: 171\n",
      "Add of existing embedding ID: 172\n",
      "Add of existing embedding ID: 173\n",
      "Add of existing embedding ID: 174\n",
      "Add of existing embedding ID: 175\n",
      "Add of existing embedding ID: 176\n",
      "Add of existing embedding ID: 177\n",
      "Add of existing embedding ID: 178\n",
      "Add of existing embedding ID: 179\n",
      "Add of existing embedding ID: 180\n",
      "Add of existing embedding ID: 181\n",
      "Add of existing embedding ID: 182\n",
      "Add of existing embedding ID: 183\n",
      "Add of existing embedding ID: 184\n",
      "Add of existing embedding ID: 185\n",
      "Add of existing embedding ID: 186\n",
      "Add of existing embedding ID: 187\n",
      "Add of existing embedding ID: 188\n",
      "Add of existing embedding ID: 189\n",
      "Add of existing embedding ID: 190\n",
      "Add of existing embedding ID: 191\n",
      "Add of existing embedding ID: 192\n",
      "Add of existing embedding ID: 193\n",
      "Add of existing embedding ID: 194\n",
      "Add of existing embedding ID: 195\n",
      "Add of existing embedding ID: 196\n",
      "Add of existing embedding ID: 197\n",
      "Add of existing embedding ID: 198\n",
      "Add of existing embedding ID: 199\n",
      "Add of existing embedding ID: 200\n",
      "Add of existing embedding ID: 201\n",
      "Add of existing embedding ID: 202\n",
      "Add of existing embedding ID: 203\n",
      "Add of existing embedding ID: 204\n",
      "Add of existing embedding ID: 205\n",
      "Add of existing embedding ID: 206\n",
      "Add of existing embedding ID: 207\n",
      "Add of existing embedding ID: 208\n",
      "Add of existing embedding ID: 209\n",
      "Add of existing embedding ID: 210\n",
      "Add of existing embedding ID: 211\n",
      "Add of existing embedding ID: 212\n",
      "Add of existing embedding ID: 213\n",
      "Add of existing embedding ID: 214\n",
      "Add of existing embedding ID: 215\n",
      "Add of existing embedding ID: 216\n",
      "Add of existing embedding ID: 217\n",
      "Add of existing embedding ID: 218\n",
      "Add of existing embedding ID: 219\n",
      "Add of existing embedding ID: 220\n",
      "Add of existing embedding ID: 221\n",
      "Add of existing embedding ID: 222\n",
      "Add of existing embedding ID: 223\n",
      "Add of existing embedding ID: 224\n",
      "Add of existing embedding ID: 225\n",
      "Add of existing embedding ID: 226\n",
      "Add of existing embedding ID: 227\n",
      "Add of existing embedding ID: 228\n",
      "Add of existing embedding ID: 229\n",
      "Add of existing embedding ID: 230\n",
      "Add of existing embedding ID: 231\n",
      "Add of existing embedding ID: 232\n",
      "Add of existing embedding ID: 233\n",
      "Add of existing embedding ID: 234\n",
      "Add of existing embedding ID: 235\n",
      "Add of existing embedding ID: 236\n",
      "Add of existing embedding ID: 237\n",
      "Add of existing embedding ID: 238\n",
      "Add of existing embedding ID: 239\n",
      "Add of existing embedding ID: 240\n",
      "Add of existing embedding ID: 241\n",
      "Add of existing embedding ID: 242\n",
      "Add of existing embedding ID: 243\n",
      "Add of existing embedding ID: 244\n",
      "Add of existing embedding ID: 245\n",
      "Add of existing embedding ID: 246\n",
      "Add of existing embedding ID: 247\n",
      "Add of existing embedding ID: 248\n",
      "Add of existing embedding ID: 249\n",
      "Add of existing embedding ID: 250\n",
      "Add of existing embedding ID: 251\n",
      "Add of existing embedding ID: 252\n",
      "Add of existing embedding ID: 253\n",
      "Add of existing embedding ID: 254\n",
      "Add of existing embedding ID: 255\n",
      "Add of existing embedding ID: 256\n",
      "Add of existing embedding ID: 257\n",
      "Add of existing embedding ID: 258\n",
      "Add of existing embedding ID: 259\n",
      "Add of existing embedding ID: 260\n",
      "Add of existing embedding ID: 261\n",
      "Add of existing embedding ID: 262\n",
      "Add of existing embedding ID: 263\n",
      "Add of existing embedding ID: 264\n",
      "Add of existing embedding ID: 265\n",
      "Add of existing embedding ID: 266\n",
      "Add of existing embedding ID: 267\n",
      "Add of existing embedding ID: 268\n",
      "Add of existing embedding ID: 269\n",
      "Add of existing embedding ID: 270\n",
      "Add of existing embedding ID: 271\n",
      "Add of existing embedding ID: 272\n",
      "Add of existing embedding ID: 273\n",
      "Add of existing embedding ID: 274\n",
      "Add of existing embedding ID: 275\n",
      "Add of existing embedding ID: 276\n",
      "Add of existing embedding ID: 277\n",
      "Add of existing embedding ID: 278\n",
      "Add of existing embedding ID: 279\n",
      "Add of existing embedding ID: 280\n",
      "Add of existing embedding ID: 281\n",
      "Add of existing embedding ID: 282\n",
      "Add of existing embedding ID: 283\n",
      "Add of existing embedding ID: 284\n",
      "Add of existing embedding ID: 285\n",
      "Add of existing embedding ID: 286\n",
      "Add of existing embedding ID: 287\n",
      "Add of existing embedding ID: 288\n",
      "Add of existing embedding ID: 289\n",
      "Add of existing embedding ID: 290\n",
      "Add of existing embedding ID: 291\n",
      "Add of existing embedding ID: 292\n",
      "Add of existing embedding ID: 293\n",
      "Add of existing embedding ID: 294\n",
      "Add of existing embedding ID: 295\n",
      "Add of existing embedding ID: 296\n",
      "Add of existing embedding ID: 297\n",
      "Add of existing embedding ID: 298\n",
      "Add of existing embedding ID: 299\n",
      "Add of existing embedding ID: 300\n",
      "Add of existing embedding ID: 301\n",
      "Add of existing embedding ID: 302\n",
      "Add of existing embedding ID: 303\n",
      "Add of existing embedding ID: 304\n",
      "Add of existing embedding ID: 305\n",
      "Add of existing embedding ID: 306\n",
      "Add of existing embedding ID: 307\n",
      "Add of existing embedding ID: 308\n",
      "Add of existing embedding ID: 309\n",
      "Add of existing embedding ID: 310\n",
      "Add of existing embedding ID: 311\n",
      "Add of existing embedding ID: 312\n",
      "Add of existing embedding ID: 313\n",
      "Add of existing embedding ID: 314\n",
      "Add of existing embedding ID: 315\n",
      "Add of existing embedding ID: 316\n",
      "Add of existing embedding ID: 317\n",
      "Add of existing embedding ID: 318\n",
      "Add of existing embedding ID: 319\n",
      "Add of existing embedding ID: 320\n",
      "Add of existing embedding ID: 321\n",
      "Add of existing embedding ID: 322\n",
      "Add of existing embedding ID: 323\n",
      "Add of existing embedding ID: 324\n",
      "Add of existing embedding ID: 325\n",
      "Add of existing embedding ID: 326\n",
      "Add of existing embedding ID: 327\n",
      "Add of existing embedding ID: 328\n",
      "Add of existing embedding ID: 329\n",
      "Add of existing embedding ID: 330\n",
      "Add of existing embedding ID: 331\n",
      "Add of existing embedding ID: 332\n",
      "Add of existing embedding ID: 333\n",
      "Add of existing embedding ID: 334\n",
      "Add of existing embedding ID: 335\n",
      "Add of existing embedding ID: 336\n",
      "Add of existing embedding ID: 337\n",
      "Add of existing embedding ID: 338\n",
      "Add of existing embedding ID: 339\n",
      "Add of existing embedding ID: 340\n",
      "Add of existing embedding ID: 341\n",
      "Add of existing embedding ID: 342\n",
      "Add of existing embedding ID: 343\n",
      "Add of existing embedding ID: 344\n",
      "Add of existing embedding ID: 345\n",
      "Add of existing embedding ID: 346\n",
      "Add of existing embedding ID: 347\n",
      "Add of existing embedding ID: 348\n",
      "Add of existing embedding ID: 349\n",
      "Add of existing embedding ID: 350\n",
      "Add of existing embedding ID: 351\n",
      "Add of existing embedding ID: 352\n",
      "Add of existing embedding ID: 353\n",
      "Add of existing embedding ID: 354\n",
      "Add of existing embedding ID: 355\n",
      "Add of existing embedding ID: 356\n",
      "Add of existing embedding ID: 357\n",
      "Add of existing embedding ID: 358\n",
      "Add of existing embedding ID: 359\n",
      "Add of existing embedding ID: 360\n",
      "Add of existing embedding ID: 361\n",
      "Add of existing embedding ID: 362\n",
      "Add of existing embedding ID: 363\n",
      "Add of existing embedding ID: 364\n",
      "Add of existing embedding ID: 365\n",
      "Add of existing embedding ID: 366\n",
      "Add of existing embedding ID: 367\n",
      "Add of existing embedding ID: 368\n",
      "Add of existing embedding ID: 369\n",
      "Add of existing embedding ID: 370\n",
      "Add of existing embedding ID: 371\n",
      "Add of existing embedding ID: 372\n",
      "Add of existing embedding ID: 373\n",
      "Add of existing embedding ID: 374\n",
      "Add of existing embedding ID: 375\n",
      "Add of existing embedding ID: 376\n",
      "Add of existing embedding ID: 377\n",
      "Add of existing embedding ID: 378\n",
      "Add of existing embedding ID: 379\n",
      "Add of existing embedding ID: 380\n",
      "Add of existing embedding ID: 381\n",
      "Add of existing embedding ID: 382\n",
      "Add of existing embedding ID: 383\n",
      "Add of existing embedding ID: 384\n",
      "Add of existing embedding ID: 385\n",
      "Add of existing embedding ID: 386\n",
      "Add of existing embedding ID: 387\n",
      "Add of existing embedding ID: 388\n",
      "Add of existing embedding ID: 389\n",
      "Add of existing embedding ID: 390\n",
      "Add of existing embedding ID: 391\n",
      "Add of existing embedding ID: 392\n",
      "Add of existing embedding ID: 393\n",
      "Add of existing embedding ID: 394\n",
      "Add of existing embedding ID: 395\n",
      "Add of existing embedding ID: 396\n",
      "Add of existing embedding ID: 397\n",
      "Add of existing embedding ID: 398\n",
      "Add of existing embedding ID: 399\n",
      "Add of existing embedding ID: 400\n",
      "Add of existing embedding ID: 401\n",
      "Add of existing embedding ID: 402\n",
      "Add of existing embedding ID: 403\n",
      "Add of existing embedding ID: 404\n",
      "Add of existing embedding ID: 405\n",
      "Add of existing embedding ID: 406\n",
      "Add of existing embedding ID: 407\n",
      "Add of existing embedding ID: 408\n",
      "Add of existing embedding ID: 409\n"
     ]
    }
   ],
   "source": [
    "ids = [str(i) for i in range(len(token_split_texts))]\n",
    "\n",
    "chroma_collection.add(ids=ids, documents=token_split_texts)\n"
   ]
  },
  {
   "cell_type": "code",
   "execution_count": 25,
   "metadata": {},
   "outputs": [
    {
     "data": {
      "text/plain": [
       "410"
      ]
     },
     "execution_count": 25,
     "metadata": {},
     "output_type": "execute_result"
    }
   ],
   "source": [
    "chroma_collection.count()"
   ]
  },
  {
   "cell_type": "code",
   "execution_count": 26,
   "metadata": {},
   "outputs": [],
   "source": [
    "vectorstore = Chroma(persist_directory=\"../data/chromadb\",embedding_function=OpenAIEmbeddings())\n",
    "    \n",
    "retriever = vectorstore.as_retriever()"
   ]
  },
  {
   "cell_type": "code",
   "execution_count": 27,
   "metadata": {},
   "outputs": [],
   "source": [
    "results = retriever.get_relevant_documents(query=\"What is the purpose of the escrow?\", n_results=10)"
   ]
  },
  {
   "cell_type": "code",
   "execution_count": 28,
   "metadata": {},
   "outputs": [
    {
     "data": {
      "text/plain": [
       "410"
      ]
     },
     "execution_count": 28,
     "metadata": {},
     "output_type": "execute_result"
    }
   ],
   "source": [
    " \t\n",
    "chroma_collection.count()"
   ]
  },
  {
   "cell_type": "code",
   "execution_count": 29,
   "metadata": {},
   "outputs": [
    {
     "name": "stdout",
     "output_type": "stream",
     "text": [
      "gains of such person ( including stock appreciation, phantom stock,\n",
      "profit participation or other similar rights ). “ escrow amount ”\n",
      "means, $ 1, 000, 000 “ facilities ” means any buildings, plants,\n",
      "improvements or structures located on the real property. “ family\n",
      "member ” means, with respect to any individual, ( a ) such person ’ s\n",
      "spouse, ( b ) each parent, brother, sister or child of such person or\n",
      "such person ’ s spouse, ( c ) the spouse of any person described in\n",
      "clause ( b ) above, ( d ) each child of any person described in\n",
      "clauses ( a ), ( b ) or ( c ) above, ( e ) each trust created for the\n",
      "benefit\n",
      "\n",
      "\n",
      "payable, ( iv ) a schedule of the payees and accounts ( including\n",
      "payment instructions ) to which each of the foregoing payments is to\n",
      "be paid and ( v ) each company securityholder ’ s pro rata percentage\n",
      "( the “ allocation statement ” ). 6 ( b ) at the closing, buyer shall\n",
      "deposit the escrow amount with the escrow agent to be held in a\n",
      "separate account ( the “ escrow account ” ). the escrow account shall\n",
      "be governed by the terms of the escrow agreement. all funds contained\n",
      "in the escrow account shall be held in escrow and shall be available\n",
      "solely for the purpose of satisfying obligations of the\n",
      "\n",
      "\n",
      "securityholders in accordance with the terms of the escrow agreement\n",
      "). section i. 04 escrow. ( a ) at closing, buyer will deposit the\n",
      "escrow amount in escrow on behalf of the sellers in accordance with\n",
      "the escrow agreement. the escrow amount shall be held and, subject to\n",
      "section 2. 07, released to the company securityholders in accordance\n",
      "with the provisions of the escrow agreement with the company\n",
      "securityholders being entitled to share in such released amounts in\n",
      "accordance with their pro rata percentages. from and after the\n",
      "closing, buyer and the sellers ’ representative will direct the\n",
      "\n",
      "\n",
      "ancillary agreements to be entered into by buyer or parent at closing,\n",
      "executed by buyer or parent ( as applicable ) ; ( iii ) to the escrow\n",
      "agent, by wire transfer of immediately available funds, the escrow\n",
      "amount ; ( iv ) repay, or cause to be repaid, in accordance with the\n",
      "payof f letters delivered by the sellers ’ representative pursuant to\n",
      "section 2. 05 ( b ) ( iv ) and the allocation statement, on behalf of\n",
      "the company, the amounts as set forth in such payof f letters ; ( v )\n",
      "pay, or cause to be paid in accordance with the allocation statement,\n",
      "on behalf of the company, the seller transaction\n",
      "\n",
      "\n",
      "resolve all claims, disputes and actions, authorize payments in\n",
      "respect of any such claims, disputes or actions, and take all other\n",
      "actions, in each case, with respect to the matters set forth in\n",
      "section 2. 06, article vii, article viii or any other actions directly\n",
      "or indirectly arising out of or relating to this agreement, the escrow\n",
      "agreement or the contemplated transactions ; ( iii ) receive and give\n",
      "all notices, make all decisions and take all other actions on behalf\n",
      "of the sellers in connection with the escrow account established\n",
      "pursuant to the escrow agreement, including giving\n",
      "\n",
      "\n",
      "any instructions or authorizations to the escrow agent to pay from\n",
      "such escrow account any amounts owed by the sellers pursuant to this\n",
      "agreement or the escrow agreement or otherwise in connection with the\n",
      "contemplated transactions ; ( iv ) execute and deliver, should it\n",
      "elect to do so in its good faith discretion, on behalf of the sellers,\n",
      "any amendment to, or waiver of, any term or provision of this\n",
      "agreement or the escrow agreement, or any consent, acknowledgment or\n",
      "release relating to this agreement or the escrow agreement ; and ( v )\n",
      "take all other actions permitted or required to be\n",
      "\n",
      "\n",
      "the escrow agent under the escrow agreement, ( d ) 50 % of all\n",
      "premiums paid in connection with the r & w insurance policy, ( e ) the\n",
      "employer portion of any payroll tax of any acquired company\n",
      "attributable to consideration payable under this agreement respect to\n",
      "the optionholders ( calculated without regard to any deferral\n",
      "available under the cares act ), ( f ) any transfer taxes and ( g )\n",
      "100 % of the fees, costs and expenses incurred in connection with the\n",
      "“ tail ” directors ’ and officers ’ liability and fiduciary liability\n",
      "insurance policies obtained pursuant to section 6. 06. “ software ”\n",
      "means\n",
      "\n",
      "\n",
      "( e ) reliance on appointment ; successor sellers ’ representative.\n",
      "the buyer may rely on the appointment and authority of the sellers ’\n",
      "representative granted pursuant to this section 11. 04 until receipt\n",
      "of written notice of the appointment of a successor sellers ’\n",
      "representative made in accordance with this section 11. 04. in so\n",
      "doing, the buyer may rely on any and all actions taken by and\n",
      "decisions of the sellers ’ representative under this agreement and the\n",
      "escrow agreement notwithstanding any dispute or disagreement among any\n",
      "of the sellers or the sellers ’ representative with respect to\n",
      "\n",
      "\n",
      "the purchase price ( as set forth in section 2. 07 ( e ) ) and any\n",
      "such claim shall expire upon the termination of the escrow agreement.\n",
      "section i. 05 withholding rights. ( a ) ( a ) notwithstanding any\n",
      "other provision of this agreement, each of the buyer or anyone acting\n",
      "on its behalf, the paying agent, the escrow agent and the section 102\n",
      "trustee and any other applicable withholding agent ( each a “ payor ”\n",
      "), shall be entitled to deduct and withhold from the closing cash\n",
      "payment and from any other payments otherwise required pursuant to\n",
      "this agreement, such amount in cash as the buyer and / or\n",
      "\n",
      "\n",
      "escrow agent to disburse payments from the escrow account in\n",
      "accordance with the purchase price adjustment provisions of this\n",
      "agreement and the terms of the escrow agreement including : ( a ) in\n",
      "the case of any disbursement that is required by the terms of this\n",
      "agreement and as to which there is no dispute ( or as to which the\n",
      "disputing party has failed to notify the escrow agent and the other\n",
      "parties of its dispute in accordance with any applicable requirements\n",
      "under this agreement and the escrow agreement ), they will provide\n",
      "prompt joint payment instructions directing the escrow agent to\n",
      "\n",
      "\n"
     ]
    }
   ],
   "source": [
    "query = \"What is the purpose of the escrow? \"\n",
    "\n",
    "results = chroma_collection.query(query_texts=[query], n_results=10)\n",
    "retrieved_documents = results['documents'][0]\n",
    "\n",
    "for document in retrieved_documents:\n",
    "    print(word_wrap(document))\n",
    "    print('\\n')"
   ]
  },
  {
   "cell_type": "code",
   "execution_count": 30,
   "metadata": {},
   "outputs": [],
   "source": [
    "def rag(query, retrieved_documents, model=\"gpt-3.5-turbo\"):\n",
    "    information = \"\\n\\n\".join(retrieved_documents)\n",
    "\n",
    "    messages = [\n",
    "        {\n",
    "            \"role\": \"system\",\n",
    "            \"content\": \"You are a legal expert tasked with acting as the best lawyer and contract analyzer. Your task is to thoroughly understand the provided context and answer questions related to legal matters, contracts, and relevant laws. You must provide accurate responses based solely on the information provided in the context. If the necessary information is not present in the context, respond with I dont know.\"\n",
    "        },\n",
    "        {\"role\": \"user\", \"content\": f\"Question: {query}. \\n Information: {information}\"}\n",
    "    ]\n",
    "    \n",
    "    response = openai_client.chat.completions.create(\n",
    "        model=model,\n",
    "        messages=messages,\n",
    "    )\n",
    "    content = response.choices[0].message.content\n",
    "    return content"
   ]
  },
  {
   "cell_type": "code",
   "execution_count": 33,
   "metadata": {},
   "outputs": [
    {
     "ename": "APITimeoutError",
     "evalue": "Request timed out.",
     "output_type": "error",
     "traceback": [
      "\u001b[0;31m---------------------------------------------------------------------------\u001b[0m",
      "\u001b[0;31mConnectTimeout\u001b[0m                            Traceback (most recent call last)",
      "File \u001b[0;32m~/Desktop/Challenges/Week_11/Contract_Advisor_RAG/venv2/lib/python3.10/site-packages/httpx/_transports/default.py:67\u001b[0m, in \u001b[0;36mmap_httpcore_exceptions\u001b[0;34m()\u001b[0m\n\u001b[1;32m     66\u001b[0m \u001b[38;5;28;01mtry\u001b[39;00m:\n\u001b[0;32m---> 67\u001b[0m     \u001b[38;5;28;01myield\u001b[39;00m\n\u001b[1;32m     68\u001b[0m \u001b[38;5;28;01mexcept\u001b[39;00m \u001b[38;5;167;01mException\u001b[39;00m \u001b[38;5;28;01mas\u001b[39;00m exc:\n",
      "File \u001b[0;32m~/Desktop/Challenges/Week_11/Contract_Advisor_RAG/venv2/lib/python3.10/site-packages/httpx/_transports/default.py:231\u001b[0m, in \u001b[0;36mHTTPTransport.handle_request\u001b[0;34m(self, request)\u001b[0m\n\u001b[1;32m    230\u001b[0m \u001b[38;5;28;01mwith\u001b[39;00m map_httpcore_exceptions():\n\u001b[0;32m--> 231\u001b[0m     resp \u001b[38;5;241m=\u001b[39m \u001b[38;5;28;43mself\u001b[39;49m\u001b[38;5;241;43m.\u001b[39;49m\u001b[43m_pool\u001b[49m\u001b[38;5;241;43m.\u001b[39;49m\u001b[43mhandle_request\u001b[49m\u001b[43m(\u001b[49m\u001b[43mreq\u001b[49m\u001b[43m)\u001b[49m\n\u001b[1;32m    233\u001b[0m \u001b[38;5;28;01massert\u001b[39;00m \u001b[38;5;28misinstance\u001b[39m(resp\u001b[38;5;241m.\u001b[39mstream, typing\u001b[38;5;241m.\u001b[39mIterable)\n",
      "File \u001b[0;32m~/Desktop/Challenges/Week_11/Contract_Advisor_RAG/venv2/lib/python3.10/site-packages/httpcore/_sync/connection_pool.py:216\u001b[0m, in \u001b[0;36mConnectionPool.handle_request\u001b[0;34m(self, request)\u001b[0m\n\u001b[1;32m    215\u001b[0m     \u001b[38;5;28mself\u001b[39m\u001b[38;5;241m.\u001b[39m_close_connections(closing)\n\u001b[0;32m--> 216\u001b[0m     \u001b[38;5;28;01mraise\u001b[39;00m exc \u001b[38;5;28;01mfrom\u001b[39;00m \u001b[38;5;28;01mNone\u001b[39;00m\n\u001b[1;32m    218\u001b[0m \u001b[38;5;66;03m# Return the response. Note that in this case we still have to manage\u001b[39;00m\n\u001b[1;32m    219\u001b[0m \u001b[38;5;66;03m# the point at which the response is closed.\u001b[39;00m\n",
      "File \u001b[0;32m~/Desktop/Challenges/Week_11/Contract_Advisor_RAG/venv2/lib/python3.10/site-packages/httpcore/_sync/connection_pool.py:196\u001b[0m, in \u001b[0;36mConnectionPool.handle_request\u001b[0;34m(self, request)\u001b[0m\n\u001b[1;32m    194\u001b[0m \u001b[38;5;28;01mtry\u001b[39;00m:\n\u001b[1;32m    195\u001b[0m     \u001b[38;5;66;03m# Send the request on the assigned connection.\u001b[39;00m\n\u001b[0;32m--> 196\u001b[0m     response \u001b[38;5;241m=\u001b[39m \u001b[43mconnection\u001b[49m\u001b[38;5;241;43m.\u001b[39;49m\u001b[43mhandle_request\u001b[49m\u001b[43m(\u001b[49m\n\u001b[1;32m    197\u001b[0m \u001b[43m        \u001b[49m\u001b[43mpool_request\u001b[49m\u001b[38;5;241;43m.\u001b[39;49m\u001b[43mrequest\u001b[49m\n\u001b[1;32m    198\u001b[0m \u001b[43m    \u001b[49m\u001b[43m)\u001b[49m\n\u001b[1;32m    199\u001b[0m \u001b[38;5;28;01mexcept\u001b[39;00m ConnectionNotAvailable:\n\u001b[1;32m    200\u001b[0m     \u001b[38;5;66;03m# In some cases a connection may initially be available to\u001b[39;00m\n\u001b[1;32m    201\u001b[0m     \u001b[38;5;66;03m# handle a request, but then become unavailable.\u001b[39;00m\n\u001b[1;32m    202\u001b[0m     \u001b[38;5;66;03m#\u001b[39;00m\n\u001b[1;32m    203\u001b[0m     \u001b[38;5;66;03m# In this case we clear the connection and try again.\u001b[39;00m\n",
      "File \u001b[0;32m~/Desktop/Challenges/Week_11/Contract_Advisor_RAG/venv2/lib/python3.10/site-packages/httpcore/_sync/connection.py:99\u001b[0m, in \u001b[0;36mHTTPConnection.handle_request\u001b[0;34m(self, request)\u001b[0m\n\u001b[1;32m     98\u001b[0m     \u001b[38;5;28mself\u001b[39m\u001b[38;5;241m.\u001b[39m_connect_failed \u001b[38;5;241m=\u001b[39m \u001b[38;5;28;01mTrue\u001b[39;00m\n\u001b[0;32m---> 99\u001b[0m     \u001b[38;5;28;01mraise\u001b[39;00m exc\n\u001b[1;32m    101\u001b[0m \u001b[38;5;28;01mreturn\u001b[39;00m \u001b[38;5;28mself\u001b[39m\u001b[38;5;241m.\u001b[39m_connection\u001b[38;5;241m.\u001b[39mhandle_request(request)\n",
      "File \u001b[0;32m~/Desktop/Challenges/Week_11/Contract_Advisor_RAG/venv2/lib/python3.10/site-packages/httpcore/_sync/connection.py:76\u001b[0m, in \u001b[0;36mHTTPConnection.handle_request\u001b[0;34m(self, request)\u001b[0m\n\u001b[1;32m     75\u001b[0m \u001b[38;5;28;01mif\u001b[39;00m \u001b[38;5;28mself\u001b[39m\u001b[38;5;241m.\u001b[39m_connection \u001b[38;5;129;01mis\u001b[39;00m \u001b[38;5;28;01mNone\u001b[39;00m:\n\u001b[0;32m---> 76\u001b[0m     stream \u001b[38;5;241m=\u001b[39m \u001b[38;5;28;43mself\u001b[39;49m\u001b[38;5;241;43m.\u001b[39;49m\u001b[43m_connect\u001b[49m\u001b[43m(\u001b[49m\u001b[43mrequest\u001b[49m\u001b[43m)\u001b[49m\n\u001b[1;32m     78\u001b[0m     ssl_object \u001b[38;5;241m=\u001b[39m stream\u001b[38;5;241m.\u001b[39mget_extra_info(\u001b[38;5;124m\"\u001b[39m\u001b[38;5;124mssl_object\u001b[39m\u001b[38;5;124m\"\u001b[39m)\n",
      "File \u001b[0;32m~/Desktop/Challenges/Week_11/Contract_Advisor_RAG/venv2/lib/python3.10/site-packages/httpcore/_sync/connection.py:154\u001b[0m, in \u001b[0;36mHTTPConnection._connect\u001b[0;34m(self, request)\u001b[0m\n\u001b[1;32m    153\u001b[0m \u001b[38;5;28;01mwith\u001b[39;00m Trace(\u001b[38;5;124m\"\u001b[39m\u001b[38;5;124mstart_tls\u001b[39m\u001b[38;5;124m\"\u001b[39m, logger, request, kwargs) \u001b[38;5;28;01mas\u001b[39;00m trace:\n\u001b[0;32m--> 154\u001b[0m     stream \u001b[38;5;241m=\u001b[39m \u001b[43mstream\u001b[49m\u001b[38;5;241;43m.\u001b[39;49m\u001b[43mstart_tls\u001b[49m\u001b[43m(\u001b[49m\u001b[38;5;241;43m*\u001b[39;49m\u001b[38;5;241;43m*\u001b[39;49m\u001b[43mkwargs\u001b[49m\u001b[43m)\u001b[49m\n\u001b[1;32m    155\u001b[0m     trace\u001b[38;5;241m.\u001b[39mreturn_value \u001b[38;5;241m=\u001b[39m stream\n",
      "File \u001b[0;32m~/Desktop/Challenges/Week_11/Contract_Advisor_RAG/venv2/lib/python3.10/site-packages/httpcore/_backends/sync.py:152\u001b[0m, in \u001b[0;36mSyncStream.start_tls\u001b[0;34m(self, ssl_context, server_hostname, timeout)\u001b[0m\n\u001b[1;32m    148\u001b[0m exc_map: ExceptionMapping \u001b[38;5;241m=\u001b[39m {\n\u001b[1;32m    149\u001b[0m     socket\u001b[38;5;241m.\u001b[39mtimeout: ConnectTimeout,\n\u001b[1;32m    150\u001b[0m     \u001b[38;5;167;01mOSError\u001b[39;00m: ConnectError,\n\u001b[1;32m    151\u001b[0m }\n\u001b[0;32m--> 152\u001b[0m \u001b[38;5;28;01mwith\u001b[39;00m map_exceptions(exc_map):\n\u001b[1;32m    153\u001b[0m     \u001b[38;5;28;01mtry\u001b[39;00m:\n",
      "File \u001b[0;32m/usr/lib/python3.10/contextlib.py:153\u001b[0m, in \u001b[0;36m_GeneratorContextManager.__exit__\u001b[0;34m(self, typ, value, traceback)\u001b[0m\n\u001b[1;32m    152\u001b[0m \u001b[38;5;28;01mtry\u001b[39;00m:\n\u001b[0;32m--> 153\u001b[0m     \u001b[38;5;28;43mself\u001b[39;49m\u001b[38;5;241;43m.\u001b[39;49m\u001b[43mgen\u001b[49m\u001b[38;5;241;43m.\u001b[39;49m\u001b[43mthrow\u001b[49m\u001b[43m(\u001b[49m\u001b[43mtyp\u001b[49m\u001b[43m,\u001b[49m\u001b[43m \u001b[49m\u001b[43mvalue\u001b[49m\u001b[43m,\u001b[49m\u001b[43m \u001b[49m\u001b[43mtraceback\u001b[49m\u001b[43m)\u001b[49m\n\u001b[1;32m    154\u001b[0m \u001b[38;5;28;01mexcept\u001b[39;00m \u001b[38;5;167;01mStopIteration\u001b[39;00m \u001b[38;5;28;01mas\u001b[39;00m exc:\n\u001b[1;32m    155\u001b[0m     \u001b[38;5;66;03m# Suppress StopIteration *unless* it's the same exception that\u001b[39;00m\n\u001b[1;32m    156\u001b[0m     \u001b[38;5;66;03m# was passed to throw().  This prevents a StopIteration\u001b[39;00m\n\u001b[1;32m    157\u001b[0m     \u001b[38;5;66;03m# raised inside the \"with\" statement from being suppressed.\u001b[39;00m\n",
      "File \u001b[0;32m~/Desktop/Challenges/Week_11/Contract_Advisor_RAG/venv2/lib/python3.10/site-packages/httpcore/_exceptions.py:14\u001b[0m, in \u001b[0;36mmap_exceptions\u001b[0;34m(map)\u001b[0m\n\u001b[1;32m     13\u001b[0m     \u001b[38;5;28;01mif\u001b[39;00m \u001b[38;5;28misinstance\u001b[39m(exc, from_exc):\n\u001b[0;32m---> 14\u001b[0m         \u001b[38;5;28;01mraise\u001b[39;00m to_exc(exc) \u001b[38;5;28;01mfrom\u001b[39;00m \u001b[38;5;21;01mexc\u001b[39;00m\n\u001b[1;32m     15\u001b[0m \u001b[38;5;28;01mraise\u001b[39;00m\n",
      "\u001b[0;31mConnectTimeout\u001b[0m: _ssl.c:990: The handshake operation timed out",
      "\nThe above exception was the direct cause of the following exception:\n",
      "\u001b[0;31mConnectTimeout\u001b[0m                            Traceback (most recent call last)",
      "File \u001b[0;32m~/Desktop/Challenges/Week_11/Contract_Advisor_RAG/venv2/lib/python3.10/site-packages/openai/_base_client.py:918\u001b[0m, in \u001b[0;36mSyncAPIClient._request\u001b[0;34m(self, cast_to, options, remaining_retries, stream, stream_cls)\u001b[0m\n\u001b[1;32m    917\u001b[0m \u001b[38;5;28;01mtry\u001b[39;00m:\n\u001b[0;32m--> 918\u001b[0m     response \u001b[38;5;241m=\u001b[39m \u001b[38;5;28;43mself\u001b[39;49m\u001b[38;5;241;43m.\u001b[39;49m\u001b[43m_client\u001b[49m\u001b[38;5;241;43m.\u001b[39;49m\u001b[43msend\u001b[49m\u001b[43m(\u001b[49m\n\u001b[1;32m    919\u001b[0m \u001b[43m        \u001b[49m\u001b[43mrequest\u001b[49m\u001b[43m,\u001b[49m\n\u001b[1;32m    920\u001b[0m \u001b[43m        \u001b[49m\u001b[43mstream\u001b[49m\u001b[38;5;241;43m=\u001b[39;49m\u001b[43mstream\u001b[49m\u001b[43m \u001b[49m\u001b[38;5;129;43;01mor\u001b[39;49;00m\u001b[43m \u001b[49m\u001b[38;5;28;43mself\u001b[39;49m\u001b[38;5;241;43m.\u001b[39;49m\u001b[43m_should_stream_response_body\u001b[49m\u001b[43m(\u001b[49m\u001b[43mrequest\u001b[49m\u001b[38;5;241;43m=\u001b[39;49m\u001b[43mrequest\u001b[49m\u001b[43m)\u001b[49m\u001b[43m,\u001b[49m\n\u001b[1;32m    921\u001b[0m \u001b[43m        \u001b[49m\u001b[38;5;241;43m*\u001b[39;49m\u001b[38;5;241;43m*\u001b[39;49m\u001b[43mkwargs\u001b[49m\u001b[43m,\u001b[49m\n\u001b[1;32m    922\u001b[0m \u001b[43m    \u001b[49m\u001b[43m)\u001b[49m\n\u001b[1;32m    923\u001b[0m \u001b[38;5;28;01mexcept\u001b[39;00m httpx\u001b[38;5;241m.\u001b[39mTimeoutException \u001b[38;5;28;01mas\u001b[39;00m err:\n",
      "File \u001b[0;32m~/Desktop/Challenges/Week_11/Contract_Advisor_RAG/venv2/lib/python3.10/site-packages/httpx/_client.py:915\u001b[0m, in \u001b[0;36mClient.send\u001b[0;34m(self, request, stream, auth, follow_redirects)\u001b[0m\n\u001b[1;32m    913\u001b[0m auth \u001b[38;5;241m=\u001b[39m \u001b[38;5;28mself\u001b[39m\u001b[38;5;241m.\u001b[39m_build_request_auth(request, auth)\n\u001b[0;32m--> 915\u001b[0m response \u001b[38;5;241m=\u001b[39m \u001b[38;5;28;43mself\u001b[39;49m\u001b[38;5;241;43m.\u001b[39;49m\u001b[43m_send_handling_auth\u001b[49m\u001b[43m(\u001b[49m\n\u001b[1;32m    916\u001b[0m \u001b[43m    \u001b[49m\u001b[43mrequest\u001b[49m\u001b[43m,\u001b[49m\n\u001b[1;32m    917\u001b[0m \u001b[43m    \u001b[49m\u001b[43mauth\u001b[49m\u001b[38;5;241;43m=\u001b[39;49m\u001b[43mauth\u001b[49m\u001b[43m,\u001b[49m\n\u001b[1;32m    918\u001b[0m \u001b[43m    \u001b[49m\u001b[43mfollow_redirects\u001b[49m\u001b[38;5;241;43m=\u001b[39;49m\u001b[43mfollow_redirects\u001b[49m\u001b[43m,\u001b[49m\n\u001b[1;32m    919\u001b[0m \u001b[43m    \u001b[49m\u001b[43mhistory\u001b[49m\u001b[38;5;241;43m=\u001b[39;49m\u001b[43m[\u001b[49m\u001b[43m]\u001b[49m\u001b[43m,\u001b[49m\n\u001b[1;32m    920\u001b[0m \u001b[43m\u001b[49m\u001b[43m)\u001b[49m\n\u001b[1;32m    921\u001b[0m \u001b[38;5;28;01mtry\u001b[39;00m:\n",
      "File \u001b[0;32m~/Desktop/Challenges/Week_11/Contract_Advisor_RAG/venv2/lib/python3.10/site-packages/httpx/_client.py:943\u001b[0m, in \u001b[0;36mClient._send_handling_auth\u001b[0;34m(self, request, auth, follow_redirects, history)\u001b[0m\n\u001b[1;32m    942\u001b[0m \u001b[38;5;28;01mwhile\u001b[39;00m \u001b[38;5;28;01mTrue\u001b[39;00m:\n\u001b[0;32m--> 943\u001b[0m     response \u001b[38;5;241m=\u001b[39m \u001b[38;5;28;43mself\u001b[39;49m\u001b[38;5;241;43m.\u001b[39;49m\u001b[43m_send_handling_redirects\u001b[49m\u001b[43m(\u001b[49m\n\u001b[1;32m    944\u001b[0m \u001b[43m        \u001b[49m\u001b[43mrequest\u001b[49m\u001b[43m,\u001b[49m\n\u001b[1;32m    945\u001b[0m \u001b[43m        \u001b[49m\u001b[43mfollow_redirects\u001b[49m\u001b[38;5;241;43m=\u001b[39;49m\u001b[43mfollow_redirects\u001b[49m\u001b[43m,\u001b[49m\n\u001b[1;32m    946\u001b[0m \u001b[43m        \u001b[49m\u001b[43mhistory\u001b[49m\u001b[38;5;241;43m=\u001b[39;49m\u001b[43mhistory\u001b[49m\u001b[43m,\u001b[49m\n\u001b[1;32m    947\u001b[0m \u001b[43m    \u001b[49m\u001b[43m)\u001b[49m\n\u001b[1;32m    948\u001b[0m     \u001b[38;5;28;01mtry\u001b[39;00m:\n",
      "File \u001b[0;32m~/Desktop/Challenges/Week_11/Contract_Advisor_RAG/venv2/lib/python3.10/site-packages/httpx/_client.py:980\u001b[0m, in \u001b[0;36mClient._send_handling_redirects\u001b[0;34m(self, request, follow_redirects, history)\u001b[0m\n\u001b[1;32m    978\u001b[0m     hook(request)\n\u001b[0;32m--> 980\u001b[0m response \u001b[38;5;241m=\u001b[39m \u001b[38;5;28;43mself\u001b[39;49m\u001b[38;5;241;43m.\u001b[39;49m\u001b[43m_send_single_request\u001b[49m\u001b[43m(\u001b[49m\u001b[43mrequest\u001b[49m\u001b[43m)\u001b[49m\n\u001b[1;32m    981\u001b[0m \u001b[38;5;28;01mtry\u001b[39;00m:\n",
      "File \u001b[0;32m~/Desktop/Challenges/Week_11/Contract_Advisor_RAG/venv2/lib/python3.10/site-packages/httpx/_client.py:1016\u001b[0m, in \u001b[0;36mClient._send_single_request\u001b[0;34m(self, request)\u001b[0m\n\u001b[1;32m   1015\u001b[0m \u001b[38;5;28;01mwith\u001b[39;00m request_context(request\u001b[38;5;241m=\u001b[39mrequest):\n\u001b[0;32m-> 1016\u001b[0m     response \u001b[38;5;241m=\u001b[39m \u001b[43mtransport\u001b[49m\u001b[38;5;241;43m.\u001b[39;49m\u001b[43mhandle_request\u001b[49m\u001b[43m(\u001b[49m\u001b[43mrequest\u001b[49m\u001b[43m)\u001b[49m\n\u001b[1;32m   1018\u001b[0m \u001b[38;5;28;01massert\u001b[39;00m \u001b[38;5;28misinstance\u001b[39m(response\u001b[38;5;241m.\u001b[39mstream, SyncByteStream)\n",
      "File \u001b[0;32m~/Desktop/Challenges/Week_11/Contract_Advisor_RAG/venv2/lib/python3.10/site-packages/httpx/_transports/default.py:230\u001b[0m, in \u001b[0;36mHTTPTransport.handle_request\u001b[0;34m(self, request)\u001b[0m\n\u001b[1;32m    218\u001b[0m req \u001b[38;5;241m=\u001b[39m httpcore\u001b[38;5;241m.\u001b[39mRequest(\n\u001b[1;32m    219\u001b[0m     method\u001b[38;5;241m=\u001b[39mrequest\u001b[38;5;241m.\u001b[39mmethod,\n\u001b[1;32m    220\u001b[0m     url\u001b[38;5;241m=\u001b[39mhttpcore\u001b[38;5;241m.\u001b[39mURL(\n\u001b[0;32m   (...)\u001b[0m\n\u001b[1;32m    228\u001b[0m     extensions\u001b[38;5;241m=\u001b[39mrequest\u001b[38;5;241m.\u001b[39mextensions,\n\u001b[1;32m    229\u001b[0m )\n\u001b[0;32m--> 230\u001b[0m \u001b[38;5;28;01mwith\u001b[39;00m map_httpcore_exceptions():\n\u001b[1;32m    231\u001b[0m     resp \u001b[38;5;241m=\u001b[39m \u001b[38;5;28mself\u001b[39m\u001b[38;5;241m.\u001b[39m_pool\u001b[38;5;241m.\u001b[39mhandle_request(req)\n",
      "File \u001b[0;32m/usr/lib/python3.10/contextlib.py:153\u001b[0m, in \u001b[0;36m_GeneratorContextManager.__exit__\u001b[0;34m(self, typ, value, traceback)\u001b[0m\n\u001b[1;32m    152\u001b[0m \u001b[38;5;28;01mtry\u001b[39;00m:\n\u001b[0;32m--> 153\u001b[0m     \u001b[38;5;28;43mself\u001b[39;49m\u001b[38;5;241;43m.\u001b[39;49m\u001b[43mgen\u001b[49m\u001b[38;5;241;43m.\u001b[39;49m\u001b[43mthrow\u001b[49m\u001b[43m(\u001b[49m\u001b[43mtyp\u001b[49m\u001b[43m,\u001b[49m\u001b[43m \u001b[49m\u001b[43mvalue\u001b[49m\u001b[43m,\u001b[49m\u001b[43m \u001b[49m\u001b[43mtraceback\u001b[49m\u001b[43m)\u001b[49m\n\u001b[1;32m    154\u001b[0m \u001b[38;5;28;01mexcept\u001b[39;00m \u001b[38;5;167;01mStopIteration\u001b[39;00m \u001b[38;5;28;01mas\u001b[39;00m exc:\n\u001b[1;32m    155\u001b[0m     \u001b[38;5;66;03m# Suppress StopIteration *unless* it's the same exception that\u001b[39;00m\n\u001b[1;32m    156\u001b[0m     \u001b[38;5;66;03m# was passed to throw().  This prevents a StopIteration\u001b[39;00m\n\u001b[1;32m    157\u001b[0m     \u001b[38;5;66;03m# raised inside the \"with\" statement from being suppressed.\u001b[39;00m\n",
      "File \u001b[0;32m~/Desktop/Challenges/Week_11/Contract_Advisor_RAG/venv2/lib/python3.10/site-packages/httpx/_transports/default.py:84\u001b[0m, in \u001b[0;36mmap_httpcore_exceptions\u001b[0;34m()\u001b[0m\n\u001b[1;32m     83\u001b[0m message \u001b[38;5;241m=\u001b[39m \u001b[38;5;28mstr\u001b[39m(exc)\n\u001b[0;32m---> 84\u001b[0m \u001b[38;5;28;01mraise\u001b[39;00m mapped_exc(message) \u001b[38;5;28;01mfrom\u001b[39;00m \u001b[38;5;21;01mexc\u001b[39;00m\n",
      "\u001b[0;31mConnectTimeout\u001b[0m: _ssl.c:990: The handshake operation timed out",
      "\nThe above exception was the direct cause of the following exception:\n",
      "\u001b[0;31mAPITimeoutError\u001b[0m                           Traceback (most recent call last)",
      "Cell \u001b[0;32mIn[33], line 2\u001b[0m\n\u001b[1;32m      1\u001b[0m \u001b[38;5;66;03m#query = \"Is escrow amount greater than the Retention Amount ?\"\u001b[39;00m\n\u001b[0;32m----> 2\u001b[0m output \u001b[38;5;241m=\u001b[39m \u001b[43mrag\u001b[49m\u001b[43m(\u001b[49m\u001b[43mquery\u001b[49m\u001b[38;5;241;43m=\u001b[39;49m\u001b[43mquery\u001b[49m\u001b[43m,\u001b[49m\u001b[43m \u001b[49m\u001b[43mretrieved_documents\u001b[49m\u001b[38;5;241;43m=\u001b[39;49m\u001b[43mretrieved_documents\u001b[49m\u001b[43m)\u001b[49m\n\u001b[1;32m      4\u001b[0m \u001b[38;5;28mprint\u001b[39m(word_wrap(output))\n",
      "Cell \u001b[0;32mIn[30], line 12\u001b[0m, in \u001b[0;36mrag\u001b[0;34m(query, retrieved_documents, model)\u001b[0m\n\u001b[1;32m      2\u001b[0m information \u001b[38;5;241m=\u001b[39m \u001b[38;5;124m\"\u001b[39m\u001b[38;5;130;01m\\n\u001b[39;00m\u001b[38;5;130;01m\\n\u001b[39;00m\u001b[38;5;124m\"\u001b[39m\u001b[38;5;241m.\u001b[39mjoin(retrieved_documents)\n\u001b[1;32m      4\u001b[0m messages \u001b[38;5;241m=\u001b[39m [\n\u001b[1;32m      5\u001b[0m     {\n\u001b[1;32m      6\u001b[0m         \u001b[38;5;124m\"\u001b[39m\u001b[38;5;124mrole\u001b[39m\u001b[38;5;124m\"\u001b[39m: \u001b[38;5;124m\"\u001b[39m\u001b[38;5;124msystem\u001b[39m\u001b[38;5;124m\"\u001b[39m,\n\u001b[0;32m   (...)\u001b[0m\n\u001b[1;32m      9\u001b[0m     {\u001b[38;5;124m\"\u001b[39m\u001b[38;5;124mrole\u001b[39m\u001b[38;5;124m\"\u001b[39m: \u001b[38;5;124m\"\u001b[39m\u001b[38;5;124muser\u001b[39m\u001b[38;5;124m\"\u001b[39m, \u001b[38;5;124m\"\u001b[39m\u001b[38;5;124mcontent\u001b[39m\u001b[38;5;124m\"\u001b[39m: \u001b[38;5;124mf\u001b[39m\u001b[38;5;124m\"\u001b[39m\u001b[38;5;124mQuestion: \u001b[39m\u001b[38;5;132;01m{\u001b[39;00mquery\u001b[38;5;132;01m}\u001b[39;00m\u001b[38;5;124m. \u001b[39m\u001b[38;5;130;01m\\n\u001b[39;00m\u001b[38;5;124m Information: \u001b[39m\u001b[38;5;132;01m{\u001b[39;00minformation\u001b[38;5;132;01m}\u001b[39;00m\u001b[38;5;124m\"\u001b[39m}\n\u001b[1;32m     10\u001b[0m ]\n\u001b[0;32m---> 12\u001b[0m response \u001b[38;5;241m=\u001b[39m \u001b[43mopenai_client\u001b[49m\u001b[38;5;241;43m.\u001b[39;49m\u001b[43mchat\u001b[49m\u001b[38;5;241;43m.\u001b[39;49m\u001b[43mcompletions\u001b[49m\u001b[38;5;241;43m.\u001b[39;49m\u001b[43mcreate\u001b[49m\u001b[43m(\u001b[49m\n\u001b[1;32m     13\u001b[0m \u001b[43m    \u001b[49m\u001b[43mmodel\u001b[49m\u001b[38;5;241;43m=\u001b[39;49m\u001b[43mmodel\u001b[49m\u001b[43m,\u001b[49m\n\u001b[1;32m     14\u001b[0m \u001b[43m    \u001b[49m\u001b[43mmessages\u001b[49m\u001b[38;5;241;43m=\u001b[39;49m\u001b[43mmessages\u001b[49m\u001b[43m,\u001b[49m\n\u001b[1;32m     15\u001b[0m \u001b[43m\u001b[49m\u001b[43m)\u001b[49m\n\u001b[1;32m     16\u001b[0m content \u001b[38;5;241m=\u001b[39m response\u001b[38;5;241m.\u001b[39mchoices[\u001b[38;5;241m0\u001b[39m]\u001b[38;5;241m.\u001b[39mmessage\u001b[38;5;241m.\u001b[39mcontent\n\u001b[1;32m     17\u001b[0m \u001b[38;5;28;01mreturn\u001b[39;00m content\n",
      "File \u001b[0;32m~/Desktop/Challenges/Week_11/Contract_Advisor_RAG/venv2/lib/python3.10/site-packages/openai/_utils/_utils.py:275\u001b[0m, in \u001b[0;36mrequired_args.<locals>.inner.<locals>.wrapper\u001b[0;34m(*args, **kwargs)\u001b[0m\n\u001b[1;32m    273\u001b[0m             msg \u001b[38;5;241m=\u001b[39m \u001b[38;5;124mf\u001b[39m\u001b[38;5;124m\"\u001b[39m\u001b[38;5;124mMissing required argument: \u001b[39m\u001b[38;5;132;01m{\u001b[39;00mquote(missing[\u001b[38;5;241m0\u001b[39m])\u001b[38;5;132;01m}\u001b[39;00m\u001b[38;5;124m\"\u001b[39m\n\u001b[1;32m    274\u001b[0m     \u001b[38;5;28;01mraise\u001b[39;00m \u001b[38;5;167;01mTypeError\u001b[39;00m(msg)\n\u001b[0;32m--> 275\u001b[0m \u001b[38;5;28;01mreturn\u001b[39;00m \u001b[43mfunc\u001b[49m\u001b[43m(\u001b[49m\u001b[38;5;241;43m*\u001b[39;49m\u001b[43margs\u001b[49m\u001b[43m,\u001b[49m\u001b[43m \u001b[49m\u001b[38;5;241;43m*\u001b[39;49m\u001b[38;5;241;43m*\u001b[39;49m\u001b[43mkwargs\u001b[49m\u001b[43m)\u001b[49m\n",
      "File \u001b[0;32m~/Desktop/Challenges/Week_11/Contract_Advisor_RAG/venv2/lib/python3.10/site-packages/openai/resources/chat/completions.py:663\u001b[0m, in \u001b[0;36mCompletions.create\u001b[0;34m(self, messages, model, frequency_penalty, function_call, functions, logit_bias, logprobs, max_tokens, n, presence_penalty, response_format, seed, stop, stream, temperature, tool_choice, tools, top_logprobs, top_p, user, extra_headers, extra_query, extra_body, timeout)\u001b[0m\n\u001b[1;32m    611\u001b[0m \u001b[38;5;129m@required_args\u001b[39m([\u001b[38;5;124m\"\u001b[39m\u001b[38;5;124mmessages\u001b[39m\u001b[38;5;124m\"\u001b[39m, \u001b[38;5;124m\"\u001b[39m\u001b[38;5;124mmodel\u001b[39m\u001b[38;5;124m\"\u001b[39m], [\u001b[38;5;124m\"\u001b[39m\u001b[38;5;124mmessages\u001b[39m\u001b[38;5;124m\"\u001b[39m, \u001b[38;5;124m\"\u001b[39m\u001b[38;5;124mmodel\u001b[39m\u001b[38;5;124m\"\u001b[39m, \u001b[38;5;124m\"\u001b[39m\u001b[38;5;124mstream\u001b[39m\u001b[38;5;124m\"\u001b[39m])\n\u001b[1;32m    612\u001b[0m \u001b[38;5;28;01mdef\u001b[39;00m \u001b[38;5;21mcreate\u001b[39m(\n\u001b[1;32m    613\u001b[0m     \u001b[38;5;28mself\u001b[39m,\n\u001b[0;32m   (...)\u001b[0m\n\u001b[1;32m    661\u001b[0m     timeout: \u001b[38;5;28mfloat\u001b[39m \u001b[38;5;241m|\u001b[39m httpx\u001b[38;5;241m.\u001b[39mTimeout \u001b[38;5;241m|\u001b[39m \u001b[38;5;28;01mNone\u001b[39;00m \u001b[38;5;241m|\u001b[39m NotGiven \u001b[38;5;241m=\u001b[39m NOT_GIVEN,\n\u001b[1;32m    662\u001b[0m ) \u001b[38;5;241m-\u001b[39m\u001b[38;5;241m>\u001b[39m ChatCompletion \u001b[38;5;241m|\u001b[39m Stream[ChatCompletionChunk]:\n\u001b[0;32m--> 663\u001b[0m     \u001b[38;5;28;01mreturn\u001b[39;00m \u001b[38;5;28;43mself\u001b[39;49m\u001b[38;5;241;43m.\u001b[39;49m\u001b[43m_post\u001b[49m\u001b[43m(\u001b[49m\n\u001b[1;32m    664\u001b[0m \u001b[43m        \u001b[49m\u001b[38;5;124;43m\"\u001b[39;49m\u001b[38;5;124;43m/chat/completions\u001b[39;49m\u001b[38;5;124;43m\"\u001b[39;49m\u001b[43m,\u001b[49m\n\u001b[1;32m    665\u001b[0m \u001b[43m        \u001b[49m\u001b[43mbody\u001b[49m\u001b[38;5;241;43m=\u001b[39;49m\u001b[43mmaybe_transform\u001b[49m\u001b[43m(\u001b[49m\n\u001b[1;32m    666\u001b[0m \u001b[43m            \u001b[49m\u001b[43m{\u001b[49m\n\u001b[1;32m    667\u001b[0m \u001b[43m                \u001b[49m\u001b[38;5;124;43m\"\u001b[39;49m\u001b[38;5;124;43mmessages\u001b[39;49m\u001b[38;5;124;43m\"\u001b[39;49m\u001b[43m:\u001b[49m\u001b[43m \u001b[49m\u001b[43mmessages\u001b[49m\u001b[43m,\u001b[49m\n\u001b[1;32m    668\u001b[0m \u001b[43m                \u001b[49m\u001b[38;5;124;43m\"\u001b[39;49m\u001b[38;5;124;43mmodel\u001b[39;49m\u001b[38;5;124;43m\"\u001b[39;49m\u001b[43m:\u001b[49m\u001b[43m \u001b[49m\u001b[43mmodel\u001b[49m\u001b[43m,\u001b[49m\n\u001b[1;32m    669\u001b[0m \u001b[43m                \u001b[49m\u001b[38;5;124;43m\"\u001b[39;49m\u001b[38;5;124;43mfrequency_penalty\u001b[39;49m\u001b[38;5;124;43m\"\u001b[39;49m\u001b[43m:\u001b[49m\u001b[43m \u001b[49m\u001b[43mfrequency_penalty\u001b[49m\u001b[43m,\u001b[49m\n\u001b[1;32m    670\u001b[0m \u001b[43m                \u001b[49m\u001b[38;5;124;43m\"\u001b[39;49m\u001b[38;5;124;43mfunction_call\u001b[39;49m\u001b[38;5;124;43m\"\u001b[39;49m\u001b[43m:\u001b[49m\u001b[43m \u001b[49m\u001b[43mfunction_call\u001b[49m\u001b[43m,\u001b[49m\n\u001b[1;32m    671\u001b[0m \u001b[43m                \u001b[49m\u001b[38;5;124;43m\"\u001b[39;49m\u001b[38;5;124;43mfunctions\u001b[39;49m\u001b[38;5;124;43m\"\u001b[39;49m\u001b[43m:\u001b[49m\u001b[43m \u001b[49m\u001b[43mfunctions\u001b[49m\u001b[43m,\u001b[49m\n\u001b[1;32m    672\u001b[0m \u001b[43m                \u001b[49m\u001b[38;5;124;43m\"\u001b[39;49m\u001b[38;5;124;43mlogit_bias\u001b[39;49m\u001b[38;5;124;43m\"\u001b[39;49m\u001b[43m:\u001b[49m\u001b[43m \u001b[49m\u001b[43mlogit_bias\u001b[49m\u001b[43m,\u001b[49m\n\u001b[1;32m    673\u001b[0m \u001b[43m                \u001b[49m\u001b[38;5;124;43m\"\u001b[39;49m\u001b[38;5;124;43mlogprobs\u001b[39;49m\u001b[38;5;124;43m\"\u001b[39;49m\u001b[43m:\u001b[49m\u001b[43m \u001b[49m\u001b[43mlogprobs\u001b[49m\u001b[43m,\u001b[49m\n\u001b[1;32m    674\u001b[0m \u001b[43m                \u001b[49m\u001b[38;5;124;43m\"\u001b[39;49m\u001b[38;5;124;43mmax_tokens\u001b[39;49m\u001b[38;5;124;43m\"\u001b[39;49m\u001b[43m:\u001b[49m\u001b[43m \u001b[49m\u001b[43mmax_tokens\u001b[49m\u001b[43m,\u001b[49m\n\u001b[1;32m    675\u001b[0m \u001b[43m                \u001b[49m\u001b[38;5;124;43m\"\u001b[39;49m\u001b[38;5;124;43mn\u001b[39;49m\u001b[38;5;124;43m\"\u001b[39;49m\u001b[43m:\u001b[49m\u001b[43m \u001b[49m\u001b[43mn\u001b[49m\u001b[43m,\u001b[49m\n\u001b[1;32m    676\u001b[0m \u001b[43m                \u001b[49m\u001b[38;5;124;43m\"\u001b[39;49m\u001b[38;5;124;43mpresence_penalty\u001b[39;49m\u001b[38;5;124;43m\"\u001b[39;49m\u001b[43m:\u001b[49m\u001b[43m \u001b[49m\u001b[43mpresence_penalty\u001b[49m\u001b[43m,\u001b[49m\n\u001b[1;32m    677\u001b[0m \u001b[43m                \u001b[49m\u001b[38;5;124;43m\"\u001b[39;49m\u001b[38;5;124;43mresponse_format\u001b[39;49m\u001b[38;5;124;43m\"\u001b[39;49m\u001b[43m:\u001b[49m\u001b[43m \u001b[49m\u001b[43mresponse_format\u001b[49m\u001b[43m,\u001b[49m\n\u001b[1;32m    678\u001b[0m \u001b[43m                \u001b[49m\u001b[38;5;124;43m\"\u001b[39;49m\u001b[38;5;124;43mseed\u001b[39;49m\u001b[38;5;124;43m\"\u001b[39;49m\u001b[43m:\u001b[49m\u001b[43m \u001b[49m\u001b[43mseed\u001b[49m\u001b[43m,\u001b[49m\n\u001b[1;32m    679\u001b[0m \u001b[43m                \u001b[49m\u001b[38;5;124;43m\"\u001b[39;49m\u001b[38;5;124;43mstop\u001b[39;49m\u001b[38;5;124;43m\"\u001b[39;49m\u001b[43m:\u001b[49m\u001b[43m \u001b[49m\u001b[43mstop\u001b[49m\u001b[43m,\u001b[49m\n\u001b[1;32m    680\u001b[0m \u001b[43m                \u001b[49m\u001b[38;5;124;43m\"\u001b[39;49m\u001b[38;5;124;43mstream\u001b[39;49m\u001b[38;5;124;43m\"\u001b[39;49m\u001b[43m:\u001b[49m\u001b[43m \u001b[49m\u001b[43mstream\u001b[49m\u001b[43m,\u001b[49m\n\u001b[1;32m    681\u001b[0m \u001b[43m                \u001b[49m\u001b[38;5;124;43m\"\u001b[39;49m\u001b[38;5;124;43mtemperature\u001b[39;49m\u001b[38;5;124;43m\"\u001b[39;49m\u001b[43m:\u001b[49m\u001b[43m \u001b[49m\u001b[43mtemperature\u001b[49m\u001b[43m,\u001b[49m\n\u001b[1;32m    682\u001b[0m \u001b[43m                \u001b[49m\u001b[38;5;124;43m\"\u001b[39;49m\u001b[38;5;124;43mtool_choice\u001b[39;49m\u001b[38;5;124;43m\"\u001b[39;49m\u001b[43m:\u001b[49m\u001b[43m \u001b[49m\u001b[43mtool_choice\u001b[49m\u001b[43m,\u001b[49m\n\u001b[1;32m    683\u001b[0m \u001b[43m                \u001b[49m\u001b[38;5;124;43m\"\u001b[39;49m\u001b[38;5;124;43mtools\u001b[39;49m\u001b[38;5;124;43m\"\u001b[39;49m\u001b[43m:\u001b[49m\u001b[43m \u001b[49m\u001b[43mtools\u001b[49m\u001b[43m,\u001b[49m\n\u001b[1;32m    684\u001b[0m \u001b[43m                \u001b[49m\u001b[38;5;124;43m\"\u001b[39;49m\u001b[38;5;124;43mtop_logprobs\u001b[39;49m\u001b[38;5;124;43m\"\u001b[39;49m\u001b[43m:\u001b[49m\u001b[43m \u001b[49m\u001b[43mtop_logprobs\u001b[49m\u001b[43m,\u001b[49m\n\u001b[1;32m    685\u001b[0m \u001b[43m                \u001b[49m\u001b[38;5;124;43m\"\u001b[39;49m\u001b[38;5;124;43mtop_p\u001b[39;49m\u001b[38;5;124;43m\"\u001b[39;49m\u001b[43m:\u001b[49m\u001b[43m \u001b[49m\u001b[43mtop_p\u001b[49m\u001b[43m,\u001b[49m\n\u001b[1;32m    686\u001b[0m \u001b[43m                \u001b[49m\u001b[38;5;124;43m\"\u001b[39;49m\u001b[38;5;124;43muser\u001b[39;49m\u001b[38;5;124;43m\"\u001b[39;49m\u001b[43m:\u001b[49m\u001b[43m \u001b[49m\u001b[43muser\u001b[49m\u001b[43m,\u001b[49m\n\u001b[1;32m    687\u001b[0m \u001b[43m            \u001b[49m\u001b[43m}\u001b[49m\u001b[43m,\u001b[49m\n\u001b[1;32m    688\u001b[0m \u001b[43m            \u001b[49m\u001b[43mcompletion_create_params\u001b[49m\u001b[38;5;241;43m.\u001b[39;49m\u001b[43mCompletionCreateParams\u001b[49m\u001b[43m,\u001b[49m\n\u001b[1;32m    689\u001b[0m \u001b[43m        \u001b[49m\u001b[43m)\u001b[49m\u001b[43m,\u001b[49m\n\u001b[1;32m    690\u001b[0m \u001b[43m        \u001b[49m\u001b[43moptions\u001b[49m\u001b[38;5;241;43m=\u001b[39;49m\u001b[43mmake_request_options\u001b[49m\u001b[43m(\u001b[49m\n\u001b[1;32m    691\u001b[0m \u001b[43m            \u001b[49m\u001b[43mextra_headers\u001b[49m\u001b[38;5;241;43m=\u001b[39;49m\u001b[43mextra_headers\u001b[49m\u001b[43m,\u001b[49m\u001b[43m \u001b[49m\u001b[43mextra_query\u001b[49m\u001b[38;5;241;43m=\u001b[39;49m\u001b[43mextra_query\u001b[49m\u001b[43m,\u001b[49m\u001b[43m \u001b[49m\u001b[43mextra_body\u001b[49m\u001b[38;5;241;43m=\u001b[39;49m\u001b[43mextra_body\u001b[49m\u001b[43m,\u001b[49m\u001b[43m \u001b[49m\u001b[43mtimeout\u001b[49m\u001b[38;5;241;43m=\u001b[39;49m\u001b[43mtimeout\u001b[49m\n\u001b[1;32m    692\u001b[0m \u001b[43m        \u001b[49m\u001b[43m)\u001b[49m\u001b[43m,\u001b[49m\n\u001b[1;32m    693\u001b[0m \u001b[43m        \u001b[49m\u001b[43mcast_to\u001b[49m\u001b[38;5;241;43m=\u001b[39;49m\u001b[43mChatCompletion\u001b[49m\u001b[43m,\u001b[49m\n\u001b[1;32m    694\u001b[0m \u001b[43m        \u001b[49m\u001b[43mstream\u001b[49m\u001b[38;5;241;43m=\u001b[39;49m\u001b[43mstream\u001b[49m\u001b[43m \u001b[49m\u001b[38;5;129;43;01mor\u001b[39;49;00m\u001b[43m \u001b[49m\u001b[38;5;28;43;01mFalse\u001b[39;49;00m\u001b[43m,\u001b[49m\n\u001b[1;32m    695\u001b[0m \u001b[43m        \u001b[49m\u001b[43mstream_cls\u001b[49m\u001b[38;5;241;43m=\u001b[39;49m\u001b[43mStream\u001b[49m\u001b[43m[\u001b[49m\u001b[43mChatCompletionChunk\u001b[49m\u001b[43m]\u001b[49m\u001b[43m,\u001b[49m\n\u001b[1;32m    696\u001b[0m \u001b[43m    \u001b[49m\u001b[43m)\u001b[49m\n",
      "File \u001b[0;32m~/Desktop/Challenges/Week_11/Contract_Advisor_RAG/venv2/lib/python3.10/site-packages/openai/_base_client.py:1200\u001b[0m, in \u001b[0;36mSyncAPIClient.post\u001b[0;34m(self, path, cast_to, body, options, files, stream, stream_cls)\u001b[0m\n\u001b[1;32m   1186\u001b[0m \u001b[38;5;28;01mdef\u001b[39;00m \u001b[38;5;21mpost\u001b[39m(\n\u001b[1;32m   1187\u001b[0m     \u001b[38;5;28mself\u001b[39m,\n\u001b[1;32m   1188\u001b[0m     path: \u001b[38;5;28mstr\u001b[39m,\n\u001b[0;32m   (...)\u001b[0m\n\u001b[1;32m   1195\u001b[0m     stream_cls: \u001b[38;5;28mtype\u001b[39m[_StreamT] \u001b[38;5;241m|\u001b[39m \u001b[38;5;28;01mNone\u001b[39;00m \u001b[38;5;241m=\u001b[39m \u001b[38;5;28;01mNone\u001b[39;00m,\n\u001b[1;32m   1196\u001b[0m ) \u001b[38;5;241m-\u001b[39m\u001b[38;5;241m>\u001b[39m ResponseT \u001b[38;5;241m|\u001b[39m _StreamT:\n\u001b[1;32m   1197\u001b[0m     opts \u001b[38;5;241m=\u001b[39m FinalRequestOptions\u001b[38;5;241m.\u001b[39mconstruct(\n\u001b[1;32m   1198\u001b[0m         method\u001b[38;5;241m=\u001b[39m\u001b[38;5;124m\"\u001b[39m\u001b[38;5;124mpost\u001b[39m\u001b[38;5;124m\"\u001b[39m, url\u001b[38;5;241m=\u001b[39mpath, json_data\u001b[38;5;241m=\u001b[39mbody, files\u001b[38;5;241m=\u001b[39mto_httpx_files(files), \u001b[38;5;241m*\u001b[39m\u001b[38;5;241m*\u001b[39moptions\n\u001b[1;32m   1199\u001b[0m     )\n\u001b[0;32m-> 1200\u001b[0m     \u001b[38;5;28;01mreturn\u001b[39;00m cast(ResponseT, \u001b[38;5;28;43mself\u001b[39;49m\u001b[38;5;241;43m.\u001b[39;49m\u001b[43mrequest\u001b[49m\u001b[43m(\u001b[49m\u001b[43mcast_to\u001b[49m\u001b[43m,\u001b[49m\u001b[43m \u001b[49m\u001b[43mopts\u001b[49m\u001b[43m,\u001b[49m\u001b[43m \u001b[49m\u001b[43mstream\u001b[49m\u001b[38;5;241;43m=\u001b[39;49m\u001b[43mstream\u001b[49m\u001b[43m,\u001b[49m\u001b[43m \u001b[49m\u001b[43mstream_cls\u001b[49m\u001b[38;5;241;43m=\u001b[39;49m\u001b[43mstream_cls\u001b[49m\u001b[43m)\u001b[49m)\n",
      "File \u001b[0;32m~/Desktop/Challenges/Week_11/Contract_Advisor_RAG/venv2/lib/python3.10/site-packages/openai/_base_client.py:889\u001b[0m, in \u001b[0;36mSyncAPIClient.request\u001b[0;34m(self, cast_to, options, remaining_retries, stream, stream_cls)\u001b[0m\n\u001b[1;32m    880\u001b[0m \u001b[38;5;28;01mdef\u001b[39;00m \u001b[38;5;21mrequest\u001b[39m(\n\u001b[1;32m    881\u001b[0m     \u001b[38;5;28mself\u001b[39m,\n\u001b[1;32m    882\u001b[0m     cast_to: Type[ResponseT],\n\u001b[0;32m   (...)\u001b[0m\n\u001b[1;32m    887\u001b[0m     stream_cls: \u001b[38;5;28mtype\u001b[39m[_StreamT] \u001b[38;5;241m|\u001b[39m \u001b[38;5;28;01mNone\u001b[39;00m \u001b[38;5;241m=\u001b[39m \u001b[38;5;28;01mNone\u001b[39;00m,\n\u001b[1;32m    888\u001b[0m ) \u001b[38;5;241m-\u001b[39m\u001b[38;5;241m>\u001b[39m ResponseT \u001b[38;5;241m|\u001b[39m _StreamT:\n\u001b[0;32m--> 889\u001b[0m     \u001b[38;5;28;01mreturn\u001b[39;00m \u001b[38;5;28;43mself\u001b[39;49m\u001b[38;5;241;43m.\u001b[39;49m\u001b[43m_request\u001b[49m\u001b[43m(\u001b[49m\n\u001b[1;32m    890\u001b[0m \u001b[43m        \u001b[49m\u001b[43mcast_to\u001b[49m\u001b[38;5;241;43m=\u001b[39;49m\u001b[43mcast_to\u001b[49m\u001b[43m,\u001b[49m\n\u001b[1;32m    891\u001b[0m \u001b[43m        \u001b[49m\u001b[43moptions\u001b[49m\u001b[38;5;241;43m=\u001b[39;49m\u001b[43moptions\u001b[49m\u001b[43m,\u001b[49m\n\u001b[1;32m    892\u001b[0m \u001b[43m        \u001b[49m\u001b[43mstream\u001b[49m\u001b[38;5;241;43m=\u001b[39;49m\u001b[43mstream\u001b[49m\u001b[43m,\u001b[49m\n\u001b[1;32m    893\u001b[0m \u001b[43m        \u001b[49m\u001b[43mstream_cls\u001b[49m\u001b[38;5;241;43m=\u001b[39;49m\u001b[43mstream_cls\u001b[49m\u001b[43m,\u001b[49m\n\u001b[1;32m    894\u001b[0m \u001b[43m        \u001b[49m\u001b[43mremaining_retries\u001b[49m\u001b[38;5;241;43m=\u001b[39;49m\u001b[43mremaining_retries\u001b[49m\u001b[43m,\u001b[49m\n\u001b[1;32m    895\u001b[0m \u001b[43m    \u001b[49m\u001b[43m)\u001b[49m\n",
      "File \u001b[0;32m~/Desktop/Challenges/Week_11/Contract_Advisor_RAG/venv2/lib/python3.10/site-packages/openai/_base_client.py:942\u001b[0m, in \u001b[0;36mSyncAPIClient._request\u001b[0;34m(self, cast_to, options, remaining_retries, stream, stream_cls)\u001b[0m\n\u001b[1;32m    939\u001b[0m log\u001b[38;5;241m.\u001b[39mdebug(\u001b[38;5;124m\"\u001b[39m\u001b[38;5;124mEncountered Exception\u001b[39m\u001b[38;5;124m\"\u001b[39m, exc_info\u001b[38;5;241m=\u001b[39m\u001b[38;5;28;01mTrue\u001b[39;00m)\n\u001b[1;32m    941\u001b[0m \u001b[38;5;28;01mif\u001b[39;00m retries \u001b[38;5;241m>\u001b[39m \u001b[38;5;241m0\u001b[39m:\n\u001b[0;32m--> 942\u001b[0m     \u001b[38;5;28;01mreturn\u001b[39;00m \u001b[38;5;28;43mself\u001b[39;49m\u001b[38;5;241;43m.\u001b[39;49m\u001b[43m_retry_request\u001b[49m\u001b[43m(\u001b[49m\n\u001b[1;32m    943\u001b[0m \u001b[43m        \u001b[49m\u001b[43moptions\u001b[49m\u001b[43m,\u001b[49m\n\u001b[1;32m    944\u001b[0m \u001b[43m        \u001b[49m\u001b[43mcast_to\u001b[49m\u001b[43m,\u001b[49m\n\u001b[1;32m    945\u001b[0m \u001b[43m        \u001b[49m\u001b[43mretries\u001b[49m\u001b[43m,\u001b[49m\n\u001b[1;32m    946\u001b[0m \u001b[43m        \u001b[49m\u001b[43mstream\u001b[49m\u001b[38;5;241;43m=\u001b[39;49m\u001b[43mstream\u001b[49m\u001b[43m,\u001b[49m\n\u001b[1;32m    947\u001b[0m \u001b[43m        \u001b[49m\u001b[43mstream_cls\u001b[49m\u001b[38;5;241;43m=\u001b[39;49m\u001b[43mstream_cls\u001b[49m\u001b[43m,\u001b[49m\n\u001b[1;32m    948\u001b[0m \u001b[43m        \u001b[49m\u001b[43mresponse_headers\u001b[49m\u001b[38;5;241;43m=\u001b[39;49m\u001b[38;5;28;43;01mNone\u001b[39;49;00m\u001b[43m,\u001b[49m\n\u001b[1;32m    949\u001b[0m \u001b[43m    \u001b[49m\u001b[43m)\u001b[49m\n\u001b[1;32m    951\u001b[0m log\u001b[38;5;241m.\u001b[39mdebug(\u001b[38;5;124m\"\u001b[39m\u001b[38;5;124mRaising connection error\u001b[39m\u001b[38;5;124m\"\u001b[39m)\n\u001b[1;32m    952\u001b[0m \u001b[38;5;28;01mraise\u001b[39;00m APIConnectionError(request\u001b[38;5;241m=\u001b[39mrequest) \u001b[38;5;28;01mfrom\u001b[39;00m \u001b[38;5;21;01merr\u001b[39;00m\n",
      "File \u001b[0;32m~/Desktop/Challenges/Week_11/Contract_Advisor_RAG/venv2/lib/python3.10/site-packages/openai/_base_client.py:1013\u001b[0m, in \u001b[0;36mSyncAPIClient._retry_request\u001b[0;34m(self, options, cast_to, remaining_retries, response_headers, stream, stream_cls)\u001b[0m\n\u001b[1;32m   1009\u001b[0m \u001b[38;5;66;03m# In a synchronous context we are blocking the entire thread. Up to the library user to run the client in a\u001b[39;00m\n\u001b[1;32m   1010\u001b[0m \u001b[38;5;66;03m# different thread if necessary.\u001b[39;00m\n\u001b[1;32m   1011\u001b[0m time\u001b[38;5;241m.\u001b[39msleep(timeout)\n\u001b[0;32m-> 1013\u001b[0m \u001b[38;5;28;01mreturn\u001b[39;00m \u001b[38;5;28;43mself\u001b[39;49m\u001b[38;5;241;43m.\u001b[39;49m\u001b[43m_request\u001b[49m\u001b[43m(\u001b[49m\n\u001b[1;32m   1014\u001b[0m \u001b[43m    \u001b[49m\u001b[43moptions\u001b[49m\u001b[38;5;241;43m=\u001b[39;49m\u001b[43moptions\u001b[49m\u001b[43m,\u001b[49m\n\u001b[1;32m   1015\u001b[0m \u001b[43m    \u001b[49m\u001b[43mcast_to\u001b[49m\u001b[38;5;241;43m=\u001b[39;49m\u001b[43mcast_to\u001b[49m\u001b[43m,\u001b[49m\n\u001b[1;32m   1016\u001b[0m \u001b[43m    \u001b[49m\u001b[43mremaining_retries\u001b[49m\u001b[38;5;241;43m=\u001b[39;49m\u001b[43mremaining\u001b[49m\u001b[43m,\u001b[49m\n\u001b[1;32m   1017\u001b[0m \u001b[43m    \u001b[49m\u001b[43mstream\u001b[49m\u001b[38;5;241;43m=\u001b[39;49m\u001b[43mstream\u001b[49m\u001b[43m,\u001b[49m\n\u001b[1;32m   1018\u001b[0m \u001b[43m    \u001b[49m\u001b[43mstream_cls\u001b[49m\u001b[38;5;241;43m=\u001b[39;49m\u001b[43mstream_cls\u001b[49m\u001b[43m,\u001b[49m\n\u001b[1;32m   1019\u001b[0m \u001b[43m\u001b[49m\u001b[43m)\u001b[49m\n",
      "File \u001b[0;32m~/Desktop/Challenges/Week_11/Contract_Advisor_RAG/venv2/lib/python3.10/site-packages/openai/_base_client.py:942\u001b[0m, in \u001b[0;36mSyncAPIClient._request\u001b[0;34m(self, cast_to, options, remaining_retries, stream, stream_cls)\u001b[0m\n\u001b[1;32m    939\u001b[0m log\u001b[38;5;241m.\u001b[39mdebug(\u001b[38;5;124m\"\u001b[39m\u001b[38;5;124mEncountered Exception\u001b[39m\u001b[38;5;124m\"\u001b[39m, exc_info\u001b[38;5;241m=\u001b[39m\u001b[38;5;28;01mTrue\u001b[39;00m)\n\u001b[1;32m    941\u001b[0m \u001b[38;5;28;01mif\u001b[39;00m retries \u001b[38;5;241m>\u001b[39m \u001b[38;5;241m0\u001b[39m:\n\u001b[0;32m--> 942\u001b[0m     \u001b[38;5;28;01mreturn\u001b[39;00m \u001b[38;5;28;43mself\u001b[39;49m\u001b[38;5;241;43m.\u001b[39;49m\u001b[43m_retry_request\u001b[49m\u001b[43m(\u001b[49m\n\u001b[1;32m    943\u001b[0m \u001b[43m        \u001b[49m\u001b[43moptions\u001b[49m\u001b[43m,\u001b[49m\n\u001b[1;32m    944\u001b[0m \u001b[43m        \u001b[49m\u001b[43mcast_to\u001b[49m\u001b[43m,\u001b[49m\n\u001b[1;32m    945\u001b[0m \u001b[43m        \u001b[49m\u001b[43mretries\u001b[49m\u001b[43m,\u001b[49m\n\u001b[1;32m    946\u001b[0m \u001b[43m        \u001b[49m\u001b[43mstream\u001b[49m\u001b[38;5;241;43m=\u001b[39;49m\u001b[43mstream\u001b[49m\u001b[43m,\u001b[49m\n\u001b[1;32m    947\u001b[0m \u001b[43m        \u001b[49m\u001b[43mstream_cls\u001b[49m\u001b[38;5;241;43m=\u001b[39;49m\u001b[43mstream_cls\u001b[49m\u001b[43m,\u001b[49m\n\u001b[1;32m    948\u001b[0m \u001b[43m        \u001b[49m\u001b[43mresponse_headers\u001b[49m\u001b[38;5;241;43m=\u001b[39;49m\u001b[38;5;28;43;01mNone\u001b[39;49;00m\u001b[43m,\u001b[49m\n\u001b[1;32m    949\u001b[0m \u001b[43m    \u001b[49m\u001b[43m)\u001b[49m\n\u001b[1;32m    951\u001b[0m log\u001b[38;5;241m.\u001b[39mdebug(\u001b[38;5;124m\"\u001b[39m\u001b[38;5;124mRaising connection error\u001b[39m\u001b[38;5;124m\"\u001b[39m)\n\u001b[1;32m    952\u001b[0m \u001b[38;5;28;01mraise\u001b[39;00m APIConnectionError(request\u001b[38;5;241m=\u001b[39mrequest) \u001b[38;5;28;01mfrom\u001b[39;00m \u001b[38;5;21;01merr\u001b[39;00m\n",
      "File \u001b[0;32m~/Desktop/Challenges/Week_11/Contract_Advisor_RAG/venv2/lib/python3.10/site-packages/openai/_base_client.py:1013\u001b[0m, in \u001b[0;36mSyncAPIClient._retry_request\u001b[0;34m(self, options, cast_to, remaining_retries, response_headers, stream, stream_cls)\u001b[0m\n\u001b[1;32m   1009\u001b[0m \u001b[38;5;66;03m# In a synchronous context we are blocking the entire thread. Up to the library user to run the client in a\u001b[39;00m\n\u001b[1;32m   1010\u001b[0m \u001b[38;5;66;03m# different thread if necessary.\u001b[39;00m\n\u001b[1;32m   1011\u001b[0m time\u001b[38;5;241m.\u001b[39msleep(timeout)\n\u001b[0;32m-> 1013\u001b[0m \u001b[38;5;28;01mreturn\u001b[39;00m \u001b[38;5;28;43mself\u001b[39;49m\u001b[38;5;241;43m.\u001b[39;49m\u001b[43m_request\u001b[49m\u001b[43m(\u001b[49m\n\u001b[1;32m   1014\u001b[0m \u001b[43m    \u001b[49m\u001b[43moptions\u001b[49m\u001b[38;5;241;43m=\u001b[39;49m\u001b[43moptions\u001b[49m\u001b[43m,\u001b[49m\n\u001b[1;32m   1015\u001b[0m \u001b[43m    \u001b[49m\u001b[43mcast_to\u001b[49m\u001b[38;5;241;43m=\u001b[39;49m\u001b[43mcast_to\u001b[49m\u001b[43m,\u001b[49m\n\u001b[1;32m   1016\u001b[0m \u001b[43m    \u001b[49m\u001b[43mremaining_retries\u001b[49m\u001b[38;5;241;43m=\u001b[39;49m\u001b[43mremaining\u001b[49m\u001b[43m,\u001b[49m\n\u001b[1;32m   1017\u001b[0m \u001b[43m    \u001b[49m\u001b[43mstream\u001b[49m\u001b[38;5;241;43m=\u001b[39;49m\u001b[43mstream\u001b[49m\u001b[43m,\u001b[49m\n\u001b[1;32m   1018\u001b[0m \u001b[43m    \u001b[49m\u001b[43mstream_cls\u001b[49m\u001b[38;5;241;43m=\u001b[39;49m\u001b[43mstream_cls\u001b[49m\u001b[43m,\u001b[49m\n\u001b[1;32m   1019\u001b[0m \u001b[43m\u001b[49m\u001b[43m)\u001b[49m\n",
      "File \u001b[0;32m~/Desktop/Challenges/Week_11/Contract_Advisor_RAG/venv2/lib/python3.10/site-packages/openai/_base_client.py:937\u001b[0m, in \u001b[0;36mSyncAPIClient._request\u001b[0;34m(self, cast_to, options, remaining_retries, stream, stream_cls)\u001b[0m\n\u001b[1;32m    927\u001b[0m         \u001b[38;5;28;01mreturn\u001b[39;00m \u001b[38;5;28mself\u001b[39m\u001b[38;5;241m.\u001b[39m_retry_request(\n\u001b[1;32m    928\u001b[0m             options,\n\u001b[1;32m    929\u001b[0m             cast_to,\n\u001b[0;32m   (...)\u001b[0m\n\u001b[1;32m    933\u001b[0m             response_headers\u001b[38;5;241m=\u001b[39m\u001b[38;5;28;01mNone\u001b[39;00m,\n\u001b[1;32m    934\u001b[0m         )\n\u001b[1;32m    936\u001b[0m     log\u001b[38;5;241m.\u001b[39mdebug(\u001b[38;5;124m\"\u001b[39m\u001b[38;5;124mRaising timeout error\u001b[39m\u001b[38;5;124m\"\u001b[39m)\n\u001b[0;32m--> 937\u001b[0m     \u001b[38;5;28;01mraise\u001b[39;00m APITimeoutError(request\u001b[38;5;241m=\u001b[39mrequest) \u001b[38;5;28;01mfrom\u001b[39;00m \u001b[38;5;21;01merr\u001b[39;00m\n\u001b[1;32m    938\u001b[0m \u001b[38;5;28;01mexcept\u001b[39;00m \u001b[38;5;167;01mException\u001b[39;00m \u001b[38;5;28;01mas\u001b[39;00m err:\n\u001b[1;32m    939\u001b[0m     log\u001b[38;5;241m.\u001b[39mdebug(\u001b[38;5;124m\"\u001b[39m\u001b[38;5;124mEncountered Exception\u001b[39m\u001b[38;5;124m\"\u001b[39m, exc_info\u001b[38;5;241m=\u001b[39m\u001b[38;5;28;01mTrue\u001b[39;00m)\n",
      "\u001b[0;31mAPITimeoutError\u001b[0m: Request timed out."
     ]
    }
   ],
   "source": [
    "#query = \"Is escrow amount greater than the Retention Amount ?\"\n",
    "output = rag(query=query, retrieved_documents=retrieved_documents)\n",
    "\n",
    "print(word_wrap(output))"
   ]
  },
  {
   "cell_type": "code",
   "execution_count": 34,
   "metadata": {},
   "outputs": [
    {
     "name": "stderr",
     "output_type": "stream",
     "text": [
      "/home/eyaya/Desktop/Challenges/Week_11/Contract_Advisor_RAG/venv2/lib/python3.10/site-packages/umap/umap_.py:1943: UserWarning: n_jobs value -1 overridden to 1 by setting random_state. Use no seed for parallelism.\n",
      "  warn(f\"n_jobs value {self.n_jobs} overridden to 1 by setting random_state. Use no seed for parallelism.\")\n"
     ]
    }
   ],
   "source": [
    "embeddings = chroma_collection.get(include=['embeddings'])['embeddings']\n",
    "umap_transform = umap.UMAP(random_state=0, transform_seed=0).fit(embeddings)"
   ]
  },
  {
   "cell_type": "code",
   "execution_count": 35,
   "metadata": {},
   "outputs": [],
   "source": [
    "def project_embeddings(embeddings, umap_transform):\n",
    "    umap_embeddings = np.empty((len(embeddings),2))\n",
    "    for i, embedding in enumerate(tqdm(embeddings)): \n",
    "        umap_embeddings[i] = umap_transform.transform([embedding])\n",
    "    return umap_embeddings"
   ]
  },
  {
   "cell_type": "code",
   "execution_count": 36,
   "metadata": {},
   "outputs": [
    {
     "name": "stderr",
     "output_type": "stream",
     "text": [
      "100%|██████████| 410/410 [04:04<00:00,  1.68it/s]\n"
     ]
    }
   ],
   "source": [
    "projected_dataset_embeddings = project_embeddings(embeddings, umap_transform)"
   ]
  },
  {
   "cell_type": "code",
   "execution_count": 24,
   "metadata": {},
   "outputs": [
    {
     "data": {
      "application/vnd.plotly.v1+json": {
       "config": {
        "plotlyServerURL": "https://plot.ly"
       },
       "data": [
        {
         "hovertemplate": "x=%{x}<br>index=%{y}<extra></extra>",
         "legendgroup": "",
         "marker": {
          "color": "#636efa",
          "symbol": "circle"
         },
         "mode": "markers",
         "name": "",
         "orientation": "h",
         "showlegend": false,
         "type": "scatter",
         "x": [
          8.184656143188477,
          8.978490829467773,
          8.250407218933105,
          8.56478500366211,
          9.29150104522705,
          9.332439422607422,
          10.281180381774902,
          11.782219886779785,
          7.878209590911865,
          9.314850807189941,
          9.455687522888184,
          8.021241188049316,
          6.624915599822998,
          7.707254409790039,
          6.773156642913818,
          6.9845147132873535,
          8.501982688903809,
          6.968990325927734,
          6.373279571533203,
          6.305577754974365,
          6.362670421600342,
          6.36346435546875,
          10.922501564025879,
          8.890042304992676,
          7.632723331451416,
          6.7693657875061035,
          9.895879745483398,
          8.05241584777832,
          7.451211452484131,
          7.726884365081787,
          7.382441997528076,
          7.197303295135498,
          7.140549182891846,
          7.233199596405029,
          7.475679397583008,
          7.6142473220825195,
          7.461670875549316,
          6.923007011413574,
          7.4596991539001465,
          6.7130584716796875,
          7.06680154800415,
          7.365795612335205,
          6.786001682281494,
          7.240807056427002,
          7.266504287719727,
          7.149585247039795,
          7.383120059967041,
          7.0932512283325195,
          7.546180725097656,
          7.370344161987305,
          6.657155513763428,
          6.333530426025391,
          6.396755218505859,
          6.316130638122559,
          6.358473300933838,
          6.34854793548584,
          6.350177764892578,
          7.600335121154785,
          6.355811595916748,
          11.100919723510742,
          11.072447776794434,
          11.875580787658691,
          11.126266479492188,
          11.613619804382324,
          11.298977851867676,
          11.432785034179688,
          11.246280670166016,
          11.221833229064941,
          9.43214225769043,
          11.708441734313965,
          10.99374771118164,
          12.103554725646973,
          11.958596229553223,
          6.866775989532471,
          10.158670425415039,
          6.986836910247803,
          11.936923027038574,
          11.78996467590332,
          10.796807289123535,
          10.810262680053711,
          10.052314758300781,
          10.025203704833984,
          7.909807205200195,
          11.022058486938477,
          11.27373218536377,
          10.629820823669434,
          10.01799488067627,
          9.612349510192871,
          11.175204277038574,
          10.760944366455078,
          11.336260795593262,
          8.513318061828613,
          10.239017486572266,
          10.714428901672363,
          7.616694927215576,
          8.132489204406738,
          7.474093437194824,
          7.212350368499756,
          8.479385375976562,
          7.692088603973389,
          7.503136157989502,
          8.371602058410645,
          8.227896690368652,
          8.158398628234863,
          7.608520030975342,
          10.046891212463379,
          10.210741996765137,
          10.930381774902344,
          10.590158462524414,
          10.02811336517334,
          10.233771324157715,
          10.146180152893066,
          7.666155815124512,
          11.856354713439941,
          10.656550407409668,
          10.3617525100708,
          10.142542839050293,
          11.501338958740234,
          9.977849006652832,
          9.893686294555664,
          11.356878280639648,
          11.361823081970215,
          11.033065795898438,
          11.02805233001709,
          11.696602821350098,
          10.777755737304688,
          10.728166580200195,
          10.721922874450684,
          11.698637962341309,
          10.60062026977539,
          11.350615501403809,
          11.539820671081543,
          9.545634269714355,
          11.019960403442383,
          10.648605346679688,
          11.755084991455078,
          11.513200759887695,
          10.610296249389648,
          11.691329956054688,
          11.636528015136719,
          12.482797622680664,
          12.69568920135498,
          12.63668155670166,
          12.648633003234863,
          12.475299835205078,
          11.840163230895996,
          10.127553939819336,
          12.771963119506836,
          12.878703117370605,
          12.908379554748535,
          12.842162132263184,
          12.836946487426758,
          11.724884033203125,
          12.534215927124023,
          11.73195743560791,
          12.518838882446289,
          12.525192260742188,
          10.935054779052734,
          12.817359924316406,
          12.678267478942871,
          12.748769760131836,
          12.506488800048828,
          12.429774284362793,
          11.614198684692383,
          12.377363204956055,
          12.322110176086426,
          13.156159400939941,
          12.905065536499023,
          11.036482810974121,
          13.103263854980469,
          13.023231506347656,
          12.594834327697754,
          12.403356552124023,
          11.82728385925293,
          11.808965682983398,
          12.166793823242188,
          11.534255027770996,
          12.24606704711914,
          12.838826179504395,
          9.896004676818848,
          12.386617660522461,
          12.316290855407715,
          11.99450397491455,
          11.765539169311523,
          11.65732192993164,
          11.721189498901367,
          11.647648811340332,
          9.733736991882324,
          11.882798194885254,
          10.615153312683105,
          6.789270401000977,
          10.260560989379883,
          10.716805458068848,
          10.634592056274414,
          10.110956192016602,
          9.631856918334961,
          9.972616195678711,
          9.867437362670898,
          10.182504653930664,
          9.942695617675781,
          9.2808198928833,
          7.570229530334473,
          8.43810749053955,
          8.140623092651367,
          10.0272798538208,
          12.208919525146484,
          8.74233341217041,
          9.129323959350586,
          9.292003631591797,
          12.666112899780273,
          12.387174606323242,
          12.246659278869629,
          6.882801532745361,
          12.258764266967773,
          12.16710090637207,
          9.964835166931152,
          9.630364418029785,
          9.80706787109375,
          10.238410949707031,
          9.764181137084961,
          8.884936332702637,
          9.075910568237305,
          9.017995834350586,
          10.19551944732666,
          11.738665580749512,
          9.127573013305664,
          9.096186637878418,
          9.11087417602539,
          10.642704010009766,
          9.695533752441406,
          9.152026176452637,
          10.748250961303711,
          9.160531044006348,
          9.581992149353027,
          9.675809860229492,
          10.323681831359863,
          10.77159595489502,
          8.92839527130127,
          9.182663917541504,
          11.031990051269531,
          10.97700023651123,
          11.562053680419922,
          11.41839599609375,
          12.454020500183105,
          11.223487854003906,
          11.370000839233398,
          10.419881820678711,
          11.413851737976074,
          11.35248851776123,
          11.512344360351562,
          8.915185928344727,
          11.522915840148926,
          12.174890518188477,
          7.647874355316162,
          12.069327354431152,
          10.859160423278809,
          10.648458480834961,
          11.37226390838623,
          10.079146385192871,
          10.572650909423828,
          10.836313247680664,
          9.98047924041748,
          10.791277885437012,
          9.806829452514648,
          11.366764068603516,
          10.379146575927734,
          11.041865348815918,
          11.499429702758789,
          7.807276248931885,
          9.61616039276123,
          10.654541015625,
          10.580865859985352,
          11.110053062438965,
          11.374958038330078,
          10.071148872375488,
          10.029054641723633,
          10.547533988952637,
          11.044395446777344,
          11.123950004577637,
          8.147323608398438,
          11.111640930175781,
          12.192825317382812,
          11.440481185913086,
          11.302267074584961,
          12.201437950134277,
          11.370821952819824,
          11.801209449768066,
          11.144682884216309,
          11.82201099395752,
          11.07294750213623,
          9.106169700622559,
          11.004270553588867,
          11.604439735412598,
          11.217105865478516,
          11.365026473999023,
          11.11897087097168,
          10.766865730285645,
          10.590855598449707,
          11.679458618164062,
          10.36874771118164,
          9.953566551208496,
          9.158581733703613,
          8.465876579284668,
          9.496186256408691,
          7.889969348907471,
          7.840623378753662,
          8.369161605834961,
          8.42862319946289,
          8.482525825500488,
          8.659847259521484,
          8.303112983703613,
          9.745552062988281,
          9.892683029174805,
          8.794479370117188,
          10.170618057250977,
          7.940659046173096,
          8.010672569274902,
          7.772894382476807,
          8.351238250732422,
          8.233344078063965,
          8.83324909210205,
          7.628081798553467,
          8.756149291992188,
          10.684041976928711,
          8.841547966003418,
          8.711231231689453,
          10.841408729553223,
          9.18901538848877,
          8.347491264343262,
          9.5919828414917,
          8.977886199951172,
          8.845924377441406,
          9.330907821655273,
          10.613252639770508,
          11.90592098236084,
          10.793231010437012,
          8.838375091552734,
          9.56295108795166,
          9.020068168640137,
          7.775883197784424,
          8.933855056762695,
          8.811347007751465,
          8.82729721069336,
          8.565692901611328,
          8.941634178161621,
          8.682137489318848,
          10.728116035461426,
          8.363425254821777,
          8.595210075378418,
          10.010774612426758,
          9.86594009399414,
          9.736748695373535,
          10.295207977294922,
          8.359130859375,
          8.420940399169922,
          9.4982328414917,
          9.48241901397705,
          11.516777992248535,
          9.339280128479004,
          7.389444828033447,
          7.217218399047852,
          7.2114481925964355,
          12.155284881591797,
          9.803494453430176,
          9.923237800598145,
          10.225695610046387,
          8.692741394042969,
          8.53078556060791,
          10.007467269897461,
          8.66635513305664,
          8.583005905151367,
          8.47199821472168,
          7.473081111907959,
          11.143900871276855,
          8.17009162902832,
          9.652678489685059,
          8.696460723876953,
          7.639585018157959,
          7.414150238037109,
          6.2816925048828125,
          7.586545467376709,
          8.921772956848145,
          7.413600444793701,
          8.218304634094238,
          9.35406494140625,
          7.773983001708984,
          9.24955940246582,
          7.144387245178223,
          8.974624633789062,
          7.292582035064697,
          7.68372106552124,
          6.675821781158447,
          6.434340476989746,
          7.10978889465332,
          6.973205089569092,
          7.140171527862549,
          7.078621864318848,
          8.196738243103027,
          7.088832378387451,
          7.132171630859375,
          7.188811302185059,
          8.167572021484375,
          7.221477031707764,
          7.663235664367676,
          8.394658088684082,
          8.558969497680664,
          8.546846389770508,
          8.726845741271973,
          8.874188423156738,
          8.90457820892334,
          9.094569206237793,
          8.98953914642334,
          11.27677059173584,
          8.907018661499023,
          8.660774230957031,
          8.603195190429688,
          8.561216354370117,
          12.163656234741211,
          8.465843200683594,
          8.464309692382812,
          8.466217994689941,
          9.616532325744629,
          9.661705017089844,
          11.069459915161133,
          9.614568710327148,
          9.712654113769531,
          8.148311614990234,
          10.03188419342041,
          9.998082160949707,
          10.050965309143066,
          9.948688507080078,
          10.041879653930664,
          9.708951950073242,
          7.678150177001953,
          11.656111717224121,
          7.800739288330078,
          9.026681900024414,
          10.530152320861816,
          11.66267204284668,
          12.394608497619629,
          12.737153053283691,
          12.325278282165527,
          11.454011917114258,
          10.976308822631836,
          11.231764793395996,
          11.230660438537598,
          7.826120853424072,
          10.172993659973145,
          11.226930618286133,
          9.402491569519043,
          13.20970344543457,
          13.1367769241333,
          12.647894859313965,
          8.532984733581543,
          11.764001846313477,
          7.532418251037598,
          7.9475507736206055,
          9.284802436828613,
          12.390329360961914,
          10.749164581298828,
          12.433747291564941,
          12.084779739379883,
          12.144021034240723,
          12.189335823059082,
          8.650774955749512,
          12.213061332702637,
          9.328919410705566,
          12.156780242919922,
          7.5995988845825195,
          6.631817817687988,
          8.728927612304688,
          8.807446479797363,
          8.9024658203125,
          9.376441955566406,
          6.313333511352539,
          9.125433921813965,
          10.130255699157715,
          10.068166732788086,
          11.209660530090332,
          7.485092639923096,
          11.198301315307617,
          10.486245155334473,
          10.181798934936523,
          12.53708267211914,
          7.145098686218262,
          7.020106315612793,
          7.50233268737793,
          7.353823661804199,
          12.570083618164062,
          7.402230739593506
         ],
         "xaxis": "x",
         "y": [
          0,
          1,
          2,
          3,
          4,
          5,
          6,
          7,
          8,
          9,
          10,
          11,
          12,
          13,
          14,
          15,
          16,
          17,
          18,
          19,
          20,
          21,
          22,
          23,
          24,
          25,
          26,
          27,
          28,
          29,
          30,
          31,
          32,
          33,
          34,
          35,
          36,
          37,
          38,
          39,
          40,
          41,
          42,
          43,
          44,
          45,
          46,
          47,
          48,
          49,
          50,
          51,
          52,
          53,
          54,
          55,
          56,
          57,
          58,
          59,
          60,
          61,
          62,
          63,
          64,
          65,
          66,
          67,
          68,
          69,
          70,
          71,
          72,
          73,
          74,
          75,
          76,
          77,
          78,
          79,
          80,
          81,
          82,
          83,
          84,
          85,
          86,
          87,
          88,
          89,
          90,
          91,
          92,
          93,
          94,
          95,
          96,
          97,
          98,
          99,
          100,
          101,
          102,
          103,
          104,
          105,
          106,
          107,
          108,
          109,
          110,
          111,
          112,
          113,
          114,
          115,
          116,
          117,
          118,
          119,
          120,
          121,
          122,
          123,
          124,
          125,
          126,
          127,
          128,
          129,
          130,
          131,
          132,
          133,
          134,
          135,
          136,
          137,
          138,
          139,
          140,
          141,
          142,
          143,
          144,
          145,
          146,
          147,
          148,
          149,
          150,
          151,
          152,
          153,
          154,
          155,
          156,
          157,
          158,
          159,
          160,
          161,
          162,
          163,
          164,
          165,
          166,
          167,
          168,
          169,
          170,
          171,
          172,
          173,
          174,
          175,
          176,
          177,
          178,
          179,
          180,
          181,
          182,
          183,
          184,
          185,
          186,
          187,
          188,
          189,
          190,
          191,
          192,
          193,
          194,
          195,
          196,
          197,
          198,
          199,
          200,
          201,
          202,
          203,
          204,
          205,
          206,
          207,
          208,
          209,
          210,
          211,
          212,
          213,
          214,
          215,
          216,
          217,
          218,
          219,
          220,
          221,
          222,
          223,
          224,
          225,
          226,
          227,
          228,
          229,
          230,
          231,
          232,
          233,
          234,
          235,
          236,
          237,
          238,
          239,
          240,
          241,
          242,
          243,
          244,
          245,
          246,
          247,
          248,
          249,
          250,
          251,
          252,
          253,
          254,
          255,
          256,
          257,
          258,
          259,
          260,
          261,
          262,
          263,
          264,
          265,
          266,
          267,
          268,
          269,
          270,
          271,
          272,
          273,
          274,
          275,
          276,
          277,
          278,
          279,
          280,
          281,
          282,
          283,
          284,
          285,
          286,
          287,
          288,
          289,
          290,
          291,
          292,
          293,
          294,
          295,
          296,
          297,
          298,
          299,
          300,
          301,
          302,
          303,
          304,
          305,
          306,
          307,
          308,
          309,
          310,
          311,
          312,
          313,
          314,
          315,
          316,
          317,
          318,
          319,
          320,
          321,
          322,
          323,
          324,
          325,
          326,
          327,
          328,
          329,
          330,
          331,
          332,
          333,
          334,
          335,
          336,
          337,
          338,
          339,
          340,
          341,
          342,
          343,
          344,
          345,
          346,
          347,
          348,
          349,
          350,
          351,
          352,
          353,
          354,
          355,
          356,
          357,
          358,
          359,
          360,
          361,
          362,
          363,
          364,
          365,
          366,
          367,
          368,
          369,
          370,
          371,
          372,
          373,
          374,
          375,
          376,
          377,
          378,
          379,
          380,
          381,
          382,
          383,
          384,
          385,
          386,
          387,
          388,
          389,
          390,
          391,
          392,
          393,
          394,
          395,
          396,
          397,
          398,
          399,
          400,
          401,
          402,
          403,
          404,
          405,
          406,
          407,
          408,
          409,
          410,
          411,
          412,
          413,
          414,
          415,
          416,
          417,
          418,
          419,
          420,
          421,
          422,
          423,
          424,
          425,
          426,
          427,
          428,
          429,
          430,
          431,
          432,
          433,
          434,
          435,
          436,
          437,
          438,
          439,
          440,
          441,
          442,
          443,
          444,
          445,
          446,
          447,
          448,
          449,
          450,
          451,
          452,
          453,
          454,
          455,
          456,
          457,
          458,
          459,
          460,
          461,
          462,
          463,
          464,
          465,
          466,
          467,
          468,
          469,
          470,
          471,
          472,
          473,
          474,
          475,
          476,
          477,
          478,
          479,
          480,
          481,
          482,
          483,
          484,
          485,
          486,
          487,
          488,
          489
         ],
         "yaxis": "y"
        }
       ],
       "layout": {
        "legend": {
         "tracegroupgap": 0
        },
        "margin": {
         "t": 60
        },
        "template": {
         "data": {
          "bar": [
           {
            "error_x": {
             "color": "#2a3f5f"
            },
            "error_y": {
             "color": "#2a3f5f"
            },
            "marker": {
             "line": {
              "color": "#E5ECF6",
              "width": 0.5
             },
             "pattern": {
              "fillmode": "overlay",
              "size": 10,
              "solidity": 0.2
             }
            },
            "type": "bar"
           }
          ],
          "barpolar": [
           {
            "marker": {
             "line": {
              "color": "#E5ECF6",
              "width": 0.5
             },
             "pattern": {
              "fillmode": "overlay",
              "size": 10,
              "solidity": 0.2
             }
            },
            "type": "barpolar"
           }
          ],
          "carpet": [
           {
            "aaxis": {
             "endlinecolor": "#2a3f5f",
             "gridcolor": "white",
             "linecolor": "white",
             "minorgridcolor": "white",
             "startlinecolor": "#2a3f5f"
            },
            "baxis": {
             "endlinecolor": "#2a3f5f",
             "gridcolor": "white",
             "linecolor": "white",
             "minorgridcolor": "white",
             "startlinecolor": "#2a3f5f"
            },
            "type": "carpet"
           }
          ],
          "choropleth": [
           {
            "colorbar": {
             "outlinewidth": 0,
             "ticks": ""
            },
            "type": "choropleth"
           }
          ],
          "contour": [
           {
            "colorbar": {
             "outlinewidth": 0,
             "ticks": ""
            },
            "colorscale": [
             [
              0,
              "#0d0887"
             ],
             [
              0.1111111111111111,
              "#46039f"
             ],
             [
              0.2222222222222222,
              "#7201a8"
             ],
             [
              0.3333333333333333,
              "#9c179e"
             ],
             [
              0.4444444444444444,
              "#bd3786"
             ],
             [
              0.5555555555555556,
              "#d8576b"
             ],
             [
              0.6666666666666666,
              "#ed7953"
             ],
             [
              0.7777777777777778,
              "#fb9f3a"
             ],
             [
              0.8888888888888888,
              "#fdca26"
             ],
             [
              1,
              "#f0f921"
             ]
            ],
            "type": "contour"
           }
          ],
          "contourcarpet": [
           {
            "colorbar": {
             "outlinewidth": 0,
             "ticks": ""
            },
            "type": "contourcarpet"
           }
          ],
          "heatmap": [
           {
            "colorbar": {
             "outlinewidth": 0,
             "ticks": ""
            },
            "colorscale": [
             [
              0,
              "#0d0887"
             ],
             [
              0.1111111111111111,
              "#46039f"
             ],
             [
              0.2222222222222222,
              "#7201a8"
             ],
             [
              0.3333333333333333,
              "#9c179e"
             ],
             [
              0.4444444444444444,
              "#bd3786"
             ],
             [
              0.5555555555555556,
              "#d8576b"
             ],
             [
              0.6666666666666666,
              "#ed7953"
             ],
             [
              0.7777777777777778,
              "#fb9f3a"
             ],
             [
              0.8888888888888888,
              "#fdca26"
             ],
             [
              1,
              "#f0f921"
             ]
            ],
            "type": "heatmap"
           }
          ],
          "heatmapgl": [
           {
            "colorbar": {
             "outlinewidth": 0,
             "ticks": ""
            },
            "colorscale": [
             [
              0,
              "#0d0887"
             ],
             [
              0.1111111111111111,
              "#46039f"
             ],
             [
              0.2222222222222222,
              "#7201a8"
             ],
             [
              0.3333333333333333,
              "#9c179e"
             ],
             [
              0.4444444444444444,
              "#bd3786"
             ],
             [
              0.5555555555555556,
              "#d8576b"
             ],
             [
              0.6666666666666666,
              "#ed7953"
             ],
             [
              0.7777777777777778,
              "#fb9f3a"
             ],
             [
              0.8888888888888888,
              "#fdca26"
             ],
             [
              1,
              "#f0f921"
             ]
            ],
            "type": "heatmapgl"
           }
          ],
          "histogram": [
           {
            "marker": {
             "pattern": {
              "fillmode": "overlay",
              "size": 10,
              "solidity": 0.2
             }
            },
            "type": "histogram"
           }
          ],
          "histogram2d": [
           {
            "colorbar": {
             "outlinewidth": 0,
             "ticks": ""
            },
            "colorscale": [
             [
              0,
              "#0d0887"
             ],
             [
              0.1111111111111111,
              "#46039f"
             ],
             [
              0.2222222222222222,
              "#7201a8"
             ],
             [
              0.3333333333333333,
              "#9c179e"
             ],
             [
              0.4444444444444444,
              "#bd3786"
             ],
             [
              0.5555555555555556,
              "#d8576b"
             ],
             [
              0.6666666666666666,
              "#ed7953"
             ],
             [
              0.7777777777777778,
              "#fb9f3a"
             ],
             [
              0.8888888888888888,
              "#fdca26"
             ],
             [
              1,
              "#f0f921"
             ]
            ],
            "type": "histogram2d"
           }
          ],
          "histogram2dcontour": [
           {
            "colorbar": {
             "outlinewidth": 0,
             "ticks": ""
            },
            "colorscale": [
             [
              0,
              "#0d0887"
             ],
             [
              0.1111111111111111,
              "#46039f"
             ],
             [
              0.2222222222222222,
              "#7201a8"
             ],
             [
              0.3333333333333333,
              "#9c179e"
             ],
             [
              0.4444444444444444,
              "#bd3786"
             ],
             [
              0.5555555555555556,
              "#d8576b"
             ],
             [
              0.6666666666666666,
              "#ed7953"
             ],
             [
              0.7777777777777778,
              "#fb9f3a"
             ],
             [
              0.8888888888888888,
              "#fdca26"
             ],
             [
              1,
              "#f0f921"
             ]
            ],
            "type": "histogram2dcontour"
           }
          ],
          "mesh3d": [
           {
            "colorbar": {
             "outlinewidth": 0,
             "ticks": ""
            },
            "type": "mesh3d"
           }
          ],
          "parcoords": [
           {
            "line": {
             "colorbar": {
              "outlinewidth": 0,
              "ticks": ""
             }
            },
            "type": "parcoords"
           }
          ],
          "pie": [
           {
            "automargin": true,
            "type": "pie"
           }
          ],
          "scatter": [
           {
            "fillpattern": {
             "fillmode": "overlay",
             "size": 10,
             "solidity": 0.2
            },
            "type": "scatter"
           }
          ],
          "scatter3d": [
           {
            "line": {
             "colorbar": {
              "outlinewidth": 0,
              "ticks": ""
             }
            },
            "marker": {
             "colorbar": {
              "outlinewidth": 0,
              "ticks": ""
             }
            },
            "type": "scatter3d"
           }
          ],
          "scattercarpet": [
           {
            "marker": {
             "colorbar": {
              "outlinewidth": 0,
              "ticks": ""
             }
            },
            "type": "scattercarpet"
           }
          ],
          "scattergeo": [
           {
            "marker": {
             "colorbar": {
              "outlinewidth": 0,
              "ticks": ""
             }
            },
            "type": "scattergeo"
           }
          ],
          "scattergl": [
           {
            "marker": {
             "colorbar": {
              "outlinewidth": 0,
              "ticks": ""
             }
            },
            "type": "scattergl"
           }
          ],
          "scattermapbox": [
           {
            "marker": {
             "colorbar": {
              "outlinewidth": 0,
              "ticks": ""
             }
            },
            "type": "scattermapbox"
           }
          ],
          "scatterpolar": [
           {
            "marker": {
             "colorbar": {
              "outlinewidth": 0,
              "ticks": ""
             }
            },
            "type": "scatterpolar"
           }
          ],
          "scatterpolargl": [
           {
            "marker": {
             "colorbar": {
              "outlinewidth": 0,
              "ticks": ""
             }
            },
            "type": "scatterpolargl"
           }
          ],
          "scatterternary": [
           {
            "marker": {
             "colorbar": {
              "outlinewidth": 0,
              "ticks": ""
             }
            },
            "type": "scatterternary"
           }
          ],
          "surface": [
           {
            "colorbar": {
             "outlinewidth": 0,
             "ticks": ""
            },
            "colorscale": [
             [
              0,
              "#0d0887"
             ],
             [
              0.1111111111111111,
              "#46039f"
             ],
             [
              0.2222222222222222,
              "#7201a8"
             ],
             [
              0.3333333333333333,
              "#9c179e"
             ],
             [
              0.4444444444444444,
              "#bd3786"
             ],
             [
              0.5555555555555556,
              "#d8576b"
             ],
             [
              0.6666666666666666,
              "#ed7953"
             ],
             [
              0.7777777777777778,
              "#fb9f3a"
             ],
             [
              0.8888888888888888,
              "#fdca26"
             ],
             [
              1,
              "#f0f921"
             ]
            ],
            "type": "surface"
           }
          ],
          "table": [
           {
            "cells": {
             "fill": {
              "color": "#EBF0F8"
             },
             "line": {
              "color": "white"
             }
            },
            "header": {
             "fill": {
              "color": "#C8D4E3"
             },
             "line": {
              "color": "white"
             }
            },
            "type": "table"
           }
          ]
         },
         "layout": {
          "annotationdefaults": {
           "arrowcolor": "#2a3f5f",
           "arrowhead": 0,
           "arrowwidth": 1
          },
          "autotypenumbers": "strict",
          "coloraxis": {
           "colorbar": {
            "outlinewidth": 0,
            "ticks": ""
           }
          },
          "colorscale": {
           "diverging": [
            [
             0,
             "#8e0152"
            ],
            [
             0.1,
             "#c51b7d"
            ],
            [
             0.2,
             "#de77ae"
            ],
            [
             0.3,
             "#f1b6da"
            ],
            [
             0.4,
             "#fde0ef"
            ],
            [
             0.5,
             "#f7f7f7"
            ],
            [
             0.6,
             "#e6f5d0"
            ],
            [
             0.7,
             "#b8e186"
            ],
            [
             0.8,
             "#7fbc41"
            ],
            [
             0.9,
             "#4d9221"
            ],
            [
             1,
             "#276419"
            ]
           ],
           "sequential": [
            [
             0,
             "#0d0887"
            ],
            [
             0.1111111111111111,
             "#46039f"
            ],
            [
             0.2222222222222222,
             "#7201a8"
            ],
            [
             0.3333333333333333,
             "#9c179e"
            ],
            [
             0.4444444444444444,
             "#bd3786"
            ],
            [
             0.5555555555555556,
             "#d8576b"
            ],
            [
             0.6666666666666666,
             "#ed7953"
            ],
            [
             0.7777777777777778,
             "#fb9f3a"
            ],
            [
             0.8888888888888888,
             "#fdca26"
            ],
            [
             1,
             "#f0f921"
            ]
           ],
           "sequentialminus": [
            [
             0,
             "#0d0887"
            ],
            [
             0.1111111111111111,
             "#46039f"
            ],
            [
             0.2222222222222222,
             "#7201a8"
            ],
            [
             0.3333333333333333,
             "#9c179e"
            ],
            [
             0.4444444444444444,
             "#bd3786"
            ],
            [
             0.5555555555555556,
             "#d8576b"
            ],
            [
             0.6666666666666666,
             "#ed7953"
            ],
            [
             0.7777777777777778,
             "#fb9f3a"
            ],
            [
             0.8888888888888888,
             "#fdca26"
            ],
            [
             1,
             "#f0f921"
            ]
           ]
          },
          "colorway": [
           "#636efa",
           "#EF553B",
           "#00cc96",
           "#ab63fa",
           "#FFA15A",
           "#19d3f3",
           "#FF6692",
           "#B6E880",
           "#FF97FF",
           "#FECB52"
          ],
          "font": {
           "color": "#2a3f5f"
          },
          "geo": {
           "bgcolor": "white",
           "lakecolor": "white",
           "landcolor": "#E5ECF6",
           "showlakes": true,
           "showland": true,
           "subunitcolor": "white"
          },
          "hoverlabel": {
           "align": "left"
          },
          "hovermode": "closest",
          "mapbox": {
           "style": "light"
          },
          "paper_bgcolor": "white",
          "plot_bgcolor": "#E5ECF6",
          "polar": {
           "angularaxis": {
            "gridcolor": "white",
            "linecolor": "white",
            "ticks": ""
           },
           "bgcolor": "#E5ECF6",
           "radialaxis": {
            "gridcolor": "white",
            "linecolor": "white",
            "ticks": ""
           }
          },
          "scene": {
           "xaxis": {
            "backgroundcolor": "#E5ECF6",
            "gridcolor": "white",
            "gridwidth": 2,
            "linecolor": "white",
            "showbackground": true,
            "ticks": "",
            "zerolinecolor": "white"
           },
           "yaxis": {
            "backgroundcolor": "#E5ECF6",
            "gridcolor": "white",
            "gridwidth": 2,
            "linecolor": "white",
            "showbackground": true,
            "ticks": "",
            "zerolinecolor": "white"
           },
           "zaxis": {
            "backgroundcolor": "#E5ECF6",
            "gridcolor": "white",
            "gridwidth": 2,
            "linecolor": "white",
            "showbackground": true,
            "ticks": "",
            "zerolinecolor": "white"
           }
          },
          "shapedefaults": {
           "line": {
            "color": "#2a3f5f"
           }
          },
          "ternary": {
           "aaxis": {
            "gridcolor": "white",
            "linecolor": "white",
            "ticks": ""
           },
           "baxis": {
            "gridcolor": "white",
            "linecolor": "white",
            "ticks": ""
           },
           "bgcolor": "#E5ECF6",
           "caxis": {
            "gridcolor": "white",
            "linecolor": "white",
            "ticks": ""
           }
          },
          "title": {
           "x": 0.05
          },
          "xaxis": {
           "automargin": true,
           "gridcolor": "white",
           "linecolor": "white",
           "ticks": "",
           "title": {
            "standoff": 15
           },
           "zerolinecolor": "white",
           "zerolinewidth": 2
          },
          "yaxis": {
           "automargin": true,
           "gridcolor": "white",
           "linecolor": "white",
           "ticks": "",
           "title": {
            "standoff": 15
           },
           "zerolinecolor": "white",
           "zerolinewidth": 2
          }
         }
        },
        "xaxis": {
         "anchor": "y",
         "domain": [
          0,
          1
         ],
         "title": {
          "text": "x"
         }
        },
        "yaxis": {
         "anchor": "x",
         "domain": [
          0,
          1
         ],
         "title": {
          "text": "index"
         }
        }
       }
      }
     },
     "metadata": {},
     "output_type": "display_data"
    }
   ],
   "source": [
    "import plotly.express as px\n",
    "from umap import UMAP\n",
    "\n",
    "# Load the Iris dataset\n",
    "\n",
    "\n",
    "# Create a UMAP model and fit it to the data\n",
    "umap_2d = UMAP(n_components=2, random_state=0)\n",
    "\n",
    "\n",
    "# Visualize the UMAP projections\n",
    "fig = px.scatter(projected_dataset_embeddings[:, 0], projected_dataset_embeddings[:, 1])\n",
    "fig.show()\n"
   ]
  },
  {
   "cell_type": "code",
   "execution_count": 25,
   "metadata": {},
   "outputs": [
    {
     "name": "stdout",
     "output_type": "stream",
     "text": [
      "gains of such person ( including stock appreciation, phantom stock,\n",
      "profit participation or other similar rights ). “ escrow amount ”\n",
      "means, $ 1, 000, 000 “ facilities ” means any buildings, plants,\n",
      "improvements or structures located on the real property. “ family\n",
      "member ” means, with respect to any individual, ( a ) such person ’ s\n",
      "spouse, ( b ) each parent, brother, sister or child of such person or\n",
      "such person ’ s spouse, ( c ) the spouse of any person described in\n",
      "clause ( b ) above, ( d ) each child\n",
      "\n",
      "in accordance with the escrow agreement. the escrow amount shall be\n",
      "held and, subject to section 2. 07, released to the company\n",
      "securityholders in accordance with the provisions of the escrow\n",
      "agreement with the company securityholders being entitled to share in\n",
      "such released amounts in accordance with their pro rata percentages.\n",
      "from and after the closing, buyer and the sellers ’ representative\n",
      "will direct the escrow agent to disburse payments from the escrow\n",
      "account in accordance with the\n",
      "\n",
      "with section 2. 05 ( a ) ( i ) and section 2. 07 ( a ) exceeds such re\n",
      "- calculated final purchase price shall be paid to the buyer, or its\n",
      "designee, in accordance with the terms of the escrow agreement ( and\n",
      "any remaining balance of the escrow amount not required to be paid to\n",
      "the buyer shall be released to company securityholders in accordance\n",
      "with the terms of the escrow agreement ). section i. 04 escrow. ( a )\n",
      "at closing, buyer will deposit the escrow amount in escrow on behalf\n",
      "of the sellers in\n",
      "\n",
      "debt amount is payable, ( iii ) a list of all payees to whom any\n",
      "portion of the seller transaction expenses is payable, ( iv ) a\n",
      "schedule of the payees and accounts ( including payment instructions )\n",
      "to which each of the foregoing payments is to be paid and ( v ) each\n",
      "company securityholder ’ s pro rata percentage ( the “ allocation\n",
      "statement ” ). 6 ( b ) at the closing, buyer shall deposit the escrow\n",
      "amount with the escrow agent to be held in a separate account ( the “\n",
      "escrow account ” ). the escrow\n",
      "\n",
      "company securityholder by wire transfer of immediately available funds\n",
      "its pro rata percentage of the amount, if any, by which such re -\n",
      "calculated final purchase price exceeds the estimated purchase price\n",
      "paid at closing in accordance with section 2. 05 ( a ) ( i ) and\n",
      "section 2. 07 ( a ) and the escrow agent shall release the escrow\n",
      "amount to company securityholders in accordance with the escrow\n",
      "agreement or ( ii ) the amount, if any, by which such estimated\n",
      "purchase price paid at closing in accordance\n",
      "\n"
     ]
    }
   ],
   "source": [
    "query = \"How much is the escrow amount?\"\n",
    "\n",
    "results = chroma_collection.query(query_texts=query, n_results=5, include=['documents', 'embeddings'])\n",
    "\n",
    "retrieved_documents = results['documents'][0]\n",
    "\n",
    "for document in results['documents'][0]:\n",
    "    print(word_wrap(document))\n",
    "    print('')"
   ]
  },
  {
   "cell_type": "code",
   "execution_count": 26,
   "metadata": {},
   "outputs": [
    {
     "name": "stderr",
     "output_type": "stream",
     "text": [
      "100%|██████████| 1/1 [00:00<00:00,  1.35it/s]\n",
      "100%|██████████| 5/5 [00:02<00:00,  1.68it/s]\n"
     ]
    }
   ],
   "source": [
    "query_embedding = embedding_function([query])[0]\n",
    "retrieved_embeddings = results['embeddings'][0]\n",
    "\n",
    "projected_query_embedding = project_embeddings([query_embedding], umap_transform)\n",
    "projected_retrieved_embeddings = project_embeddings(retrieved_embeddings, umap_transform)"
   ]
  },
  {
   "cell_type": "code",
   "execution_count": 27,
   "metadata": {},
   "outputs": [
    {
     "data": {
      "application/vnd.plotly.v1+json": {
       "config": {
        "plotlyServerURL": "https://plot.ly"
       },
       "data": [
        {
         "mode": "markers",
         "type": "scatter",
         "x": [
          1.494057536125183,
          2.00392746925354,
          1.3460280895233154,
          1.8873343467712402,
          0.8153491616249084,
          0.7725995182991028,
          1.1673088073730469,
          4.285847187042236,
          2.07889986038208,
          0.4455932676792145,
          0.6846264004707336,
          2.599942922592163,
          3.221437931060791,
          4.752927780151367,
          3.264547824859619,
          4.325597286224365,
          3.5196876525878906,
          3.7982289791107178,
          3.001974582672119,
          2.7430787086486816,
          3.0600802898406982,
          3.00333833694458,
          5.28533411026001,
          5.261155128479004,
          4.896797180175781,
          2.116507053375244,
          2.233182191848755,
          3.0449600219726562,
          4.436845302581787,
          5.781336784362793,
          5.241415023803711,
          4.781313896179199,
          4.998754024505615,
          4.804015636444092,
          4.6794819831848145,
          4.562565803527832,
          4.656155109405518,
          4.162156581878662,
          4.218398094177246,
          3.41272234916687,
          2.920919895172119,
          2.7988438606262207,
          3.137545585632324,
          2.403149127960205,
          2.1489343643188477,
          2.6547489166259766,
          4.611997604370117,
          2.9103941917419434,
          3.5730223655700684,
          3.290132522583008,
          3.318479061126709,
          3.0077717304229736,
          3.0132086277008057,
          2.8707613945007324,
          2.538719654083252,
          2.4966421127319336,
          2.483384609222412,
          4.481658458709717,
          2.937282085418701,
          6.627967834472656,
          6.4593915939331055,
          6.408445358276367,
          6.782758712768555,
          6.675682067871094,
          6.765561103820801,
          6.6726155281066895,
          6.691732406616211,
          6.642773628234863,
          0.867393970489502,
          6.618876934051514,
          6.360766410827637,
          6.258098602294922,
          6.2908711433410645,
          3.7992148399353027,
          5.2924652099609375,
          3.874659299850464,
          3.1547000408172607,
          3.1149401664733887,
          3.407327175140381,
          3.2708194255828857,
          2.2181363105773926,
          1.5727670192718506,
          2.8064074516296387,
          3.5232760906219482,
          3.124768018722534,
          3.827537775039673,
          1.046004295349121,
          0.9040757417678833,
          3.2899088859558105,
          3.4413156509399414,
          2.285015821456909,
          3.5159969329833984,
          3.165580987930298,
          3.669481039047241,
          5.517919063568115,
          5.57722806930542,
          5.401029586791992,
          5.174759387969971,
          5.692470550537109,
          5.7234673500061035,
          5.450865745544434,
          1.0719480514526367,
          5.617523193359375,
          5.753210544586182,
          5.669924259185791,
          3.0615363121032715,
          3.0965826511383057,
          3.491896152496338,
          3.587348222732544,
          3.6192126274108887,
          3.5954136848449707,
          3.4848074913024902,
          2.567730188369751,
          3.9764516353607178,
          3.5926783084869385,
          3.2087152004241943,
          3.0999226570129395,
          3.1436216831207275,
          1.1489814519882202,
          3.293102741241455,
          2.296200752258301,
          2.3547415733337402,
          2.121243953704834,
          2.073416233062744,
          4.022564888000488,
          5.223705768585205,
          5.608550071716309,
          5.184028148651123,
          1.6618651151657104,
          1.9853259325027466,
          1.6661113500595093,
          2.270491600036621,
          1.9247032403945923,
          2.144766330718994,
          3.870342969894409,
          5.081764221191406,
          2.3863213062286377,
          2.945753335952759,
          2.523756265640259,
          3.285280704498291,
          2.42798113822937,
          2.8865702152252197,
          2.514155387878418,
          2.604475498199463,
          2.3434364795684814,
          2.758338451385498,
          5.805654048919678,
          3.0981831550598145,
          3.3062901496887207,
          3.375157117843628,
          3.4135029315948486,
          3.6204726696014404,
          3.320101737976074,
          4.538337707519531,
          4.011036396026611,
          3.9421398639678955,
          3.907824993133545,
          5.162199974060059,
          3.402038812637329,
          3.979180097579956,
          4.291741371154785,
          3.963470458984375,
          4.137770175933838,
          4.401292324066162,
          5.431745529174805,
          5.772214889526367,
          3.8956027030944824,
          4.254043102264404,
          5.494213104248047,
          4.052593231201172,
          3.5066170692443848,
          4.156429290771484,
          4.4527764320373535,
          4.559788227081299,
          4.234060764312744,
          4.646648406982422,
          4.4205546379089355,
          4.684131145477295,
          4.465407848358154,
          2.4493789672851562,
          5.213593006134033,
          5.262300491333008,
          4.035212516784668,
          3.8866496086120605,
          3.4767086505889893,
          3.8545584678649902,
          3.979135751724243,
          3.231091260910034,
          3.56673002243042,
          4.643942356109619,
          3.5447998046875,
          4.626453876495361,
          4.9511566162109375,
          4.4625725746154785,
          4.573034286499023,
          4.991733074188232,
          4.636491298675537,
          4.8260817527771,
          4.509783744812012,
          4.59194278717041,
          4.526646137237549,
          3.7806434631347656,
          4.488119125366211,
          4.140805721282959,
          4.792282581329346,
          6.010620594024658,
          5.624828338623047,
          5.676417350769043,
          5.031151294708252,
          4.7821807861328125,
          5.713629245758057,
          6.071536540985107,
          3.642648458480835,
          5.972404956817627,
          6.153642654418945,
          4.682074546813965,
          5.851328372955322,
          5.234227657318115,
          4.581526756286621,
          6.3638176918029785,
          6.014410972595215,
          6.436315536499023,
          6.3509840965271,
          1.015103816986084,
          4.103238105773926,
          6.8770880699157715,
          6.809516429901123,
          6.466678619384766,
          4.529958248138428,
          6.8991804122924805,
          6.807295799255371,
          4.310418128967285,
          6.853024005889893,
          6.1270294189453125,
          4.616329193115234,
          2.061537265777588,
          5.459744453430176,
          6.462202072143555,
          6.84868860244751,
          3.735539674758911,
          3.7247612476348877,
          3.451819896697998,
          3.162841558456421,
          2.3305485248565674,
          3.1652209758758545,
          2.3188960552215576,
          1.7035514116287231,
          2.279261827468872,
          2.2821877002716064,
          2.3375234603881836,
          2.793203115463257,
          2.3281209468841553,
          2.2323079109191895,
          2.866769552230835,
          3.3796820640563965,
          3.7278010845184326,
          2.9752631187438965,
          1.7385832071304321,
          2.88877534866333,
          3.097464084625244,
          3.3323707580566406,
          2.352132797241211,
          3.6582911014556885,
          6.136959075927734,
          5.975372791290283,
          6.336440086364746,
          4.810336112976074,
          3.083101511001587,
          3.569403648376465,
          0.9837337732315063,
          5.741464138031006,
          4.340854167938232,
          4.738697528839111,
          4.379159450531006,
          6.282500267028809,
          5.1549272537231445,
          6.283026218414307,
          4.9092116355896,
          4.632750034332275,
          3.073153495788574,
          5.441730499267578,
          3.9349312782287598,
          4.625738620758057,
          4.355123519897461,
          5.956944465637207,
          4.353621482849121,
          5.532270431518555,
          4.639577865600586,
          5.95040225982666,
          5.449750900268555,
          6.737905025482178,
          5.560407638549805,
          4.211204528808594,
          4.764950275421143,
          4.374495029449463,
          4.478155612945557,
          3.9465789794921875,
          3.9112932682037354,
          2.2621169090270996,
          3.9274730682373047,
          3.9786343574523926,
          6.863900184631348,
          3.225362539291382,
          2.150352954864502,
          1.1457247734069824,
          1.1784783601760864,
          1.6699484586715698,
          0.9968334436416626,
          1.6066120862960815,
          1.7137773036956787,
          1.3390135765075684,
          2.8302910327911377,
          6.422463417053223,
          2.9576828479766846,
          3.0365095138549805,
          1.1964912414550781,
          1.1683709621429443,
          1.2367100715637207,
          0.938733696937561,
          1.2277339696884155,
          1.5438891649246216,
          1.3050416707992554,
          1.9362998008728027,
          1.6601464748382568,
          2.4342539310455322,
          2.236241102218628,
          3.7002384662628174,
          2.322375535964966,
          1.982841968536377,
          0.9052574634552002,
          2.024956464767456,
          2.1699581146240234,
          2.393172025680542,
          3.872861623764038,
          4.01438045501709,
          1.4840331077575684,
          2.319742441177368,
          2.611168146133423,
          2.3959615230560303,
          1.8880068063735962,
          2.1193599700927734,
          2.496466875076294,
          2.0822598934173584,
          2.3456649780273438,
          2.609135866165161,
          1.644778847694397,
          1.5023690462112427,
          2.129082202911377,
          2.3328921794891357,
          3.0129292011260986,
          3.961371421813965,
          3.9139232635498047,
          2.9034807682037354,
          2.4243345260620117,
          2.410037040710449,
          6.005080699920654,
          4.241855144500732,
          2.3436098098754883,
          4.089601993560791,
          3.8851418495178223,
          5.20021915435791,
          5.123030185699463,
          6.21377420425415,
          5.017516613006592,
          4.789971351623535,
          4.427042484283447,
          4.703636169433594,
          4.5450758934021,
          2.9056882858276367,
          4.642951011657715,
          4.2906270027160645,
          2.290008068084717,
          1.295022964477539,
          2.252573013305664,
          3.4598612785339355,
          0.9325459003448486,
          1.2773823738098145,
          2.093841314315796,
          1.1096702814102173,
          2.617938756942749,
          1.872775673866272,
          1.7936229705810547,
          1.48345148563385,
          1.5259495973587036,
          0.8720389008522034,
          1.2358310222625732,
          0.5194766521453857,
          1.6549726724624634,
          4.134891510009766,
          1.5780301094055176,
          4.817934036254883,
          2.033217668533325,
          2.363978147506714,
          1.6855309009552002,
          1.8083544969558716,
          1.6201130151748657,
          1.6918935775756836,
          2.248736619949341,
          1.661141276359558,
          1.7353551387786865,
          1.62370765209198,
          3.929617166519165,
          1.6159273386001587,
          1.2576075792312622,
          0.8385352492332458,
          1.3969205617904663,
          0.6970245838165283,
          0.2918858528137207,
          0.208238884806633,
          0.12909643352031708,
          0.18514752388000488,
          0.3801872432231903,
          1.292966604232788,
          0.223204106092453,
          0.22476457059383392,
          0.5188210606575012,
          0.6198331713676453,
          6.23140287399292,
          0.473860502243042,
          0.4668738842010498,
          0.48382049798965454,
          1.069736123085022,
          0.9375834465026855,
          1.7695589065551758,
          0.9308191537857056,
          0.9379945397377014,
          0.9463194012641907,
          1.7285363674163818,
          1.5535820722579956,
          1.682900071144104,
          1.564928650856018,
          1.981200933456421,
          1.864542841911316,
          1.2796587944030762,
          1.8483428955078125,
          1.154740333557129,
          3.31965970993042,
          1.8958477973937988,
          2.7755377292633057,
          5.692234992980957,
          4.36508321762085,
          5.919290542602539,
          2.36444091796875,
          3.1442883014678955,
          3.2855238914489746,
          3.225468397140503,
          1.2405903339385986,
          2.2651000022888184,
          3.3575644493103027,
          0.8844712972640991,
          3.8697826862335205,
          4.063072204589844,
          5.0979485511779785,
          3.523437261581421,
          2.0742249488830566,
          1.3584210872650146,
          4.685226917266846,
          4.905646324157715,
          3.927250862121582,
          1.7144007682800293,
          2.3853061199188232,
          2.2590832710266113,
          4.696592807769775,
          4.972922325134277,
          4.601650238037109,
          4.827578067779541,
          4.1673102378845215,
          4.705726623535156,
          1.1438966989517212,
          1.960239052772522,
          5.490990161895752,
          5.305348873138428,
          2.844301700592041,
          2.8434011936187744,
          2.520116090774536,
          4.65427303314209,
          2.868525743484497,
          4.875143051147461,
          1.4162172079086304,
          5.125644683837891,
          1.408901333808899,
          2.027310371398926,
          4.795499801635742,
          4.181007385253906,
          5.152317047119141,
          4.650991439819336,
          3.8087544441223145,
          4.206378936767578,
          2.3892109394073486,
          3.4650182723999023
         ],
         "y": [
          8.184656143188477,
          8.978490829467773,
          8.250407218933105,
          8.56478500366211,
          9.29150104522705,
          9.332439422607422,
          10.281180381774902,
          11.782219886779785,
          7.878209590911865,
          9.314850807189941,
          9.455687522888184,
          8.021241188049316,
          6.624915599822998,
          7.707254409790039,
          6.773156642913818,
          6.9845147132873535,
          8.501982688903809,
          6.968990325927734,
          6.373279571533203,
          6.305577754974365,
          6.362670421600342,
          6.36346435546875,
          10.922501564025879,
          8.890042304992676,
          7.632723331451416,
          6.7693657875061035,
          9.895879745483398,
          8.05241584777832,
          7.451211452484131,
          7.726884365081787,
          7.382441997528076,
          7.197303295135498,
          7.140549182891846,
          7.233199596405029,
          7.475679397583008,
          7.6142473220825195,
          7.461670875549316,
          6.923007011413574,
          7.4596991539001465,
          6.7130584716796875,
          7.06680154800415,
          7.365795612335205,
          6.786001682281494,
          7.240807056427002,
          7.266504287719727,
          7.149585247039795,
          7.383120059967041,
          7.0932512283325195,
          7.546180725097656,
          7.370344161987305,
          6.657155513763428,
          6.333530426025391,
          6.396755218505859,
          6.316130638122559,
          6.358473300933838,
          6.34854793548584,
          6.350177764892578,
          7.600335121154785,
          6.355811595916748,
          11.100919723510742,
          11.072447776794434,
          11.875580787658691,
          11.126266479492188,
          11.613619804382324,
          11.298977851867676,
          11.432785034179688,
          11.246280670166016,
          11.221833229064941,
          9.43214225769043,
          11.708441734313965,
          10.99374771118164,
          12.103554725646973,
          11.958596229553223,
          6.866775989532471,
          10.158670425415039,
          6.986836910247803,
          11.936923027038574,
          11.78996467590332,
          10.796807289123535,
          10.810262680053711,
          10.052314758300781,
          10.025203704833984,
          7.909807205200195,
          11.022058486938477,
          11.27373218536377,
          10.629820823669434,
          10.01799488067627,
          9.612349510192871,
          11.175204277038574,
          10.760944366455078,
          11.336260795593262,
          8.513318061828613,
          10.239017486572266,
          10.714428901672363,
          7.616694927215576,
          8.132489204406738,
          7.474093437194824,
          7.212350368499756,
          8.479385375976562,
          7.692088603973389,
          7.503136157989502,
          8.371602058410645,
          8.227896690368652,
          8.158398628234863,
          7.608520030975342,
          10.046891212463379,
          10.210741996765137,
          10.930381774902344,
          10.590158462524414,
          10.02811336517334,
          10.233771324157715,
          10.146180152893066,
          7.666155815124512,
          11.856354713439941,
          10.656550407409668,
          10.3617525100708,
          10.142542839050293,
          11.501338958740234,
          9.977849006652832,
          9.893686294555664,
          11.356878280639648,
          11.361823081970215,
          11.033065795898438,
          11.02805233001709,
          11.696602821350098,
          10.777755737304688,
          10.728166580200195,
          10.721922874450684,
          11.698637962341309,
          10.60062026977539,
          11.350615501403809,
          11.539820671081543,
          9.545634269714355,
          11.019960403442383,
          10.648605346679688,
          11.755084991455078,
          11.513200759887695,
          10.610296249389648,
          11.691329956054688,
          11.636528015136719,
          12.482797622680664,
          12.69568920135498,
          12.63668155670166,
          12.648633003234863,
          12.475299835205078,
          11.840163230895996,
          10.127553939819336,
          12.771963119506836,
          12.878703117370605,
          12.908379554748535,
          12.842162132263184,
          12.836946487426758,
          11.724884033203125,
          12.534215927124023,
          11.73195743560791,
          12.518838882446289,
          12.525192260742188,
          10.935054779052734,
          12.817359924316406,
          12.678267478942871,
          12.748769760131836,
          12.506488800048828,
          12.429774284362793,
          11.614198684692383,
          12.377363204956055,
          12.322110176086426,
          13.156159400939941,
          12.905065536499023,
          11.036482810974121,
          13.103263854980469,
          13.023231506347656,
          12.594834327697754,
          12.403356552124023,
          11.82728385925293,
          11.808965682983398,
          12.166793823242188,
          11.534255027770996,
          12.24606704711914,
          12.838826179504395,
          9.896004676818848,
          12.386617660522461,
          12.316290855407715,
          11.99450397491455,
          11.765539169311523,
          11.65732192993164,
          11.721189498901367,
          11.647648811340332,
          9.733736991882324,
          11.882798194885254,
          10.615153312683105,
          6.789270401000977,
          10.260560989379883,
          10.716805458068848,
          10.634592056274414,
          10.110956192016602,
          9.631856918334961,
          9.972616195678711,
          9.867437362670898,
          10.182504653930664,
          9.942695617675781,
          9.2808198928833,
          7.570229530334473,
          8.43810749053955,
          8.140623092651367,
          10.0272798538208,
          12.208919525146484,
          8.74233341217041,
          9.129323959350586,
          9.292003631591797,
          12.666112899780273,
          12.387174606323242,
          12.246659278869629,
          6.882801532745361,
          12.258764266967773,
          12.16710090637207,
          9.964835166931152,
          9.630364418029785,
          9.80706787109375,
          10.238410949707031,
          9.764181137084961,
          8.884936332702637,
          9.075910568237305,
          9.017995834350586,
          10.19551944732666,
          11.738665580749512,
          9.127573013305664,
          9.096186637878418,
          9.11087417602539,
          10.642704010009766,
          9.695533752441406,
          9.152026176452637,
          10.748250961303711,
          9.160531044006348,
          9.581992149353027,
          9.675809860229492,
          10.323681831359863,
          10.77159595489502,
          8.92839527130127,
          9.182663917541504,
          11.031990051269531,
          10.97700023651123,
          11.562053680419922,
          11.41839599609375,
          12.454020500183105,
          11.223487854003906,
          11.370000839233398,
          10.419881820678711,
          11.413851737976074,
          11.35248851776123,
          11.512344360351562,
          8.915185928344727,
          11.522915840148926,
          12.174890518188477,
          7.647874355316162,
          12.069327354431152,
          10.859160423278809,
          10.648458480834961,
          11.37226390838623,
          10.079146385192871,
          10.572650909423828,
          10.836313247680664,
          9.98047924041748,
          10.791277885437012,
          9.806829452514648,
          11.366764068603516,
          10.379146575927734,
          11.041865348815918,
          11.499429702758789,
          7.807276248931885,
          9.61616039276123,
          10.654541015625,
          10.580865859985352,
          11.110053062438965,
          11.374958038330078,
          10.071148872375488,
          10.029054641723633,
          10.547533988952637,
          11.044395446777344,
          11.123950004577637,
          8.147323608398438,
          11.111640930175781,
          12.192825317382812,
          11.440481185913086,
          11.302267074584961,
          12.201437950134277,
          11.370821952819824,
          11.801209449768066,
          11.144682884216309,
          11.82201099395752,
          11.07294750213623,
          9.106169700622559,
          11.004270553588867,
          11.604439735412598,
          11.217105865478516,
          11.365026473999023,
          11.11897087097168,
          10.766865730285645,
          10.590855598449707,
          11.679458618164062,
          10.36874771118164,
          9.953566551208496,
          9.158581733703613,
          8.465876579284668,
          9.496186256408691,
          7.889969348907471,
          7.840623378753662,
          8.369161605834961,
          8.42862319946289,
          8.482525825500488,
          8.659847259521484,
          8.303112983703613,
          9.745552062988281,
          9.892683029174805,
          8.794479370117188,
          10.170618057250977,
          7.940659046173096,
          8.010672569274902,
          7.772894382476807,
          8.351238250732422,
          8.233344078063965,
          8.83324909210205,
          7.628081798553467,
          8.756149291992188,
          10.684041976928711,
          8.841547966003418,
          8.711231231689453,
          10.841408729553223,
          9.18901538848877,
          8.347491264343262,
          9.5919828414917,
          8.977886199951172,
          8.845924377441406,
          9.330907821655273,
          10.613252639770508,
          11.90592098236084,
          10.793231010437012,
          8.838375091552734,
          9.56295108795166,
          9.020068168640137,
          7.775883197784424,
          8.933855056762695,
          8.811347007751465,
          8.82729721069336,
          8.565692901611328,
          8.941634178161621,
          8.682137489318848,
          10.728116035461426,
          8.363425254821777,
          8.595210075378418,
          10.010774612426758,
          9.86594009399414,
          9.736748695373535,
          10.295207977294922,
          8.359130859375,
          8.420940399169922,
          9.4982328414917,
          9.48241901397705,
          11.516777992248535,
          9.339280128479004,
          7.389444828033447,
          7.217218399047852,
          7.2114481925964355,
          12.155284881591797,
          9.803494453430176,
          9.923237800598145,
          10.225695610046387,
          8.692741394042969,
          8.53078556060791,
          10.007467269897461,
          8.66635513305664,
          8.583005905151367,
          8.47199821472168,
          7.473081111907959,
          11.143900871276855,
          8.17009162902832,
          9.652678489685059,
          8.696460723876953,
          7.639585018157959,
          7.414150238037109,
          6.2816925048828125,
          7.586545467376709,
          8.921772956848145,
          7.413600444793701,
          8.218304634094238,
          9.35406494140625,
          7.773983001708984,
          9.24955940246582,
          7.144387245178223,
          8.974624633789062,
          7.292582035064697,
          7.68372106552124,
          6.675821781158447,
          6.434340476989746,
          7.10978889465332,
          6.973205089569092,
          7.140171527862549,
          7.078621864318848,
          8.196738243103027,
          7.088832378387451,
          7.132171630859375,
          7.188811302185059,
          8.167572021484375,
          7.221477031707764,
          7.663235664367676,
          8.394658088684082,
          8.558969497680664,
          8.546846389770508,
          8.726845741271973,
          8.874188423156738,
          8.90457820892334,
          9.094569206237793,
          8.98953914642334,
          11.27677059173584,
          8.907018661499023,
          8.660774230957031,
          8.603195190429688,
          8.561216354370117,
          12.163656234741211,
          8.465843200683594,
          8.464309692382812,
          8.466217994689941,
          9.616532325744629,
          9.661705017089844,
          11.069459915161133,
          9.614568710327148,
          9.712654113769531,
          8.148311614990234,
          10.03188419342041,
          9.998082160949707,
          10.050965309143066,
          9.948688507080078,
          10.041879653930664,
          9.708951950073242,
          7.678150177001953,
          11.656111717224121,
          7.800739288330078,
          9.026681900024414,
          10.530152320861816,
          11.66267204284668,
          12.394608497619629,
          12.737153053283691,
          12.325278282165527,
          11.454011917114258,
          10.976308822631836,
          11.231764793395996,
          11.230660438537598,
          7.826120853424072,
          10.172993659973145,
          11.226930618286133,
          9.402491569519043,
          13.20970344543457,
          13.1367769241333,
          12.647894859313965,
          8.532984733581543,
          11.764001846313477,
          7.532418251037598,
          7.9475507736206055,
          9.284802436828613,
          12.390329360961914,
          10.749164581298828,
          12.433747291564941,
          12.084779739379883,
          12.144021034240723,
          12.189335823059082,
          8.650774955749512,
          12.213061332702637,
          9.328919410705566,
          12.156780242919922,
          7.5995988845825195,
          6.631817817687988,
          8.728927612304688,
          8.807446479797363,
          8.9024658203125,
          9.376441955566406,
          6.313333511352539,
          9.125433921813965,
          10.130255699157715,
          10.068166732788086,
          11.209660530090332,
          7.485092639923096,
          11.198301315307617,
          10.486245155334473,
          10.181798934936523,
          12.53708267211914,
          7.145098686218262,
          7.020106315612793,
          7.50233268737793,
          7.353823661804199,
          12.570083618164062,
          7.402230739593506
         ]
        },
        {
         "mode": "markers",
         "type": "scatter",
         "x": [
          2.769716501235962
         ],
         "y": [
          6.3554253578186035
         ]
        },
        {
         "mode": "markers",
         "type": "scatter",
         "x": [
          2.617938756942749,
          2.8707613945007324,
          3.0132086277008057,
          3.001974582672119,
          3.0077717304229736
         ],
         "y": [
          6.2816925048828125,
          6.316130638122559,
          6.396755218505859,
          6.373279571533203,
          6.333530426025391
         ]
        }
       ],
       "layout": {
        "template": {
         "data": {
          "bar": [
           {
            "error_x": {
             "color": "#2a3f5f"
            },
            "error_y": {
             "color": "#2a3f5f"
            },
            "marker": {
             "line": {
              "color": "#E5ECF6",
              "width": 0.5
             },
             "pattern": {
              "fillmode": "overlay",
              "size": 10,
              "solidity": 0.2
             }
            },
            "type": "bar"
           }
          ],
          "barpolar": [
           {
            "marker": {
             "line": {
              "color": "#E5ECF6",
              "width": 0.5
             },
             "pattern": {
              "fillmode": "overlay",
              "size": 10,
              "solidity": 0.2
             }
            },
            "type": "barpolar"
           }
          ],
          "carpet": [
           {
            "aaxis": {
             "endlinecolor": "#2a3f5f",
             "gridcolor": "white",
             "linecolor": "white",
             "minorgridcolor": "white",
             "startlinecolor": "#2a3f5f"
            },
            "baxis": {
             "endlinecolor": "#2a3f5f",
             "gridcolor": "white",
             "linecolor": "white",
             "minorgridcolor": "white",
             "startlinecolor": "#2a3f5f"
            },
            "type": "carpet"
           }
          ],
          "choropleth": [
           {
            "colorbar": {
             "outlinewidth": 0,
             "ticks": ""
            },
            "type": "choropleth"
           }
          ],
          "contour": [
           {
            "colorbar": {
             "outlinewidth": 0,
             "ticks": ""
            },
            "colorscale": [
             [
              0,
              "#0d0887"
             ],
             [
              0.1111111111111111,
              "#46039f"
             ],
             [
              0.2222222222222222,
              "#7201a8"
             ],
             [
              0.3333333333333333,
              "#9c179e"
             ],
             [
              0.4444444444444444,
              "#bd3786"
             ],
             [
              0.5555555555555556,
              "#d8576b"
             ],
             [
              0.6666666666666666,
              "#ed7953"
             ],
             [
              0.7777777777777778,
              "#fb9f3a"
             ],
             [
              0.8888888888888888,
              "#fdca26"
             ],
             [
              1,
              "#f0f921"
             ]
            ],
            "type": "contour"
           }
          ],
          "contourcarpet": [
           {
            "colorbar": {
             "outlinewidth": 0,
             "ticks": ""
            },
            "type": "contourcarpet"
           }
          ],
          "heatmap": [
           {
            "colorbar": {
             "outlinewidth": 0,
             "ticks": ""
            },
            "colorscale": [
             [
              0,
              "#0d0887"
             ],
             [
              0.1111111111111111,
              "#46039f"
             ],
             [
              0.2222222222222222,
              "#7201a8"
             ],
             [
              0.3333333333333333,
              "#9c179e"
             ],
             [
              0.4444444444444444,
              "#bd3786"
             ],
             [
              0.5555555555555556,
              "#d8576b"
             ],
             [
              0.6666666666666666,
              "#ed7953"
             ],
             [
              0.7777777777777778,
              "#fb9f3a"
             ],
             [
              0.8888888888888888,
              "#fdca26"
             ],
             [
              1,
              "#f0f921"
             ]
            ],
            "type": "heatmap"
           }
          ],
          "heatmapgl": [
           {
            "colorbar": {
             "outlinewidth": 0,
             "ticks": ""
            },
            "colorscale": [
             [
              0,
              "#0d0887"
             ],
             [
              0.1111111111111111,
              "#46039f"
             ],
             [
              0.2222222222222222,
              "#7201a8"
             ],
             [
              0.3333333333333333,
              "#9c179e"
             ],
             [
              0.4444444444444444,
              "#bd3786"
             ],
             [
              0.5555555555555556,
              "#d8576b"
             ],
             [
              0.6666666666666666,
              "#ed7953"
             ],
             [
              0.7777777777777778,
              "#fb9f3a"
             ],
             [
              0.8888888888888888,
              "#fdca26"
             ],
             [
              1,
              "#f0f921"
             ]
            ],
            "type": "heatmapgl"
           }
          ],
          "histogram": [
           {
            "marker": {
             "pattern": {
              "fillmode": "overlay",
              "size": 10,
              "solidity": 0.2
             }
            },
            "type": "histogram"
           }
          ],
          "histogram2d": [
           {
            "colorbar": {
             "outlinewidth": 0,
             "ticks": ""
            },
            "colorscale": [
             [
              0,
              "#0d0887"
             ],
             [
              0.1111111111111111,
              "#46039f"
             ],
             [
              0.2222222222222222,
              "#7201a8"
             ],
             [
              0.3333333333333333,
              "#9c179e"
             ],
             [
              0.4444444444444444,
              "#bd3786"
             ],
             [
              0.5555555555555556,
              "#d8576b"
             ],
             [
              0.6666666666666666,
              "#ed7953"
             ],
             [
              0.7777777777777778,
              "#fb9f3a"
             ],
             [
              0.8888888888888888,
              "#fdca26"
             ],
             [
              1,
              "#f0f921"
             ]
            ],
            "type": "histogram2d"
           }
          ],
          "histogram2dcontour": [
           {
            "colorbar": {
             "outlinewidth": 0,
             "ticks": ""
            },
            "colorscale": [
             [
              0,
              "#0d0887"
             ],
             [
              0.1111111111111111,
              "#46039f"
             ],
             [
              0.2222222222222222,
              "#7201a8"
             ],
             [
              0.3333333333333333,
              "#9c179e"
             ],
             [
              0.4444444444444444,
              "#bd3786"
             ],
             [
              0.5555555555555556,
              "#d8576b"
             ],
             [
              0.6666666666666666,
              "#ed7953"
             ],
             [
              0.7777777777777778,
              "#fb9f3a"
             ],
             [
              0.8888888888888888,
              "#fdca26"
             ],
             [
              1,
              "#f0f921"
             ]
            ],
            "type": "histogram2dcontour"
           }
          ],
          "mesh3d": [
           {
            "colorbar": {
             "outlinewidth": 0,
             "ticks": ""
            },
            "type": "mesh3d"
           }
          ],
          "parcoords": [
           {
            "line": {
             "colorbar": {
              "outlinewidth": 0,
              "ticks": ""
             }
            },
            "type": "parcoords"
           }
          ],
          "pie": [
           {
            "automargin": true,
            "type": "pie"
           }
          ],
          "scatter": [
           {
            "fillpattern": {
             "fillmode": "overlay",
             "size": 10,
             "solidity": 0.2
            },
            "type": "scatter"
           }
          ],
          "scatter3d": [
           {
            "line": {
             "colorbar": {
              "outlinewidth": 0,
              "ticks": ""
             }
            },
            "marker": {
             "colorbar": {
              "outlinewidth": 0,
              "ticks": ""
             }
            },
            "type": "scatter3d"
           }
          ],
          "scattercarpet": [
           {
            "marker": {
             "colorbar": {
              "outlinewidth": 0,
              "ticks": ""
             }
            },
            "type": "scattercarpet"
           }
          ],
          "scattergeo": [
           {
            "marker": {
             "colorbar": {
              "outlinewidth": 0,
              "ticks": ""
             }
            },
            "type": "scattergeo"
           }
          ],
          "scattergl": [
           {
            "marker": {
             "colorbar": {
              "outlinewidth": 0,
              "ticks": ""
             }
            },
            "type": "scattergl"
           }
          ],
          "scattermapbox": [
           {
            "marker": {
             "colorbar": {
              "outlinewidth": 0,
              "ticks": ""
             }
            },
            "type": "scattermapbox"
           }
          ],
          "scatterpolar": [
           {
            "marker": {
             "colorbar": {
              "outlinewidth": 0,
              "ticks": ""
             }
            },
            "type": "scatterpolar"
           }
          ],
          "scatterpolargl": [
           {
            "marker": {
             "colorbar": {
              "outlinewidth": 0,
              "ticks": ""
             }
            },
            "type": "scatterpolargl"
           }
          ],
          "scatterternary": [
           {
            "marker": {
             "colorbar": {
              "outlinewidth": 0,
              "ticks": ""
             }
            },
            "type": "scatterternary"
           }
          ],
          "surface": [
           {
            "colorbar": {
             "outlinewidth": 0,
             "ticks": ""
            },
            "colorscale": [
             [
              0,
              "#0d0887"
             ],
             [
              0.1111111111111111,
              "#46039f"
             ],
             [
              0.2222222222222222,
              "#7201a8"
             ],
             [
              0.3333333333333333,
              "#9c179e"
             ],
             [
              0.4444444444444444,
              "#bd3786"
             ],
             [
              0.5555555555555556,
              "#d8576b"
             ],
             [
              0.6666666666666666,
              "#ed7953"
             ],
             [
              0.7777777777777778,
              "#fb9f3a"
             ],
             [
              0.8888888888888888,
              "#fdca26"
             ],
             [
              1,
              "#f0f921"
             ]
            ],
            "type": "surface"
           }
          ],
          "table": [
           {
            "cells": {
             "fill": {
              "color": "#EBF0F8"
             },
             "line": {
              "color": "white"
             }
            },
            "header": {
             "fill": {
              "color": "#C8D4E3"
             },
             "line": {
              "color": "white"
             }
            },
            "type": "table"
           }
          ]
         },
         "layout": {
          "annotationdefaults": {
           "arrowcolor": "#2a3f5f",
           "arrowhead": 0,
           "arrowwidth": 1
          },
          "autotypenumbers": "strict",
          "coloraxis": {
           "colorbar": {
            "outlinewidth": 0,
            "ticks": ""
           }
          },
          "colorscale": {
           "diverging": [
            [
             0,
             "#8e0152"
            ],
            [
             0.1,
             "#c51b7d"
            ],
            [
             0.2,
             "#de77ae"
            ],
            [
             0.3,
             "#f1b6da"
            ],
            [
             0.4,
             "#fde0ef"
            ],
            [
             0.5,
             "#f7f7f7"
            ],
            [
             0.6,
             "#e6f5d0"
            ],
            [
             0.7,
             "#b8e186"
            ],
            [
             0.8,
             "#7fbc41"
            ],
            [
             0.9,
             "#4d9221"
            ],
            [
             1,
             "#276419"
            ]
           ],
           "sequential": [
            [
             0,
             "#0d0887"
            ],
            [
             0.1111111111111111,
             "#46039f"
            ],
            [
             0.2222222222222222,
             "#7201a8"
            ],
            [
             0.3333333333333333,
             "#9c179e"
            ],
            [
             0.4444444444444444,
             "#bd3786"
            ],
            [
             0.5555555555555556,
             "#d8576b"
            ],
            [
             0.6666666666666666,
             "#ed7953"
            ],
            [
             0.7777777777777778,
             "#fb9f3a"
            ],
            [
             0.8888888888888888,
             "#fdca26"
            ],
            [
             1,
             "#f0f921"
            ]
           ],
           "sequentialminus": [
            [
             0,
             "#0d0887"
            ],
            [
             0.1111111111111111,
             "#46039f"
            ],
            [
             0.2222222222222222,
             "#7201a8"
            ],
            [
             0.3333333333333333,
             "#9c179e"
            ],
            [
             0.4444444444444444,
             "#bd3786"
            ],
            [
             0.5555555555555556,
             "#d8576b"
            ],
            [
             0.6666666666666666,
             "#ed7953"
            ],
            [
             0.7777777777777778,
             "#fb9f3a"
            ],
            [
             0.8888888888888888,
             "#fdca26"
            ],
            [
             1,
             "#f0f921"
            ]
           ]
          },
          "colorway": [
           "#636efa",
           "#EF553B",
           "#00cc96",
           "#ab63fa",
           "#FFA15A",
           "#19d3f3",
           "#FF6692",
           "#B6E880",
           "#FF97FF",
           "#FECB52"
          ],
          "font": {
           "color": "#2a3f5f"
          },
          "geo": {
           "bgcolor": "white",
           "lakecolor": "white",
           "landcolor": "#E5ECF6",
           "showlakes": true,
           "showland": true,
           "subunitcolor": "white"
          },
          "hoverlabel": {
           "align": "left"
          },
          "hovermode": "closest",
          "mapbox": {
           "style": "light"
          },
          "paper_bgcolor": "white",
          "plot_bgcolor": "#E5ECF6",
          "polar": {
           "angularaxis": {
            "gridcolor": "white",
            "linecolor": "white",
            "ticks": ""
           },
           "bgcolor": "#E5ECF6",
           "radialaxis": {
            "gridcolor": "white",
            "linecolor": "white",
            "ticks": ""
           }
          },
          "scene": {
           "xaxis": {
            "backgroundcolor": "#E5ECF6",
            "gridcolor": "white",
            "gridwidth": 2,
            "linecolor": "white",
            "showbackground": true,
            "ticks": "",
            "zerolinecolor": "white"
           },
           "yaxis": {
            "backgroundcolor": "#E5ECF6",
            "gridcolor": "white",
            "gridwidth": 2,
            "linecolor": "white",
            "showbackground": true,
            "ticks": "",
            "zerolinecolor": "white"
           },
           "zaxis": {
            "backgroundcolor": "#E5ECF6",
            "gridcolor": "white",
            "gridwidth": 2,
            "linecolor": "white",
            "showbackground": true,
            "ticks": "",
            "zerolinecolor": "white"
           }
          },
          "shapedefaults": {
           "line": {
            "color": "#2a3f5f"
           }
          },
          "ternary": {
           "aaxis": {
            "gridcolor": "white",
            "linecolor": "white",
            "ticks": ""
           },
           "baxis": {
            "gridcolor": "white",
            "linecolor": "white",
            "ticks": ""
           },
           "bgcolor": "#E5ECF6",
           "caxis": {
            "gridcolor": "white",
            "linecolor": "white",
            "ticks": ""
           }
          },
          "title": {
           "x": 0.05
          },
          "xaxis": {
           "automargin": true,
           "gridcolor": "white",
           "linecolor": "white",
           "ticks": "",
           "title": {
            "standoff": 15
           },
           "zerolinecolor": "white",
           "zerolinewidth": 2
          },
          "yaxis": {
           "automargin": true,
           "gridcolor": "white",
           "linecolor": "white",
           "ticks": "",
           "title": {
            "standoff": 15
           },
           "zerolinecolor": "white",
           "zerolinewidth": 2
          }
         }
        }
       }
      }
     },
     "metadata": {},
     "output_type": "display_data"
    }
   ],
   "source": [
    "# Plot the projected query and retrieved documents in the embedding space\n",
    "import plotly.graph_objects as go\n",
    "dataset = go.Scatter(x=projected_dataset_embeddings[:, 0], y=projected_dataset_embeddings[:, 1],mode=\"markers\")\n",
    "query = go.Scatter(x=projected_query_embedding[:, 0], y=projected_query_embedding[:, 1],mode=\"markers\")\n",
    "context = go.Scatter(x=projected_retrieved_embeddings[:, 0], y=projected_retrieved_embeddings[:, 1],mode=\"markers\")\n",
    "\n",
    "# Create a figure and add the traces\n",
    "fig = go.Figure(data=[dataset, query,context])\n",
    "fig.show()"
   ]
  },
  {
   "cell_type": "code",
   "execution_count": 15,
   "metadata": {},
   "outputs": [],
   "source": []
  },
  {
   "cell_type": "code",
   "execution_count": 57,
   "metadata": {},
   "outputs": [],
   "source": [
    "text_splitter = RecursiveCharacterTextSplitter(chunk_size=1000, chunk_overlap=0)\n",
    "\n",
    "docs = text_splitter.split_documents(document)\n",
    "\n",
    "db = Chroma.from_documents(docs, OpenAIEmbeddings(),\\\n",
    "                               persist_directory=vectordb_path)\n",
    "db.persist()"
   ]
  },
  {
   "cell_type": "code",
   "execution_count": 58,
   "metadata": {},
   "outputs": [
    {
     "data": {
      "text/plain": [
       "308"
      ]
     },
     "execution_count": 58,
     "metadata": {},
     "output_type": "execute_result"
    }
   ],
   "source": [
    "len(docs)"
   ]
  },
  {
   "cell_type": "code",
   "execution_count": 59,
   "metadata": {},
   "outputs": [
    {
     "name": "stdout",
     "output_type": "stream",
     "text": [
      "999\n"
     ]
    }
   ],
   "source": [
    "print(max([len(chunk.page_content) for chunk in docs]))"
   ]
  },
  {
   "cell_type": "code",
   "execution_count": null,
   "metadata": {},
   "outputs": [],
   "source": [
    "retrieved_documents"
   ]
  },
  {
   "cell_type": "code",
   "execution_count": 60,
   "metadata": {},
   "outputs": [],
   "source": [
    "base_retriever = vectorstore.as_retriever(search_kwargs={\"k\" : 2})"
   ]
  },
  {
   "cell_type": "code",
   "execution_count": 61,
   "metadata": {},
   "outputs": [],
   "source": [
    "relevant_docs = base_retriever.get_relevant_documents(\"How much is the escrow amount?\")"
   ]
  },
  {
   "cell_type": "code",
   "execution_count": 62,
   "metadata": {},
   "outputs": [
    {
     "data": {
      "text/plain": [
       "2"
      ]
     },
     "execution_count": 62,
     "metadata": {},
     "output_type": "execute_result"
    }
   ],
   "source": [
    "len(relevant_docs)"
   ]
  },
  {
   "cell_type": "code",
   "execution_count": 63,
   "metadata": {},
   "outputs": [],
   "source": [
    "\n",
    "\n",
    "template = \"\"\"You are a legal expert tasked with acting as the best lawyer and contract analyzer. Your task is to thoroughly understand the provided context and answer questions related to legal matters, contracts, and relevant laws. You must provide accurate responses based solely on the information provided in the context. If the necessary information is not present in the context, respond with \"I don't know.\":\n",
    "\n",
    "### CONTEXT\n",
    "{context}\n",
    "\n",
    "### QUESTION\n",
    "Question: {question}\n",
    "\"\"\"\n",
    "\n",
    "prompt = ChatPromptTemplate.from_template(template)"
   ]
  },
  {
   "cell_type": "code",
   "execution_count": 64,
   "metadata": {},
   "outputs": [],
   "source": [
    "\n",
    "\n",
    "primary_qa_llm = ChatOpenAI(model_name=\"gpt-3.5-turbo\", temperature=0)\n",
    "\n",
    "retrieval_augmented_qa_chain = (\n",
    "    # INVOKE CHAIN WITH: {\"question\" : \"<<SOME USER QUESTION>>\"}\n",
    "    # \"question\" : populated by getting the value of the \"question\" key\n",
    "    # \"context\"  : populated by getting the value of the \"question\" key and chaining it into the base_retriever\n",
    "    {\"context\": itemgetter(\"question\") | base_retriever, \"question\": itemgetter(\"question\")}\n",
    "    # \"context\"  : is assigned to a RunnablePassthrough object (will not be called or considered in the next step)\n",
    "    #              by getting the value of the \"context\" key from the previous step\n",
    "    | RunnablePassthrough.assign(context=itemgetter(\"context\"))\n",
    "    # \"response\" : the \"context\" and \"question\" values are used to format our prompt object and then piped\n",
    "    #              into the LLM and stored in a key called \"response\"\n",
    "    # \"context\"  : populated by getting the value of the \"context\" key from the previous step\n",
    "    | {\"response\": prompt | primary_qa_llm, \"context\": itemgetter(\"context\")}\n",
    ")"
   ]
  },
  {
   "cell_type": "code",
   "execution_count": 65,
   "metadata": {},
   "outputs": [
    {
     "name": "stdout",
     "output_type": "stream",
     "text": [
      "{'response': AIMessage(content=\"I don't know.\"), 'context': [Document(page_content='Escrow.', metadata={'source': '../data/contract_data/Raptor_Contract.docx'}), Document(page_content='Escrow.', metadata={'source': '../data/contract_data/Raptor_Contract.docx'})]}\n"
     ]
    }
   ],
   "source": [
    "question = \"How much is the escrow amount?\"\n",
    "\n",
    "result = retrieval_augmented_qa_chain.invoke({\"question\" : question})\n",
    "\n",
    "print(result)"
   ]
  },
  {
   "cell_type": "code",
   "execution_count": 66,
   "metadata": {},
   "outputs": [],
   "source": [
    "\n",
    "\n",
    "question_schema = ResponseSchema(\n",
    "    name=\"question\",\n",
    "    description=\"a question about the context.\"\n",
    ")\n",
    "\n",
    "question_response_schemas = [\n",
    "    question_schema,\n",
    "]"
   ]
  },
  {
   "cell_type": "code",
   "execution_count": 67,
   "metadata": {},
   "outputs": [],
   "source": [
    "question_output_parser = StructuredOutputParser.from_response_schemas(question_response_schemas)\n",
    "format_instructions = question_output_parser.get_format_instructions()"
   ]
  },
  {
   "cell_type": "code",
   "execution_count": 68,
   "metadata": {},
   "outputs": [],
   "source": [
    "question_generation_llm = ChatOpenAI(model=\"gpt-3.5-turbo-16k\")\n",
    "\n",
    "bare_prompt_template = \"{content}\"\n",
    "bare_template = ChatPromptTemplate.from_template(template=bare_prompt_template)"
   ]
  },
  {
   "cell_type": "code",
   "execution_count": 69,
   "metadata": {},
   "outputs": [],
   "source": [
    "from langchain.prompts import ChatPromptTemplate\n",
    "\n",
    "qa_template = \"\"\"\\\n",
    "You are a University Professor creating a test for advanced students. For each context, create a question that is specific to the context. Avoid creating generic or general questions.\n",
    "\n",
    "question: a question about the context.\n",
    "\n",
    "Format the output as JSON with the following keys:\n",
    "question\n",
    "\n",
    "context: {context}\n",
    "\"\"\"\n",
    "\n",
    "prompt_template = ChatPromptTemplate.from_template(template=qa_template)\n",
    "\n",
    "messages = prompt_template.format_messages(\n",
    "    context=docs[0],\n",
    "    format_instructions=format_instructions\n",
    ")\n",
    "\n",
    "question_generation_chain = bare_template | question_generation_llm\n",
    "\n",
    "response = question_generation_chain.invoke({\"content\" : messages})\n",
    "output_dict = question_output_parser.parse(response.content)"
   ]
  },
  {
   "cell_type": "code",
   "execution_count": 70,
   "metadata": {},
   "outputs": [
    {
     "name": "stdout",
     "output_type": "stream",
     "text": [
      "question\n",
      "What is the purpose of the document?\n",
      "context\n",
      "STOCK PURCHASE AGREEMENT\n"
     ]
    }
   ],
   "source": [
    "for k, v in output_dict.items():\n",
    "  print(k)\n",
    "  print(v)"
   ]
  },
  {
   "cell_type": "code",
   "execution_count": 72,
   "metadata": {},
   "outputs": [
    {
     "name": "stderr",
     "output_type": "stream",
     "text": [
      "100%|██████████| 10/10 [00:25<00:00,  2.55s/it]\n"
     ]
    }
   ],
   "source": [
    "\n",
    "\n",
    "qac_triples = []\n",
    "\n",
    "for text in tqdm(docs[:10]):\n",
    "  messages = prompt_template.format_messages(\n",
    "      context=text,\n",
    "      format_instructions=format_instructions\n",
    "  )\n",
    "  response = question_generation_chain.invoke({\"content\" : messages})\n",
    "  try:\n",
    "    output_dict = question_output_parser.parse(response.content)\n",
    "  except Exception as e:\n",
    "    continue\n",
    "  output_dict[\"context\"] = text\n",
    "  qac_triples.append(output_dict)"
   ]
  },
  {
   "cell_type": "code",
   "execution_count": 73,
   "metadata": {},
   "outputs": [
    {
     "data": {
      "text/plain": [
       "{'question': 'Who owns all of the outstanding shares of Common Stock and Preferred Stock in the Company?',\n",
       " 'context': Document(page_content='WHEREAS, the Shareholders own all of the outstanding shares of Common Stock, par value $0.01 per share, of the Company (such common stock being referred to herein as the “Common Stock” and such outstanding common shares being referred to herein as the “Common Shares”) and all of the outstanding shares of Preferred Stock, par value $0.01 per share, of the Company (such preferred stock being referred to herein as the “Preferred Stock” and such outstanding preferred shares being referred to herein as the “Series A-1 Preferred Shares” or “Series A-2 Preferred Shares” and, collectively, the “Preferred Shares” and, collectively with the Common Shares, the “Shares”);\\n\\nWHEREAS, the holders of outstanding options and warrants to purchase capital stock of the Company (the “Optionholders” and “Warrantholders”, respectively) own all of the issued and outstanding options and warrants to acquire Common Stock (the “Options” and “Warrants”, respectively);', metadata={'source': '../data/contract_data/Raptor_Contract.docx'})}"
      ]
     },
     "execution_count": 73,
     "metadata": {},
     "output_type": "execute_result"
    }
   ],
   "source": [
    "qac_triples[5]"
   ]
  },
  {
   "cell_type": "code",
   "execution_count": 74,
   "metadata": {},
   "outputs": [],
   "source": [
    "answer_generation_llm = ChatOpenAI(model=\"gpt-4-1106-preview\", temperature=0)\n",
    "\n",
    "answer_schema = ResponseSchema(\n",
    "    name=\"answer\",\n",
    "    description=\"an answer to the question\"\n",
    ")\n",
    "\n",
    "answer_response_schemas = [\n",
    "    answer_schema,\n",
    "]\n",
    "\n",
    "answer_output_parser = StructuredOutputParser.from_response_schemas(answer_response_schemas)\n",
    "format_instructions = answer_output_parser.get_format_instructions()\n",
    "\n",
    "qa_template = \"\"\"\\\n",
    "You are a University Professor creating a test for advanced students. For each question and context, create an answer.\n",
    "\n",
    "answer: a answer about the context.\n",
    "\n",
    "Format the output as JSON with the following keys:\n",
    "answer\n",
    "\n",
    "question: {question}\n",
    "context: {context}\n",
    "\"\"\"\n",
    "\n",
    "prompt_template = ChatPromptTemplate.from_template(template=qa_template)\n",
    "\n",
    "messages = prompt_template.format_messages(\n",
    "    context=qac_triples[0][\"context\"],\n",
    "    question=qac_triples[0][\"question\"],\n",
    "    format_instructions=format_instructions\n",
    ")\n",
    "\n",
    "answer_generation_chain = bare_template | answer_generation_llm\n",
    "\n",
    "response = answer_generation_chain.invoke({\"content\" : messages})\n",
    "output_dict = answer_output_parser.parse(response.content)"
   ]
  },
  {
   "cell_type": "code",
   "execution_count": 75,
   "metadata": {},
   "outputs": [
    {
     "name": "stdout",
     "output_type": "stream",
     "text": [
      "answer\n",
      "The purpose of the document is to outline the terms and conditions of a stock purchase agreement between the buyer, the target company, the sellers listed, and the sellers' representative. It serves as a preliminary document to facilitate discussions and is not intended to create a legally binding agreement until a definitive written agreement is executed by all parties involved.\n",
      "question\n",
      "What is the purpose of the document?\n"
     ]
    }
   ],
   "source": [
    "for k, v in output_dict.items():\n",
    "  print(k)\n",
    "  print(v)"
   ]
  },
  {
   "cell_type": "code",
   "execution_count": 76,
   "metadata": {},
   "outputs": [
    {
     "name": "stderr",
     "output_type": "stream",
     "text": [
      "100%|██████████| 10/10 [00:50<00:00,  5.04s/it]\n"
     ]
    }
   ],
   "source": [
    "for triple in tqdm(qac_triples):\n",
    "  messages = prompt_template.format_messages(\n",
    "      context=triple[\"context\"],\n",
    "      question=triple[\"question\"],\n",
    "      format_instructions=format_instructions\n",
    "  )\n",
    "  response = answer_generation_chain.invoke({\"content\" : messages})\n",
    "  try:\n",
    "    output_dict = answer_output_parser.parse(response.content)\n",
    "  except Exception as e:\n",
    "    continue\n",
    "  triple[\"answer\"] = output_dict[\"answer\"]"
   ]
  },
  {
   "cell_type": "code",
   "execution_count": 77,
   "metadata": {},
   "outputs": [
    {
     "name": "stderr",
     "output_type": "stream",
     "text": [
      "huggingface/tokenizers: The current process just got forked, after parallelism has already been used. Disabling parallelism to avoid deadlocks...\n",
      "To disable this warning, you can either:\n",
      "\t- Avoid using `tokenizers` before the fork if possible\n",
      "\t- Explicitly set the environment variable TOKENIZERS_PARALLELISM=(true | false)\n"
     ]
    }
   ],
   "source": [
    "!pip install -q -U datasets"
   ]
  },
  {
   "cell_type": "code",
   "execution_count": 78,
   "metadata": {},
   "outputs": [],
   "source": [
    "import pandas as pd\n",
    "from datasets import Dataset\n",
    "\n",
    "ground_truth_qac_set = pd.DataFrame(qac_triples)\n",
    "ground_truth_qac_set[\"context\"] = ground_truth_qac_set[\"context\"].map(lambda x: str(x.page_content))\n",
    "ground_truth_qac_set = ground_truth_qac_set.rename(columns={\"answer\" : \"ground_truth\"})\n",
    "\n",
    "\n",
    "eval_dataset = Dataset.from_pandas(ground_truth_qac_set)"
   ]
  },
  {
   "cell_type": "code",
   "execution_count": 79,
   "metadata": {},
   "outputs": [
    {
     "data": {
      "text/plain": [
       "Dataset({\n",
       "    features: ['question', 'context', 'ground_truth'],\n",
       "    num_rows: 10\n",
       "})"
      ]
     },
     "execution_count": 79,
     "metadata": {},
     "output_type": "execute_result"
    }
   ],
   "source": [
    "eval_dataset"
   ]
  },
  {
   "cell_type": "code",
   "execution_count": 80,
   "metadata": {},
   "outputs": [
    {
     "data": {
      "text/plain": [
       "{'question': 'What is the purpose of the document?',\n",
       " 'context': '[R&G Draft 12.__.2021]\\n\\nSTOCK PURCHASE AGREEMENT\\n\\nBY AND AMONG\\n\\n[BUYER],\\n\\n[TARGET COMPANY],\\n\\nTHE SELLERS LISTED ON SCHEDULE I HERETO\\n\\nAND\\n\\nTHE SELLERS’ REPRESENTATIVE NAMED HEREIN\\n\\nDated as of [●]\\n\\n[This document is intended solely to facilitate discussions among the parties identified herein.  Neither this document nor such discussions are intended to create, nor will either or both be deemed to create, a legally binding or enforceable offer or agreement of any type or nature, unless and until a definitive written agreement is executed and delivered by each of the parties hereto.\\n\\nThis document shall be kept confidential pursuant to the terms of the Confidentiality Agreement entered into by the parties and, if applicable, its affiliates with respect to the subject matter hereof.]\\n\\n112923184_5\\n\\n112923184_5\\n\\n\\n\\nTABLE OF CONTENTS\\n\\nARTICLE I DEFINITIONS; CERTAIN RULES OF CONSTRUCTION\\t2\\n\\nSection 1.01\\tDefinitions\\t2\\n\\nSection 1.02\\tCertain Matters of Construction\\t13',\n",
       " 'ground_truth': \"The purpose of the document is to outline the terms and conditions of a stock purchase agreement between the buyer, the target company, the sellers listed, and the sellers' representative. It serves as a preliminary document to facilitate discussions and is not intended to create a legally binding or enforceable offer or agreement until a definitive written agreement is executed by all parties involved. The document also includes confidentiality obligations based on a previously entered agreement.\"}"
      ]
     },
     "execution_count": 80,
     "metadata": {},
     "output_type": "execute_result"
    }
   ],
   "source": [
    "eval_dataset[0]"
   ]
  },
  {
   "cell_type": "code",
   "execution_count": 81,
   "metadata": {},
   "outputs": [
    {
     "name": "stderr",
     "output_type": "stream",
     "text": [
      "Creating CSV from Arrow format: 100%|██████████| 1/1 [00:00<00:00, 95.16ba/s]\n"
     ]
    },
    {
     "data": {
      "text/plain": [
       "12688"
      ]
     },
     "execution_count": 81,
     "metadata": {},
     "output_type": "execute_result"
    }
   ],
   "source": [
    "eval_dataset.to_csv(\"../data/ground_truth/groundtruth_eval_dataset.csv\")"
   ]
  },
  {
   "cell_type": "code",
   "execution_count": 83,
   "metadata": {},
   "outputs": [],
   "source": [
    "from ragas.metrics import (\n",
    "    answer_relevancy,\n",
    "    faithfulness,\n",
    "    context_recall,\n",
    "    context_precision,\n",
    "    context_relevancy,\n",
    "    answer_correctness,\n",
    "    answer_similarity\n",
    ")\n",
    "\n",
    "from ragas.metrics.critique import harmfulness\n",
    "from ragas import evaluate\n",
    "\n",
    "def create_ragas_dataset(rag_pipeline, eval_dataset):\n",
    "  rag_dataset = []\n",
    "  for row in tqdm(eval_dataset):\n",
    "    answer = rag_pipeline.invoke({\"question\" : row[\"question\"]})\n",
    "    rag_dataset.append(\n",
    "        {\"question\" : row[\"question\"],\n",
    "         \"answer\" : answer[\"response\"].content,\n",
    "         \"contexts\" : [context.page_content for context in answer[\"context\"]],\n",
    "         \"ground_truths\" : [row[\"ground_truth\"]]\n",
    "         }\n",
    "    )\n",
    "  rag_df = pd.DataFrame(rag_dataset)\n",
    "  rag_eval_dataset = Dataset.from_pandas(rag_df)\n",
    "  return rag_eval_dataset\n",
    "\n",
    "def evaluate_ragas_dataset(ragas_dataset):\n",
    "  result = evaluate(\n",
    "    ragas_dataset,\n",
    "    metrics=[\n",
    "        context_precision,\n",
    "        faithfulness,\n",
    "        answer_relevancy,\n",
    "        context_recall,\n",
    "        context_relevancy,\n",
    "        answer_correctness,\n",
    "        answer_similarity\n",
    "    ],\n",
    "  )\n",
    "  return result"
   ]
  },
  {
   "cell_type": "code",
   "execution_count": 84,
   "metadata": {},
   "outputs": [
    {
     "name": "stderr",
     "output_type": "stream",
     "text": [
      "100%|██████████| 10/10 [00:16<00:00,  1.65s/it]\n"
     ]
    }
   ],
   "source": [
    "from tqdm import tqdm\n",
    "import pandas as pd\n",
    "\n",
    "basic_qa_ragas_dataset = create_ragas_dataset(retrieval_augmented_qa_chain, eval_dataset)"
   ]
  },
  {
   "cell_type": "code",
   "execution_count": 85,
   "metadata": {},
   "outputs": [
    {
     "data": {
      "text/plain": [
       "Dataset({\n",
       "    features: ['question', 'answer', 'contexts', 'ground_truths'],\n",
       "    num_rows: 10\n",
       "})"
      ]
     },
     "execution_count": 85,
     "metadata": {},
     "output_type": "execute_result"
    }
   ],
   "source": [
    "basic_qa_ragas_dataset"
   ]
  },
  {
   "cell_type": "code",
   "execution_count": 86,
   "metadata": {},
   "outputs": [
    {
     "data": {
      "text/plain": [
       "{'question': 'What is the purpose of the document?',\n",
       " 'answer': 'Answer: The purpose of the document is solely to facilitate discussions among the parties identified herein. It is not intended to create a legally binding or enforceable offer or agreement unless a definitive written agreement is executed.',\n",
       " 'contexts': ['[This document is intended solely to facilitate discussions among the parties identified herein.  Neither this document nor such discussions are intended to create, nor will either or both be deemed to create, a legally binding or enforceable offer',\n",
       "  'this document nor such discussions are intended to create, nor will either or both be deemed to create, a legally binding or enforceable offer or agreement of any type or nature, unless and until a definitive written agreement is executed and'],\n",
       " 'ground_truths': [\"The purpose of the document is to outline the terms and conditions of a stock purchase agreement between the buyer, the target company, the sellers listed, and the sellers' representative. It serves as a preliminary document to facilitate discussions and is not intended to create a legally binding or enforceable offer or agreement until a definitive written agreement is executed by all parties involved. The document also includes confidentiality obligations based on a previously entered agreement.\"]}"
      ]
     },
     "execution_count": 86,
     "metadata": {},
     "output_type": "execute_result"
    }
   ],
   "source": [
    "basic_qa_ragas_dataset[0]"
   ]
  },
  {
   "cell_type": "code",
   "execution_count": 87,
   "metadata": {},
   "outputs": [
    {
     "name": "stderr",
     "output_type": "stream",
     "text": [
      "passing column names as 'ground_truths' is deprecated and will be removed in the next version, please use 'ground_truth' instead. Note that `ground_truth` should be of type string and not Sequence[string] like `ground_truths`\n",
      "Evaluating: 100%|██████████| 70/70 [00:16<00:00,  4.30it/s]\n"
     ]
    }
   ],
   "source": [
    "basic_qa_result = evaluate_ragas_dataset(basic_qa_ragas_dataset)"
   ]
  },
  {
   "cell_type": "code",
   "execution_count": 90,
   "metadata": {},
   "outputs": [
    {
     "data": {
      "text/plain": [
       "{'context_precision': 0.8500, 'faithfulness': 0.9583, 'answer_relevancy': 0.6987, 'context_recall': 0.8000, 'context_relevancy': 0.3243, 'answer_correctness': 0.6172, 'answer_similarity': 0.9088}"
      ]
     },
     "execution_count": 90,
     "metadata": {},
     "output_type": "execute_result"
    }
   ],
   "source": [
    "basic_qa_result"
   ]
  },
  {
   "cell_type": "markdown",
   "metadata": {},
   "source": [
    "### Testing Other Retrievers\n",
    "\n",
    "Now we can test our how changing our Retriever impacts our RAGAS evaluation!\n",
    "\n",
    "We'll build this simple qa_chain factory to create standardized qa_chains where the only different component will be the retriever."
   ]
  },
  {
   "cell_type": "code",
   "execution_count": 91,
   "metadata": {},
   "outputs": [],
   "source": [
    "def create_qa_chain(retriever):\n",
    "  primary_qa_llm = ChatOpenAI(model_name=\"gpt-3.5-turbo\", temperature=0)\n",
    "  created_qa_chain = (\n",
    "    {\"context\": itemgetter(\"question\") | retriever,\n",
    "     \"question\": itemgetter(\"question\")\n",
    "    }\n",
    "    | RunnablePassthrough.assign(\n",
    "        context=itemgetter(\"context\")\n",
    "      )\n",
    "    | {\n",
    "         \"response\": prompt | primary_qa_llm,\n",
    "         \"context\": itemgetter(\"context\"),\n",
    "      }\n",
    "  )\n",
    "\n",
    "  return created_qa_chain"
   ]
  },
  {
   "cell_type": "markdown",
   "metadata": {},
   "source": [
    "#### Parent Document Retriever\n",
    "\n",
    "One of the easier ways we can imagine improving a retriever is to embed our documents into small chunks, and then retrieve a significant amount of additional context that \"surrounds\" the found context.\n",
    "\n",
    "You can read more about this method [here](https://python.langchain.com/docs/modules/data_connection/retrievers/parent_document_retriever)!\n",
    "\n",
    "The basic outline of this retrieval method is as follows:\n",
    "\n",
    "1. Obtain User Question\n",
    "2. Retrieve child documents using Dense Vector Retrieval\n",
    "3. Merge the child documents based on their parents. If they have the same parents - they become merged.\n",
    "4. Replace the child documents with their respective parent documents from an in-memory-store.\n",
    "5. Use the parent documents to augment generation."
   ]
  },
  {
   "cell_type": "code",
   "execution_count": 1,
   "metadata": {},
   "outputs": [
    {
     "ename": "NameError",
     "evalue": "name 'RecursiveCharacterTextSplitter' is not defined",
     "output_type": "error",
     "traceback": [
      "\u001b[0;31m---------------------------------------------------------------------------\u001b[0m",
      "\u001b[0;31mNameError\u001b[0m                                 Traceback (most recent call last)",
      "Cell \u001b[0;32mIn[1], line 4\u001b[0m\n\u001b[1;32m      1\u001b[0m \u001b[38;5;28;01mfrom\u001b[39;00m \u001b[38;5;21;01mlangchain\u001b[39;00m\u001b[38;5;21;01m.\u001b[39;00m\u001b[38;5;21;01mretrievers\u001b[39;00m \u001b[38;5;28;01mimport\u001b[39;00m ParentDocumentRetriever\n\u001b[1;32m      2\u001b[0m \u001b[38;5;28;01mfrom\u001b[39;00m \u001b[38;5;21;01mlangchain\u001b[39;00m\u001b[38;5;21;01m.\u001b[39;00m\u001b[38;5;21;01mstorage\u001b[39;00m \u001b[38;5;28;01mimport\u001b[39;00m InMemoryStore\n\u001b[0;32m----> 4\u001b[0m parent_splitter \u001b[38;5;241m=\u001b[39m \u001b[43mRecursiveCharacterTextSplitter\u001b[49m(chunk_size\u001b[38;5;241m=\u001b[39m\u001b[38;5;241m500\u001b[39m)\n\u001b[1;32m      5\u001b[0m child_splitter \u001b[38;5;241m=\u001b[39m RecursiveCharacterTextSplitter(chunk_size\u001b[38;5;241m=\u001b[39m\u001b[38;5;241m10\u001b[39m)\n\u001b[1;32m      7\u001b[0m vectorstore \u001b[38;5;241m=\u001b[39m Chroma(collection_name\u001b[38;5;241m=\u001b[39m\u001b[38;5;124m\"\u001b[39m\u001b[38;5;124msplit_parents\u001b[39m\u001b[38;5;124m\"\u001b[39m, embedding_function\u001b[38;5;241m=\u001b[39mOpenAIEmbeddings())\n",
      "\u001b[0;31mNameError\u001b[0m: name 'RecursiveCharacterTextSplitter' is not defined"
     ]
    }
   ],
   "source": [
    "from langchain.retrievers import ParentDocumentRetriever\n",
    "from langchain.storage import InMemoryStore\n",
    "\n",
    "parent_splitter = RecursiveCharacterTextSplitter(chunk_size=1500)\n",
    "child_splitter = RecursiveCharacterTextSplitter(chunk_size=200)\n",
    "\n",
    "vectorstore = Chroma(collection_name=\"split_parents\", embedding_function=OpenAIEmbeddings())\n",
    "\n",
    "store = InMemoryStore()"
   ]
  },
  {
   "cell_type": "code",
   "execution_count": 93,
   "metadata": {},
   "outputs": [],
   "source": [
    "parent_document_retriever = ParentDocumentRetriever(\n",
    "    vectorstore=vectorstore,\n",
    "    docstore=store,\n",
    "    child_splitter=child_splitter,\n",
    "    parent_splitter=parent_splitter,\n",
    ")"
   ]
  },
  {
   "cell_type": "code",
   "execution_count": 95,
   "metadata": {},
   "outputs": [],
   "source": [
    "parent_document_retriever.add_documents(docs)"
   ]
  },
  {
   "cell_type": "markdown",
   "metadata": {},
   "source": [
    "Let's create, test, and then evaluate our new chain!"
   ]
  },
  {
   "cell_type": "code",
   "execution_count": 96,
   "metadata": {},
   "outputs": [],
   "source": [
    "parent_document_retriever_qa_chain = create_qa_chain(parent_document_retriever)"
   ]
  },
  {
   "cell_type": "code",
   "execution_count": 104,
   "metadata": {},
   "outputs": [
    {
     "data": {
      "text/plain": [
       "'Answer: The escrow amount is $1,000,000.'"
      ]
     },
     "execution_count": 104,
     "metadata": {},
     "output_type": "execute_result"
    }
   ],
   "source": [
    "parent_document_retriever_qa_chain.invoke({\"question\" : \"How much is the escrow amount?\"})[\"response\"].content"
   ]
  },
  {
   "cell_type": "code",
   "execution_count": 105,
   "metadata": {},
   "outputs": [
    {
     "name": "stderr",
     "output_type": "stream",
     "text": [
      "100%|██████████| 10/10 [00:16<00:00,  1.69s/it]\n"
     ]
    }
   ],
   "source": [
    "pdr_qa_ragas_dataset = create_ragas_dataset(parent_document_retriever_qa_chain, eval_dataset)"
   ]
  },
  {
   "cell_type": "code",
   "execution_count": 106,
   "metadata": {},
   "outputs": [
    {
     "data": {
      "text/plain": [
       "{'question': 'What is the purpose of the document?',\n",
       " 'answer': 'Answer: The purpose of the document is to facilitate discussions among the parties involved in a potential stock purchase agreement. It is stated that the document is not intended to create a legally binding or enforceable offer or agreement unless a definitive written agreement is executed and delivered by each of the parties.',\n",
       " 'contexts': ['Schedule\\xa03.14 lists all Employee Plans which an Acquired Company sponsors or maintains, or to which an Acquired Company contributes or is obligated to contribute for the benefit of any current or former employee, director, consultant, or other individual service provider of an Acquired Company or the beneficiaries or dependents of any such Person (each a “Company Plan”).  With respect to each Company Plan, the Company has delivered to the Buyer accurate and complete copies of each of the following:  (i)\\xa0if the plan has been reduced to writing, the plan document together with all amendments thereto, (ii)\\xa0if the plan has not been reduced to writing, a written summary of all material plan terms, (iii)\\xa0if applicable, any trust agreements, custodial agreements, non-standard insurance policies or contracts, administrative agreements and similar agreements, and investment management or investment advisory agreements, (iv)\\xa0 any summary plan descriptions, employee handbooks or similar material',\n",
       "  'Provisions Concerning the Sellers’ Representative.\\n\\nAppointment.  Each Seller hereby irrevocably appoints [●] as the sole and exclusive agent, proxy and attorney-in-fact for such Seller for all purposes of this Agreement, the Escrow Agreement and the Contemplated Transactions, with full and exclusive power and authority to act on such Seller’s behalf (the “Sellers’ Representative”).  The appointment of the Sellers’ Representative hereunder is coupled with an interest, shall be irrevocable and shall not be affected by the death, incapacity, insolvency, bankruptcy, illness or other inability to act of any Seller.  Without limiting the generality of the foregoing, the Sellers’ Representative is hereby authorized, on behalf of the Sellers, to:\\n\\nin connection with the Closing, execute and receive all documents, instruments, certificates, statements and agreements on behalf of and in the name of each Seller necessary to effectuate the Closing and consummate the Contemplated Transactions;',\n",
       "  '[R&G Draft 12.__.2021]\\n\\nSTOCK PURCHASE AGREEMENT\\n\\nBY AND AMONG\\n\\n[BUYER],\\n\\n[TARGET COMPANY],\\n\\nTHE SELLERS LISTED ON SCHEDULE I HERETO\\n\\nAND\\n\\nTHE SELLERS’ REPRESENTATIVE NAMED HEREIN\\n\\nDated as of [●]\\n\\n[This document is intended solely to facilitate discussions among the parties identified herein.  Neither this document nor such discussions are intended to create, nor will either or both be deemed to create, a legally binding or enforceable offer or agreement of any type or nature, unless and until a definitive written agreement is executed and delivered by each of the parties hereto.\\n\\nThis document shall be kept confidential pursuant to the terms of the Confidentiality Agreement entered into by the parties and, if applicable, its affiliates with respect to the subject matter hereof.]\\n\\n112923184_5\\n\\n112923184_5\\n\\n\\n\\nTABLE OF CONTENTS\\n\\nARTICLE I DEFINITIONS; CERTAIN RULES OF CONSTRUCTION\\t2\\n\\nSection 1.01\\tDefinitions\\t2\\n\\nSection 1.02\\tCertain Matters of Construction\\t13'],\n",
       " 'ground_truths': [\"The purpose of the document is to outline the terms and conditions of a stock purchase agreement between the buyer, the target company, the sellers listed, and the sellers' representative. It serves as a preliminary document to facilitate discussions and is not intended to create a legally binding or enforceable offer or agreement until a definitive written agreement is executed by all parties involved. The document also includes confidentiality obligations based on a previously entered agreement.\"]}"
      ]
     },
     "execution_count": 106,
     "metadata": {},
     "output_type": "execute_result"
    }
   ],
   "source": [
    "pdr_qa_ragas_dataset[0]"
   ]
  },
  {
   "cell_type": "code",
   "execution_count": 107,
   "metadata": {},
   "outputs": [
    {
     "name": "stderr",
     "output_type": "stream",
     "text": [
      "Creating CSV from Arrow format: 100%|██████████| 1/1 [00:00<00:00, 284.38ba/s]\n"
     ]
    },
    {
     "data": {
      "text/plain": [
       "24076"
      ]
     },
     "execution_count": 107,
     "metadata": {},
     "output_type": "execute_result"
    }
   ],
   "source": [
    "pdr_qa_ragas_dataset.to_csv(\"../data/pdr_qa_ragas_dataset.csv\")"
   ]
  },
  {
   "cell_type": "code",
   "execution_count": 108,
   "metadata": {},
   "outputs": [
    {
     "name": "stderr",
     "output_type": "stream",
     "text": [
      "passing column names as 'ground_truths' is deprecated and will be removed in the next version, please use 'ground_truth' instead. Note that `ground_truth` should be of type string and not Sequence[string] like `ground_truths`\n",
      "Evaluating: 100%|██████████| 70/70 [00:16<00:00,  4.22it/s]\n"
     ]
    }
   ],
   "source": [
    "pdr_qa_result = evaluate_ragas_dataset(pdr_qa_ragas_dataset)"
   ]
  },
  {
   "cell_type": "code",
   "execution_count": 109,
   "metadata": {},
   "outputs": [
    {
     "data": {
      "text/plain": [
       "{'context_precision': 0.8917, 'faithfulness': 0.9630, 'answer_relevancy': 0.9756, 'context_recall': 0.9333, 'context_relevancy': 0.1646, 'answer_correctness': 0.7775, 'answer_similarity': 0.9641}"
      ]
     },
     "execution_count": 109,
     "metadata": {},
     "output_type": "execute_result"
    }
   ],
   "source": [
    "pdr_qa_result"
   ]
  },
  {
   "cell_type": "markdown",
   "metadata": {},
   "source": [
    "#### Ensemble Retrieval\n",
    "\n",
    "Next let's look at ensemble retrieval!\n",
    "\n",
    "You can read more about this [here](https://python.langchain.com/docs/modules/data_connection/retrievers/ensemble)!\n",
    "\n",
    "The basic idea is as follows:\n",
    "\n",
    "1. Obtain User Question\n",
    "2. Hit the Retriever Pair\n",
    "    - Retrieve Documents with BM25 Sparse Vector Retrieval\n",
    "    - Retrieve Documents with Dense Vector Retrieval Method\n",
    "3. Collect and \"fuse\" the retrieved docs based on their weighting using the [Reciprocal Rank Fusion](https://plg.uwaterloo.ca/~gvcormac/cormacksigir09-rrf.pdf) algorithm into a single ranked list.\n",
    "4. Use those documents to augment our generation.\n",
    "\n",
    "Ensure your `weights` list - the relative weighting of each retriever - sums to 1!"
   ]
  },
  {
   "cell_type": "code",
   "execution_count": 119,
   "metadata": {},
   "outputs": [],
   "source": [
    "from langchain.retrievers import BM25Retriever, EnsembleRetriever\n",
    "\n",
    "text_splitter = RecursiveCharacterTextSplitter(chunk_size=450, chunk_overlap=75)\n",
    "b_docs = text_splitter.split_documents(docs)\n",
    "\n",
    "bm25_retriever = BM25Retriever.from_documents(b_docs)\n",
    "bm25_retriever.k = 2\n",
    "\n",
    "embedding = OpenAIEmbeddings()\n",
    "vectorstore = Chroma.from_documents(b_docs, embedding)\n",
    "chroma_retriever = vectorstore.as_retriever(search_kwargs={\"k\": 3})\n",
    "\n",
    "ensemble_retriever = EnsembleRetriever(retrievers=[bm25_retriever, chroma_retriever], weights=[0.75, 0.25])"
   ]
  },
  {
   "cell_type": "code",
   "execution_count": 120,
   "metadata": {},
   "outputs": [],
   "source": [
    "ensemble_retriever_qa_chain = create_qa_chain(ensemble_retriever)"
   ]
  },
  {
   "cell_type": "code",
   "execution_count": 121,
   "metadata": {},
   "outputs": [
    {
     "data": {
      "text/plain": [
       "\"I don't know.\""
      ]
     },
     "execution_count": 121,
     "metadata": {},
     "output_type": "execute_result"
    }
   ],
   "source": [
    "ensemble_retriever_qa_chain.invoke({\"question\" : \"How much is the escrow amount?\"})[\"response\"].content"
   ]
  },
  {
   "cell_type": "code",
   "execution_count": 129,
   "metadata": {},
   "outputs": [
    {
     "name": "stderr",
     "output_type": "stream",
     "text": [
      "100%|██████████| 10/10 [00:17<00:00,  1.78s/it]\n"
     ]
    }
   ],
   "source": [
    "ensemble_qa_ragas_dataset = create_ragas_dataset(ensemble_retriever_qa_chain, eval_dataset)"
   ]
  },
  {
   "cell_type": "code",
   "execution_count": 130,
   "metadata": {},
   "outputs": [
    {
     "name": "stderr",
     "output_type": "stream",
     "text": [
      "Creating CSV from Arrow format: 100%|██████████| 1/1 [00:00<00:00, 469.53ba/s]\n"
     ]
    },
    {
     "data": {
      "text/plain": [
       "21551"
      ]
     },
     "execution_count": 130,
     "metadata": {},
     "output_type": "execute_result"
    }
   ],
   "source": [
    "ensemble_qa_ragas_dataset.to_csv(\"../data/ensemble_qa_ragas_dataset.csv\")"
   ]
  },
  {
   "cell_type": "code",
   "execution_count": 131,
   "metadata": {},
   "outputs": [
    {
     "name": "stderr",
     "output_type": "stream",
     "text": [
      "passing column names as 'ground_truths' is deprecated and will be removed in the next version, please use 'ground_truth' instead. Note that `ground_truth` should be of type string and not Sequence[string] like `ground_truths`\n",
      "Evaluating: 100%|██████████| 70/70 [00:18<00:00,  3.80it/s]\n"
     ]
    }
   ],
   "source": [
    "ensemble_qa_result = evaluate_ragas_dataset(ensemble_qa_ragas_dataset)"
   ]
  },
  {
   "cell_type": "code",
   "execution_count": 132,
   "metadata": {},
   "outputs": [
    {
     "data": {
      "text/plain": [
       "{'context_precision': 0.6268, 'faithfulness': 0.9630, 'answer_relevancy': 0.8949, 'context_recall': 0.7333, 'context_relevancy': 0.1759, 'answer_correctness': 0.7314, 'answer_similarity': 0.9442}"
      ]
     },
     "execution_count": 132,
     "metadata": {},
     "output_type": "execute_result"
    }
   ],
   "source": [
    "ensemble_qa_result"
   ]
  },
  {
   "cell_type": "code",
   "execution_count": 133,
   "metadata": {},
   "outputs": [
    {
     "data": {
      "text/plain": [
       "{'context_precision': 0.8500, 'faithfulness': 0.9583, 'answer_relevancy': 0.6987, 'context_recall': 0.8000, 'context_relevancy': 0.3243, 'answer_correctness': 0.6172, 'answer_similarity': 0.9088}"
      ]
     },
     "execution_count": 133,
     "metadata": {},
     "output_type": "execute_result"
    }
   ],
   "source": [
    "basic_qa_result"
   ]
  },
  {
   "cell_type": "code",
   "execution_count": 134,
   "metadata": {},
   "outputs": [
    {
     "data": {
      "text/plain": [
       "{'context_precision': 0.8917, 'faithfulness': 0.9630, 'answer_relevancy': 0.9756, 'context_recall': 0.9333, 'context_relevancy': 0.1646, 'answer_correctness': 0.7775, 'answer_similarity': 0.9641}"
      ]
     },
     "execution_count": 134,
     "metadata": {},
     "output_type": "execute_result"
    }
   ],
   "source": [
    "pdr_qa_result"
   ]
  },
  {
   "cell_type": "code",
   "execution_count": 135,
   "metadata": {},
   "outputs": [
    {
     "data": {
      "text/plain": [
       "{'context_precision': 0.6268, 'faithfulness': 0.9630, 'answer_relevancy': 0.8949, 'context_recall': 0.7333, 'context_relevancy': 0.1759, 'answer_correctness': 0.7314, 'answer_similarity': 0.9442}"
      ]
     },
     "execution_count": 135,
     "metadata": {},
     "output_type": "execute_result"
    }
   ],
   "source": [
    "ensemble_qa_result"
   ]
  },
  {
   "cell_type": "code",
   "execution_count": 136,
   "metadata": {},
   "outputs": [],
   "source": [
    "ensemble_qa_result_df = ensemble_qa_result.to_pandas()"
   ]
  },
  {
   "cell_type": "code",
   "execution_count": 137,
   "metadata": {},
   "outputs": [
    {
     "data": {
      "text/html": [
       "<div>\n",
       "<style scoped>\n",
       "    .dataframe tbody tr th:only-of-type {\n",
       "        vertical-align: middle;\n",
       "    }\n",
       "\n",
       "    .dataframe tbody tr th {\n",
       "        vertical-align: top;\n",
       "    }\n",
       "\n",
       "    .dataframe thead th {\n",
       "        text-align: right;\n",
       "    }\n",
       "</style>\n",
       "<table border=\"1\" class=\"dataframe\">\n",
       "  <thead>\n",
       "    <tr style=\"text-align: right;\">\n",
       "      <th></th>\n",
       "      <th>question</th>\n",
       "      <th>answer</th>\n",
       "      <th>contexts</th>\n",
       "      <th>ground_truths</th>\n",
       "      <th>ground_truth</th>\n",
       "      <th>context_precision</th>\n",
       "      <th>faithfulness</th>\n",
       "      <th>answer_relevancy</th>\n",
       "      <th>context_recall</th>\n",
       "      <th>context_relevancy</th>\n",
       "      <th>answer_correctness</th>\n",
       "      <th>answer_similarity</th>\n",
       "    </tr>\n",
       "  </thead>\n",
       "  <tbody>\n",
       "    <tr>\n",
       "      <th>0</th>\n",
       "      <td>What is the purpose of the document?</td>\n",
       "      <td>Answer: The purpose of the document is to faci...</td>\n",
       "      <td>[above-named courts.  Notwithstanding the prev...</td>\n",
       "      <td>[The purpose of the document is to outline the...</td>\n",
       "      <td>The purpose of the document is to outline the ...</td>\n",
       "      <td>0.477778</td>\n",
       "      <td>1.000000</td>\n",
       "      <td>0.000000</td>\n",
       "      <td>0.000000</td>\n",
       "      <td>0.100000</td>\n",
       "      <td>0.648741</td>\n",
       "      <td>0.880679</td>\n",
       "    </tr>\n",
       "    <tr>\n",
       "      <th>1</th>\n",
       "      <td>What does Section 2.06 of the contract cover?</td>\n",
       "      <td>Answer: Section 2.06 of the contract covers th...</td>\n",
       "      <td>[ARTICLE II PURCHASE AND SALE OF SHARES AND WA...</td>\n",
       "      <td>[Section 2.06 of the contract covers the 'Trea...</td>\n",
       "      <td>Section 2.06 of the contract covers the 'Treat...</td>\n",
       "      <td>0.916667</td>\n",
       "      <td>1.000000</td>\n",
       "      <td>1.000000</td>\n",
       "      <td>1.000000</td>\n",
       "      <td>0.045455</td>\n",
       "      <td>0.608355</td>\n",
       "      <td>0.933500</td>\n",
       "    </tr>\n",
       "    <tr>\n",
       "      <th>2</th>\n",
       "      <td>What is discussed in Section 3.14 of the contr...</td>\n",
       "      <td>Answer: Section 3.14 of the contract discusses...</td>\n",
       "      <td>[subject to tax pursuant to Section 3(i) of th...</td>\n",
       "      <td>[Section 3.14 of the contract discusses 'Emplo...</td>\n",
       "      <td>Section 3.14 of the contract discusses 'Employ...</td>\n",
       "      <td>0.583333</td>\n",
       "      <td>1.000000</td>\n",
       "      <td>0.985800</td>\n",
       "      <td>1.000000</td>\n",
       "      <td>0.000000</td>\n",
       "      <td>0.996476</td>\n",
       "      <td>0.985905</td>\n",
       "    </tr>\n",
       "    <tr>\n",
       "      <th>3</th>\n",
       "      <td>What is the topic of Section 6.03?</td>\n",
       "      <td>Answer: The topic of Section 6.03 is related t...</td>\n",
       "      <td>[subject to tax pursuant to Section 3(i) of th...</td>\n",
       "      <td>[The topic of Section 6.03 is Publicity.]</td>\n",
       "      <td>The topic of Section 6.03 is Publicity.</td>\n",
       "      <td>0.000000</td>\n",
       "      <td>1.000000</td>\n",
       "      <td>1.000000</td>\n",
       "      <td>0.000000</td>\n",
       "      <td>0.333333</td>\n",
       "      <td>0.213214</td>\n",
       "      <td>0.852857</td>\n",
       "    </tr>\n",
       "    <tr>\n",
       "      <th>4</th>\n",
       "      <td>Who are the parties involved in the Stock Purc...</td>\n",
       "      <td>The parties involved in the Stock Purchase Agr...</td>\n",
       "      <td>[Specific Performance.  Each of the parties ac...</td>\n",
       "      <td>[The parties involved in the Stock Purchase Ag...</td>\n",
       "      <td>The parties involved in the Stock Purchase Agr...</td>\n",
       "      <td>0.805556</td>\n",
       "      <td>1.000000</td>\n",
       "      <td>1.000000</td>\n",
       "      <td>1.000000</td>\n",
       "      <td>0.000000</td>\n",
       "      <td>0.991154</td>\n",
       "      <td>0.964597</td>\n",
       "    </tr>\n",
       "    <tr>\n",
       "      <th>5</th>\n",
       "      <td>Who owns all of the outstanding shares of Comm...</td>\n",
       "      <td>Answer: The Shareholders own all of the outsta...</td>\n",
       "      <td>[“Fully-Diluted Common Share Number” means the...</td>\n",
       "      <td>[The Shareholders own all of the outstanding s...</td>\n",
       "      <td>The Shareholders own all of the outstanding sh...</td>\n",
       "      <td>0.679167</td>\n",
       "      <td>1.000000</td>\n",
       "      <td>1.000000</td>\n",
       "      <td>1.000000</td>\n",
       "      <td>0.222222</td>\n",
       "      <td>0.995506</td>\n",
       "      <td>0.982025</td>\n",
       "    </tr>\n",
       "    <tr>\n",
       "      <th>6</th>\n",
       "      <td>What is the purpose of cancelling the Options ...</td>\n",
       "      <td>Answer: The purpose of cancelling the Options ...</td>\n",
       "      <td>[WHEREAS, the parties further desire that all ...</td>\n",
       "      <td>[The purpose of cancelling the Options and War...</td>\n",
       "      <td>The purpose of cancelling the Options and Warr...</td>\n",
       "      <td>1.000000</td>\n",
       "      <td>1.000000</td>\n",
       "      <td>0.999492</td>\n",
       "      <td>0.333333</td>\n",
       "      <td>0.250000</td>\n",
       "      <td>0.536165</td>\n",
       "      <td>0.944659</td>\n",
       "    </tr>\n",
       "    <tr>\n",
       "      <th>7</th>\n",
       "      <td>What is the meaning of 'Accounting Principles'...</td>\n",
       "      <td>Answer: The meaning of 'Accounting Principles'...</td>\n",
       "      <td>[“Vested Options Consideration” means the aggr...</td>\n",
       "      <td>[In the context of this Agreement, 'Accounting...</td>\n",
       "      <td>In the context of this Agreement, 'Accounting ...</td>\n",
       "      <td>0.416667</td>\n",
       "      <td>1.000000</td>\n",
       "      <td>0.981574</td>\n",
       "      <td>1.000000</td>\n",
       "      <td>0.083333</td>\n",
       "      <td>0.743980</td>\n",
       "      <td>0.975920</td>\n",
       "    </tr>\n",
       "    <tr>\n",
       "      <th>8</th>\n",
       "      <td>What does the term 'Action' encompass in this ...</td>\n",
       "      <td>Answer: The term 'Action' in this context enco...</td>\n",
       "      <td>[Severability.  Any term or provision of this ...</td>\n",
       "      <td>[In the provided context, the term 'Action' re...</td>\n",
       "      <td>In the provided context, the term 'Action' ref...</td>\n",
       "      <td>0.583333</td>\n",
       "      <td>NaN</td>\n",
       "      <td>1.000000</td>\n",
       "      <td>1.000000</td>\n",
       "      <td>0.600000</td>\n",
       "      <td>0.742155</td>\n",
       "      <td>0.968621</td>\n",
       "    </tr>\n",
       "    <tr>\n",
       "      <th>9</th>\n",
       "      <td>What is the definition of 'Ancillary Agreement...</td>\n",
       "      <td>Answer: The definition of 'Ancillary Agreement...</td>\n",
       "      <td>[Affiliates after Closing,  and (b) without du...</td>\n",
       "      <td>[In the provided context, 'Ancillary Agreement...</td>\n",
       "      <td>In the provided context, 'Ancillary Agreements...</td>\n",
       "      <td>0.805556</td>\n",
       "      <td>0.666667</td>\n",
       "      <td>0.982622</td>\n",
       "      <td>1.000000</td>\n",
       "      <td>0.125000</td>\n",
       "      <td>0.838308</td>\n",
       "      <td>0.953231</td>\n",
       "    </tr>\n",
       "  </tbody>\n",
       "</table>\n",
       "</div>"
      ],
      "text/plain": [
       "                                            question  \\\n",
       "0               What is the purpose of the document?   \n",
       "1      What does Section 2.06 of the contract cover?   \n",
       "2  What is discussed in Section 3.14 of the contr...   \n",
       "3                 What is the topic of Section 6.03?   \n",
       "4  Who are the parties involved in the Stock Purc...   \n",
       "5  Who owns all of the outstanding shares of Comm...   \n",
       "6  What is the purpose of cancelling the Options ...   \n",
       "7  What is the meaning of 'Accounting Principles'...   \n",
       "8  What does the term 'Action' encompass in this ...   \n",
       "9  What is the definition of 'Ancillary Agreement...   \n",
       "\n",
       "                                              answer  \\\n",
       "0  Answer: The purpose of the document is to faci...   \n",
       "1  Answer: Section 2.06 of the contract covers th...   \n",
       "2  Answer: Section 3.14 of the contract discusses...   \n",
       "3  Answer: The topic of Section 6.03 is related t...   \n",
       "4  The parties involved in the Stock Purchase Agr...   \n",
       "5  Answer: The Shareholders own all of the outsta...   \n",
       "6  Answer: The purpose of cancelling the Options ...   \n",
       "7  Answer: The meaning of 'Accounting Principles'...   \n",
       "8  Answer: The term 'Action' in this context enco...   \n",
       "9  Answer: The definition of 'Ancillary Agreement...   \n",
       "\n",
       "                                            contexts  \\\n",
       "0  [above-named courts.  Notwithstanding the prev...   \n",
       "1  [ARTICLE II PURCHASE AND SALE OF SHARES AND WA...   \n",
       "2  [subject to tax pursuant to Section 3(i) of th...   \n",
       "3  [subject to tax pursuant to Section 3(i) of th...   \n",
       "4  [Specific Performance.  Each of the parties ac...   \n",
       "5  [“Fully-Diluted Common Share Number” means the...   \n",
       "6  [WHEREAS, the parties further desire that all ...   \n",
       "7  [“Vested Options Consideration” means the aggr...   \n",
       "8  [Severability.  Any term or provision of this ...   \n",
       "9  [Affiliates after Closing,  and (b) without du...   \n",
       "\n",
       "                                       ground_truths  \\\n",
       "0  [The purpose of the document is to outline the...   \n",
       "1  [Section 2.06 of the contract covers the 'Trea...   \n",
       "2  [Section 3.14 of the contract discusses 'Emplo...   \n",
       "3          [The topic of Section 6.03 is Publicity.]   \n",
       "4  [The parties involved in the Stock Purchase Ag...   \n",
       "5  [The Shareholders own all of the outstanding s...   \n",
       "6  [The purpose of cancelling the Options and War...   \n",
       "7  [In the context of this Agreement, 'Accounting...   \n",
       "8  [In the provided context, the term 'Action' re...   \n",
       "9  [In the provided context, 'Ancillary Agreement...   \n",
       "\n",
       "                                        ground_truth  context_precision  \\\n",
       "0  The purpose of the document is to outline the ...           0.477778   \n",
       "1  Section 2.06 of the contract covers the 'Treat...           0.916667   \n",
       "2  Section 3.14 of the contract discusses 'Employ...           0.583333   \n",
       "3            The topic of Section 6.03 is Publicity.           0.000000   \n",
       "4  The parties involved in the Stock Purchase Agr...           0.805556   \n",
       "5  The Shareholders own all of the outstanding sh...           0.679167   \n",
       "6  The purpose of cancelling the Options and Warr...           1.000000   \n",
       "7  In the context of this Agreement, 'Accounting ...           0.416667   \n",
       "8  In the provided context, the term 'Action' ref...           0.583333   \n",
       "9  In the provided context, 'Ancillary Agreements...           0.805556   \n",
       "\n",
       "   faithfulness  answer_relevancy  context_recall  context_relevancy  \\\n",
       "0      1.000000          0.000000        0.000000           0.100000   \n",
       "1      1.000000          1.000000        1.000000           0.045455   \n",
       "2      1.000000          0.985800        1.000000           0.000000   \n",
       "3      1.000000          1.000000        0.000000           0.333333   \n",
       "4      1.000000          1.000000        1.000000           0.000000   \n",
       "5      1.000000          1.000000        1.000000           0.222222   \n",
       "6      1.000000          0.999492        0.333333           0.250000   \n",
       "7      1.000000          0.981574        1.000000           0.083333   \n",
       "8           NaN          1.000000        1.000000           0.600000   \n",
       "9      0.666667          0.982622        1.000000           0.125000   \n",
       "\n",
       "   answer_correctness  answer_similarity  \n",
       "0            0.648741           0.880679  \n",
       "1            0.608355           0.933500  \n",
       "2            0.996476           0.985905  \n",
       "3            0.213214           0.852857  \n",
       "4            0.991154           0.964597  \n",
       "5            0.995506           0.982025  \n",
       "6            0.536165           0.944659  \n",
       "7            0.743980           0.975920  \n",
       "8            0.742155           0.968621  \n",
       "9            0.838308           0.953231  "
      ]
     },
     "execution_count": 137,
     "metadata": {},
     "output_type": "execute_result"
    }
   ],
   "source": [
    "ensemble_qa_result_df"
   ]
  },
  {
   "cell_type": "code",
   "execution_count": 138,
   "metadata": {},
   "outputs": [],
   "source": [
    "def create_df_dict(pipeline_name, pipeline_items):\n",
    "  df_dict = {\"name\" : pipeline_name}\n",
    "  for name, score in pipeline_items:\n",
    "    df_dict[name] = score\n",
    "  return df_dict"
   ]
  },
  {
   "cell_type": "code",
   "execution_count": 139,
   "metadata": {},
   "outputs": [],
   "source": [
    "basic_rag_df_dict = create_df_dict(\"basic_rag\", basic_qa_result.items())"
   ]
  },
  {
   "cell_type": "code",
   "execution_count": 140,
   "metadata": {},
   "outputs": [],
   "source": [
    "pdr_rag_df_dict = create_df_dict(\"pdr_rag\", pdr_qa_result.items())"
   ]
  },
  {
   "cell_type": "code",
   "execution_count": 141,
   "metadata": {},
   "outputs": [],
   "source": [
    "ensemble_rag_df_dict = create_df_dict(\"ensemble_rag\", ensemble_qa_result.items())"
   ]
  },
  {
   "cell_type": "code",
   "execution_count": 142,
   "metadata": {},
   "outputs": [],
   "source": [
    "results_df = pd.DataFrame([basic_rag_df_dict, pdr_rag_df_dict, ensemble_rag_df_dict])"
   ]
  },
  {
   "cell_type": "code",
   "execution_count": 143,
   "metadata": {},
   "outputs": [
    {
     "data": {
      "text/html": [
       "<div>\n",
       "<style scoped>\n",
       "    .dataframe tbody tr th:only-of-type {\n",
       "        vertical-align: middle;\n",
       "    }\n",
       "\n",
       "    .dataframe tbody tr th {\n",
       "        vertical-align: top;\n",
       "    }\n",
       "\n",
       "    .dataframe thead th {\n",
       "        text-align: right;\n",
       "    }\n",
       "</style>\n",
       "<table border=\"1\" class=\"dataframe\">\n",
       "  <thead>\n",
       "    <tr style=\"text-align: right;\">\n",
       "      <th></th>\n",
       "      <th>name</th>\n",
       "      <th>context_precision</th>\n",
       "      <th>faithfulness</th>\n",
       "      <th>answer_relevancy</th>\n",
       "      <th>context_recall</th>\n",
       "      <th>context_relevancy</th>\n",
       "      <th>answer_correctness</th>\n",
       "      <th>answer_similarity</th>\n",
       "    </tr>\n",
       "  </thead>\n",
       "  <tbody>\n",
       "    <tr>\n",
       "      <th>1</th>\n",
       "      <td>pdr_rag</td>\n",
       "      <td>0.891667</td>\n",
       "      <td>0.962963</td>\n",
       "      <td>0.975602</td>\n",
       "      <td>0.933333</td>\n",
       "      <td>0.164649</td>\n",
       "      <td>0.777451</td>\n",
       "      <td>0.964090</td>\n",
       "    </tr>\n",
       "    <tr>\n",
       "      <th>2</th>\n",
       "      <td>ensemble_rag</td>\n",
       "      <td>0.626806</td>\n",
       "      <td>0.962963</td>\n",
       "      <td>0.894949</td>\n",
       "      <td>0.733333</td>\n",
       "      <td>0.175934</td>\n",
       "      <td>0.731405</td>\n",
       "      <td>0.944199</td>\n",
       "    </tr>\n",
       "    <tr>\n",
       "      <th>0</th>\n",
       "      <td>basic_rag</td>\n",
       "      <td>0.850000</td>\n",
       "      <td>0.958333</td>\n",
       "      <td>0.698677</td>\n",
       "      <td>0.800000</td>\n",
       "      <td>0.324286</td>\n",
       "      <td>0.617196</td>\n",
       "      <td>0.908789</td>\n",
       "    </tr>\n",
       "  </tbody>\n",
       "</table>\n",
       "</div>"
      ],
      "text/plain": [
       "           name  context_precision  faithfulness  answer_relevancy  \\\n",
       "1       pdr_rag           0.891667      0.962963          0.975602   \n",
       "2  ensemble_rag           0.626806      0.962963          0.894949   \n",
       "0     basic_rag           0.850000      0.958333          0.698677   \n",
       "\n",
       "   context_recall  context_relevancy  answer_correctness  answer_similarity  \n",
       "1        0.933333           0.164649            0.777451           0.964090  \n",
       "2        0.733333           0.175934            0.731405           0.944199  \n",
       "0        0.800000           0.324286            0.617196           0.908789  "
      ]
     },
     "execution_count": 143,
     "metadata": {},
     "output_type": "execute_result"
    }
   ],
   "source": [
    "results_df.sort_values(\"answer_correctness\", ascending=False)"
   ]
  },
  {
   "cell_type": "markdown",
   "metadata": {},
   "source": [
    "### ❓QUESTION❓\n",
    "\n",
    "What conclusions can you draw about the above results?\n",
    "\n",
    "Describe in your own words what the metrics are expressing."
   ]
  },
  {
   "cell_type": "code",
   "execution_count": 1,
   "metadata": {},
   "outputs": [
    {
     "name": "stderr",
     "output_type": "stream",
     "text": [
      "/home/eyaya/Desktop/Challenges/Week_11/Contract_Advisor_RAG/venv2/lib/python3.10/site-packages/tqdm/auto.py:21: TqdmWarning: IProgress not found. Please update jupyter and ipywidgets. See https://ipywidgets.readthedocs.io/en/stable/user_install.html\n",
      "  from .autonotebook import tqdm as notebook_tqdm\n"
     ]
    }
   ],
   "source": [
    "from sentence_transformers import SentenceTransformer"
   ]
  },
  {
   "cell_type": "code",
   "execution_count": 2,
   "metadata": {},
   "outputs": [
    {
     "name": "stderr",
     "output_type": "stream",
     "text": [
      "modules.json: 100%|██████████| 349/349 [00:00<00:00, 1.59MB/s]\n",
      "config_sentence_transformers.json: 100%|██████████| 124/124 [00:00<00:00, 444kB/s]\n",
      "README.md: 100%|██████████| 90.8k/90.8k [00:00<00:00, 904kB/s]\n",
      "sentence_bert_config.json: 100%|██████████| 52.0/52.0 [00:00<00:00, 90.5kB/s]\n",
      "config.json: 100%|██████████| 684/684 [00:00<00:00, 1.50MB/s]\n",
      "model.safetensors: 100%|██████████| 133M/133M [00:28<00:00, 4.68MB/s] \n",
      "tokenizer_config.json: 100%|██████████| 366/366 [00:00<00:00, 1.00MB/s]\n",
      "vocab.txt: 100%|██████████| 232k/232k [00:00<00:00, 1.61MB/s]\n",
      "tokenizer.json: 100%|██████████| 711k/711k [00:00<00:00, 3.47MB/s]\n",
      "special_tokens_map.json: 100%|██████████| 125/125 [00:00<00:00, 140kB/s]\n",
      "1_Pooling/config.json: 100%|██████████| 190/190 [00:00<00:00, 1.17MB/s]\n"
     ]
    }
   ],
   "source": [
    "model_id = \"BAAI/bge-small-en\"\n",
    "model = SentenceTransformer(model_id)"
   ]
  },
  {
   "cell_type": "code",
   "execution_count": null,
   "metadata": {},
   "outputs": [],
   "source": []
  }
 ],
 "metadata": {
  "kernelspec": {
   "display_name": "venv2",
   "language": "python",
   "name": "python3"
  },
  "language_info": {
   "codemirror_mode": {
    "name": "ipython",
    "version": 3
   },
   "file_extension": ".py",
   "mimetype": "text/x-python",
   "name": "python",
   "nbconvert_exporter": "python",
   "pygments_lexer": "ipython3",
   "version": "3.10.12"
  }
 },
 "nbformat": 4,
 "nbformat_minor": 2
}
