{
 "cells": [
  {
   "cell_type": "code",
   "execution_count": 1,
   "metadata": {},
   "outputs": [],
   "source": [
    "from langchain_community.document_loaders import DirectoryLoader\n",
    "from langchain.text_splitter import RecursiveCharacterTextSplitter,SentenceTransformersTokenTextSplitter\n",
    "from langchain.schema import Document\n",
    "from langchain_openai import OpenAIEmbeddings\n",
    "from langchain.vectorstores.chroma import Chroma\n",
    "import chromadb \n",
    "from chromadb.utils.embedding_functions import SentenceTransformerEmbeddingFunction\n",
    "import os\n",
    "import shutil\n",
    "from langchain_community.document_loaders import Docx2txtLoader\n",
    "\n",
    "from pypdf import PdfReader\n",
    "\n",
    "import os\n",
    "import openai\n",
    "from openai import OpenAI\n",
    "from dotenv import load_dotenv, find_dotenv\n",
    "_ = load_dotenv(find_dotenv()) # read local .env file\n",
    "openai.api_key = os.environ['OPENAI_API_KEY']\n",
    "openai_client = OpenAI()\n"
   ]
  },
  {
   "cell_type": "code",
   "execution_count": 2,
   "metadata": {},
   "outputs": [
    {
     "name": "stderr",
     "output_type": "stream",
     "text": [
      "/home/eyaya/Desktop/Challenges/Week_11/Contract_Advisor_RAG/venv2/lib/python3.10/site-packages/tqdm/auto.py:21: TqdmWarning: IProgress not found. Please update jupyter and ipywidgets. See https://ipywidgets.readthedocs.io/en/stable/user_install.html\n",
      "  from .autonotebook import tqdm as notebook_tqdm\n"
     ]
    }
   ],
   "source": [
    "\n",
    "import umap\n",
    "import numpy as np\n",
    "from tqdm import tqdm"
   ]
  },
  {
   "cell_type": "code",
   "execution_count": 3,
   "metadata": {},
   "outputs": [],
   "source": [
    "\n",
    "import sys\n",
    "sys.path.append('../')\n",
    "from src.utils import word_wrap"
   ]
  },
  {
   "cell_type": "code",
   "execution_count": 46,
   "metadata": {},
   "outputs": [],
   "source": [
    "vectordb_path = '../data/chromadb/'\n",
    "data_path = '../data/contract_data/'"
   ]
  },
  {
   "cell_type": "code",
   "execution_count": 47,
   "metadata": {},
   "outputs": [],
   "source": [
    "reader = PdfReader(data_path+'Raptor.pdf')"
   ]
  },
  {
   "cell_type": "code",
   "execution_count": 48,
   "metadata": {},
   "outputs": [],
   "source": [
    "pdf_texts = [p.extract_text().strip() for p in reader.pages]\n",
    "pdf_texts = [text for text in pdf_texts if text]"
   ]
  },
  {
   "cell_type": "code",
   "execution_count": 49,
   "metadata": {},
   "outputs": [
    {
     "name": "stdout",
     "output_type": "stream",
     "text": [
      "[R&G Draft 12.__.2021] STOCK PURCHASE AGREEMENT BY AND AMONG [BUYER],\n",
      "[TARGET COMP ANY], THE SELLERS LISTED ON SCHEDULE I HERET O AND THE\n",
      "SELLERS’ REPRESENT ATIVE NAMED HEREIN Dated as of [●] [This document\n",
      "is intended solely to facilitate discussions among the parties\n",
      "identified herein.  Neither this document nor such discussions are\n",
      "intended to create, nor will either or both be  deemed to create, a\n",
      "legally binding or enforceable offer or agreement of any type or\n",
      "nature,  unless and until a definitive written agreement is executed\n",
      "and delivered by each of the parties  hereto. This document shall be\n",
      "kept confidential pursuant to the terms of the Confidentiality\n",
      "Agreement entered into by the parties and, if applicable, its\n",
      "affiliates with respect to the subject  matter hereof.] 112923184_5\n"
     ]
    }
   ],
   "source": [
    "print(word_wrap(pdf_texts[0]))"
   ]
  },
  {
   "cell_type": "code",
   "execution_count": 50,
   "metadata": {},
   "outputs": [],
   "source": [
    "character_splitter = RecursiveCharacterTextSplitter(\n",
    "        separators=[\"\\n\\n\",\"\\n\",\".\", \" \",\"\"],\n",
    "        chunk_size=500,\n",
    "        chunk_overlap=10,\n",
    "    )\n",
    "character_split_texts = character_splitter.split_text('\\n\\n'.join(pdf_texts))"
   ]
  },
  {
   "cell_type": "code",
   "execution_count": 51,
   "metadata": {},
   "outputs": [
    {
     "name": "stdout",
     "output_type": "stream",
     "text": [
      "Total chunk 490\n"
     ]
    }
   ],
   "source": [
    "print('Total chunk',len(character_split_texts))"
   ]
  },
  {
   "cell_type": "code",
   "execution_count": 52,
   "metadata": {},
   "outputs": [],
   "source": [
    "token_splitter = SentenceTransformersTokenTextSplitter(chunk_overlap=0, tokens_per_chunk=256)"
   ]
  },
  {
   "cell_type": "code",
   "execution_count": 53,
   "metadata": {},
   "outputs": [
    {
     "name": "stdout",
     "output_type": "stream",
     "text": [
      "stock purchase agreement this stock purchase agreement ( this “\n",
      "agreement ” ) is made and entered into as of [ ● ] by and among [\n",
      "parent ], a [ ● ] corporation ( “ parent ” ) ], [ buyer ], a delaware\n",
      "corporation and a wholly owned subsidiary of parent ( “ buyer ” ) 1, [\n",
      "target comp any ], a delaware corporation ( the “ company ” ), each of\n",
      "the holders of outstanding shares of capital stock of the company\n",
      "listed on schedule i hereto ( respectively, the “ shareholders ” or\n",
      "the “ sellers ” ) 2, and [ ● ], in\n",
      "\n",
      "Total chunks: 490\n"
     ]
    }
   ],
   "source": [
    "token_split_texts = []\n",
    "for text in character_split_texts:\n",
    "    token_split_texts += token_splitter.split_text(text)\n",
    "\n",
    "print(word_wrap(token_split_texts[10]))\n",
    "print(f\"\\nTotal chunks: {len(token_split_texts)}\")"
   ]
  },
  {
   "cell_type": "code",
   "execution_count": 54,
   "metadata": {},
   "outputs": [
    {
     "name": "stdout",
     "output_type": "stream",
     "text": [
      "[[-0.010687097907066345, -0.02267240546643734, 0.058891016989946365, -0.026844708248972893, -0.016043977811932564, 0.007356878370046616, 0.03913184255361557, 0.02374662272632122, 0.04208064079284668, -0.04585960507392883, 0.07091499865055084, -0.020057646557688713, 0.007743957918137312, -0.020984595641493797, 0.061448659747838974, 0.007069782819598913, 0.00023805622186046094, 0.025507736951112747, 0.04417411983013153, -0.008094425313174725, -0.08181234449148178, -0.018982628360390663, 0.001050553168170154, 0.031059488654136658, 0.026162974536418915, 0.007653172127902508, 0.020977508276700974, 0.033604495227336884, 0.017255356535315514, -0.03667173162102699, -0.033191192895174026, -0.017380716279149055, 0.08637655526399612, 0.04638750106096268, -0.008988943882286549, 0.03413565829396248, 0.01322031207382679, -0.06021418794989586, 0.01641496829688549, -0.001064987969584763, 0.007121656555682421, 0.024552837014198303, 0.014552944339811802, -0.026268137618899345, 0.006666858214884996, 0.033091798424720764, -0.06266076862812042, 0.049138739705085754, 0.01534485723823309, 0.06159374117851257, -0.013314325362443924, -0.03740733489394188, 0.016161080449819565, 0.03173477202653885, -0.0314459502696991, 0.09912160038948059, -0.07303295284509659, -0.05419425293803215, 0.0057686325162649155, -0.0199617650359869, -0.019523054361343384, -0.0022912570275366306, 0.016085464507341385, 0.015193521976470947, 0.11218476295471191, 0.014927580021321774, 0.012203648686408997, 0.00816261861473322, -0.08255510777235031, -0.021799078211188316, 0.038792021572589874, 0.006933905649930239, -0.05587653070688248, 0.10526352375745773, -0.08292097598314285, 0.022580882534384727, -0.0033920120913535357, 0.03254878148436546, 0.0754493921995163, -0.09274143725633621, -0.045278891921043396, 0.1169360801577568, -0.044753383845090866, -0.10003435611724854, -0.020679788663983345, 0.021034367382526398, 0.06241436302661896, 0.07273425161838531, 0.06020591780543327, 0.0766376256942749, -0.030800558626651764, -0.0715806856751442, 0.02177896723151207, -0.020742187276482582, -0.049699753522872925, -0.04317450895905495, 0.015727264806628227, -0.00804982054978609, 0.027346817776560783, -0.06760454177856445, 0.09251663088798523, 0.0688643828034401, -0.03945110738277435, -0.010824325494468212, -0.12388399243354797, -0.06162421405315399, -0.07092205435037613, -0.09350283443927765, 0.06265126168727875, 0.046476662158966064, -0.10452382266521454, -0.012277047149837017, -0.062361184507608414, -0.031194938346743584, -0.11191439628601074, 0.007861253805458546, -0.04100184887647629, -0.010503465309739113, 0.09075479209423065, -0.1668546050786972, -0.012280981056392193, 0.024385329335927963, -0.06643186509609222, -0.05422480031847954, -0.06377948075532913, -0.04617951065301895, -0.11541630327701569, -4.8647128412169875e-33, -0.12924708425998688, 0.019878964871168137, -0.031307023018598557, 0.03748927265405655, -0.010033468715846539, 0.018400054425001144, 0.0408305749297142, 0.011053306981921196, -0.1652241200208664, 0.00489346869289875, -0.10096461325883865, -0.05537855625152588, 0.04249386489391327, 0.018294429406523705, 0.007393574807792902, -0.038626961410045624, 0.015944959595799446, 0.049032650887966156, 0.07636670768260956, 0.02263428084552288, -0.025233225896954536, 0.0787823498249054, -0.047238729894161224, 0.04844333976507187, 0.03845756873488426, -0.10128579288721085, -0.045344822108745575, 0.03377142921090126, -0.023032566532492638, -0.016977155581116676, 0.060115840286016464, -0.000731376523617655, -0.033255502581596375, 0.013315233401954174, 0.03750411793589592, -0.009086180478334427, 0.002149632666260004, -0.02578178606927395, 0.0351460836827755, -0.05403741076588631, -0.05247525870800018, -0.020843518897891045, -0.029774054884910583, -0.009079067036509514, -0.01683160290122032, 0.0007309241918846965, -0.09501630812883377, -0.03971712291240692, 0.06715860217809677, 0.06253518909215927, -0.06694097071886063, -0.009675559587776661, -0.039016179740428925, -0.08102095127105713, 0.0051917931996285915, -0.014980876818299294, -0.06363362818956375, -0.008703691884875298, -0.09217514097690582, 0.024195613339543343, 0.0008966641034930944, 0.015361854806542397, -0.033410269767045975, -0.049247562885284424, -0.0594809353351593, 0.06281964480876923, -0.00342925894074142, 0.0035300536546856165, 0.05977954342961311, -0.019733192399144173, 0.032038673758506775, 0.01901070587337017, 0.034765906631946564, 0.0032416004687547684, -0.007158658467233181, -0.027756571769714355, -0.03159905970096588, 0.09289458394050598, 0.05491098389029503, -0.018696865066885948, -0.060885582119226456, 0.010422042571008205, 0.051894161850214005, 0.06787014752626419, 0.026566684246063232, 0.008022605441510677, 0.0092214560136199, -0.01857852376997471, -0.018855378031730652, 0.09123452007770538, 0.025820374488830566, -0.0660296231508255, -0.00896496418863535, 0.08774005621671677, 0.05657443031668663, 1.1840036442252947e-33, 0.09582828730344772, 0.009574425406754017, 0.021042516455054283, -0.07212074846029282, -0.07736193388700485, -0.028252309188246727, 0.05735389143228531, -0.04568890109658241, 0.013307317160069942, -0.0035941919777542353, -0.03725997731089592, -0.006351671181619167, -0.009715992957353592, -0.009193471632897854, 0.00495269475504756, 0.03252677246928215, 0.021352212876081467, -0.007001204881817102, 0.06460914760828018, -0.003832296235486865, 0.04411953687667847, -0.033320121467113495, 0.018852876499295235, 0.09932243078947067, 0.01621432974934578, -0.00203542853705585, 0.018337029963731766, 0.032651253044605255, 0.00015411581262014806, 0.023378336802124977, 0.03886134922504425, -0.07853493094444275, -0.02980729378759861, 0.053870789706707, 0.05918433144688606, -0.08522363752126694, 0.058645427227020264, 0.023250842466950417, 0.08107446134090424, -0.028138786554336548, 0.04024428874254227, 0.008046339266002178, 0.06471981108188629, 0.11062201112508774, 0.03219032287597656, 0.009626523591578007, 0.08069374412298203, -0.02277376316487789, -0.016963385045528412, 0.06622278690338135, -0.08039028197526932, 0.01685303822159767, 0.03414072096347809, -0.02045602910220623, -0.048692479729652405, 0.10825403779745102, 0.07073752582073212, -0.012044009752571583, 0.0367756113409996, -0.026693936437368393, 0.05779020115733147, 0.01786365732550621, 0.027786236256361008, 0.07441604137420654, -0.012842172756791115, -0.00602330919355154, -0.03714289516210556, 0.043636713176965714, -0.03015698492527008, 0.01416143961250782, -0.02245853841304779, -0.09635089337825775, 0.02299281395971775, -0.1007486954331398, 0.05462266504764557, -0.04481693357229233, 0.024691009894013405, -0.020940138027071953, -0.0644611120223999, 0.011608494445681572, 0.004638159181922674, 0.08703308552503586, 0.053671788424253464, 0.05860283598303795, 0.0024103610776364803, -0.043313167989254, 0.01022945437580347, -0.036639727652072906, 0.024110030382871628, -0.012013571336865425, 0.02324158512055874, -0.02361026592552662, 0.02663581073284149, -0.03009025752544403, -0.04488265514373779, -4.483984739067637e-08, -0.025447726249694824, -0.12450474500656128, 0.027901310473680496, -0.08037849515676498, 0.08699585497379303, -0.06889228522777557, 0.029058484360575676, -0.03188466280698776, -0.04807308688759804, 0.05676880478858948, -0.0338313952088356, -0.02204425446689129, -0.12597565352916718, -0.05562229081988335, -0.036157235503196716, -0.06638901680707932, -0.07215338945388794, 0.0757577195763588, -0.018208671361207962, -0.018752045929431915, -0.05767982453107834, 0.018575886264443398, 0.052739519625902176, 0.04937130585312843, -0.025321928784251213, 0.02138518914580345, 0.07255546748638153, 0.0014263582415878773, 0.05476438254117966, 0.039024755358695984, -0.005546790547668934, 0.07496850192546844, 0.018658962100744247, -0.008608764037489891, 0.04517490789294243, -0.09247102588415146, 0.03125748410820961, 0.07578704506158829, -0.0023612482473254204, -0.00023706085630692542, -0.04499553516507149, -0.008835481479763985, -0.02150408923625946, 0.03368449583649635, 0.07940888404846191, 0.05397558957338333, -0.14754718542099, 0.015544523485004902, 0.05872290953993797, -0.0631893202662468, -0.01335329283028841, -0.0046776975505054, -0.019589032977819443, 0.023333007469773293, 0.007119854912161827, -0.029245302081108093, -0.054376158863306046, -0.014146172441542149, 0.07157203555107117, -0.023702558130025864, 0.052224114537239075, 0.024396056309342384, 0.12267347425222397, 0.03186074271798134]]\n"
     ]
    }
   ],
   "source": [
    "embedding_function = SentenceTransformerEmbeddingFunction()\n",
    "print(embedding_function([token_split_texts[10]]))"
   ]
  },
  {
   "cell_type": "code",
   "execution_count": 55,
   "metadata": {},
   "outputs": [
    {
     "ename": "UniqueConstraintError",
     "evalue": "Collection contract already exists",
     "output_type": "error",
     "traceback": [
      "\u001b[0;31m---------------------------------------------------------------------------\u001b[0m",
      "\u001b[0;31mUniqueConstraintError\u001b[0m                     Traceback (most recent call last)",
      "Cell \u001b[0;32mIn[55], line 2\u001b[0m\n\u001b[1;32m      1\u001b[0m chroma_client \u001b[38;5;241m=\u001b[39m chromadb\u001b[38;5;241m.\u001b[39mClient()\n\u001b[0;32m----> 2\u001b[0m chroma_collection \u001b[38;5;241m=\u001b[39m \u001b[43mchroma_client\u001b[49m\u001b[38;5;241;43m.\u001b[39;49m\u001b[43mcreate_collection\u001b[49m\u001b[43m(\u001b[49m\u001b[43mname\u001b[49m\u001b[38;5;241;43m=\u001b[39;49m\u001b[38;5;124;43m'\u001b[39;49m\u001b[38;5;124;43mcontract\u001b[39;49m\u001b[38;5;124;43m'\u001b[39;49m\u001b[43m,\u001b[49m\u001b[43m \u001b[49m\u001b[43membedding_function\u001b[49m\u001b[38;5;241;43m=\u001b[39;49m\u001b[43membedding_function\u001b[49m\u001b[43m)\u001b[49m\n",
      "File \u001b[0;32m~/Desktop/Challenges/Week_11/Contract_Advisor_RAG/venv2/lib/python3.10/site-packages/chromadb/api/client.py:198\u001b[0m, in \u001b[0;36mClient.create_collection\u001b[0;34m(self, name, metadata, embedding_function, data_loader, get_or_create)\u001b[0m\n\u001b[1;32m    187\u001b[0m \u001b[38;5;129m@override\u001b[39m\n\u001b[1;32m    188\u001b[0m \u001b[38;5;28;01mdef\u001b[39;00m \u001b[38;5;21mcreate_collection\u001b[39m(\n\u001b[1;32m    189\u001b[0m     \u001b[38;5;28mself\u001b[39m,\n\u001b[0;32m   (...)\u001b[0m\n\u001b[1;32m    196\u001b[0m     get_or_create: \u001b[38;5;28mbool\u001b[39m \u001b[38;5;241m=\u001b[39m \u001b[38;5;28;01mFalse\u001b[39;00m,\n\u001b[1;32m    197\u001b[0m ) \u001b[38;5;241m-\u001b[39m\u001b[38;5;241m>\u001b[39m Collection:\n\u001b[0;32m--> 198\u001b[0m     \u001b[38;5;28;01mreturn\u001b[39;00m \u001b[38;5;28;43mself\u001b[39;49m\u001b[38;5;241;43m.\u001b[39;49m\u001b[43m_server\u001b[49m\u001b[38;5;241;43m.\u001b[39;49m\u001b[43mcreate_collection\u001b[49m\u001b[43m(\u001b[49m\n\u001b[1;32m    199\u001b[0m \u001b[43m        \u001b[49m\u001b[43mname\u001b[49m\u001b[38;5;241;43m=\u001b[39;49m\u001b[43mname\u001b[49m\u001b[43m,\u001b[49m\n\u001b[1;32m    200\u001b[0m \u001b[43m        \u001b[49m\u001b[43mmetadata\u001b[49m\u001b[38;5;241;43m=\u001b[39;49m\u001b[43mmetadata\u001b[49m\u001b[43m,\u001b[49m\n\u001b[1;32m    201\u001b[0m \u001b[43m        \u001b[49m\u001b[43membedding_function\u001b[49m\u001b[38;5;241;43m=\u001b[39;49m\u001b[43membedding_function\u001b[49m\u001b[43m,\u001b[49m\n\u001b[1;32m    202\u001b[0m \u001b[43m        \u001b[49m\u001b[43mdata_loader\u001b[49m\u001b[38;5;241;43m=\u001b[39;49m\u001b[43mdata_loader\u001b[49m\u001b[43m,\u001b[49m\n\u001b[1;32m    203\u001b[0m \u001b[43m        \u001b[49m\u001b[43mtenant\u001b[49m\u001b[38;5;241;43m=\u001b[39;49m\u001b[38;5;28;43mself\u001b[39;49m\u001b[38;5;241;43m.\u001b[39;49m\u001b[43mtenant\u001b[49m\u001b[43m,\u001b[49m\n\u001b[1;32m    204\u001b[0m \u001b[43m        \u001b[49m\u001b[43mdatabase\u001b[49m\u001b[38;5;241;43m=\u001b[39;49m\u001b[38;5;28;43mself\u001b[39;49m\u001b[38;5;241;43m.\u001b[39;49m\u001b[43mdatabase\u001b[49m\u001b[43m,\u001b[49m\n\u001b[1;32m    205\u001b[0m \u001b[43m        \u001b[49m\u001b[43mget_or_create\u001b[49m\u001b[38;5;241;43m=\u001b[39;49m\u001b[43mget_or_create\u001b[49m\u001b[43m,\u001b[49m\n\u001b[1;32m    206\u001b[0m \u001b[43m    \u001b[49m\u001b[43m)\u001b[49m\n",
      "File \u001b[0;32m~/Desktop/Challenges/Week_11/Contract_Advisor_RAG/venv2/lib/python3.10/site-packages/chromadb/telemetry/opentelemetry/__init__.py:127\u001b[0m, in \u001b[0;36mtrace_method.<locals>.decorator.<locals>.wrapper\u001b[0;34m(*args, **kwargs)\u001b[0m\n\u001b[1;32m    125\u001b[0m \u001b[38;5;28;01mglobal\u001b[39;00m tracer, granularity\n\u001b[1;32m    126\u001b[0m \u001b[38;5;28;01mif\u001b[39;00m trace_granularity \u001b[38;5;241m<\u001b[39m granularity:\n\u001b[0;32m--> 127\u001b[0m     \u001b[38;5;28;01mreturn\u001b[39;00m \u001b[43mf\u001b[49m\u001b[43m(\u001b[49m\u001b[38;5;241;43m*\u001b[39;49m\u001b[43margs\u001b[49m\u001b[43m,\u001b[49m\u001b[43m \u001b[49m\u001b[38;5;241;43m*\u001b[39;49m\u001b[38;5;241;43m*\u001b[39;49m\u001b[43mkwargs\u001b[49m\u001b[43m)\u001b[49m\n\u001b[1;32m    128\u001b[0m \u001b[38;5;28;01mif\u001b[39;00m \u001b[38;5;129;01mnot\u001b[39;00m tracer:\n\u001b[1;32m    129\u001b[0m     \u001b[38;5;28;01mreturn\u001b[39;00m f(\u001b[38;5;241m*\u001b[39margs, \u001b[38;5;241m*\u001b[39m\u001b[38;5;241m*\u001b[39mkwargs)\n",
      "File \u001b[0;32m~/Desktop/Challenges/Week_11/Contract_Advisor_RAG/venv2/lib/python3.10/site-packages/chromadb/api/segment.py:166\u001b[0m, in \u001b[0;36mSegmentAPI.create_collection\u001b[0;34m(self, name, metadata, embedding_function, data_loader, get_or_create, tenant, database)\u001b[0m\n\u001b[1;32m    162\u001b[0m check_index_name(name)\n\u001b[1;32m    164\u001b[0m \u001b[38;5;28mid\u001b[39m \u001b[38;5;241m=\u001b[39m uuid4()\n\u001b[0;32m--> 166\u001b[0m coll, created \u001b[38;5;241m=\u001b[39m \u001b[38;5;28;43mself\u001b[39;49m\u001b[38;5;241;43m.\u001b[39;49m\u001b[43m_sysdb\u001b[49m\u001b[38;5;241;43m.\u001b[39;49m\u001b[43mcreate_collection\u001b[49m\u001b[43m(\u001b[49m\n\u001b[1;32m    167\u001b[0m \u001b[43m    \u001b[49m\u001b[38;5;28;43mid\u001b[39;49m\u001b[38;5;241;43m=\u001b[39;49m\u001b[38;5;28;43mid\u001b[39;49m\u001b[43m,\u001b[49m\n\u001b[1;32m    168\u001b[0m \u001b[43m    \u001b[49m\u001b[43mname\u001b[49m\u001b[38;5;241;43m=\u001b[39;49m\u001b[43mname\u001b[49m\u001b[43m,\u001b[49m\n\u001b[1;32m    169\u001b[0m \u001b[43m    \u001b[49m\u001b[43mmetadata\u001b[49m\u001b[38;5;241;43m=\u001b[39;49m\u001b[43mmetadata\u001b[49m\u001b[43m,\u001b[49m\n\u001b[1;32m    170\u001b[0m \u001b[43m    \u001b[49m\u001b[43mdimension\u001b[49m\u001b[38;5;241;43m=\u001b[39;49m\u001b[38;5;28;43;01mNone\u001b[39;49;00m\u001b[43m,\u001b[49m\n\u001b[1;32m    171\u001b[0m \u001b[43m    \u001b[49m\u001b[43mget_or_create\u001b[49m\u001b[38;5;241;43m=\u001b[39;49m\u001b[43mget_or_create\u001b[49m\u001b[43m,\u001b[49m\n\u001b[1;32m    172\u001b[0m \u001b[43m    \u001b[49m\u001b[43mtenant\u001b[49m\u001b[38;5;241;43m=\u001b[39;49m\u001b[43mtenant\u001b[49m\u001b[43m,\u001b[49m\n\u001b[1;32m    173\u001b[0m \u001b[43m    \u001b[49m\u001b[43mdatabase\u001b[49m\u001b[38;5;241;43m=\u001b[39;49m\u001b[43mdatabase\u001b[49m\u001b[43m,\u001b[49m\n\u001b[1;32m    174\u001b[0m \u001b[43m\u001b[49m\u001b[43m)\u001b[49m\n\u001b[1;32m    176\u001b[0m \u001b[38;5;28;01mif\u001b[39;00m created:\n\u001b[1;32m    177\u001b[0m     segments \u001b[38;5;241m=\u001b[39m \u001b[38;5;28mself\u001b[39m\u001b[38;5;241m.\u001b[39m_manager\u001b[38;5;241m.\u001b[39mcreate_segments(coll)\n",
      "File \u001b[0;32m~/Desktop/Challenges/Week_11/Contract_Advisor_RAG/venv2/lib/python3.10/site-packages/chromadb/telemetry/opentelemetry/__init__.py:127\u001b[0m, in \u001b[0;36mtrace_method.<locals>.decorator.<locals>.wrapper\u001b[0;34m(*args, **kwargs)\u001b[0m\n\u001b[1;32m    125\u001b[0m \u001b[38;5;28;01mglobal\u001b[39;00m tracer, granularity\n\u001b[1;32m    126\u001b[0m \u001b[38;5;28;01mif\u001b[39;00m trace_granularity \u001b[38;5;241m<\u001b[39m granularity:\n\u001b[0;32m--> 127\u001b[0m     \u001b[38;5;28;01mreturn\u001b[39;00m \u001b[43mf\u001b[49m\u001b[43m(\u001b[49m\u001b[38;5;241;43m*\u001b[39;49m\u001b[43margs\u001b[49m\u001b[43m,\u001b[49m\u001b[43m \u001b[49m\u001b[38;5;241;43m*\u001b[39;49m\u001b[38;5;241;43m*\u001b[39;49m\u001b[43mkwargs\u001b[49m\u001b[43m)\u001b[49m\n\u001b[1;32m    128\u001b[0m \u001b[38;5;28;01mif\u001b[39;00m \u001b[38;5;129;01mnot\u001b[39;00m tracer:\n\u001b[1;32m    129\u001b[0m     \u001b[38;5;28;01mreturn\u001b[39;00m f(\u001b[38;5;241m*\u001b[39margs, \u001b[38;5;241m*\u001b[39m\u001b[38;5;241m*\u001b[39mkwargs)\n",
      "File \u001b[0;32m~/Desktop/Challenges/Week_11/Contract_Advisor_RAG/venv2/lib/python3.10/site-packages/chromadb/db/mixins/sysdb.py:225\u001b[0m, in \u001b[0;36mSqlSysDB.create_collection\u001b[0;34m(self, id, name, metadata, dimension, get_or_create, tenant, database)\u001b[0m\n\u001b[1;32m    218\u001b[0m         \u001b[38;5;28;01mreturn\u001b[39;00m (\n\u001b[1;32m    219\u001b[0m             \u001b[38;5;28mself\u001b[39m\u001b[38;5;241m.\u001b[39mget_collections(\n\u001b[1;32m    220\u001b[0m                 \u001b[38;5;28mid\u001b[39m\u001b[38;5;241m=\u001b[39mcollection[\u001b[38;5;124m\"\u001b[39m\u001b[38;5;124mid\u001b[39m\u001b[38;5;124m\"\u001b[39m], tenant\u001b[38;5;241m=\u001b[39mtenant, database\u001b[38;5;241m=\u001b[39mdatabase\n\u001b[1;32m    221\u001b[0m             )[\u001b[38;5;241m0\u001b[39m],\n\u001b[1;32m    222\u001b[0m             \u001b[38;5;28;01mFalse\u001b[39;00m,\n\u001b[1;32m    223\u001b[0m         )\n\u001b[1;32m    224\u001b[0m     \u001b[38;5;28;01melse\u001b[39;00m:\n\u001b[0;32m--> 225\u001b[0m         \u001b[38;5;28;01mraise\u001b[39;00m UniqueConstraintError(\u001b[38;5;124mf\u001b[39m\u001b[38;5;124m\"\u001b[39m\u001b[38;5;124mCollection \u001b[39m\u001b[38;5;132;01m{\u001b[39;00mname\u001b[38;5;132;01m}\u001b[39;00m\u001b[38;5;124m already exists\u001b[39m\u001b[38;5;124m\"\u001b[39m)\n\u001b[1;32m    227\u001b[0m topic \u001b[38;5;241m=\u001b[39m \u001b[38;5;28mself\u001b[39m\u001b[38;5;241m.\u001b[39m_assignment_policy\u001b[38;5;241m.\u001b[39massign_collection(\u001b[38;5;28mid\u001b[39m)\n\u001b[1;32m    228\u001b[0m collection \u001b[38;5;241m=\u001b[39m Collection(\n\u001b[1;32m    229\u001b[0m     \u001b[38;5;28mid\u001b[39m\u001b[38;5;241m=\u001b[39m\u001b[38;5;28mid\u001b[39m,\n\u001b[1;32m    230\u001b[0m     topic\u001b[38;5;241m=\u001b[39mtopic,\n\u001b[0;32m   (...)\u001b[0m\n\u001b[1;32m    235\u001b[0m     database\u001b[38;5;241m=\u001b[39mdatabase,\n\u001b[1;32m    236\u001b[0m )\n",
      "\u001b[0;31mUniqueConstraintError\u001b[0m: Collection contract already exists"
     ]
    }
   ],
   "source": [
    "chroma_client = chromadb.Client()\n",
    "chroma_collection = chroma_client.create_collection(name='contract', embedding_function=embedding_function)"
   ]
  },
  {
   "cell_type": "code",
   "execution_count": 56,
   "metadata": {},
   "outputs": [
    {
     "name": "stderr",
     "output_type": "stream",
     "text": [
      "Add of existing embedding ID: 0\n",
      "Add of existing embedding ID: 1\n",
      "Add of existing embedding ID: 2\n",
      "Add of existing embedding ID: 3\n",
      "Add of existing embedding ID: 4\n",
      "Add of existing embedding ID: 5\n",
      "Add of existing embedding ID: 6\n",
      "Add of existing embedding ID: 7\n",
      "Add of existing embedding ID: 8\n",
      "Add of existing embedding ID: 9\n",
      "Add of existing embedding ID: 10\n",
      "Add of existing embedding ID: 11\n",
      "Add of existing embedding ID: 12\n",
      "Add of existing embedding ID: 13\n",
      "Add of existing embedding ID: 14\n",
      "Add of existing embedding ID: 15\n",
      "Add of existing embedding ID: 16\n",
      "Add of existing embedding ID: 17\n",
      "Add of existing embedding ID: 18\n",
      "Add of existing embedding ID: 19\n",
      "Add of existing embedding ID: 20\n",
      "Add of existing embedding ID: 21\n",
      "Add of existing embedding ID: 22\n",
      "Add of existing embedding ID: 23\n",
      "Add of existing embedding ID: 24\n",
      "Add of existing embedding ID: 25\n",
      "Add of existing embedding ID: 26\n",
      "Add of existing embedding ID: 27\n",
      "Add of existing embedding ID: 28\n",
      "Add of existing embedding ID: 29\n",
      "Add of existing embedding ID: 30\n",
      "Add of existing embedding ID: 31\n",
      "Add of existing embedding ID: 32\n",
      "Add of existing embedding ID: 33\n",
      "Add of existing embedding ID: 34\n",
      "Add of existing embedding ID: 35\n",
      "Add of existing embedding ID: 36\n",
      "Add of existing embedding ID: 37\n",
      "Add of existing embedding ID: 38\n",
      "Add of existing embedding ID: 39\n",
      "Add of existing embedding ID: 40\n",
      "Add of existing embedding ID: 41\n",
      "Add of existing embedding ID: 42\n",
      "Add of existing embedding ID: 43\n",
      "Add of existing embedding ID: 44\n",
      "Add of existing embedding ID: 45\n",
      "Add of existing embedding ID: 46\n",
      "Add of existing embedding ID: 47\n",
      "Add of existing embedding ID: 48\n",
      "Add of existing embedding ID: 49\n",
      "Add of existing embedding ID: 50\n",
      "Add of existing embedding ID: 51\n",
      "Add of existing embedding ID: 52\n",
      "Add of existing embedding ID: 53\n",
      "Add of existing embedding ID: 54\n",
      "Add of existing embedding ID: 55\n",
      "Add of existing embedding ID: 56\n",
      "Add of existing embedding ID: 57\n",
      "Add of existing embedding ID: 58\n",
      "Add of existing embedding ID: 59\n",
      "Add of existing embedding ID: 60\n",
      "Add of existing embedding ID: 61\n",
      "Add of existing embedding ID: 62\n",
      "Add of existing embedding ID: 63\n",
      "Add of existing embedding ID: 64\n",
      "Add of existing embedding ID: 65\n",
      "Add of existing embedding ID: 66\n",
      "Add of existing embedding ID: 67\n",
      "Add of existing embedding ID: 68\n",
      "Add of existing embedding ID: 69\n",
      "Add of existing embedding ID: 70\n",
      "Add of existing embedding ID: 71\n",
      "Add of existing embedding ID: 72\n",
      "Add of existing embedding ID: 73\n",
      "Add of existing embedding ID: 74\n",
      "Add of existing embedding ID: 75\n",
      "Add of existing embedding ID: 76\n",
      "Add of existing embedding ID: 77\n",
      "Add of existing embedding ID: 78\n",
      "Add of existing embedding ID: 79\n",
      "Add of existing embedding ID: 80\n",
      "Add of existing embedding ID: 81\n",
      "Add of existing embedding ID: 82\n",
      "Add of existing embedding ID: 83\n",
      "Add of existing embedding ID: 84\n",
      "Add of existing embedding ID: 85\n",
      "Add of existing embedding ID: 86\n",
      "Add of existing embedding ID: 87\n",
      "Add of existing embedding ID: 88\n",
      "Add of existing embedding ID: 89\n",
      "Add of existing embedding ID: 90\n",
      "Add of existing embedding ID: 91\n",
      "Add of existing embedding ID: 92\n",
      "Add of existing embedding ID: 93\n",
      "Add of existing embedding ID: 94\n",
      "Add of existing embedding ID: 95\n",
      "Add of existing embedding ID: 96\n",
      "Add of existing embedding ID: 97\n",
      "Add of existing embedding ID: 98\n",
      "Add of existing embedding ID: 99\n",
      "Add of existing embedding ID: 100\n",
      "Add of existing embedding ID: 101\n",
      "Add of existing embedding ID: 102\n",
      "Add of existing embedding ID: 103\n",
      "Add of existing embedding ID: 104\n",
      "Add of existing embedding ID: 105\n",
      "Add of existing embedding ID: 106\n",
      "Add of existing embedding ID: 107\n",
      "Add of existing embedding ID: 108\n",
      "Add of existing embedding ID: 109\n",
      "Add of existing embedding ID: 110\n",
      "Add of existing embedding ID: 111\n",
      "Add of existing embedding ID: 112\n",
      "Add of existing embedding ID: 113\n",
      "Add of existing embedding ID: 114\n",
      "Add of existing embedding ID: 115\n",
      "Add of existing embedding ID: 116\n",
      "Add of existing embedding ID: 117\n",
      "Add of existing embedding ID: 118\n",
      "Add of existing embedding ID: 119\n",
      "Add of existing embedding ID: 120\n",
      "Add of existing embedding ID: 121\n",
      "Add of existing embedding ID: 122\n",
      "Add of existing embedding ID: 123\n",
      "Add of existing embedding ID: 124\n",
      "Add of existing embedding ID: 125\n",
      "Add of existing embedding ID: 126\n",
      "Add of existing embedding ID: 127\n",
      "Add of existing embedding ID: 128\n",
      "Add of existing embedding ID: 129\n",
      "Add of existing embedding ID: 130\n",
      "Add of existing embedding ID: 131\n",
      "Add of existing embedding ID: 132\n",
      "Add of existing embedding ID: 133\n",
      "Add of existing embedding ID: 134\n",
      "Add of existing embedding ID: 135\n",
      "Add of existing embedding ID: 136\n",
      "Add of existing embedding ID: 137\n",
      "Add of existing embedding ID: 138\n",
      "Add of existing embedding ID: 139\n",
      "Add of existing embedding ID: 140\n",
      "Add of existing embedding ID: 141\n",
      "Add of existing embedding ID: 142\n",
      "Add of existing embedding ID: 143\n",
      "Add of existing embedding ID: 144\n",
      "Add of existing embedding ID: 145\n",
      "Add of existing embedding ID: 146\n",
      "Add of existing embedding ID: 147\n",
      "Add of existing embedding ID: 148\n",
      "Add of existing embedding ID: 149\n",
      "Add of existing embedding ID: 150\n",
      "Add of existing embedding ID: 151\n",
      "Add of existing embedding ID: 152\n",
      "Add of existing embedding ID: 153\n",
      "Add of existing embedding ID: 154\n",
      "Add of existing embedding ID: 155\n",
      "Add of existing embedding ID: 156\n",
      "Add of existing embedding ID: 157\n",
      "Add of existing embedding ID: 158\n",
      "Add of existing embedding ID: 159\n",
      "Add of existing embedding ID: 160\n",
      "Add of existing embedding ID: 161\n",
      "Add of existing embedding ID: 162\n",
      "Add of existing embedding ID: 163\n",
      "Add of existing embedding ID: 164\n",
      "Add of existing embedding ID: 165\n",
      "Add of existing embedding ID: 166\n",
      "Add of existing embedding ID: 167\n",
      "Add of existing embedding ID: 168\n",
      "Add of existing embedding ID: 169\n",
      "Add of existing embedding ID: 170\n",
      "Add of existing embedding ID: 171\n",
      "Add of existing embedding ID: 172\n",
      "Add of existing embedding ID: 173\n",
      "Add of existing embedding ID: 174\n",
      "Add of existing embedding ID: 175\n",
      "Add of existing embedding ID: 176\n",
      "Add of existing embedding ID: 177\n",
      "Add of existing embedding ID: 178\n",
      "Add of existing embedding ID: 179\n",
      "Add of existing embedding ID: 180\n",
      "Add of existing embedding ID: 181\n",
      "Add of existing embedding ID: 182\n",
      "Add of existing embedding ID: 183\n",
      "Add of existing embedding ID: 184\n",
      "Add of existing embedding ID: 185\n",
      "Add of existing embedding ID: 186\n",
      "Add of existing embedding ID: 187\n",
      "Add of existing embedding ID: 188\n",
      "Add of existing embedding ID: 189\n",
      "Add of existing embedding ID: 190\n",
      "Add of existing embedding ID: 191\n",
      "Add of existing embedding ID: 192\n",
      "Add of existing embedding ID: 193\n",
      "Add of existing embedding ID: 194\n",
      "Add of existing embedding ID: 195\n",
      "Add of existing embedding ID: 196\n",
      "Add of existing embedding ID: 197\n",
      "Add of existing embedding ID: 198\n",
      "Add of existing embedding ID: 199\n",
      "Add of existing embedding ID: 200\n",
      "Add of existing embedding ID: 201\n",
      "Add of existing embedding ID: 202\n",
      "Add of existing embedding ID: 203\n",
      "Add of existing embedding ID: 204\n",
      "Add of existing embedding ID: 205\n",
      "Add of existing embedding ID: 206\n",
      "Add of existing embedding ID: 207\n",
      "Add of existing embedding ID: 208\n",
      "Add of existing embedding ID: 209\n",
      "Add of existing embedding ID: 210\n",
      "Add of existing embedding ID: 211\n",
      "Add of existing embedding ID: 212\n",
      "Add of existing embedding ID: 213\n",
      "Add of existing embedding ID: 214\n",
      "Add of existing embedding ID: 215\n",
      "Add of existing embedding ID: 216\n",
      "Add of existing embedding ID: 217\n",
      "Add of existing embedding ID: 218\n",
      "Add of existing embedding ID: 219\n",
      "Add of existing embedding ID: 220\n",
      "Add of existing embedding ID: 221\n",
      "Add of existing embedding ID: 222\n",
      "Add of existing embedding ID: 223\n",
      "Add of existing embedding ID: 224\n",
      "Add of existing embedding ID: 225\n",
      "Add of existing embedding ID: 226\n",
      "Add of existing embedding ID: 227\n",
      "Add of existing embedding ID: 228\n",
      "Add of existing embedding ID: 229\n",
      "Add of existing embedding ID: 230\n",
      "Add of existing embedding ID: 231\n",
      "Add of existing embedding ID: 232\n",
      "Add of existing embedding ID: 233\n",
      "Add of existing embedding ID: 234\n",
      "Add of existing embedding ID: 235\n",
      "Add of existing embedding ID: 236\n",
      "Add of existing embedding ID: 237\n",
      "Add of existing embedding ID: 238\n",
      "Add of existing embedding ID: 239\n",
      "Add of existing embedding ID: 240\n",
      "Add of existing embedding ID: 241\n",
      "Add of existing embedding ID: 242\n",
      "Add of existing embedding ID: 243\n",
      "Add of existing embedding ID: 244\n",
      "Add of existing embedding ID: 245\n",
      "Add of existing embedding ID: 246\n",
      "Add of existing embedding ID: 247\n",
      "Add of existing embedding ID: 248\n",
      "Add of existing embedding ID: 249\n",
      "Add of existing embedding ID: 250\n",
      "Add of existing embedding ID: 251\n",
      "Add of existing embedding ID: 252\n",
      "Add of existing embedding ID: 253\n",
      "Add of existing embedding ID: 254\n",
      "Add of existing embedding ID: 255\n",
      "Add of existing embedding ID: 256\n",
      "Add of existing embedding ID: 257\n",
      "Add of existing embedding ID: 258\n",
      "Add of existing embedding ID: 259\n",
      "Add of existing embedding ID: 260\n",
      "Add of existing embedding ID: 261\n",
      "Add of existing embedding ID: 262\n",
      "Add of existing embedding ID: 263\n",
      "Add of existing embedding ID: 264\n",
      "Add of existing embedding ID: 265\n",
      "Add of existing embedding ID: 266\n",
      "Add of existing embedding ID: 267\n",
      "Add of existing embedding ID: 268\n",
      "Add of existing embedding ID: 269\n",
      "Add of existing embedding ID: 270\n",
      "Add of existing embedding ID: 271\n",
      "Add of existing embedding ID: 272\n",
      "Add of existing embedding ID: 273\n",
      "Add of existing embedding ID: 274\n",
      "Add of existing embedding ID: 275\n",
      "Add of existing embedding ID: 276\n",
      "Add of existing embedding ID: 277\n",
      "Add of existing embedding ID: 278\n",
      "Add of existing embedding ID: 279\n",
      "Add of existing embedding ID: 280\n",
      "Add of existing embedding ID: 281\n",
      "Add of existing embedding ID: 282\n",
      "Add of existing embedding ID: 283\n",
      "Add of existing embedding ID: 284\n",
      "Add of existing embedding ID: 285\n",
      "Add of existing embedding ID: 286\n",
      "Add of existing embedding ID: 287\n",
      "Add of existing embedding ID: 288\n",
      "Add of existing embedding ID: 289\n",
      "Add of existing embedding ID: 290\n",
      "Add of existing embedding ID: 291\n",
      "Add of existing embedding ID: 292\n",
      "Add of existing embedding ID: 293\n",
      "Add of existing embedding ID: 294\n",
      "Add of existing embedding ID: 295\n",
      "Add of existing embedding ID: 296\n",
      "Add of existing embedding ID: 297\n",
      "Add of existing embedding ID: 298\n",
      "Add of existing embedding ID: 299\n",
      "Add of existing embedding ID: 300\n",
      "Add of existing embedding ID: 301\n",
      "Add of existing embedding ID: 302\n",
      "Add of existing embedding ID: 303\n",
      "Add of existing embedding ID: 304\n",
      "Add of existing embedding ID: 305\n",
      "Add of existing embedding ID: 306\n",
      "Add of existing embedding ID: 307\n",
      "Add of existing embedding ID: 308\n",
      "Add of existing embedding ID: 309\n",
      "Add of existing embedding ID: 310\n",
      "Add of existing embedding ID: 311\n",
      "Add of existing embedding ID: 312\n",
      "Add of existing embedding ID: 313\n",
      "Add of existing embedding ID: 314\n",
      "Add of existing embedding ID: 315\n",
      "Add of existing embedding ID: 316\n",
      "Add of existing embedding ID: 317\n",
      "Add of existing embedding ID: 318\n",
      "Add of existing embedding ID: 319\n",
      "Add of existing embedding ID: 320\n",
      "Add of existing embedding ID: 321\n",
      "Add of existing embedding ID: 322\n",
      "Add of existing embedding ID: 323\n",
      "Add of existing embedding ID: 324\n",
      "Add of existing embedding ID: 325\n",
      "Add of existing embedding ID: 326\n",
      "Add of existing embedding ID: 327\n",
      "Add of existing embedding ID: 328\n",
      "Add of existing embedding ID: 329\n",
      "Add of existing embedding ID: 330\n",
      "Add of existing embedding ID: 331\n",
      "Add of existing embedding ID: 332\n",
      "Add of existing embedding ID: 333\n",
      "Add of existing embedding ID: 334\n",
      "Add of existing embedding ID: 335\n",
      "Add of existing embedding ID: 336\n",
      "Add of existing embedding ID: 337\n",
      "Add of existing embedding ID: 338\n",
      "Add of existing embedding ID: 339\n",
      "Add of existing embedding ID: 340\n",
      "Add of existing embedding ID: 341\n",
      "Add of existing embedding ID: 342\n",
      "Add of existing embedding ID: 343\n",
      "Add of existing embedding ID: 344\n",
      "Add of existing embedding ID: 345\n",
      "Add of existing embedding ID: 346\n",
      "Add of existing embedding ID: 347\n",
      "Add of existing embedding ID: 348\n",
      "Add of existing embedding ID: 349\n",
      "Add of existing embedding ID: 350\n",
      "Add of existing embedding ID: 351\n",
      "Add of existing embedding ID: 352\n",
      "Add of existing embedding ID: 353\n",
      "Add of existing embedding ID: 354\n",
      "Add of existing embedding ID: 355\n",
      "Add of existing embedding ID: 356\n",
      "Add of existing embedding ID: 357\n",
      "Add of existing embedding ID: 358\n",
      "Add of existing embedding ID: 359\n",
      "Add of existing embedding ID: 360\n",
      "Add of existing embedding ID: 361\n",
      "Add of existing embedding ID: 362\n",
      "Add of existing embedding ID: 363\n",
      "Add of existing embedding ID: 364\n",
      "Add of existing embedding ID: 365\n",
      "Add of existing embedding ID: 366\n",
      "Add of existing embedding ID: 367\n",
      "Add of existing embedding ID: 368\n",
      "Add of existing embedding ID: 369\n",
      "Add of existing embedding ID: 370\n",
      "Add of existing embedding ID: 371\n",
      "Add of existing embedding ID: 372\n",
      "Add of existing embedding ID: 373\n",
      "Add of existing embedding ID: 374\n",
      "Add of existing embedding ID: 375\n",
      "Add of existing embedding ID: 376\n",
      "Add of existing embedding ID: 377\n",
      "Add of existing embedding ID: 378\n",
      "Add of existing embedding ID: 379\n",
      "Add of existing embedding ID: 380\n",
      "Add of existing embedding ID: 381\n",
      "Add of existing embedding ID: 382\n",
      "Add of existing embedding ID: 383\n",
      "Add of existing embedding ID: 384\n",
      "Add of existing embedding ID: 385\n",
      "Add of existing embedding ID: 386\n",
      "Add of existing embedding ID: 387\n",
      "Add of existing embedding ID: 388\n",
      "Add of existing embedding ID: 389\n",
      "Add of existing embedding ID: 390\n",
      "Add of existing embedding ID: 391\n",
      "Add of existing embedding ID: 392\n",
      "Add of existing embedding ID: 393\n",
      "Add of existing embedding ID: 394\n",
      "Add of existing embedding ID: 395\n",
      "Add of existing embedding ID: 396\n",
      "Add of existing embedding ID: 397\n",
      "Add of existing embedding ID: 398\n",
      "Add of existing embedding ID: 399\n",
      "Add of existing embedding ID: 400\n",
      "Add of existing embedding ID: 401\n",
      "Add of existing embedding ID: 402\n",
      "Add of existing embedding ID: 403\n",
      "Add of existing embedding ID: 404\n",
      "Add of existing embedding ID: 405\n",
      "Add of existing embedding ID: 406\n",
      "Add of existing embedding ID: 407\n",
      "Add of existing embedding ID: 408\n",
      "Add of existing embedding ID: 409\n",
      "Add of existing embedding ID: 410\n",
      "Add of existing embedding ID: 411\n",
      "Add of existing embedding ID: 412\n",
      "Add of existing embedding ID: 413\n",
      "Add of existing embedding ID: 414\n",
      "Add of existing embedding ID: 415\n",
      "Add of existing embedding ID: 416\n",
      "Add of existing embedding ID: 417\n",
      "Add of existing embedding ID: 418\n",
      "Add of existing embedding ID: 419\n",
      "Add of existing embedding ID: 420\n",
      "Add of existing embedding ID: 421\n",
      "Add of existing embedding ID: 422\n",
      "Add of existing embedding ID: 423\n",
      "Add of existing embedding ID: 424\n",
      "Add of existing embedding ID: 425\n",
      "Add of existing embedding ID: 426\n",
      "Add of existing embedding ID: 427\n",
      "Add of existing embedding ID: 428\n",
      "Add of existing embedding ID: 429\n",
      "Add of existing embedding ID: 430\n",
      "Add of existing embedding ID: 431\n",
      "Add of existing embedding ID: 432\n",
      "Add of existing embedding ID: 433\n",
      "Add of existing embedding ID: 434\n",
      "Add of existing embedding ID: 435\n",
      "Add of existing embedding ID: 436\n",
      "Add of existing embedding ID: 437\n",
      "Add of existing embedding ID: 438\n",
      "Add of existing embedding ID: 439\n",
      "Add of existing embedding ID: 440\n",
      "Add of existing embedding ID: 441\n",
      "Add of existing embedding ID: 442\n",
      "Add of existing embedding ID: 443\n",
      "Add of existing embedding ID: 444\n",
      "Add of existing embedding ID: 445\n",
      "Add of existing embedding ID: 446\n",
      "Add of existing embedding ID: 447\n",
      "Add of existing embedding ID: 448\n",
      "Add of existing embedding ID: 449\n",
      "Add of existing embedding ID: 450\n",
      "Add of existing embedding ID: 451\n",
      "Add of existing embedding ID: 452\n",
      "Add of existing embedding ID: 453\n",
      "Add of existing embedding ID: 454\n",
      "Add of existing embedding ID: 455\n",
      "Add of existing embedding ID: 456\n",
      "Add of existing embedding ID: 457\n",
      "Add of existing embedding ID: 458\n",
      "Add of existing embedding ID: 459\n",
      "Add of existing embedding ID: 460\n",
      "Add of existing embedding ID: 461\n",
      "Add of existing embedding ID: 462\n",
      "Add of existing embedding ID: 463\n",
      "Add of existing embedding ID: 464\n",
      "Add of existing embedding ID: 465\n",
      "Add of existing embedding ID: 466\n",
      "Add of existing embedding ID: 467\n",
      "Add of existing embedding ID: 468\n",
      "Add of existing embedding ID: 469\n",
      "Add of existing embedding ID: 470\n",
      "Add of existing embedding ID: 471\n",
      "Add of existing embedding ID: 472\n",
      "Add of existing embedding ID: 473\n",
      "Add of existing embedding ID: 474\n",
      "Add of existing embedding ID: 475\n",
      "Add of existing embedding ID: 476\n",
      "Add of existing embedding ID: 477\n",
      "Add of existing embedding ID: 478\n",
      "Add of existing embedding ID: 479\n",
      "Add of existing embedding ID: 480\n",
      "Add of existing embedding ID: 481\n",
      "Add of existing embedding ID: 482\n",
      "Add of existing embedding ID: 483\n",
      "Add of existing embedding ID: 484\n",
      "Add of existing embedding ID: 485\n",
      "Add of existing embedding ID: 486\n",
      "Add of existing embedding ID: 487\n",
      "Add of existing embedding ID: 488\n",
      "Add of existing embedding ID: 489\n",
      "Insert of existing embedding ID: 0\n",
      "Insert of existing embedding ID: 1\n",
      "Insert of existing embedding ID: 2\n",
      "Insert of existing embedding ID: 3\n",
      "Insert of existing embedding ID: 4\n",
      "Insert of existing embedding ID: 5\n",
      "Insert of existing embedding ID: 6\n",
      "Insert of existing embedding ID: 7\n",
      "Insert of existing embedding ID: 8\n",
      "Insert of existing embedding ID: 9\n",
      "Insert of existing embedding ID: 10\n",
      "Insert of existing embedding ID: 11\n",
      "Insert of existing embedding ID: 12\n",
      "Insert of existing embedding ID: 13\n",
      "Insert of existing embedding ID: 14\n",
      "Insert of existing embedding ID: 15\n",
      "Insert of existing embedding ID: 16\n",
      "Insert of existing embedding ID: 17\n",
      "Insert of existing embedding ID: 18\n",
      "Insert of existing embedding ID: 19\n",
      "Insert of existing embedding ID: 20\n",
      "Insert of existing embedding ID: 21\n",
      "Insert of existing embedding ID: 22\n",
      "Insert of existing embedding ID: 23\n",
      "Insert of existing embedding ID: 24\n",
      "Insert of existing embedding ID: 25\n",
      "Insert of existing embedding ID: 26\n",
      "Insert of existing embedding ID: 27\n",
      "Insert of existing embedding ID: 28\n",
      "Insert of existing embedding ID: 29\n",
      "Insert of existing embedding ID: 30\n",
      "Insert of existing embedding ID: 31\n",
      "Insert of existing embedding ID: 32\n",
      "Insert of existing embedding ID: 33\n",
      "Insert of existing embedding ID: 34\n",
      "Insert of existing embedding ID: 35\n",
      "Insert of existing embedding ID: 36\n",
      "Insert of existing embedding ID: 37\n",
      "Insert of existing embedding ID: 38\n",
      "Insert of existing embedding ID: 39\n",
      "Insert of existing embedding ID: 40\n",
      "Insert of existing embedding ID: 41\n",
      "Insert of existing embedding ID: 42\n",
      "Insert of existing embedding ID: 43\n",
      "Insert of existing embedding ID: 44\n",
      "Insert of existing embedding ID: 45\n",
      "Insert of existing embedding ID: 46\n",
      "Insert of existing embedding ID: 47\n",
      "Insert of existing embedding ID: 48\n",
      "Insert of existing embedding ID: 49\n",
      "Insert of existing embedding ID: 50\n",
      "Insert of existing embedding ID: 51\n",
      "Insert of existing embedding ID: 52\n",
      "Insert of existing embedding ID: 53\n",
      "Insert of existing embedding ID: 54\n",
      "Insert of existing embedding ID: 55\n",
      "Insert of existing embedding ID: 56\n",
      "Insert of existing embedding ID: 57\n",
      "Insert of existing embedding ID: 58\n",
      "Insert of existing embedding ID: 59\n",
      "Insert of existing embedding ID: 60\n",
      "Insert of existing embedding ID: 61\n",
      "Insert of existing embedding ID: 62\n",
      "Insert of existing embedding ID: 63\n",
      "Insert of existing embedding ID: 64\n",
      "Insert of existing embedding ID: 65\n",
      "Insert of existing embedding ID: 66\n",
      "Insert of existing embedding ID: 67\n",
      "Insert of existing embedding ID: 68\n",
      "Insert of existing embedding ID: 69\n",
      "Insert of existing embedding ID: 70\n",
      "Insert of existing embedding ID: 71\n",
      "Insert of existing embedding ID: 72\n",
      "Insert of existing embedding ID: 73\n",
      "Insert of existing embedding ID: 74\n",
      "Insert of existing embedding ID: 75\n",
      "Insert of existing embedding ID: 76\n",
      "Insert of existing embedding ID: 77\n",
      "Insert of existing embedding ID: 78\n",
      "Insert of existing embedding ID: 79\n",
      "Insert of existing embedding ID: 80\n",
      "Insert of existing embedding ID: 81\n",
      "Insert of existing embedding ID: 82\n",
      "Insert of existing embedding ID: 83\n",
      "Insert of existing embedding ID: 84\n",
      "Insert of existing embedding ID: 85\n",
      "Insert of existing embedding ID: 86\n",
      "Insert of existing embedding ID: 87\n",
      "Insert of existing embedding ID: 88\n",
      "Insert of existing embedding ID: 89\n",
      "Insert of existing embedding ID: 90\n",
      "Insert of existing embedding ID: 91\n",
      "Insert of existing embedding ID: 92\n",
      "Insert of existing embedding ID: 93\n",
      "Insert of existing embedding ID: 94\n",
      "Insert of existing embedding ID: 95\n",
      "Insert of existing embedding ID: 96\n",
      "Insert of existing embedding ID: 97\n",
      "Insert of existing embedding ID: 98\n",
      "Insert of existing embedding ID: 99\n",
      "Insert of existing embedding ID: 100\n",
      "Insert of existing embedding ID: 101\n",
      "Insert of existing embedding ID: 102\n",
      "Insert of existing embedding ID: 103\n",
      "Insert of existing embedding ID: 104\n",
      "Insert of existing embedding ID: 105\n",
      "Insert of existing embedding ID: 106\n",
      "Insert of existing embedding ID: 107\n",
      "Insert of existing embedding ID: 108\n",
      "Insert of existing embedding ID: 109\n",
      "Insert of existing embedding ID: 110\n",
      "Insert of existing embedding ID: 111\n",
      "Insert of existing embedding ID: 112\n",
      "Insert of existing embedding ID: 113\n",
      "Insert of existing embedding ID: 114\n",
      "Insert of existing embedding ID: 115\n",
      "Insert of existing embedding ID: 116\n",
      "Insert of existing embedding ID: 117\n",
      "Insert of existing embedding ID: 118\n",
      "Insert of existing embedding ID: 119\n",
      "Insert of existing embedding ID: 120\n",
      "Insert of existing embedding ID: 121\n",
      "Insert of existing embedding ID: 122\n",
      "Insert of existing embedding ID: 123\n",
      "Insert of existing embedding ID: 124\n",
      "Insert of existing embedding ID: 125\n",
      "Insert of existing embedding ID: 126\n",
      "Insert of existing embedding ID: 127\n",
      "Insert of existing embedding ID: 128\n",
      "Insert of existing embedding ID: 129\n",
      "Insert of existing embedding ID: 130\n",
      "Insert of existing embedding ID: 131\n",
      "Insert of existing embedding ID: 132\n",
      "Insert of existing embedding ID: 133\n",
      "Insert of existing embedding ID: 134\n",
      "Insert of existing embedding ID: 135\n",
      "Insert of existing embedding ID: 136\n",
      "Insert of existing embedding ID: 137\n",
      "Insert of existing embedding ID: 138\n",
      "Insert of existing embedding ID: 139\n",
      "Insert of existing embedding ID: 140\n",
      "Insert of existing embedding ID: 141\n",
      "Insert of existing embedding ID: 142\n",
      "Insert of existing embedding ID: 143\n",
      "Insert of existing embedding ID: 144\n",
      "Insert of existing embedding ID: 145\n",
      "Insert of existing embedding ID: 146\n",
      "Insert of existing embedding ID: 147\n",
      "Insert of existing embedding ID: 148\n",
      "Insert of existing embedding ID: 149\n",
      "Insert of existing embedding ID: 150\n",
      "Insert of existing embedding ID: 151\n",
      "Insert of existing embedding ID: 152\n",
      "Insert of existing embedding ID: 153\n",
      "Insert of existing embedding ID: 154\n",
      "Insert of existing embedding ID: 155\n",
      "Insert of existing embedding ID: 156\n",
      "Insert of existing embedding ID: 157\n",
      "Insert of existing embedding ID: 158\n",
      "Insert of existing embedding ID: 159\n",
      "Insert of existing embedding ID: 160\n",
      "Insert of existing embedding ID: 161\n",
      "Insert of existing embedding ID: 162\n",
      "Insert of existing embedding ID: 163\n",
      "Insert of existing embedding ID: 164\n",
      "Insert of existing embedding ID: 165\n",
      "Insert of existing embedding ID: 166\n",
      "Insert of existing embedding ID: 167\n",
      "Insert of existing embedding ID: 168\n",
      "Insert of existing embedding ID: 169\n",
      "Insert of existing embedding ID: 170\n",
      "Insert of existing embedding ID: 171\n",
      "Insert of existing embedding ID: 172\n",
      "Insert of existing embedding ID: 173\n",
      "Insert of existing embedding ID: 174\n",
      "Insert of existing embedding ID: 175\n",
      "Insert of existing embedding ID: 176\n",
      "Insert of existing embedding ID: 177\n",
      "Insert of existing embedding ID: 178\n",
      "Insert of existing embedding ID: 179\n",
      "Insert of existing embedding ID: 180\n",
      "Insert of existing embedding ID: 181\n",
      "Insert of existing embedding ID: 182\n",
      "Insert of existing embedding ID: 183\n",
      "Insert of existing embedding ID: 184\n",
      "Insert of existing embedding ID: 185\n",
      "Insert of existing embedding ID: 186\n",
      "Insert of existing embedding ID: 187\n",
      "Insert of existing embedding ID: 188\n",
      "Insert of existing embedding ID: 189\n",
      "Insert of existing embedding ID: 190\n",
      "Insert of existing embedding ID: 191\n",
      "Insert of existing embedding ID: 192\n",
      "Insert of existing embedding ID: 193\n",
      "Insert of existing embedding ID: 194\n",
      "Insert of existing embedding ID: 195\n",
      "Insert of existing embedding ID: 196\n",
      "Insert of existing embedding ID: 197\n",
      "Insert of existing embedding ID: 198\n",
      "Insert of existing embedding ID: 199\n",
      "Insert of existing embedding ID: 200\n",
      "Insert of existing embedding ID: 201\n",
      "Insert of existing embedding ID: 202\n",
      "Insert of existing embedding ID: 203\n",
      "Insert of existing embedding ID: 204\n",
      "Insert of existing embedding ID: 205\n",
      "Insert of existing embedding ID: 206\n",
      "Insert of existing embedding ID: 207\n",
      "Insert of existing embedding ID: 208\n",
      "Insert of existing embedding ID: 209\n",
      "Insert of existing embedding ID: 210\n",
      "Insert of existing embedding ID: 211\n",
      "Insert of existing embedding ID: 212\n",
      "Insert of existing embedding ID: 213\n",
      "Insert of existing embedding ID: 214\n",
      "Insert of existing embedding ID: 215\n",
      "Insert of existing embedding ID: 216\n",
      "Insert of existing embedding ID: 217\n",
      "Insert of existing embedding ID: 218\n",
      "Insert of existing embedding ID: 219\n",
      "Insert of existing embedding ID: 220\n",
      "Insert of existing embedding ID: 221\n",
      "Insert of existing embedding ID: 222\n",
      "Insert of existing embedding ID: 223\n",
      "Insert of existing embedding ID: 224\n",
      "Insert of existing embedding ID: 225\n",
      "Insert of existing embedding ID: 226\n",
      "Insert of existing embedding ID: 227\n",
      "Insert of existing embedding ID: 228\n",
      "Insert of existing embedding ID: 229\n",
      "Insert of existing embedding ID: 230\n",
      "Insert of existing embedding ID: 231\n",
      "Insert of existing embedding ID: 232\n",
      "Insert of existing embedding ID: 233\n",
      "Insert of existing embedding ID: 234\n",
      "Insert of existing embedding ID: 235\n",
      "Insert of existing embedding ID: 236\n",
      "Insert of existing embedding ID: 237\n",
      "Insert of existing embedding ID: 238\n",
      "Insert of existing embedding ID: 239\n",
      "Insert of existing embedding ID: 240\n",
      "Insert of existing embedding ID: 241\n",
      "Insert of existing embedding ID: 242\n",
      "Insert of existing embedding ID: 243\n",
      "Insert of existing embedding ID: 244\n",
      "Insert of existing embedding ID: 245\n",
      "Insert of existing embedding ID: 246\n",
      "Insert of existing embedding ID: 247\n",
      "Insert of existing embedding ID: 248\n",
      "Insert of existing embedding ID: 249\n",
      "Insert of existing embedding ID: 250\n",
      "Insert of existing embedding ID: 251\n",
      "Insert of existing embedding ID: 252\n",
      "Insert of existing embedding ID: 253\n",
      "Insert of existing embedding ID: 254\n",
      "Insert of existing embedding ID: 255\n",
      "Insert of existing embedding ID: 256\n",
      "Insert of existing embedding ID: 257\n",
      "Insert of existing embedding ID: 258\n",
      "Insert of existing embedding ID: 259\n",
      "Insert of existing embedding ID: 260\n",
      "Insert of existing embedding ID: 261\n",
      "Insert of existing embedding ID: 262\n",
      "Insert of existing embedding ID: 263\n",
      "Insert of existing embedding ID: 264\n",
      "Insert of existing embedding ID: 265\n",
      "Insert of existing embedding ID: 266\n",
      "Insert of existing embedding ID: 267\n",
      "Insert of existing embedding ID: 268\n",
      "Insert of existing embedding ID: 269\n",
      "Insert of existing embedding ID: 270\n",
      "Insert of existing embedding ID: 271\n",
      "Insert of existing embedding ID: 272\n",
      "Insert of existing embedding ID: 273\n",
      "Insert of existing embedding ID: 274\n",
      "Insert of existing embedding ID: 275\n",
      "Insert of existing embedding ID: 276\n",
      "Insert of existing embedding ID: 277\n",
      "Insert of existing embedding ID: 278\n",
      "Insert of existing embedding ID: 279\n",
      "Insert of existing embedding ID: 280\n",
      "Insert of existing embedding ID: 281\n",
      "Insert of existing embedding ID: 282\n",
      "Insert of existing embedding ID: 283\n",
      "Insert of existing embedding ID: 284\n",
      "Insert of existing embedding ID: 285\n",
      "Insert of existing embedding ID: 286\n",
      "Insert of existing embedding ID: 287\n",
      "Insert of existing embedding ID: 288\n",
      "Insert of existing embedding ID: 289\n",
      "Insert of existing embedding ID: 290\n",
      "Insert of existing embedding ID: 291\n",
      "Insert of existing embedding ID: 292\n",
      "Insert of existing embedding ID: 293\n",
      "Insert of existing embedding ID: 294\n",
      "Insert of existing embedding ID: 295\n",
      "Insert of existing embedding ID: 296\n",
      "Insert of existing embedding ID: 297\n",
      "Insert of existing embedding ID: 298\n",
      "Insert of existing embedding ID: 299\n",
      "Insert of existing embedding ID: 300\n",
      "Insert of existing embedding ID: 301\n",
      "Insert of existing embedding ID: 302\n",
      "Insert of existing embedding ID: 303\n",
      "Insert of existing embedding ID: 304\n",
      "Insert of existing embedding ID: 305\n",
      "Insert of existing embedding ID: 306\n",
      "Insert of existing embedding ID: 307\n",
      "Insert of existing embedding ID: 308\n",
      "Insert of existing embedding ID: 309\n",
      "Insert of existing embedding ID: 310\n",
      "Insert of existing embedding ID: 311\n",
      "Insert of existing embedding ID: 312\n",
      "Insert of existing embedding ID: 313\n",
      "Insert of existing embedding ID: 314\n",
      "Insert of existing embedding ID: 315\n",
      "Insert of existing embedding ID: 316\n",
      "Insert of existing embedding ID: 317\n",
      "Insert of existing embedding ID: 318\n",
      "Insert of existing embedding ID: 319\n",
      "Insert of existing embedding ID: 320\n",
      "Insert of existing embedding ID: 321\n",
      "Insert of existing embedding ID: 322\n",
      "Insert of existing embedding ID: 323\n",
      "Insert of existing embedding ID: 324\n",
      "Insert of existing embedding ID: 325\n",
      "Insert of existing embedding ID: 326\n",
      "Insert of existing embedding ID: 327\n",
      "Insert of existing embedding ID: 328\n",
      "Insert of existing embedding ID: 329\n",
      "Insert of existing embedding ID: 330\n",
      "Insert of existing embedding ID: 331\n",
      "Insert of existing embedding ID: 332\n",
      "Insert of existing embedding ID: 333\n",
      "Insert of existing embedding ID: 334\n",
      "Insert of existing embedding ID: 335\n",
      "Insert of existing embedding ID: 336\n",
      "Insert of existing embedding ID: 337\n",
      "Insert of existing embedding ID: 338\n",
      "Insert of existing embedding ID: 339\n",
      "Insert of existing embedding ID: 340\n",
      "Insert of existing embedding ID: 341\n",
      "Insert of existing embedding ID: 342\n",
      "Insert of existing embedding ID: 343\n",
      "Insert of existing embedding ID: 344\n",
      "Insert of existing embedding ID: 345\n",
      "Insert of existing embedding ID: 346\n",
      "Insert of existing embedding ID: 347\n",
      "Insert of existing embedding ID: 348\n",
      "Insert of existing embedding ID: 349\n",
      "Insert of existing embedding ID: 350\n",
      "Insert of existing embedding ID: 351\n",
      "Insert of existing embedding ID: 352\n",
      "Insert of existing embedding ID: 353\n",
      "Insert of existing embedding ID: 354\n",
      "Insert of existing embedding ID: 355\n",
      "Insert of existing embedding ID: 356\n",
      "Insert of existing embedding ID: 357\n",
      "Insert of existing embedding ID: 358\n",
      "Insert of existing embedding ID: 359\n",
      "Insert of existing embedding ID: 360\n",
      "Insert of existing embedding ID: 361\n",
      "Insert of existing embedding ID: 362\n",
      "Insert of existing embedding ID: 363\n",
      "Insert of existing embedding ID: 364\n",
      "Insert of existing embedding ID: 365\n",
      "Insert of existing embedding ID: 366\n",
      "Insert of existing embedding ID: 367\n",
      "Insert of existing embedding ID: 368\n",
      "Insert of existing embedding ID: 369\n",
      "Insert of existing embedding ID: 370\n",
      "Insert of existing embedding ID: 371\n",
      "Insert of existing embedding ID: 372\n",
      "Insert of existing embedding ID: 373\n",
      "Insert of existing embedding ID: 374\n",
      "Insert of existing embedding ID: 375\n",
      "Insert of existing embedding ID: 376\n",
      "Insert of existing embedding ID: 377\n",
      "Insert of existing embedding ID: 378\n",
      "Insert of existing embedding ID: 379\n",
      "Insert of existing embedding ID: 380\n",
      "Insert of existing embedding ID: 381\n",
      "Insert of existing embedding ID: 382\n",
      "Insert of existing embedding ID: 383\n",
      "Insert of existing embedding ID: 384\n",
      "Insert of existing embedding ID: 385\n",
      "Insert of existing embedding ID: 386\n",
      "Insert of existing embedding ID: 387\n",
      "Insert of existing embedding ID: 388\n",
      "Insert of existing embedding ID: 389\n",
      "Insert of existing embedding ID: 390\n",
      "Insert of existing embedding ID: 391\n",
      "Insert of existing embedding ID: 392\n",
      "Insert of existing embedding ID: 393\n",
      "Insert of existing embedding ID: 394\n",
      "Insert of existing embedding ID: 395\n",
      "Insert of existing embedding ID: 396\n",
      "Insert of existing embedding ID: 397\n",
      "Insert of existing embedding ID: 398\n",
      "Insert of existing embedding ID: 399\n",
      "Insert of existing embedding ID: 400\n",
      "Insert of existing embedding ID: 401\n",
      "Insert of existing embedding ID: 402\n",
      "Insert of existing embedding ID: 403\n",
      "Insert of existing embedding ID: 404\n",
      "Insert of existing embedding ID: 405\n",
      "Insert of existing embedding ID: 406\n",
      "Insert of existing embedding ID: 407\n",
      "Insert of existing embedding ID: 408\n",
      "Insert of existing embedding ID: 409\n",
      "Insert of existing embedding ID: 410\n",
      "Insert of existing embedding ID: 411\n",
      "Insert of existing embedding ID: 412\n",
      "Insert of existing embedding ID: 413\n",
      "Insert of existing embedding ID: 414\n",
      "Insert of existing embedding ID: 415\n",
      "Insert of existing embedding ID: 416\n",
      "Insert of existing embedding ID: 417\n",
      "Insert of existing embedding ID: 418\n",
      "Insert of existing embedding ID: 419\n",
      "Insert of existing embedding ID: 420\n",
      "Insert of existing embedding ID: 421\n",
      "Insert of existing embedding ID: 422\n",
      "Insert of existing embedding ID: 423\n",
      "Insert of existing embedding ID: 424\n",
      "Insert of existing embedding ID: 425\n",
      "Insert of existing embedding ID: 426\n",
      "Insert of existing embedding ID: 427\n",
      "Insert of existing embedding ID: 428\n",
      "Insert of existing embedding ID: 429\n",
      "Insert of existing embedding ID: 430\n",
      "Insert of existing embedding ID: 431\n",
      "Insert of existing embedding ID: 432\n",
      "Insert of existing embedding ID: 433\n",
      "Insert of existing embedding ID: 434\n",
      "Insert of existing embedding ID: 435\n",
      "Insert of existing embedding ID: 436\n",
      "Insert of existing embedding ID: 437\n",
      "Insert of existing embedding ID: 438\n",
      "Insert of existing embedding ID: 439\n",
      "Insert of existing embedding ID: 440\n",
      "Insert of existing embedding ID: 441\n",
      "Insert of existing embedding ID: 442\n",
      "Insert of existing embedding ID: 443\n",
      "Insert of existing embedding ID: 444\n",
      "Insert of existing embedding ID: 445\n",
      "Insert of existing embedding ID: 446\n",
      "Insert of existing embedding ID: 447\n",
      "Insert of existing embedding ID: 448\n",
      "Insert of existing embedding ID: 449\n",
      "Insert of existing embedding ID: 450\n",
      "Insert of existing embedding ID: 451\n",
      "Insert of existing embedding ID: 452\n",
      "Insert of existing embedding ID: 453\n",
      "Insert of existing embedding ID: 454\n",
      "Insert of existing embedding ID: 455\n",
      "Insert of existing embedding ID: 456\n",
      "Insert of existing embedding ID: 457\n",
      "Insert of existing embedding ID: 458\n",
      "Insert of existing embedding ID: 459\n",
      "Insert of existing embedding ID: 460\n",
      "Insert of existing embedding ID: 461\n",
      "Insert of existing embedding ID: 462\n",
      "Insert of existing embedding ID: 463\n",
      "Insert of existing embedding ID: 464\n",
      "Insert of existing embedding ID: 465\n",
      "Insert of existing embedding ID: 466\n",
      "Insert of existing embedding ID: 467\n",
      "Insert of existing embedding ID: 468\n",
      "Insert of existing embedding ID: 469\n",
      "Insert of existing embedding ID: 470\n",
      "Insert of existing embedding ID: 471\n",
      "Insert of existing embedding ID: 472\n",
      "Insert of existing embedding ID: 473\n",
      "Insert of existing embedding ID: 474\n",
      "Insert of existing embedding ID: 475\n",
      "Insert of existing embedding ID: 476\n",
      "Insert of existing embedding ID: 477\n",
      "Insert of existing embedding ID: 478\n",
      "Insert of existing embedding ID: 479\n",
      "Insert of existing embedding ID: 480\n",
      "Insert of existing embedding ID: 481\n",
      "Insert of existing embedding ID: 482\n",
      "Insert of existing embedding ID: 483\n",
      "Insert of existing embedding ID: 484\n",
      "Insert of existing embedding ID: 485\n",
      "Insert of existing embedding ID: 486\n",
      "Insert of existing embedding ID: 487\n",
      "Insert of existing embedding ID: 488\n",
      "Insert of existing embedding ID: 489\n"
     ]
    },
    {
     "data": {
      "text/plain": [
       "490"
      ]
     },
     "execution_count": 56,
     "metadata": {},
     "output_type": "execute_result"
    }
   ],
   "source": [
    "ids = [str(i) for i in range(len(token_split_texts))]\n",
    "\n",
    "chroma_collection.add(ids=ids, documents=token_split_texts)\n",
    "chroma_collection.count()"
   ]
  },
  {
   "cell_type": "code",
   "execution_count": 61,
   "metadata": {},
   "outputs": [
    {
     "name": "stdout",
     "output_type": "stream",
     "text": [
      "gains of such person ( including stock appreciation, phantom stock,\n",
      "profit participation or other similar rights ). “ escrow amount ”\n",
      "means, $ 1, 000, 000 “ facilities ” means any buildings, plants,\n",
      "improvements or structures located on the real property. “ family\n",
      "member ” means, with respect to any individual, ( a ) such person ’ s\n",
      "spouse, ( b ) each parent, brother, sister or child of such person or\n",
      "such person ’ s spouse, ( c ) the spouse of any person described in\n",
      "clause ( b ) above, ( d ) each child\n",
      "\n",
      "\n",
      "in accordance with the escrow agreement. the escrow amount shall be\n",
      "held and, subject to section 2. 07, released to the company\n",
      "securityholders in accordance with the provisions of the escrow\n",
      "agreement with the company securityholders being entitled to share in\n",
      "such released amounts in accordance with their pro rata percentages.\n",
      "from and after the closing, buyer and the sellers ’ representative\n",
      "will direct the escrow agent to disburse payments from the escrow\n",
      "account in accordance with the\n",
      "\n",
      "\n",
      "with section 2. 05 ( a ) ( i ) and section 2. 07 ( a ) exceeds such re\n",
      "- calculated final purchase price shall be paid to the buyer, or its\n",
      "designee, in accordance with the terms of the escrow agreement ( and\n",
      "any remaining balance of the escrow amount not required to be paid to\n",
      "the buyer shall be released to company securityholders in accordance\n",
      "with the terms of the escrow agreement ). section i. 04 escrow. ( a )\n",
      "at closing, buyer will deposit the escrow amount in escrow on behalf\n",
      "of the sellers in\n",
      "\n",
      "\n",
      "company securityholder by wire transfer of immediately available funds\n",
      "its pro rata percentage of the amount, if any, by which such re -\n",
      "calculated final purchase price exceeds the estimated purchase price\n",
      "paid at closing in accordance with section 2. 05 ( a ) ( i ) and\n",
      "section 2. 07 ( a ) and the escrow agent shall release the escrow\n",
      "amount to company securityholders in accordance with the escrow\n",
      "agreement or ( ii ) the amount, if any, by which such estimated\n",
      "purchase price paid at closing in accordance\n",
      "\n",
      "\n",
      "debt amount is payable, ( iii ) a list of all payees to whom any\n",
      "portion of the seller transaction expenses is payable, ( iv ) a\n",
      "schedule of the payees and accounts ( including payment instructions )\n",
      "to which each of the foregoing payments is to be paid and ( v ) each\n",
      "company securityholder ’ s pro rata percentage ( the “ allocation\n",
      "statement ” ). 6 ( b ) at the closing, buyer shall deposit the escrow\n",
      "amount with the escrow agent to be held in a separate account ( the “\n",
      "escrow account ” ). the escrow\n",
      "\n",
      "\n"
     ]
    }
   ],
   "source": [
    "query = \"Is escrow amount greate than the Retention Amount ?\"\n",
    "\n",
    "results = chroma_collection.query(query_texts=[query], n_results=5)\n",
    "retrieved_documents = results['documents'][0]\n",
    "\n",
    "for document in retrieved_documents:\n",
    "    print(word_wrap(document))\n",
    "    print('\\n')"
   ]
  },
  {
   "cell_type": "code",
   "execution_count": 62,
   "metadata": {},
   "outputs": [],
   "source": [
    "def rag(query, retrieved_documents, model=\"gpt-3.5-turbo\"):\n",
    "    information = \"\\n\\n\".join(retrieved_documents)\n",
    "\n",
    "    messages = [\n",
    "        {\n",
    "            \"role\": \"system\",\n",
    "            \"content\": \"You are a helpful expert financial research assistant. Your users are asking questions about information contained in an annual report.\"\n",
    "            \"You will be shown the user's question, and the relevant information from the annual report. Answer the user's question using only this information.\"\n",
    "        },\n",
    "        {\"role\": \"user\", \"content\": f\"Question: {query}. \\n Information: {information}\"}\n",
    "    ]\n",
    "    \n",
    "    response = openai_client.chat.completions.create(\n",
    "        model=model,\n",
    "        messages=messages,\n",
    "    )\n",
    "    content = response.choices[0].message.content\n",
    "    return content"
   ]
  },
  {
   "cell_type": "code",
   "execution_count": 63,
   "metadata": {},
   "outputs": [
    {
     "name": "stdout",
     "output_type": "stream",
     "text": [
      "Based on the information provided from the annual report, the escrow\n",
      "amount is $1,000,000. However, there is no specific mention or\n",
      "comparison to a \"Retention Amount\" in the information provided.\n",
      "Therefore, it is not possible to determine if the escrow amount is\n",
      "greater than the Retention Amount based on the information provided.\n"
     ]
    }
   ],
   "source": [
    "output = rag(query=query, retrieved_documents=retrieved_documents)\n",
    "\n",
    "print(word_wrap(output))"
   ]
  },
  {
   "cell_type": "code",
   "execution_count": 21,
   "metadata": {},
   "outputs": [
    {
     "name": "stderr",
     "output_type": "stream",
     "text": [
      "/home/eyaya/Desktop/Challenges/Week_11/Contract_Advisor_RAG/venv2/lib/python3.10/site-packages/umap/umap_.py:1943: UserWarning:\n",
      "\n",
      "n_jobs value -1 overridden to 1 by setting random_state. Use no seed for parallelism.\n",
      "\n"
     ]
    }
   ],
   "source": [
    "embeddings = chroma_collection.get(include=['embeddings'])['embeddings']\n",
    "umap_transform = umap.UMAP(random_state=0, transform_seed=0).fit(embeddings)"
   ]
  },
  {
   "cell_type": "code",
   "execution_count": 22,
   "metadata": {},
   "outputs": [],
   "source": [
    "def project_embeddings(embeddings, umap_transform):\n",
    "    umap_embeddings = np.empty((len(embeddings),2))\n",
    "    for i, embedding in enumerate(tqdm(embeddings)): \n",
    "        umap_embeddings[i] = umap_transform.transform([embedding])\n",
    "    return umap_embeddings"
   ]
  },
  {
   "cell_type": "code",
   "execution_count": 23,
   "metadata": {},
   "outputs": [
    {
     "name": "stderr",
     "output_type": "stream",
     "text": [
      "100%|██████████| 490/490 [04:50<00:00,  1.69it/s]\n"
     ]
    }
   ],
   "source": [
    "projected_dataset_embeddings = project_embeddings(embeddings, umap_transform)"
   ]
  },
  {
   "cell_type": "code",
   "execution_count": 25,
   "metadata": {},
   "outputs": [
    {
     "data": {
      "application/vnd.plotly.v1+json": {
       "config": {
        "plotlyServerURL": "https://plot.ly"
       },
       "data": [
        {
         "hovertemplate": "x=%{x}<br>index=%{y}<extra></extra>",
         "legendgroup": "",
         "marker": {
          "color": "#636efa",
          "symbol": "circle"
         },
         "mode": "markers",
         "name": "",
         "orientation": "h",
         "showlegend": false,
         "type": "scatter",
         "x": [
          8.184656143188477,
          8.978490829467773,
          8.250407218933105,
          8.56478500366211,
          9.29150104522705,
          9.332439422607422,
          10.281180381774902,
          11.782219886779785,
          7.878209590911865,
          9.314850807189941,
          9.455687522888184,
          8.021241188049316,
          6.624915599822998,
          7.707254409790039,
          6.773156642913818,
          6.9845147132873535,
          8.501982688903809,
          6.968990325927734,
          6.373279571533203,
          6.305577754974365,
          6.362670421600342,
          6.36346435546875,
          10.922501564025879,
          8.890042304992676,
          7.632723331451416,
          6.7693657875061035,
          9.895879745483398,
          8.05241584777832,
          7.451211452484131,
          7.726884365081787,
          7.382441997528076,
          7.197303295135498,
          7.140549182891846,
          7.233199596405029,
          7.475679397583008,
          7.6142473220825195,
          7.461670875549316,
          6.923007011413574,
          7.4596991539001465,
          6.7130584716796875,
          7.06680154800415,
          7.365795612335205,
          6.786001682281494,
          7.240807056427002,
          7.266504287719727,
          7.149585247039795,
          7.383120059967041,
          7.0932512283325195,
          7.546180725097656,
          7.370344161987305,
          6.657155513763428,
          6.333530426025391,
          6.396755218505859,
          6.316130638122559,
          6.358473300933838,
          6.34854793548584,
          6.350177764892578,
          7.600335121154785,
          6.355811595916748,
          11.100919723510742,
          11.072447776794434,
          11.875580787658691,
          11.126266479492188,
          11.613619804382324,
          11.298977851867676,
          11.432785034179688,
          11.246280670166016,
          11.221833229064941,
          9.43214225769043,
          11.708441734313965,
          10.99374771118164,
          12.103554725646973,
          11.958596229553223,
          6.866775989532471,
          10.158670425415039,
          6.986836910247803,
          11.936923027038574,
          11.78996467590332,
          10.796807289123535,
          10.810262680053711,
          10.052314758300781,
          10.025203704833984,
          7.909807205200195,
          11.022058486938477,
          11.27373218536377,
          10.629820823669434,
          10.01799488067627,
          9.612349510192871,
          11.175204277038574,
          10.760944366455078,
          11.336260795593262,
          8.513318061828613,
          10.239017486572266,
          10.714428901672363,
          7.616694927215576,
          8.132489204406738,
          7.474093437194824,
          7.212350368499756,
          8.479385375976562,
          7.692088603973389,
          7.503136157989502,
          8.371602058410645,
          8.227896690368652,
          8.158398628234863,
          7.608520030975342,
          10.046891212463379,
          10.210741996765137,
          10.930381774902344,
          10.590158462524414,
          10.02811336517334,
          10.233771324157715,
          10.146180152893066,
          7.666155815124512,
          11.856354713439941,
          10.656550407409668,
          10.3617525100708,
          10.142542839050293,
          11.501338958740234,
          9.977849006652832,
          9.893686294555664,
          11.356878280639648,
          11.361823081970215,
          11.033065795898438,
          11.02805233001709,
          11.696602821350098,
          10.777755737304688,
          10.728166580200195,
          10.721922874450684,
          11.698637962341309,
          10.60062026977539,
          11.350615501403809,
          11.539820671081543,
          9.545634269714355,
          11.019960403442383,
          10.648605346679688,
          11.755084991455078,
          11.513200759887695,
          10.610296249389648,
          11.691329956054688,
          11.636528015136719,
          12.482797622680664,
          12.69568920135498,
          12.63668155670166,
          12.648633003234863,
          12.475299835205078,
          11.840163230895996,
          10.127553939819336,
          12.771963119506836,
          12.878703117370605,
          12.908379554748535,
          12.842162132263184,
          12.836946487426758,
          11.724884033203125,
          12.534215927124023,
          11.73195743560791,
          12.518838882446289,
          12.525192260742188,
          10.935054779052734,
          12.817359924316406,
          12.678267478942871,
          12.748769760131836,
          12.506488800048828,
          12.429774284362793,
          11.614198684692383,
          12.377363204956055,
          12.322110176086426,
          13.156159400939941,
          12.905065536499023,
          11.036482810974121,
          13.103263854980469,
          13.023231506347656,
          12.594834327697754,
          12.403356552124023,
          11.82728385925293,
          11.808965682983398,
          12.166793823242188,
          11.534255027770996,
          12.24606704711914,
          12.838826179504395,
          9.896004676818848,
          12.386617660522461,
          12.316290855407715,
          11.99450397491455,
          11.765539169311523,
          11.65732192993164,
          11.721189498901367,
          11.647648811340332,
          9.733736991882324,
          11.882798194885254,
          10.615153312683105,
          6.789270401000977,
          10.260560989379883,
          10.716805458068848,
          10.634592056274414,
          10.110956192016602,
          9.631856918334961,
          9.972616195678711,
          9.867437362670898,
          10.182504653930664,
          9.942695617675781,
          9.2808198928833,
          7.570229530334473,
          8.43810749053955,
          8.140623092651367,
          10.0272798538208,
          12.208919525146484,
          8.74233341217041,
          9.129323959350586,
          9.292003631591797,
          12.666112899780273,
          12.387174606323242,
          12.246659278869629,
          6.882801532745361,
          12.258764266967773,
          12.16710090637207,
          9.964835166931152,
          9.630364418029785,
          9.80706787109375,
          10.238410949707031,
          9.764181137084961,
          8.884936332702637,
          9.075910568237305,
          9.017995834350586,
          10.19551944732666,
          11.738665580749512,
          9.127573013305664,
          9.096186637878418,
          9.11087417602539,
          10.642704010009766,
          9.695533752441406,
          9.152026176452637,
          10.748250961303711,
          9.160531044006348,
          9.581992149353027,
          9.675809860229492,
          10.323681831359863,
          10.77159595489502,
          8.92839527130127,
          9.182663917541504,
          11.031990051269531,
          10.97700023651123,
          11.562053680419922,
          11.41839599609375,
          12.454020500183105,
          11.223487854003906,
          11.370000839233398,
          10.419881820678711,
          11.413851737976074,
          11.35248851776123,
          11.512344360351562,
          8.915185928344727,
          11.522915840148926,
          12.174890518188477,
          7.647874355316162,
          12.069327354431152,
          10.859160423278809,
          10.648458480834961,
          11.37226390838623,
          10.079146385192871,
          10.572650909423828,
          10.836313247680664,
          9.98047924041748,
          10.791277885437012,
          9.806829452514648,
          11.366764068603516,
          10.379146575927734,
          11.041865348815918,
          11.499429702758789,
          7.807276248931885,
          9.61616039276123,
          10.654541015625,
          10.580865859985352,
          11.110053062438965,
          11.374958038330078,
          10.071148872375488,
          10.029054641723633,
          10.547533988952637,
          11.044395446777344,
          11.123950004577637,
          8.147323608398438,
          11.111640930175781,
          12.192825317382812,
          11.440481185913086,
          11.302267074584961,
          12.201437950134277,
          11.370821952819824,
          11.801209449768066,
          11.144682884216309,
          11.82201099395752,
          11.07294750213623,
          9.106169700622559,
          11.004270553588867,
          11.604439735412598,
          11.217105865478516,
          11.365026473999023,
          11.11897087097168,
          10.766865730285645,
          10.590855598449707,
          11.679458618164062,
          10.36874771118164,
          9.953566551208496,
          9.158581733703613,
          8.465876579284668,
          9.496186256408691,
          7.889969348907471,
          7.840623378753662,
          8.369161605834961,
          8.42862319946289,
          8.482525825500488,
          8.659847259521484,
          8.303112983703613,
          9.745552062988281,
          9.892683029174805,
          8.794479370117188,
          10.170618057250977,
          7.940659046173096,
          8.010672569274902,
          7.772894382476807,
          8.351238250732422,
          8.233344078063965,
          8.83324909210205,
          7.628081798553467,
          8.756149291992188,
          10.684041976928711,
          8.841547966003418,
          8.711231231689453,
          10.841408729553223,
          9.18901538848877,
          8.347491264343262,
          9.5919828414917,
          8.977886199951172,
          8.845924377441406,
          9.330907821655273,
          10.613252639770508,
          11.90592098236084,
          10.793231010437012,
          8.838375091552734,
          9.56295108795166,
          9.020068168640137,
          7.775883197784424,
          8.933855056762695,
          8.811347007751465,
          8.82729721069336,
          8.565692901611328,
          8.941634178161621,
          8.682137489318848,
          10.728116035461426,
          8.363425254821777,
          8.595210075378418,
          10.010774612426758,
          9.86594009399414,
          9.736748695373535,
          10.295207977294922,
          8.359130859375,
          8.420940399169922,
          9.4982328414917,
          9.48241901397705,
          11.516777992248535,
          9.339280128479004,
          7.389444828033447,
          7.217218399047852,
          7.2114481925964355,
          12.155284881591797,
          9.803494453430176,
          9.923237800598145,
          10.225695610046387,
          8.692741394042969,
          8.53078556060791,
          10.007467269897461,
          8.66635513305664,
          8.583005905151367,
          8.47199821472168,
          7.473081111907959,
          11.143900871276855,
          8.17009162902832,
          9.652678489685059,
          8.696460723876953,
          7.639585018157959,
          7.414150238037109,
          6.2816925048828125,
          7.586545467376709,
          8.921772956848145,
          7.413600444793701,
          8.218304634094238,
          9.35406494140625,
          7.773983001708984,
          9.24955940246582,
          7.144387245178223,
          8.974624633789062,
          7.292582035064697,
          7.68372106552124,
          6.675821781158447,
          6.434340476989746,
          7.10978889465332,
          6.973205089569092,
          7.140171527862549,
          7.078621864318848,
          8.196738243103027,
          7.088832378387451,
          7.132171630859375,
          7.188811302185059,
          8.167572021484375,
          7.221477031707764,
          7.663235664367676,
          8.394658088684082,
          8.558969497680664,
          8.546846389770508,
          8.726845741271973,
          8.874188423156738,
          8.90457820892334,
          9.094569206237793,
          8.98953914642334,
          11.27677059173584,
          8.907018661499023,
          8.660774230957031,
          8.603195190429688,
          8.561216354370117,
          12.163656234741211,
          8.465843200683594,
          8.464309692382812,
          8.466217994689941,
          9.616532325744629,
          9.661705017089844,
          11.069459915161133,
          9.614568710327148,
          9.712654113769531,
          8.148311614990234,
          10.03188419342041,
          9.998082160949707,
          10.050965309143066,
          9.948688507080078,
          10.041879653930664,
          9.708951950073242,
          7.678150177001953,
          11.656111717224121,
          7.800739288330078,
          9.026681900024414,
          10.530152320861816,
          11.66267204284668,
          12.394608497619629,
          12.737153053283691,
          12.325278282165527,
          11.454011917114258,
          10.976308822631836,
          11.231764793395996,
          11.230660438537598,
          7.826120853424072,
          10.172993659973145,
          11.226930618286133,
          9.402491569519043,
          13.20970344543457,
          13.1367769241333,
          12.647894859313965,
          8.532984733581543,
          11.764001846313477,
          7.532418251037598,
          7.9475507736206055,
          9.284802436828613,
          12.390329360961914,
          10.749164581298828,
          12.433747291564941,
          12.084779739379883,
          12.144021034240723,
          12.189335823059082,
          8.650774955749512,
          12.213061332702637,
          9.328919410705566,
          12.156780242919922,
          7.5995988845825195,
          6.631817817687988,
          8.728927612304688,
          8.807446479797363,
          8.9024658203125,
          9.376441955566406,
          6.313333511352539,
          9.125433921813965,
          10.130255699157715,
          10.068166732788086,
          11.209660530090332,
          7.485092639923096,
          11.198301315307617,
          10.486245155334473,
          10.181798934936523,
          12.53708267211914,
          7.145098686218262,
          7.020106315612793,
          7.50233268737793,
          7.353823661804199,
          12.570083618164062,
          7.402230739593506
         ],
         "xaxis": "x",
         "y": [
          0,
          1,
          2,
          3,
          4,
          5,
          6,
          7,
          8,
          9,
          10,
          11,
          12,
          13,
          14,
          15,
          16,
          17,
          18,
          19,
          20,
          21,
          22,
          23,
          24,
          25,
          26,
          27,
          28,
          29,
          30,
          31,
          32,
          33,
          34,
          35,
          36,
          37,
          38,
          39,
          40,
          41,
          42,
          43,
          44,
          45,
          46,
          47,
          48,
          49,
          50,
          51,
          52,
          53,
          54,
          55,
          56,
          57,
          58,
          59,
          60,
          61,
          62,
          63,
          64,
          65,
          66,
          67,
          68,
          69,
          70,
          71,
          72,
          73,
          74,
          75,
          76,
          77,
          78,
          79,
          80,
          81,
          82,
          83,
          84,
          85,
          86,
          87,
          88,
          89,
          90,
          91,
          92,
          93,
          94,
          95,
          96,
          97,
          98,
          99,
          100,
          101,
          102,
          103,
          104,
          105,
          106,
          107,
          108,
          109,
          110,
          111,
          112,
          113,
          114,
          115,
          116,
          117,
          118,
          119,
          120,
          121,
          122,
          123,
          124,
          125,
          126,
          127,
          128,
          129,
          130,
          131,
          132,
          133,
          134,
          135,
          136,
          137,
          138,
          139,
          140,
          141,
          142,
          143,
          144,
          145,
          146,
          147,
          148,
          149,
          150,
          151,
          152,
          153,
          154,
          155,
          156,
          157,
          158,
          159,
          160,
          161,
          162,
          163,
          164,
          165,
          166,
          167,
          168,
          169,
          170,
          171,
          172,
          173,
          174,
          175,
          176,
          177,
          178,
          179,
          180,
          181,
          182,
          183,
          184,
          185,
          186,
          187,
          188,
          189,
          190,
          191,
          192,
          193,
          194,
          195,
          196,
          197,
          198,
          199,
          200,
          201,
          202,
          203,
          204,
          205,
          206,
          207,
          208,
          209,
          210,
          211,
          212,
          213,
          214,
          215,
          216,
          217,
          218,
          219,
          220,
          221,
          222,
          223,
          224,
          225,
          226,
          227,
          228,
          229,
          230,
          231,
          232,
          233,
          234,
          235,
          236,
          237,
          238,
          239,
          240,
          241,
          242,
          243,
          244,
          245,
          246,
          247,
          248,
          249,
          250,
          251,
          252,
          253,
          254,
          255,
          256,
          257,
          258,
          259,
          260,
          261,
          262,
          263,
          264,
          265,
          266,
          267,
          268,
          269,
          270,
          271,
          272,
          273,
          274,
          275,
          276,
          277,
          278,
          279,
          280,
          281,
          282,
          283,
          284,
          285,
          286,
          287,
          288,
          289,
          290,
          291,
          292,
          293,
          294,
          295,
          296,
          297,
          298,
          299,
          300,
          301,
          302,
          303,
          304,
          305,
          306,
          307,
          308,
          309,
          310,
          311,
          312,
          313,
          314,
          315,
          316,
          317,
          318,
          319,
          320,
          321,
          322,
          323,
          324,
          325,
          326,
          327,
          328,
          329,
          330,
          331,
          332,
          333,
          334,
          335,
          336,
          337,
          338,
          339,
          340,
          341,
          342,
          343,
          344,
          345,
          346,
          347,
          348,
          349,
          350,
          351,
          352,
          353,
          354,
          355,
          356,
          357,
          358,
          359,
          360,
          361,
          362,
          363,
          364,
          365,
          366,
          367,
          368,
          369,
          370,
          371,
          372,
          373,
          374,
          375,
          376,
          377,
          378,
          379,
          380,
          381,
          382,
          383,
          384,
          385,
          386,
          387,
          388,
          389,
          390,
          391,
          392,
          393,
          394,
          395,
          396,
          397,
          398,
          399,
          400,
          401,
          402,
          403,
          404,
          405,
          406,
          407,
          408,
          409,
          410,
          411,
          412,
          413,
          414,
          415,
          416,
          417,
          418,
          419,
          420,
          421,
          422,
          423,
          424,
          425,
          426,
          427,
          428,
          429,
          430,
          431,
          432,
          433,
          434,
          435,
          436,
          437,
          438,
          439,
          440,
          441,
          442,
          443,
          444,
          445,
          446,
          447,
          448,
          449,
          450,
          451,
          452,
          453,
          454,
          455,
          456,
          457,
          458,
          459,
          460,
          461,
          462,
          463,
          464,
          465,
          466,
          467,
          468,
          469,
          470,
          471,
          472,
          473,
          474,
          475,
          476,
          477,
          478,
          479,
          480,
          481,
          482,
          483,
          484,
          485,
          486,
          487,
          488,
          489
         ],
         "yaxis": "y"
        }
       ],
       "layout": {
        "legend": {
         "tracegroupgap": 0
        },
        "margin": {
         "t": 60
        },
        "template": {
         "data": {
          "bar": [
           {
            "error_x": {
             "color": "#2a3f5f"
            },
            "error_y": {
             "color": "#2a3f5f"
            },
            "marker": {
             "line": {
              "color": "#E5ECF6",
              "width": 0.5
             },
             "pattern": {
              "fillmode": "overlay",
              "size": 10,
              "solidity": 0.2
             }
            },
            "type": "bar"
           }
          ],
          "barpolar": [
           {
            "marker": {
             "line": {
              "color": "#E5ECF6",
              "width": 0.5
             },
             "pattern": {
              "fillmode": "overlay",
              "size": 10,
              "solidity": 0.2
             }
            },
            "type": "barpolar"
           }
          ],
          "carpet": [
           {
            "aaxis": {
             "endlinecolor": "#2a3f5f",
             "gridcolor": "white",
             "linecolor": "white",
             "minorgridcolor": "white",
             "startlinecolor": "#2a3f5f"
            },
            "baxis": {
             "endlinecolor": "#2a3f5f",
             "gridcolor": "white",
             "linecolor": "white",
             "minorgridcolor": "white",
             "startlinecolor": "#2a3f5f"
            },
            "type": "carpet"
           }
          ],
          "choropleth": [
           {
            "colorbar": {
             "outlinewidth": 0,
             "ticks": ""
            },
            "type": "choropleth"
           }
          ],
          "contour": [
           {
            "colorbar": {
             "outlinewidth": 0,
             "ticks": ""
            },
            "colorscale": [
             [
              0,
              "#0d0887"
             ],
             [
              0.1111111111111111,
              "#46039f"
             ],
             [
              0.2222222222222222,
              "#7201a8"
             ],
             [
              0.3333333333333333,
              "#9c179e"
             ],
             [
              0.4444444444444444,
              "#bd3786"
             ],
             [
              0.5555555555555556,
              "#d8576b"
             ],
             [
              0.6666666666666666,
              "#ed7953"
             ],
             [
              0.7777777777777778,
              "#fb9f3a"
             ],
             [
              0.8888888888888888,
              "#fdca26"
             ],
             [
              1,
              "#f0f921"
             ]
            ],
            "type": "contour"
           }
          ],
          "contourcarpet": [
           {
            "colorbar": {
             "outlinewidth": 0,
             "ticks": ""
            },
            "type": "contourcarpet"
           }
          ],
          "heatmap": [
           {
            "colorbar": {
             "outlinewidth": 0,
             "ticks": ""
            },
            "colorscale": [
             [
              0,
              "#0d0887"
             ],
             [
              0.1111111111111111,
              "#46039f"
             ],
             [
              0.2222222222222222,
              "#7201a8"
             ],
             [
              0.3333333333333333,
              "#9c179e"
             ],
             [
              0.4444444444444444,
              "#bd3786"
             ],
             [
              0.5555555555555556,
              "#d8576b"
             ],
             [
              0.6666666666666666,
              "#ed7953"
             ],
             [
              0.7777777777777778,
              "#fb9f3a"
             ],
             [
              0.8888888888888888,
              "#fdca26"
             ],
             [
              1,
              "#f0f921"
             ]
            ],
            "type": "heatmap"
           }
          ],
          "heatmapgl": [
           {
            "colorbar": {
             "outlinewidth": 0,
             "ticks": ""
            },
            "colorscale": [
             [
              0,
              "#0d0887"
             ],
             [
              0.1111111111111111,
              "#46039f"
             ],
             [
              0.2222222222222222,
              "#7201a8"
             ],
             [
              0.3333333333333333,
              "#9c179e"
             ],
             [
              0.4444444444444444,
              "#bd3786"
             ],
             [
              0.5555555555555556,
              "#d8576b"
             ],
             [
              0.6666666666666666,
              "#ed7953"
             ],
             [
              0.7777777777777778,
              "#fb9f3a"
             ],
             [
              0.8888888888888888,
              "#fdca26"
             ],
             [
              1,
              "#f0f921"
             ]
            ],
            "type": "heatmapgl"
           }
          ],
          "histogram": [
           {
            "marker": {
             "pattern": {
              "fillmode": "overlay",
              "size": 10,
              "solidity": 0.2
             }
            },
            "type": "histogram"
           }
          ],
          "histogram2d": [
           {
            "colorbar": {
             "outlinewidth": 0,
             "ticks": ""
            },
            "colorscale": [
             [
              0,
              "#0d0887"
             ],
             [
              0.1111111111111111,
              "#46039f"
             ],
             [
              0.2222222222222222,
              "#7201a8"
             ],
             [
              0.3333333333333333,
              "#9c179e"
             ],
             [
              0.4444444444444444,
              "#bd3786"
             ],
             [
              0.5555555555555556,
              "#d8576b"
             ],
             [
              0.6666666666666666,
              "#ed7953"
             ],
             [
              0.7777777777777778,
              "#fb9f3a"
             ],
             [
              0.8888888888888888,
              "#fdca26"
             ],
             [
              1,
              "#f0f921"
             ]
            ],
            "type": "histogram2d"
           }
          ],
          "histogram2dcontour": [
           {
            "colorbar": {
             "outlinewidth": 0,
             "ticks": ""
            },
            "colorscale": [
             [
              0,
              "#0d0887"
             ],
             [
              0.1111111111111111,
              "#46039f"
             ],
             [
              0.2222222222222222,
              "#7201a8"
             ],
             [
              0.3333333333333333,
              "#9c179e"
             ],
             [
              0.4444444444444444,
              "#bd3786"
             ],
             [
              0.5555555555555556,
              "#d8576b"
             ],
             [
              0.6666666666666666,
              "#ed7953"
             ],
             [
              0.7777777777777778,
              "#fb9f3a"
             ],
             [
              0.8888888888888888,
              "#fdca26"
             ],
             [
              1,
              "#f0f921"
             ]
            ],
            "type": "histogram2dcontour"
           }
          ],
          "mesh3d": [
           {
            "colorbar": {
             "outlinewidth": 0,
             "ticks": ""
            },
            "type": "mesh3d"
           }
          ],
          "parcoords": [
           {
            "line": {
             "colorbar": {
              "outlinewidth": 0,
              "ticks": ""
             }
            },
            "type": "parcoords"
           }
          ],
          "pie": [
           {
            "automargin": true,
            "type": "pie"
           }
          ],
          "scatter": [
           {
            "fillpattern": {
             "fillmode": "overlay",
             "size": 10,
             "solidity": 0.2
            },
            "type": "scatter"
           }
          ],
          "scatter3d": [
           {
            "line": {
             "colorbar": {
              "outlinewidth": 0,
              "ticks": ""
             }
            },
            "marker": {
             "colorbar": {
              "outlinewidth": 0,
              "ticks": ""
             }
            },
            "type": "scatter3d"
           }
          ],
          "scattercarpet": [
           {
            "marker": {
             "colorbar": {
              "outlinewidth": 0,
              "ticks": ""
             }
            },
            "type": "scattercarpet"
           }
          ],
          "scattergeo": [
           {
            "marker": {
             "colorbar": {
              "outlinewidth": 0,
              "ticks": ""
             }
            },
            "type": "scattergeo"
           }
          ],
          "scattergl": [
           {
            "marker": {
             "colorbar": {
              "outlinewidth": 0,
              "ticks": ""
             }
            },
            "type": "scattergl"
           }
          ],
          "scattermapbox": [
           {
            "marker": {
             "colorbar": {
              "outlinewidth": 0,
              "ticks": ""
             }
            },
            "type": "scattermapbox"
           }
          ],
          "scatterpolar": [
           {
            "marker": {
             "colorbar": {
              "outlinewidth": 0,
              "ticks": ""
             }
            },
            "type": "scatterpolar"
           }
          ],
          "scatterpolargl": [
           {
            "marker": {
             "colorbar": {
              "outlinewidth": 0,
              "ticks": ""
             }
            },
            "type": "scatterpolargl"
           }
          ],
          "scatterternary": [
           {
            "marker": {
             "colorbar": {
              "outlinewidth": 0,
              "ticks": ""
             }
            },
            "type": "scatterternary"
           }
          ],
          "surface": [
           {
            "colorbar": {
             "outlinewidth": 0,
             "ticks": ""
            },
            "colorscale": [
             [
              0,
              "#0d0887"
             ],
             [
              0.1111111111111111,
              "#46039f"
             ],
             [
              0.2222222222222222,
              "#7201a8"
             ],
             [
              0.3333333333333333,
              "#9c179e"
             ],
             [
              0.4444444444444444,
              "#bd3786"
             ],
             [
              0.5555555555555556,
              "#d8576b"
             ],
             [
              0.6666666666666666,
              "#ed7953"
             ],
             [
              0.7777777777777778,
              "#fb9f3a"
             ],
             [
              0.8888888888888888,
              "#fdca26"
             ],
             [
              1,
              "#f0f921"
             ]
            ],
            "type": "surface"
           }
          ],
          "table": [
           {
            "cells": {
             "fill": {
              "color": "#EBF0F8"
             },
             "line": {
              "color": "white"
             }
            },
            "header": {
             "fill": {
              "color": "#C8D4E3"
             },
             "line": {
              "color": "white"
             }
            },
            "type": "table"
           }
          ]
         },
         "layout": {
          "annotationdefaults": {
           "arrowcolor": "#2a3f5f",
           "arrowhead": 0,
           "arrowwidth": 1
          },
          "autotypenumbers": "strict",
          "coloraxis": {
           "colorbar": {
            "outlinewidth": 0,
            "ticks": ""
           }
          },
          "colorscale": {
           "diverging": [
            [
             0,
             "#8e0152"
            ],
            [
             0.1,
             "#c51b7d"
            ],
            [
             0.2,
             "#de77ae"
            ],
            [
             0.3,
             "#f1b6da"
            ],
            [
             0.4,
             "#fde0ef"
            ],
            [
             0.5,
             "#f7f7f7"
            ],
            [
             0.6,
             "#e6f5d0"
            ],
            [
             0.7,
             "#b8e186"
            ],
            [
             0.8,
             "#7fbc41"
            ],
            [
             0.9,
             "#4d9221"
            ],
            [
             1,
             "#276419"
            ]
           ],
           "sequential": [
            [
             0,
             "#0d0887"
            ],
            [
             0.1111111111111111,
             "#46039f"
            ],
            [
             0.2222222222222222,
             "#7201a8"
            ],
            [
             0.3333333333333333,
             "#9c179e"
            ],
            [
             0.4444444444444444,
             "#bd3786"
            ],
            [
             0.5555555555555556,
             "#d8576b"
            ],
            [
             0.6666666666666666,
             "#ed7953"
            ],
            [
             0.7777777777777778,
             "#fb9f3a"
            ],
            [
             0.8888888888888888,
             "#fdca26"
            ],
            [
             1,
             "#f0f921"
            ]
           ],
           "sequentialminus": [
            [
             0,
             "#0d0887"
            ],
            [
             0.1111111111111111,
             "#46039f"
            ],
            [
             0.2222222222222222,
             "#7201a8"
            ],
            [
             0.3333333333333333,
             "#9c179e"
            ],
            [
             0.4444444444444444,
             "#bd3786"
            ],
            [
             0.5555555555555556,
             "#d8576b"
            ],
            [
             0.6666666666666666,
             "#ed7953"
            ],
            [
             0.7777777777777778,
             "#fb9f3a"
            ],
            [
             0.8888888888888888,
             "#fdca26"
            ],
            [
             1,
             "#f0f921"
            ]
           ]
          },
          "colorway": [
           "#636efa",
           "#EF553B",
           "#00cc96",
           "#ab63fa",
           "#FFA15A",
           "#19d3f3",
           "#FF6692",
           "#B6E880",
           "#FF97FF",
           "#FECB52"
          ],
          "font": {
           "color": "#2a3f5f"
          },
          "geo": {
           "bgcolor": "white",
           "lakecolor": "white",
           "landcolor": "#E5ECF6",
           "showlakes": true,
           "showland": true,
           "subunitcolor": "white"
          },
          "hoverlabel": {
           "align": "left"
          },
          "hovermode": "closest",
          "mapbox": {
           "style": "light"
          },
          "paper_bgcolor": "white",
          "plot_bgcolor": "#E5ECF6",
          "polar": {
           "angularaxis": {
            "gridcolor": "white",
            "linecolor": "white",
            "ticks": ""
           },
           "bgcolor": "#E5ECF6",
           "radialaxis": {
            "gridcolor": "white",
            "linecolor": "white",
            "ticks": ""
           }
          },
          "scene": {
           "xaxis": {
            "backgroundcolor": "#E5ECF6",
            "gridcolor": "white",
            "gridwidth": 2,
            "linecolor": "white",
            "showbackground": true,
            "ticks": "",
            "zerolinecolor": "white"
           },
           "yaxis": {
            "backgroundcolor": "#E5ECF6",
            "gridcolor": "white",
            "gridwidth": 2,
            "linecolor": "white",
            "showbackground": true,
            "ticks": "",
            "zerolinecolor": "white"
           },
           "zaxis": {
            "backgroundcolor": "#E5ECF6",
            "gridcolor": "white",
            "gridwidth": 2,
            "linecolor": "white",
            "showbackground": true,
            "ticks": "",
            "zerolinecolor": "white"
           }
          },
          "shapedefaults": {
           "line": {
            "color": "#2a3f5f"
           }
          },
          "ternary": {
           "aaxis": {
            "gridcolor": "white",
            "linecolor": "white",
            "ticks": ""
           },
           "baxis": {
            "gridcolor": "white",
            "linecolor": "white",
            "ticks": ""
           },
           "bgcolor": "#E5ECF6",
           "caxis": {
            "gridcolor": "white",
            "linecolor": "white",
            "ticks": ""
           }
          },
          "title": {
           "x": 0.05
          },
          "xaxis": {
           "automargin": true,
           "gridcolor": "white",
           "linecolor": "white",
           "ticks": "",
           "title": {
            "standoff": 15
           },
           "zerolinecolor": "white",
           "zerolinewidth": 2
          },
          "yaxis": {
           "automargin": true,
           "gridcolor": "white",
           "linecolor": "white",
           "ticks": "",
           "title": {
            "standoff": 15
           },
           "zerolinecolor": "white",
           "zerolinewidth": 2
          }
         }
        },
        "xaxis": {
         "anchor": "y",
         "domain": [
          0,
          1
         ],
         "title": {
          "text": "x"
         }
        },
        "yaxis": {
         "anchor": "x",
         "domain": [
          0,
          1
         ],
         "title": {
          "text": "index"
         }
        }
       }
      }
     },
     "metadata": {},
     "output_type": "display_data"
    }
   ],
   "source": [
    "import plotly.express as px\n",
    "from umap import UMAP\n",
    "\n",
    "# Load the Iris dataset\n",
    "\n",
    "\n",
    "# Create a UMAP model and fit it to the data\n",
    "umap_2d = UMAP(n_components=2, random_state=0)\n",
    "\n",
    "\n",
    "# Visualize the UMAP projections\n",
    "fig = px.scatter(projected_dataset_embeddings[:, 0], projected_dataset_embeddings[:, 1])\n",
    "fig.show()\n"
   ]
  },
  {
   "cell_type": "code",
   "execution_count": 26,
   "metadata": {},
   "outputs": [
    {
     "name": "stdout",
     "output_type": "stream",
     "text": [
      "gains of such person ( including stock appreciation, phantom stock,\n",
      "profit participation or other similar rights ). “ escrow amount ”\n",
      "means, $ 1, 000, 000 “ facilities ” means any buildings, plants,\n",
      "improvements or structures located on the real property. “ family\n",
      "member ” means, with respect to any individual, ( a ) such person ’ s\n",
      "spouse, ( b ) each parent, brother, sister or child of such person or\n",
      "such person ’ s spouse, ( c ) the spouse of any person described in\n",
      "clause ( b ) above, ( d ) each child\n",
      "\n",
      "in accordance with the escrow agreement. the escrow amount shall be\n",
      "held and, subject to section 2. 07, released to the company\n",
      "securityholders in accordance with the provisions of the escrow\n",
      "agreement with the company securityholders being entitled to share in\n",
      "such released amounts in accordance with their pro rata percentages.\n",
      "from and after the closing, buyer and the sellers ’ representative\n",
      "will direct the escrow agent to disburse payments from the escrow\n",
      "account in accordance with the\n",
      "\n",
      "with section 2. 05 ( a ) ( i ) and section 2. 07 ( a ) exceeds such re\n",
      "- calculated final purchase price shall be paid to the buyer, or its\n",
      "designee, in accordance with the terms of the escrow agreement ( and\n",
      "any remaining balance of the escrow amount not required to be paid to\n",
      "the buyer shall be released to company securityholders in accordance\n",
      "with the terms of the escrow agreement ). section i. 04 escrow. ( a )\n",
      "at closing, buyer will deposit the escrow amount in escrow on behalf\n",
      "of the sellers in\n",
      "\n",
      "debt amount is payable, ( iii ) a list of all payees to whom any\n",
      "portion of the seller transaction expenses is payable, ( iv ) a\n",
      "schedule of the payees and accounts ( including payment instructions )\n",
      "to which each of the foregoing payments is to be paid and ( v ) each\n",
      "company securityholder ’ s pro rata percentage ( the “ allocation\n",
      "statement ” ). 6 ( b ) at the closing, buyer shall deposit the escrow\n",
      "amount with the escrow agent to be held in a separate account ( the “\n",
      "escrow account ” ). the escrow\n",
      "\n",
      "company securityholder by wire transfer of immediately available funds\n",
      "its pro rata percentage of the amount, if any, by which such re -\n",
      "calculated final purchase price exceeds the estimated purchase price\n",
      "paid at closing in accordance with section 2. 05 ( a ) ( i ) and\n",
      "section 2. 07 ( a ) and the escrow agent shall release the escrow\n",
      "amount to company securityholders in accordance with the escrow\n",
      "agreement or ( ii ) the amount, if any, by which such estimated\n",
      "purchase price paid at closing in accordance\n",
      "\n"
     ]
    }
   ],
   "source": [
    "query = \"How much is the escrow amount?\"\n",
    "\n",
    "results = chroma_collection.query(query_texts=query, n_results=5, include=['documents', 'embeddings'])\n",
    "\n",
    "retrieved_documents = results['documents'][0]\n",
    "\n",
    "for document in results['documents'][0]:\n",
    "    print(word_wrap(document))\n",
    "    print('')"
   ]
  },
  {
   "cell_type": "code",
   "execution_count": 27,
   "metadata": {},
   "outputs": [
    {
     "name": "stderr",
     "output_type": "stream",
     "text": [
      "100%|██████████| 1/1 [00:00<00:00,  1.65it/s]\n",
      "100%|██████████| 5/5 [00:02<00:00,  1.71it/s]\n"
     ]
    }
   ],
   "source": [
    "query_embedding = embedding_function([query])[0]\n",
    "retrieved_embeddings = results['embeddings'][0]\n",
    "\n",
    "projected_query_embedding = project_embeddings([query_embedding], umap_transform)\n",
    "projected_retrieved_embeddings = project_embeddings(retrieved_embeddings, umap_transform)"
   ]
  },
  {
   "cell_type": "code",
   "execution_count": 36,
   "metadata": {},
   "outputs": [
    {
     "data": {
      "application/vnd.plotly.v1+json": {
       "config": {
        "plotlyServerURL": "https://plot.ly"
       },
       "data": [
        {
         "mode": "markers",
         "type": "scatter",
         "x": [
          1.494057536125183,
          2.00392746925354,
          1.3460280895233154,
          1.8873343467712402,
          0.8153491616249084,
          0.7725995182991028,
          1.1673088073730469,
          4.285847187042236,
          2.07889986038208,
          0.4455932676792145,
          0.6846264004707336,
          2.599942922592163,
          3.221437931060791,
          4.752927780151367,
          3.264547824859619,
          4.325597286224365,
          3.5196876525878906,
          3.7982289791107178,
          3.001974582672119,
          2.7430787086486816,
          3.0600802898406982,
          3.00333833694458,
          5.28533411026001,
          5.261155128479004,
          4.896797180175781,
          2.116507053375244,
          2.233182191848755,
          3.0449600219726562,
          4.436845302581787,
          5.781336784362793,
          5.241415023803711,
          4.781313896179199,
          4.998754024505615,
          4.804015636444092,
          4.6794819831848145,
          4.562565803527832,
          4.656155109405518,
          4.162156581878662,
          4.218398094177246,
          3.41272234916687,
          2.920919895172119,
          2.7988438606262207,
          3.137545585632324,
          2.403149127960205,
          2.1489343643188477,
          2.6547489166259766,
          4.611997604370117,
          2.9103941917419434,
          3.5730223655700684,
          3.290132522583008,
          3.318479061126709,
          3.0077717304229736,
          3.0132086277008057,
          2.8707613945007324,
          2.538719654083252,
          2.4966421127319336,
          2.483384609222412,
          4.481658458709717,
          2.937282085418701,
          6.627967834472656,
          6.4593915939331055,
          6.408445358276367,
          6.782758712768555,
          6.675682067871094,
          6.765561103820801,
          6.6726155281066895,
          6.691732406616211,
          6.642773628234863,
          0.867393970489502,
          6.618876934051514,
          6.360766410827637,
          6.258098602294922,
          6.2908711433410645,
          3.7992148399353027,
          5.2924652099609375,
          3.874659299850464,
          3.1547000408172607,
          3.1149401664733887,
          3.407327175140381,
          3.2708194255828857,
          2.2181363105773926,
          1.5727670192718506,
          2.8064074516296387,
          3.5232760906219482,
          3.124768018722534,
          3.827537775039673,
          1.046004295349121,
          0.9040757417678833,
          3.2899088859558105,
          3.4413156509399414,
          2.285015821456909,
          3.5159969329833984,
          3.165580987930298,
          3.669481039047241,
          5.517919063568115,
          5.57722806930542,
          5.401029586791992,
          5.174759387969971,
          5.692470550537109,
          5.7234673500061035,
          5.450865745544434,
          1.0719480514526367,
          5.617523193359375,
          5.753210544586182,
          5.669924259185791,
          3.0615363121032715,
          3.0965826511383057,
          3.491896152496338,
          3.587348222732544,
          3.6192126274108887,
          3.5954136848449707,
          3.4848074913024902,
          2.567730188369751,
          3.9764516353607178,
          3.5926783084869385,
          3.2087152004241943,
          3.0999226570129395,
          3.1436216831207275,
          1.1489814519882202,
          3.293102741241455,
          2.296200752258301,
          2.3547415733337402,
          2.121243953704834,
          2.073416233062744,
          4.022564888000488,
          5.223705768585205,
          5.608550071716309,
          5.184028148651123,
          1.6618651151657104,
          1.9853259325027466,
          1.6661113500595093,
          2.270491600036621,
          1.9247032403945923,
          2.144766330718994,
          3.870342969894409,
          5.081764221191406,
          2.3863213062286377,
          2.945753335952759,
          2.523756265640259,
          3.285280704498291,
          2.42798113822937,
          2.8865702152252197,
          2.514155387878418,
          2.604475498199463,
          2.3434364795684814,
          2.758338451385498,
          5.805654048919678,
          3.0981831550598145,
          3.3062901496887207,
          3.375157117843628,
          3.4135029315948486,
          3.6204726696014404,
          3.320101737976074,
          4.538337707519531,
          4.011036396026611,
          3.9421398639678955,
          3.907824993133545,
          5.162199974060059,
          3.402038812637329,
          3.979180097579956,
          4.291741371154785,
          3.963470458984375,
          4.137770175933838,
          4.401292324066162,
          5.431745529174805,
          5.772214889526367,
          3.8956027030944824,
          4.254043102264404,
          5.494213104248047,
          4.052593231201172,
          3.5066170692443848,
          4.156429290771484,
          4.4527764320373535,
          4.559788227081299,
          4.234060764312744,
          4.646648406982422,
          4.4205546379089355,
          4.684131145477295,
          4.465407848358154,
          2.4493789672851562,
          5.213593006134033,
          5.262300491333008,
          4.035212516784668,
          3.8866496086120605,
          3.4767086505889893,
          3.8545584678649902,
          3.979135751724243,
          3.231091260910034,
          3.56673002243042,
          4.643942356109619,
          3.5447998046875,
          4.626453876495361,
          4.9511566162109375,
          4.4625725746154785,
          4.573034286499023,
          4.991733074188232,
          4.636491298675537,
          4.8260817527771,
          4.509783744812012,
          4.59194278717041,
          4.526646137237549,
          3.7806434631347656,
          4.488119125366211,
          4.140805721282959,
          4.792282581329346,
          6.010620594024658,
          5.624828338623047,
          5.676417350769043,
          5.031151294708252,
          4.7821807861328125,
          5.713629245758057,
          6.071536540985107,
          3.642648458480835,
          5.972404956817627,
          6.153642654418945,
          4.682074546813965,
          5.851328372955322,
          5.234227657318115,
          4.581526756286621,
          6.3638176918029785,
          6.014410972595215,
          6.436315536499023,
          6.3509840965271,
          1.015103816986084,
          4.103238105773926,
          6.8770880699157715,
          6.809516429901123,
          6.466678619384766,
          4.529958248138428,
          6.8991804122924805,
          6.807295799255371,
          4.310418128967285,
          6.853024005889893,
          6.1270294189453125,
          4.616329193115234,
          2.061537265777588,
          5.459744453430176,
          6.462202072143555,
          6.84868860244751,
          3.735539674758911,
          3.7247612476348877,
          3.451819896697998,
          3.162841558456421,
          2.3305485248565674,
          3.1652209758758545,
          2.3188960552215576,
          1.7035514116287231,
          2.279261827468872,
          2.2821877002716064,
          2.3375234603881836,
          2.793203115463257,
          2.3281209468841553,
          2.2323079109191895,
          2.866769552230835,
          3.3796820640563965,
          3.7278010845184326,
          2.9752631187438965,
          1.7385832071304321,
          2.88877534866333,
          3.097464084625244,
          3.3323707580566406,
          2.352132797241211,
          3.6582911014556885,
          6.136959075927734,
          5.975372791290283,
          6.336440086364746,
          4.810336112976074,
          3.083101511001587,
          3.569403648376465,
          0.9837337732315063,
          5.741464138031006,
          4.340854167938232,
          4.738697528839111,
          4.379159450531006,
          6.282500267028809,
          5.1549272537231445,
          6.283026218414307,
          4.9092116355896,
          4.632750034332275,
          3.073153495788574,
          5.441730499267578,
          3.9349312782287598,
          4.625738620758057,
          4.355123519897461,
          5.956944465637207,
          4.353621482849121,
          5.532270431518555,
          4.639577865600586,
          5.95040225982666,
          5.449750900268555,
          6.737905025482178,
          5.560407638549805,
          4.211204528808594,
          4.764950275421143,
          4.374495029449463,
          4.478155612945557,
          3.9465789794921875,
          3.9112932682037354,
          2.2621169090270996,
          3.9274730682373047,
          3.9786343574523926,
          6.863900184631348,
          3.225362539291382,
          2.150352954864502,
          1.1457247734069824,
          1.1784783601760864,
          1.6699484586715698,
          0.9968334436416626,
          1.6066120862960815,
          1.7137773036956787,
          1.3390135765075684,
          2.8302910327911377,
          6.422463417053223,
          2.9576828479766846,
          3.0365095138549805,
          1.1964912414550781,
          1.1683709621429443,
          1.2367100715637207,
          0.938733696937561,
          1.2277339696884155,
          1.5438891649246216,
          1.3050416707992554,
          1.9362998008728027,
          1.6601464748382568,
          2.4342539310455322,
          2.236241102218628,
          3.7002384662628174,
          2.322375535964966,
          1.982841968536377,
          0.9052574634552002,
          2.024956464767456,
          2.1699581146240234,
          2.393172025680542,
          3.872861623764038,
          4.01438045501709,
          1.4840331077575684,
          2.319742441177368,
          2.611168146133423,
          2.3959615230560303,
          1.8880068063735962,
          2.1193599700927734,
          2.496466875076294,
          2.0822598934173584,
          2.3456649780273438,
          2.609135866165161,
          1.644778847694397,
          1.5023690462112427,
          2.129082202911377,
          2.3328921794891357,
          3.0129292011260986,
          3.961371421813965,
          3.9139232635498047,
          2.9034807682037354,
          2.4243345260620117,
          2.410037040710449,
          6.005080699920654,
          4.241855144500732,
          2.3436098098754883,
          4.089601993560791,
          3.8851418495178223,
          5.20021915435791,
          5.123030185699463,
          6.21377420425415,
          5.017516613006592,
          4.789971351623535,
          4.427042484283447,
          4.703636169433594,
          4.5450758934021,
          2.9056882858276367,
          4.642951011657715,
          4.2906270027160645,
          2.290008068084717,
          1.295022964477539,
          2.252573013305664,
          3.4598612785339355,
          0.9325459003448486,
          1.2773823738098145,
          2.093841314315796,
          1.1096702814102173,
          2.617938756942749,
          1.872775673866272,
          1.7936229705810547,
          1.48345148563385,
          1.5259495973587036,
          0.8720389008522034,
          1.2358310222625732,
          0.5194766521453857,
          1.6549726724624634,
          4.134891510009766,
          1.5780301094055176,
          4.817934036254883,
          2.033217668533325,
          2.363978147506714,
          1.6855309009552002,
          1.8083544969558716,
          1.6201130151748657,
          1.6918935775756836,
          2.248736619949341,
          1.661141276359558,
          1.7353551387786865,
          1.62370765209198,
          3.929617166519165,
          1.6159273386001587,
          1.2576075792312622,
          0.8385352492332458,
          1.3969205617904663,
          0.6970245838165283,
          0.2918858528137207,
          0.208238884806633,
          0.12909643352031708,
          0.18514752388000488,
          0.3801872432231903,
          1.292966604232788,
          0.223204106092453,
          0.22476457059383392,
          0.5188210606575012,
          0.6198331713676453,
          6.23140287399292,
          0.473860502243042,
          0.4668738842010498,
          0.48382049798965454,
          1.069736123085022,
          0.9375834465026855,
          1.7695589065551758,
          0.9308191537857056,
          0.9379945397377014,
          0.9463194012641907,
          1.7285363674163818,
          1.5535820722579956,
          1.682900071144104,
          1.564928650856018,
          1.981200933456421,
          1.864542841911316,
          1.2796587944030762,
          1.8483428955078125,
          1.154740333557129,
          3.31965970993042,
          1.8958477973937988,
          2.7755377292633057,
          5.692234992980957,
          4.36508321762085,
          5.919290542602539,
          2.36444091796875,
          3.1442883014678955,
          3.2855238914489746,
          3.225468397140503,
          1.2405903339385986,
          2.2651000022888184,
          3.3575644493103027,
          0.8844712972640991,
          3.8697826862335205,
          4.063072204589844,
          5.0979485511779785,
          3.523437261581421,
          2.0742249488830566,
          1.3584210872650146,
          4.685226917266846,
          4.905646324157715,
          3.927250862121582,
          1.7144007682800293,
          2.3853061199188232,
          2.2590832710266113,
          4.696592807769775,
          4.972922325134277,
          4.601650238037109,
          4.827578067779541,
          4.1673102378845215,
          4.705726623535156,
          1.1438966989517212,
          1.960239052772522,
          5.490990161895752,
          5.305348873138428,
          2.844301700592041,
          2.8434011936187744,
          2.520116090774536,
          4.65427303314209,
          2.868525743484497,
          4.875143051147461,
          1.4162172079086304,
          5.125644683837891,
          1.408901333808899,
          2.027310371398926,
          4.795499801635742,
          4.181007385253906,
          5.152317047119141,
          4.650991439819336,
          3.8087544441223145,
          4.206378936767578,
          2.3892109394073486,
          3.4650182723999023
         ],
         "y": [
          8.184656143188477,
          8.978490829467773,
          8.250407218933105,
          8.56478500366211,
          9.29150104522705,
          9.332439422607422,
          10.281180381774902,
          11.782219886779785,
          7.878209590911865,
          9.314850807189941,
          9.455687522888184,
          8.021241188049316,
          6.624915599822998,
          7.707254409790039,
          6.773156642913818,
          6.9845147132873535,
          8.501982688903809,
          6.968990325927734,
          6.373279571533203,
          6.305577754974365,
          6.362670421600342,
          6.36346435546875,
          10.922501564025879,
          8.890042304992676,
          7.632723331451416,
          6.7693657875061035,
          9.895879745483398,
          8.05241584777832,
          7.451211452484131,
          7.726884365081787,
          7.382441997528076,
          7.197303295135498,
          7.140549182891846,
          7.233199596405029,
          7.475679397583008,
          7.6142473220825195,
          7.461670875549316,
          6.923007011413574,
          7.4596991539001465,
          6.7130584716796875,
          7.06680154800415,
          7.365795612335205,
          6.786001682281494,
          7.240807056427002,
          7.266504287719727,
          7.149585247039795,
          7.383120059967041,
          7.0932512283325195,
          7.546180725097656,
          7.370344161987305,
          6.657155513763428,
          6.333530426025391,
          6.396755218505859,
          6.316130638122559,
          6.358473300933838,
          6.34854793548584,
          6.350177764892578,
          7.600335121154785,
          6.355811595916748,
          11.100919723510742,
          11.072447776794434,
          11.875580787658691,
          11.126266479492188,
          11.613619804382324,
          11.298977851867676,
          11.432785034179688,
          11.246280670166016,
          11.221833229064941,
          9.43214225769043,
          11.708441734313965,
          10.99374771118164,
          12.103554725646973,
          11.958596229553223,
          6.866775989532471,
          10.158670425415039,
          6.986836910247803,
          11.936923027038574,
          11.78996467590332,
          10.796807289123535,
          10.810262680053711,
          10.052314758300781,
          10.025203704833984,
          7.909807205200195,
          11.022058486938477,
          11.27373218536377,
          10.629820823669434,
          10.01799488067627,
          9.612349510192871,
          11.175204277038574,
          10.760944366455078,
          11.336260795593262,
          8.513318061828613,
          10.239017486572266,
          10.714428901672363,
          7.616694927215576,
          8.132489204406738,
          7.474093437194824,
          7.212350368499756,
          8.479385375976562,
          7.692088603973389,
          7.503136157989502,
          8.371602058410645,
          8.227896690368652,
          8.158398628234863,
          7.608520030975342,
          10.046891212463379,
          10.210741996765137,
          10.930381774902344,
          10.590158462524414,
          10.02811336517334,
          10.233771324157715,
          10.146180152893066,
          7.666155815124512,
          11.856354713439941,
          10.656550407409668,
          10.3617525100708,
          10.142542839050293,
          11.501338958740234,
          9.977849006652832,
          9.893686294555664,
          11.356878280639648,
          11.361823081970215,
          11.033065795898438,
          11.02805233001709,
          11.696602821350098,
          10.777755737304688,
          10.728166580200195,
          10.721922874450684,
          11.698637962341309,
          10.60062026977539,
          11.350615501403809,
          11.539820671081543,
          9.545634269714355,
          11.019960403442383,
          10.648605346679688,
          11.755084991455078,
          11.513200759887695,
          10.610296249389648,
          11.691329956054688,
          11.636528015136719,
          12.482797622680664,
          12.69568920135498,
          12.63668155670166,
          12.648633003234863,
          12.475299835205078,
          11.840163230895996,
          10.127553939819336,
          12.771963119506836,
          12.878703117370605,
          12.908379554748535,
          12.842162132263184,
          12.836946487426758,
          11.724884033203125,
          12.534215927124023,
          11.73195743560791,
          12.518838882446289,
          12.525192260742188,
          10.935054779052734,
          12.817359924316406,
          12.678267478942871,
          12.748769760131836,
          12.506488800048828,
          12.429774284362793,
          11.614198684692383,
          12.377363204956055,
          12.322110176086426,
          13.156159400939941,
          12.905065536499023,
          11.036482810974121,
          13.103263854980469,
          13.023231506347656,
          12.594834327697754,
          12.403356552124023,
          11.82728385925293,
          11.808965682983398,
          12.166793823242188,
          11.534255027770996,
          12.24606704711914,
          12.838826179504395,
          9.896004676818848,
          12.386617660522461,
          12.316290855407715,
          11.99450397491455,
          11.765539169311523,
          11.65732192993164,
          11.721189498901367,
          11.647648811340332,
          9.733736991882324,
          11.882798194885254,
          10.615153312683105,
          6.789270401000977,
          10.260560989379883,
          10.716805458068848,
          10.634592056274414,
          10.110956192016602,
          9.631856918334961,
          9.972616195678711,
          9.867437362670898,
          10.182504653930664,
          9.942695617675781,
          9.2808198928833,
          7.570229530334473,
          8.43810749053955,
          8.140623092651367,
          10.0272798538208,
          12.208919525146484,
          8.74233341217041,
          9.129323959350586,
          9.292003631591797,
          12.666112899780273,
          12.387174606323242,
          12.246659278869629,
          6.882801532745361,
          12.258764266967773,
          12.16710090637207,
          9.964835166931152,
          9.630364418029785,
          9.80706787109375,
          10.238410949707031,
          9.764181137084961,
          8.884936332702637,
          9.075910568237305,
          9.017995834350586,
          10.19551944732666,
          11.738665580749512,
          9.127573013305664,
          9.096186637878418,
          9.11087417602539,
          10.642704010009766,
          9.695533752441406,
          9.152026176452637,
          10.748250961303711,
          9.160531044006348,
          9.581992149353027,
          9.675809860229492,
          10.323681831359863,
          10.77159595489502,
          8.92839527130127,
          9.182663917541504,
          11.031990051269531,
          10.97700023651123,
          11.562053680419922,
          11.41839599609375,
          12.454020500183105,
          11.223487854003906,
          11.370000839233398,
          10.419881820678711,
          11.413851737976074,
          11.35248851776123,
          11.512344360351562,
          8.915185928344727,
          11.522915840148926,
          12.174890518188477,
          7.647874355316162,
          12.069327354431152,
          10.859160423278809,
          10.648458480834961,
          11.37226390838623,
          10.079146385192871,
          10.572650909423828,
          10.836313247680664,
          9.98047924041748,
          10.791277885437012,
          9.806829452514648,
          11.366764068603516,
          10.379146575927734,
          11.041865348815918,
          11.499429702758789,
          7.807276248931885,
          9.61616039276123,
          10.654541015625,
          10.580865859985352,
          11.110053062438965,
          11.374958038330078,
          10.071148872375488,
          10.029054641723633,
          10.547533988952637,
          11.044395446777344,
          11.123950004577637,
          8.147323608398438,
          11.111640930175781,
          12.192825317382812,
          11.440481185913086,
          11.302267074584961,
          12.201437950134277,
          11.370821952819824,
          11.801209449768066,
          11.144682884216309,
          11.82201099395752,
          11.07294750213623,
          9.106169700622559,
          11.004270553588867,
          11.604439735412598,
          11.217105865478516,
          11.365026473999023,
          11.11897087097168,
          10.766865730285645,
          10.590855598449707,
          11.679458618164062,
          10.36874771118164,
          9.953566551208496,
          9.158581733703613,
          8.465876579284668,
          9.496186256408691,
          7.889969348907471,
          7.840623378753662,
          8.369161605834961,
          8.42862319946289,
          8.482525825500488,
          8.659847259521484,
          8.303112983703613,
          9.745552062988281,
          9.892683029174805,
          8.794479370117188,
          10.170618057250977,
          7.940659046173096,
          8.010672569274902,
          7.772894382476807,
          8.351238250732422,
          8.233344078063965,
          8.83324909210205,
          7.628081798553467,
          8.756149291992188,
          10.684041976928711,
          8.841547966003418,
          8.711231231689453,
          10.841408729553223,
          9.18901538848877,
          8.347491264343262,
          9.5919828414917,
          8.977886199951172,
          8.845924377441406,
          9.330907821655273,
          10.613252639770508,
          11.90592098236084,
          10.793231010437012,
          8.838375091552734,
          9.56295108795166,
          9.020068168640137,
          7.775883197784424,
          8.933855056762695,
          8.811347007751465,
          8.82729721069336,
          8.565692901611328,
          8.941634178161621,
          8.682137489318848,
          10.728116035461426,
          8.363425254821777,
          8.595210075378418,
          10.010774612426758,
          9.86594009399414,
          9.736748695373535,
          10.295207977294922,
          8.359130859375,
          8.420940399169922,
          9.4982328414917,
          9.48241901397705,
          11.516777992248535,
          9.339280128479004,
          7.389444828033447,
          7.217218399047852,
          7.2114481925964355,
          12.155284881591797,
          9.803494453430176,
          9.923237800598145,
          10.225695610046387,
          8.692741394042969,
          8.53078556060791,
          10.007467269897461,
          8.66635513305664,
          8.583005905151367,
          8.47199821472168,
          7.473081111907959,
          11.143900871276855,
          8.17009162902832,
          9.652678489685059,
          8.696460723876953,
          7.639585018157959,
          7.414150238037109,
          6.2816925048828125,
          7.586545467376709,
          8.921772956848145,
          7.413600444793701,
          8.218304634094238,
          9.35406494140625,
          7.773983001708984,
          9.24955940246582,
          7.144387245178223,
          8.974624633789062,
          7.292582035064697,
          7.68372106552124,
          6.675821781158447,
          6.434340476989746,
          7.10978889465332,
          6.973205089569092,
          7.140171527862549,
          7.078621864318848,
          8.196738243103027,
          7.088832378387451,
          7.132171630859375,
          7.188811302185059,
          8.167572021484375,
          7.221477031707764,
          7.663235664367676,
          8.394658088684082,
          8.558969497680664,
          8.546846389770508,
          8.726845741271973,
          8.874188423156738,
          8.90457820892334,
          9.094569206237793,
          8.98953914642334,
          11.27677059173584,
          8.907018661499023,
          8.660774230957031,
          8.603195190429688,
          8.561216354370117,
          12.163656234741211,
          8.465843200683594,
          8.464309692382812,
          8.466217994689941,
          9.616532325744629,
          9.661705017089844,
          11.069459915161133,
          9.614568710327148,
          9.712654113769531,
          8.148311614990234,
          10.03188419342041,
          9.998082160949707,
          10.050965309143066,
          9.948688507080078,
          10.041879653930664,
          9.708951950073242,
          7.678150177001953,
          11.656111717224121,
          7.800739288330078,
          9.026681900024414,
          10.530152320861816,
          11.66267204284668,
          12.394608497619629,
          12.737153053283691,
          12.325278282165527,
          11.454011917114258,
          10.976308822631836,
          11.231764793395996,
          11.230660438537598,
          7.826120853424072,
          10.172993659973145,
          11.226930618286133,
          9.402491569519043,
          13.20970344543457,
          13.1367769241333,
          12.647894859313965,
          8.532984733581543,
          11.764001846313477,
          7.532418251037598,
          7.9475507736206055,
          9.284802436828613,
          12.390329360961914,
          10.749164581298828,
          12.433747291564941,
          12.084779739379883,
          12.144021034240723,
          12.189335823059082,
          8.650774955749512,
          12.213061332702637,
          9.328919410705566,
          12.156780242919922,
          7.5995988845825195,
          6.631817817687988,
          8.728927612304688,
          8.807446479797363,
          8.9024658203125,
          9.376441955566406,
          6.313333511352539,
          9.125433921813965,
          10.130255699157715,
          10.068166732788086,
          11.209660530090332,
          7.485092639923096,
          11.198301315307617,
          10.486245155334473,
          10.181798934936523,
          12.53708267211914,
          7.145098686218262,
          7.020106315612793,
          7.50233268737793,
          7.353823661804199,
          12.570083618164062,
          7.402230739593506
         ]
        },
        {
         "mode": "markers",
         "type": "scatter",
         "x": [
          2.769716501235962
         ],
         "y": [
          6.3554253578186035
         ]
        },
        {
         "mode": "markers",
         "type": "scatter",
         "x": [
          2.617938756942749,
          2.8707613945007324,
          3.0132086277008057,
          3.001974582672119,
          3.0077717304229736
         ],
         "y": [
          6.2816925048828125,
          6.316130638122559,
          6.396755218505859,
          6.373279571533203,
          6.333530426025391
         ]
        }
       ],
       "layout": {
        "template": {
         "data": {
          "bar": [
           {
            "error_x": {
             "color": "#2a3f5f"
            },
            "error_y": {
             "color": "#2a3f5f"
            },
            "marker": {
             "line": {
              "color": "#E5ECF6",
              "width": 0.5
             },
             "pattern": {
              "fillmode": "overlay",
              "size": 10,
              "solidity": 0.2
             }
            },
            "type": "bar"
           }
          ],
          "barpolar": [
           {
            "marker": {
             "line": {
              "color": "#E5ECF6",
              "width": 0.5
             },
             "pattern": {
              "fillmode": "overlay",
              "size": 10,
              "solidity": 0.2
             }
            },
            "type": "barpolar"
           }
          ],
          "carpet": [
           {
            "aaxis": {
             "endlinecolor": "#2a3f5f",
             "gridcolor": "white",
             "linecolor": "white",
             "minorgridcolor": "white",
             "startlinecolor": "#2a3f5f"
            },
            "baxis": {
             "endlinecolor": "#2a3f5f",
             "gridcolor": "white",
             "linecolor": "white",
             "minorgridcolor": "white",
             "startlinecolor": "#2a3f5f"
            },
            "type": "carpet"
           }
          ],
          "choropleth": [
           {
            "colorbar": {
             "outlinewidth": 0,
             "ticks": ""
            },
            "type": "choropleth"
           }
          ],
          "contour": [
           {
            "colorbar": {
             "outlinewidth": 0,
             "ticks": ""
            },
            "colorscale": [
             [
              0,
              "#0d0887"
             ],
             [
              0.1111111111111111,
              "#46039f"
             ],
             [
              0.2222222222222222,
              "#7201a8"
             ],
             [
              0.3333333333333333,
              "#9c179e"
             ],
             [
              0.4444444444444444,
              "#bd3786"
             ],
             [
              0.5555555555555556,
              "#d8576b"
             ],
             [
              0.6666666666666666,
              "#ed7953"
             ],
             [
              0.7777777777777778,
              "#fb9f3a"
             ],
             [
              0.8888888888888888,
              "#fdca26"
             ],
             [
              1,
              "#f0f921"
             ]
            ],
            "type": "contour"
           }
          ],
          "contourcarpet": [
           {
            "colorbar": {
             "outlinewidth": 0,
             "ticks": ""
            },
            "type": "contourcarpet"
           }
          ],
          "heatmap": [
           {
            "colorbar": {
             "outlinewidth": 0,
             "ticks": ""
            },
            "colorscale": [
             [
              0,
              "#0d0887"
             ],
             [
              0.1111111111111111,
              "#46039f"
             ],
             [
              0.2222222222222222,
              "#7201a8"
             ],
             [
              0.3333333333333333,
              "#9c179e"
             ],
             [
              0.4444444444444444,
              "#bd3786"
             ],
             [
              0.5555555555555556,
              "#d8576b"
             ],
             [
              0.6666666666666666,
              "#ed7953"
             ],
             [
              0.7777777777777778,
              "#fb9f3a"
             ],
             [
              0.8888888888888888,
              "#fdca26"
             ],
             [
              1,
              "#f0f921"
             ]
            ],
            "type": "heatmap"
           }
          ],
          "heatmapgl": [
           {
            "colorbar": {
             "outlinewidth": 0,
             "ticks": ""
            },
            "colorscale": [
             [
              0,
              "#0d0887"
             ],
             [
              0.1111111111111111,
              "#46039f"
             ],
             [
              0.2222222222222222,
              "#7201a8"
             ],
             [
              0.3333333333333333,
              "#9c179e"
             ],
             [
              0.4444444444444444,
              "#bd3786"
             ],
             [
              0.5555555555555556,
              "#d8576b"
             ],
             [
              0.6666666666666666,
              "#ed7953"
             ],
             [
              0.7777777777777778,
              "#fb9f3a"
             ],
             [
              0.8888888888888888,
              "#fdca26"
             ],
             [
              1,
              "#f0f921"
             ]
            ],
            "type": "heatmapgl"
           }
          ],
          "histogram": [
           {
            "marker": {
             "pattern": {
              "fillmode": "overlay",
              "size": 10,
              "solidity": 0.2
             }
            },
            "type": "histogram"
           }
          ],
          "histogram2d": [
           {
            "colorbar": {
             "outlinewidth": 0,
             "ticks": ""
            },
            "colorscale": [
             [
              0,
              "#0d0887"
             ],
             [
              0.1111111111111111,
              "#46039f"
             ],
             [
              0.2222222222222222,
              "#7201a8"
             ],
             [
              0.3333333333333333,
              "#9c179e"
             ],
             [
              0.4444444444444444,
              "#bd3786"
             ],
             [
              0.5555555555555556,
              "#d8576b"
             ],
             [
              0.6666666666666666,
              "#ed7953"
             ],
             [
              0.7777777777777778,
              "#fb9f3a"
             ],
             [
              0.8888888888888888,
              "#fdca26"
             ],
             [
              1,
              "#f0f921"
             ]
            ],
            "type": "histogram2d"
           }
          ],
          "histogram2dcontour": [
           {
            "colorbar": {
             "outlinewidth": 0,
             "ticks": ""
            },
            "colorscale": [
             [
              0,
              "#0d0887"
             ],
             [
              0.1111111111111111,
              "#46039f"
             ],
             [
              0.2222222222222222,
              "#7201a8"
             ],
             [
              0.3333333333333333,
              "#9c179e"
             ],
             [
              0.4444444444444444,
              "#bd3786"
             ],
             [
              0.5555555555555556,
              "#d8576b"
             ],
             [
              0.6666666666666666,
              "#ed7953"
             ],
             [
              0.7777777777777778,
              "#fb9f3a"
             ],
             [
              0.8888888888888888,
              "#fdca26"
             ],
             [
              1,
              "#f0f921"
             ]
            ],
            "type": "histogram2dcontour"
           }
          ],
          "mesh3d": [
           {
            "colorbar": {
             "outlinewidth": 0,
             "ticks": ""
            },
            "type": "mesh3d"
           }
          ],
          "parcoords": [
           {
            "line": {
             "colorbar": {
              "outlinewidth": 0,
              "ticks": ""
             }
            },
            "type": "parcoords"
           }
          ],
          "pie": [
           {
            "automargin": true,
            "type": "pie"
           }
          ],
          "scatter": [
           {
            "fillpattern": {
             "fillmode": "overlay",
             "size": 10,
             "solidity": 0.2
            },
            "type": "scatter"
           }
          ],
          "scatter3d": [
           {
            "line": {
             "colorbar": {
              "outlinewidth": 0,
              "ticks": ""
             }
            },
            "marker": {
             "colorbar": {
              "outlinewidth": 0,
              "ticks": ""
             }
            },
            "type": "scatter3d"
           }
          ],
          "scattercarpet": [
           {
            "marker": {
             "colorbar": {
              "outlinewidth": 0,
              "ticks": ""
             }
            },
            "type": "scattercarpet"
           }
          ],
          "scattergeo": [
           {
            "marker": {
             "colorbar": {
              "outlinewidth": 0,
              "ticks": ""
             }
            },
            "type": "scattergeo"
           }
          ],
          "scattergl": [
           {
            "marker": {
             "colorbar": {
              "outlinewidth": 0,
              "ticks": ""
             }
            },
            "type": "scattergl"
           }
          ],
          "scattermapbox": [
           {
            "marker": {
             "colorbar": {
              "outlinewidth": 0,
              "ticks": ""
             }
            },
            "type": "scattermapbox"
           }
          ],
          "scatterpolar": [
           {
            "marker": {
             "colorbar": {
              "outlinewidth": 0,
              "ticks": ""
             }
            },
            "type": "scatterpolar"
           }
          ],
          "scatterpolargl": [
           {
            "marker": {
             "colorbar": {
              "outlinewidth": 0,
              "ticks": ""
             }
            },
            "type": "scatterpolargl"
           }
          ],
          "scatterternary": [
           {
            "marker": {
             "colorbar": {
              "outlinewidth": 0,
              "ticks": ""
             }
            },
            "type": "scatterternary"
           }
          ],
          "surface": [
           {
            "colorbar": {
             "outlinewidth": 0,
             "ticks": ""
            },
            "colorscale": [
             [
              0,
              "#0d0887"
             ],
             [
              0.1111111111111111,
              "#46039f"
             ],
             [
              0.2222222222222222,
              "#7201a8"
             ],
             [
              0.3333333333333333,
              "#9c179e"
             ],
             [
              0.4444444444444444,
              "#bd3786"
             ],
             [
              0.5555555555555556,
              "#d8576b"
             ],
             [
              0.6666666666666666,
              "#ed7953"
             ],
             [
              0.7777777777777778,
              "#fb9f3a"
             ],
             [
              0.8888888888888888,
              "#fdca26"
             ],
             [
              1,
              "#f0f921"
             ]
            ],
            "type": "surface"
           }
          ],
          "table": [
           {
            "cells": {
             "fill": {
              "color": "#EBF0F8"
             },
             "line": {
              "color": "white"
             }
            },
            "header": {
             "fill": {
              "color": "#C8D4E3"
             },
             "line": {
              "color": "white"
             }
            },
            "type": "table"
           }
          ]
         },
         "layout": {
          "annotationdefaults": {
           "arrowcolor": "#2a3f5f",
           "arrowhead": 0,
           "arrowwidth": 1
          },
          "autotypenumbers": "strict",
          "coloraxis": {
           "colorbar": {
            "outlinewidth": 0,
            "ticks": ""
           }
          },
          "colorscale": {
           "diverging": [
            [
             0,
             "#8e0152"
            ],
            [
             0.1,
             "#c51b7d"
            ],
            [
             0.2,
             "#de77ae"
            ],
            [
             0.3,
             "#f1b6da"
            ],
            [
             0.4,
             "#fde0ef"
            ],
            [
             0.5,
             "#f7f7f7"
            ],
            [
             0.6,
             "#e6f5d0"
            ],
            [
             0.7,
             "#b8e186"
            ],
            [
             0.8,
             "#7fbc41"
            ],
            [
             0.9,
             "#4d9221"
            ],
            [
             1,
             "#276419"
            ]
           ],
           "sequential": [
            [
             0,
             "#0d0887"
            ],
            [
             0.1111111111111111,
             "#46039f"
            ],
            [
             0.2222222222222222,
             "#7201a8"
            ],
            [
             0.3333333333333333,
             "#9c179e"
            ],
            [
             0.4444444444444444,
             "#bd3786"
            ],
            [
             0.5555555555555556,
             "#d8576b"
            ],
            [
             0.6666666666666666,
             "#ed7953"
            ],
            [
             0.7777777777777778,
             "#fb9f3a"
            ],
            [
             0.8888888888888888,
             "#fdca26"
            ],
            [
             1,
             "#f0f921"
            ]
           ],
           "sequentialminus": [
            [
             0,
             "#0d0887"
            ],
            [
             0.1111111111111111,
             "#46039f"
            ],
            [
             0.2222222222222222,
             "#7201a8"
            ],
            [
             0.3333333333333333,
             "#9c179e"
            ],
            [
             0.4444444444444444,
             "#bd3786"
            ],
            [
             0.5555555555555556,
             "#d8576b"
            ],
            [
             0.6666666666666666,
             "#ed7953"
            ],
            [
             0.7777777777777778,
             "#fb9f3a"
            ],
            [
             0.8888888888888888,
             "#fdca26"
            ],
            [
             1,
             "#f0f921"
            ]
           ]
          },
          "colorway": [
           "#636efa",
           "#EF553B",
           "#00cc96",
           "#ab63fa",
           "#FFA15A",
           "#19d3f3",
           "#FF6692",
           "#B6E880",
           "#FF97FF",
           "#FECB52"
          ],
          "font": {
           "color": "#2a3f5f"
          },
          "geo": {
           "bgcolor": "white",
           "lakecolor": "white",
           "landcolor": "#E5ECF6",
           "showlakes": true,
           "showland": true,
           "subunitcolor": "white"
          },
          "hoverlabel": {
           "align": "left"
          },
          "hovermode": "closest",
          "mapbox": {
           "style": "light"
          },
          "paper_bgcolor": "white",
          "plot_bgcolor": "#E5ECF6",
          "polar": {
           "angularaxis": {
            "gridcolor": "white",
            "linecolor": "white",
            "ticks": ""
           },
           "bgcolor": "#E5ECF6",
           "radialaxis": {
            "gridcolor": "white",
            "linecolor": "white",
            "ticks": ""
           }
          },
          "scene": {
           "xaxis": {
            "backgroundcolor": "#E5ECF6",
            "gridcolor": "white",
            "gridwidth": 2,
            "linecolor": "white",
            "showbackground": true,
            "ticks": "",
            "zerolinecolor": "white"
           },
           "yaxis": {
            "backgroundcolor": "#E5ECF6",
            "gridcolor": "white",
            "gridwidth": 2,
            "linecolor": "white",
            "showbackground": true,
            "ticks": "",
            "zerolinecolor": "white"
           },
           "zaxis": {
            "backgroundcolor": "#E5ECF6",
            "gridcolor": "white",
            "gridwidth": 2,
            "linecolor": "white",
            "showbackground": true,
            "ticks": "",
            "zerolinecolor": "white"
           }
          },
          "shapedefaults": {
           "line": {
            "color": "#2a3f5f"
           }
          },
          "ternary": {
           "aaxis": {
            "gridcolor": "white",
            "linecolor": "white",
            "ticks": ""
           },
           "baxis": {
            "gridcolor": "white",
            "linecolor": "white",
            "ticks": ""
           },
           "bgcolor": "#E5ECF6",
           "caxis": {
            "gridcolor": "white",
            "linecolor": "white",
            "ticks": ""
           }
          },
          "title": {
           "x": 0.05
          },
          "xaxis": {
           "automargin": true,
           "gridcolor": "white",
           "linecolor": "white",
           "ticks": "",
           "title": {
            "standoff": 15
           },
           "zerolinecolor": "white",
           "zerolinewidth": 2
          },
          "yaxis": {
           "automargin": true,
           "gridcolor": "white",
           "linecolor": "white",
           "ticks": "",
           "title": {
            "standoff": 15
           },
           "zerolinecolor": "white",
           "zerolinewidth": 2
          }
         }
        }
       }
      }
     },
     "metadata": {},
     "output_type": "display_data"
    }
   ],
   "source": [
    "# Plot the projected query and retrieved documents in the embedding space\n",
    "import plotly.graph_objects as go\n",
    "trace1 = go.Scatter(x=projected_dataset_embeddings[:, 0], y=projected_dataset_embeddings[:, 1],mode=\"markers\")\n",
    "trace2 = go.Scatter(x=projected_query_embedding[:, 0], y=projected_query_embedding[:, 1],mode=\"markers\")\n",
    "trace3 = go.Scatter(x=projected_retrieved_embeddings[:, 0], y=projected_retrieved_embeddings[:, 1],mode=\"markers\")\n",
    "\n",
    "# Create a figure and add the traces\n",
    "fig = go.Figure(data=[trace1, trace2,trace3])\n",
    "fig.show()"
   ]
  },
  {
   "cell_type": "code",
   "execution_count": 40,
   "metadata": {},
   "outputs": [],
   "source": [
    "from langchain.text_splitter import NLTKTextSplitter, SpacyTextSplitter\n"
   ]
  },
  {
   "cell_type": "code",
   "execution_count": 41,
   "metadata": {},
   "outputs": [],
   "source": [
    "spliter = NLTKTextSplitter()"
   ]
  },
  {
   "cell_type": "code",
   "execution_count": 44,
   "metadata": {},
   "outputs": [],
   "source": [
    "character_split_texts = spliter.split_text(pdf_texts[0])"
   ]
  },
  {
   "cell_type": "code",
   "execution_count": 45,
   "metadata": {},
   "outputs": [
    {
     "data": {
      "text/plain": [
       "['[R&G\\nDraft\\n12.__.2021]\\nSTOCK\\nPURCHASE\\nAGREEMENT\\nBY\\nAND\\nAMONG\\n[BUYER],\\n[TARGET\\nCOMP ANY],\\nTHE\\nSELLERS\\nLISTED\\nON\\nSCHEDULE\\nI\\nHERET O\\nAND\\nTHE\\nSELLERS’\\nREPRESENT ATIVE\\nNAMED\\nHEREIN\\nDated\\nas\\nof\\n[●]\\n[This\\ndocument\\nis\\nintended\\nsolely\\nto\\nfacilitate\\ndiscussions\\namong\\nthe\\nparties\\nidentified\\nherein.\\n\\nNeither\\nthis\\ndocument\\nnor\\nsuch\\ndiscussions\\nare\\nintended\\nto\\ncreate,\\nnor\\nwill\\neither\\nor\\nboth\\nbe \\ndeemed\\nto\\ncreate,\\na\\nlegally\\nbinding\\nor\\nenforceable\\noffer\\nor\\nagreement\\nof\\nany\\ntype\\nor\\nnature, \\nunless\\nand\\nuntil\\na\\ndefinitive\\nwritten\\nagreement\\nis\\nexecuted\\nand\\ndelivered\\nby\\neach\\nof\\nthe\\nparties \\nhereto.\\n\\nThis\\ndocument\\nshall\\nbe\\nkept\\nconfidential\\npursuant\\nto\\nthe\\nterms\\nof\\nthe\\nConfidentiality \\nAgreement\\nentered\\ninto\\nby\\nthe\\nparties\\nand,\\nif\\napplicable,\\nits\\naffiliates\\nwith\\nrespect\\nto\\nthe\\nsubject \\nmatter\\nhereof.]\\n\\n112923184_5']"
      ]
     },
     "execution_count": 45,
     "metadata": {},
     "output_type": "execute_result"
    }
   ],
   "source": [
    "character_split_texts"
   ]
  },
  {
   "cell_type": "code",
   "execution_count": null,
   "metadata": {},
   "outputs": [],
   "source": []
  }
 ],
 "metadata": {
  "kernelspec": {
   "display_name": "venv2",
   "language": "python",
   "name": "python3"
  },
  "language_info": {
   "codemirror_mode": {
    "name": "ipython",
    "version": 3
   },
   "file_extension": ".py",
   "mimetype": "text/x-python",
   "name": "python",
   "nbconvert_exporter": "python",
   "pygments_lexer": "ipython3",
   "version": "3.10.12"
  }
 },
 "nbformat": 4,
 "nbformat_minor": 2
}
